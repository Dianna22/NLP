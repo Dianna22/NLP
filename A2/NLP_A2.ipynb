{
 "cells": [
  {
   "cell_type": "markdown",
   "metadata": {},
   "source": [
    "# Textual entailment"
   ]
  },
  {
   "cell_type": "markdown",
   "metadata": {},
   "source": [
    "### Imports"
   ]
  },
  {
   "cell_type": "code",
   "execution_count": 2,
   "metadata": {},
   "outputs": [],
   "source": [
    "from tqdm import tqdm\n",
    "import tensorflow as tf\n",
    "import numpy as np\n",
    "import sys\n",
    "display_step = 10"
   ]
  },
  {
   "cell_type": "markdown",
   "metadata": {},
   "source": [
    "### Embeddings"
   ]
  },
  {
   "cell_type": "markdown",
   "metadata": {},
   "source": [
    "Download Glove word embeddings"
   ]
  },
  {
   "cell_type": "code",
   "execution_count": 51,
   "metadata": {},
   "outputs": [],
   "source": [
    "glove_zip_file = \"data/glove.6B.zip\"\n",
    "glove_vectors_file = \"data/glove.6B.50d.txt\"\n",
    "import zipfile, urllib.request, shutil, os\n",
    "    \n",
    "#large file - 862 MB\n",
    "if (not os.path.isfile(glove_zip_file) and\n",
    "    not os.path.isfile(glove_vectors_file)):\n",
    "    with urllib.request.urlopen(\"http://nlp.stanford.edu/data/glove.6B.zip\") as response, open(glove_zip_file, 'wb') as out_file:\n",
    "        shutil.copyfileobj(response, out_file)"
   ]
  },
  {
   "cell_type": "markdown",
   "metadata": {},
   "source": [
    "Unzip word embeddings"
   ]
  },
  {
   "cell_type": "code",
   "execution_count": 4,
   "metadata": {
    "collapsed": true
   },
   "outputs": [],
   "source": [
    "import zipfile\n",
    "def unzip_single_file(zip_file_name, output_file_name):\n",
    "    \"\"\"\n",
    "        If the outFile is already created, don't recreate\n",
    "        If the outFile does not exist, create it from the zipFile\n",
    "    \"\"\"\n",
    "    if not os.path.isfile(output_file_name):\n",
    "        with open(output_file_name, 'wb') as out_file:\n",
    "            with zipfile.ZipFile(zip_file_name) as zipped:\n",
    "                for info in zipped.infolist():\n",
    "                    if output_file_name in info.filename:\n",
    "                        with zipped.open(info) as requested_file:\n",
    "                            out_file.write(requested_file.read())\n",
    "                            return\n",
    "\n",
    "unzip_single_file(glove_zip_file, glove_vectors_file)"
   ]
  },
  {
   "cell_type": "code",
   "execution_count": 52,
   "metadata": {},
   "outputs": [
    {
     "ename": "KeyboardInterrupt",
     "evalue": "",
     "output_type": "error",
     "traceback": [
      "\u001b[1;31m---------------------------------------------------------------------------\u001b[0m",
      "\u001b[1;31mKeyboardInterrupt\u001b[0m                         Traceback (most recent call last)",
      "\u001b[1;32m<ipython-input-52-33693a3566a4>\u001b[0m in \u001b[0;36m<module>\u001b[1;34m\u001b[0m\n\u001b[0;32m      3\u001b[0m     \u001b[1;32mfor\u001b[0m \u001b[0mline\u001b[0m \u001b[1;32min\u001b[0m \u001b[0mglove\u001b[0m\u001b[1;33m:\u001b[0m\u001b[1;33m\u001b[0m\u001b[0m\n\u001b[0;32m      4\u001b[0m         \u001b[0mname\u001b[0m\u001b[1;33m,\u001b[0m \u001b[0mvector\u001b[0m \u001b[1;33m=\u001b[0m \u001b[0mtuple\u001b[0m\u001b[1;33m(\u001b[0m\u001b[0mline\u001b[0m\u001b[1;33m.\u001b[0m\u001b[0msplit\u001b[0m\u001b[1;33m(\u001b[0m\u001b[1;34m\" \"\u001b[0m\u001b[1;33m,\u001b[0m \u001b[1;36m1\u001b[0m\u001b[1;33m)\u001b[0m\u001b[1;33m)\u001b[0m\u001b[1;33m\u001b[0m\u001b[0m\n\u001b[1;32m----> 5\u001b[1;33m         \u001b[0mglove_wordmap\u001b[0m\u001b[1;33m[\u001b[0m\u001b[0mname\u001b[0m\u001b[1;33m]\u001b[0m \u001b[1;33m=\u001b[0m \u001b[0mnp\u001b[0m\u001b[1;33m.\u001b[0m\u001b[0mfromstring\u001b[0m\u001b[1;33m(\u001b[0m\u001b[0mvector\u001b[0m\u001b[1;33m,\u001b[0m \u001b[0msep\u001b[0m\u001b[1;33m=\u001b[0m\u001b[1;34m\" \"\u001b[0m\u001b[1;33m)\u001b[0m\u001b[1;33m\u001b[0m\u001b[0m\n\u001b[0m",
      "\u001b[1;31mKeyboardInterrupt\u001b[0m: "
     ]
    }
   ],
   "source": [
    "glove_wordmap = {}\n",
    "with open(glove_vectors_file, \"r\", encoding=\"utf8\") as glove:\n",
    "    for line in glove:\n",
    "        name, vector = tuple(line.split(\" \", 1))\n",
    "        glove_wordmap[name] = np.fromstring(vector, sep=\" \")"
   ]
  },
  {
   "cell_type": "markdown",
   "metadata": {},
   "source": [
    "## Model"
   ]
  },
  {
   "cell_type": "markdown",
   "metadata": {},
   "source": [
    "### Embed sentences - sentence2sequence"
   ]
  },
  {
   "cell_type": "code",
   "execution_count": 4,
   "metadata": {},
   "outputs": [],
   "source": [
    "def sentence2sequence(sentence):\n",
    "    \"\"\"\n",
    "    - Turns an input sentence into an (n,d) matrix, \n",
    "        where n is the number of tokens in the sentence\n",
    "        and d is the number of dimensions each word vector has.\n",
    "    \n",
    "      Tensorflow doesn't need to be used here, as simply\n",
    "      turning the sentence into a sequence based off our \n",
    "      mapping does not need the computational power that\n",
    "      Tensorflow provides. Normal Python suffices for this task.\n",
    "    \"\"\"\n",
    "    tokens = sentence.lower().split(\" \")\n",
    "    rows = []\n",
    "    words = []\n",
    "    #Greedy search for tokens\n",
    "    for token in tokens:\n",
    "        i = len(token)\n",
    "        while len(token) > 0 and i > 0:\n",
    "            word = token[:i]\n",
    "            if word in glove_wordmap:\n",
    "                rows.append(glove_wordmap[word])\n",
    "                words.append(word)\n",
    "                token = token[i:]\n",
    "                i = len(token)\n",
    "            else:\n",
    "                i = i-1\n",
    "    return rows, words"
   ]
  },
  {
   "cell_type": "code",
   "execution_count": 5,
   "metadata": {},
   "outputs": [],
   "source": [
    "display_step = 1\n",
    "# one hot encoding\n",
    "def score_setup(row):\n",
    "    convert_dict = {\n",
    "      'ENTAILMENT': 0,\n",
    "      'NEUTRAL': 1,\n",
    "      'CONTRADICTION': 2\n",
    "    }\n",
    "    score = np.zeros((3,))\n",
    "    tag = row[\"entailment_judgment\"]\n",
    "    score[convert_dict[tag]] += 1\n",
    "    return score\n",
    "\n",
    "def fit_to_size(matrix, shape):\n",
    "    res = np.zeros(shape)\n",
    "    slices = [slice(0,min(dim,shape[e])) for e, dim in enumerate(matrix.shape)]\n",
    "    res[slices] = matrix[slices]\n",
    "    return res"
   ]
  },
  {
   "cell_type": "markdown",
   "metadata": {
    "heading_collapsed": true
   },
   "source": [
    "### Cell used for development"
   ]
  },
  {
   "cell_type": "code",
   "execution_count": 56,
   "metadata": {
    "hidden": true
   },
   "outputs": [],
   "source": [
    "def create_model():\n",
    "    tf.reset_default_graph() \n",
    "    data_feature_list, correct_values, correct_scores = split_data_into_scores()\n",
    "\n",
    "    l_h, l_e = max_hypothesis_length, max_evidence_length\n",
    "    N, D, H = batch_size, vector_size, hidden_size\n",
    "    l_seq = l_h + l_e\n",
    "    lstm = tf.contrib.rnn.BasicLSTMCell(lstm_size)\n",
    "    lstm_drop =  tf.contrib.rnn.DropoutWrapper(lstm, input_p, output_p)\n",
    "    hyp = tf.placeholder(tf.float32, [N, l_h, D], 'hypothesis')\n",
    "    evi = tf.placeholder(tf.float32, [N, l_e, D], 'evidence')\n",
    "    y = tf.placeholder(tf.float32, [N, 3], 'label')\n",
    "    lstm_back = tf.contrib.rnn.BasicLSTMCell(lstm_size)\n",
    "\n",
    "    lstm_drop_back = tf.contrib.rnn.DropoutWrapper(lstm_back, input_p, output_p)\n",
    "\n",
    "    fc_initializer = tf.random_normal_initializer(stddev=0.1) \n",
    "    fc_weight = tf.get_variable('fc_weight', [2*hidden_size, 3], \n",
    "                            initializer = fc_initializer)\n",
    "    fc_bias = tf.get_variable('bias', [3])\n",
    "    tf.add_to_collection(tf.GraphKeys.REGULARIZATION_LOSSES, \n",
    "                     tf.nn.l2_loss(fc_weight)) \n",
    "\n",
    "    x = tf.concat([hyp, evi], 1) # N, (Lh+Le), d\n",
    "    x = tf.transpose(x, [1, 0, 2]) # (Le+Lh), N, d\n",
    "    x = tf.reshape(x, [-1, vector_size]) # (Le+Lh)*N, d\n",
    "    x = tf.split(x, l_seq,)\n",
    "    rnn_outputs, _, _ = tf.contrib.rnn.static_bidirectional_rnn(lstm, lstm_back,\n",
    "                                                            x, dtype=tf.float32)\n",
    "\n",
    "    classification_scores = tf.matmul(rnn_outputs[-1], fc_weight) + fc_bias\n",
    "\n",
    "    with tf.variable_scope('Accuracy'):\n",
    "        predicts = tf.cast(tf.argmax(classification_scores, 1), 'int32')\n",
    "        y_label = tf.cast(tf.argmax(y, 1), 'int32')\n",
    "        corrects = tf.equal(predicts, y_label)\n",
    "        num_corrects = tf.reduce_sum(tf.cast(corrects, tf.float32))\n",
    "        accuracy = tf.reduce_mean(tf.cast(corrects, tf.float32))\n",
    "\n",
    "    with tf.variable_scope(\"loss\"):\n",
    "        cross_entropy = tf.nn.softmax_cross_entropy_with_logits(\n",
    "            logits = classification_scores, labels = y)\n",
    "        loss = tf.reduce_mean(cross_entropy)\n",
    "        total_loss = loss + weight_decay * tf.add_n(\n",
    "            tf.get_collection(tf.GraphKeys.REGULARIZATION_LOSSES))\n",
    "\n",
    "    optimizer = tf.train.GradientDescentOptimizer(learning_rate)\n",
    "\n",
    "    opt_op = optimizer.minimize(total_loss)\n",
    "    # Initialize variables\n",
    "    init = tf.global_variables_initializer()\n",
    "\n",
    "    # Use TQDM if installed\n",
    "    tqdm_installed = False\n",
    "    try:\n",
    "        from tqdm import tqdm\n",
    "        tqdm_installed = True\n",
    "    except:\n",
    "        pass\n",
    "\n",
    "    # Launch the Tensorflow session\n",
    "    sess = tf.Session()\n",
    "    sess.run(init)\n",
    "\n",
    "    # training_iterations_count: The number of data pieces to train on in total\n",
    "    # batch_size: The number of data pieces per batch\n",
    "    training_iterations = range(0,training_iterations_count,batch_size)\n",
    "    if tqdm_installed:\n",
    "        # Add a progress bar if TQDM is installed\n",
    "        training_iterations = tqdm(training_iterations)\n",
    "\n",
    "    for i in training_iterations:\n",
    "        if i % 1000 == 0:\n",
    "        # Select indices for a random data subset\n",
    "            batch = np.random.randint(data_feature_list[0].shape[0], size=batch_size)\n",
    "\n",
    "        # Use the selected subset indices to initialize the graph's \n",
    "        #   placeholder values\n",
    "        hyps, evis, ys = (data_feature_list[0][batch,:],\n",
    "                          data_feature_list[1][batch,:],\n",
    "                          correct_scores[batch])\n",
    "\n",
    "        # Run the optimization with these initialized values\n",
    "        sess.run([opt_op], feed_dict={hyp: hyps, evi: evis, y: ys})\n",
    "        # display_step: how often the accuracy and loss should \n",
    "        #   be tested and displayed.\n",
    "        if (i/batch_size) % display_step == 0:\n",
    "            # Calculate batch accuracy\n",
    "            acc = sess.run(accuracy, feed_dict={hyp: hyps, evi: evis, y: ys})\n",
    "            # Calculate batch loss\n",
    "            tmp_loss = sess.run(loss, feed_dict={hyp: hyps, evi: evis, y: ys})\n",
    "            # Display results\n",
    "            print(\"Iter \" + str(i/batch_size) + \", Minibatch Loss= \" + \\\n",
    "                  \"{:.6f}\".format(tmp_loss) + \", Training Accuracy= \" + \\\n",
    "                  \"{:.5f}\".format(acc))\n",
    "\n",
    "    data_feature_list, correct_values, correct_scores = split_test_data_into_scores(\"data/dev.txt\")\n",
    "\n",
    "\n",
    "    hyps, evis, ys = (data_feature_list[0][:],\n",
    "                      data_feature_list[1][:],\n",
    "                      correct_scores)\n",
    "    predictions = sess.run(classification_scores, feed_dict={hyp: hyps, evi: evis, y: ys})\n",
    "    total = len(predictions)\n",
    "    correct_predictions = 0\n",
    "    for i,prediction in enumerate(predictions):\n",
    "        if np.argmax(prediction[0])==np.argmax(ys[i]):\n",
    "            correct_predictions += 1\n",
    "    #     print([\"Positive\", \"Neutral\", \"Negative\"][np.argmax(prediction[0])]+\n",
    "    #       \" / \" + [\"Positive\", \"Neutral\", \"Negative\"][np.argmax(ys[i])])\n",
    "    acc = correct_predictions*100/total\n",
    "    print(\"Acc: %s\" % str(acc))\n",
    "    return acc"
   ]
  },
  {
   "cell_type": "code",
   "execution_count": 57,
   "metadata": {
    "hidden": true
   },
   "outputs": [
    {
     "name": "stderr",
     "output_type": "stream",
     "text": [
      "f:\\python 36 64\\lib\\site-packages\\ipykernel_launcher.py:17: FutureWarning: Using a non-tuple sequence for multidimensional indexing is deprecated; use `arr[tuple(seq)]` instead of `arr[seq]`. In the future this will be interpreted as an array index, `arr[np.array(seq)]`, which will result either in an error or a different result.\n",
      "\n",
      "\n",
      "\n",
      "\n",
      "  0%|                                                                                                                                                                                   | 0/782 [00:00<?, ?it/s]"
     ]
    },
    {
     "name": "stdout",
     "output_type": "stream",
     "text": [
      "Iter 0.0, Minibatch Loss= 0.956232, Training Accuracy= 0.58594\n"
     ]
    },
    {
     "name": "stderr",
     "output_type": "stream",
     "text": [
      "\n",
      "\n",
      "\n",
      "\n",
      "  0%|▏                                                                                                                                                                          | 1/782 [00:00<10:43,  1.21it/s]\n",
      "\n",
      "\n",
      "\n",
      "  1%|▊                                                                                                                                                                          | 4/782 [00:00<07:39,  1.69it/s]\n",
      "\n",
      "\n",
      "\n",
      "  1%|█▌                                                                                                                                                                         | 7/782 [00:01<05:30,  2.35it/s]\n",
      "\n",
      "\n",
      "\n",
      "  1%|██▏                                                                                                                                                                       | 10/782 [00:01<04:00,  3.21it/s]"
     ]
    },
    {
     "name": "stdout",
     "output_type": "stream",
     "text": [
      "Iter 10.0, Minibatch Loss= 0.938195, Training Accuracy= 0.58594\n"
     ]
    },
    {
     "name": "stderr",
     "output_type": "stream",
     "text": [
      "\n",
      "\n",
      "\n",
      "\n",
      "  2%|██▌                                                                                                                                                                       | 12/782 [00:01<03:01,  4.23it/s]\n",
      "\n",
      "\n",
      "\n",
      "  2%|███▎                                                                                                                                                                      | 15/782 [00:01<02:16,  5.64it/s]\n",
      "\n",
      "\n",
      "\n",
      "  2%|███▉                                                                                                                                                                      | 18/782 [00:01<01:44,  7.31it/s]"
     ]
    },
    {
     "name": "stdout",
     "output_type": "stream",
     "text": [
      "Iter 20.0, Minibatch Loss= 0.937931, Training Accuracy= 0.58594\n"
     ]
    },
    {
     "name": "stderr",
     "output_type": "stream",
     "text": [
      "\n",
      "\n",
      "\n",
      "\n",
      "  3%|████▌                                                                                                                                                                     | 21/782 [00:01<01:26,  8.83it/s]\n",
      "\n",
      "\n",
      "\n",
      "  3%|█████▏                                                                                                                                                                    | 24/782 [00:01<01:10, 10.81it/s]\n",
      "\n",
      "\n",
      "\n",
      "  3%|█████▊                                                                                                                                                                    | 27/782 [00:02<00:57, 13.05it/s]\n",
      "\n",
      "\n",
      "\n",
      "  4%|██████▌                                                                                                                                                                   | 30/782 [00:02<00:50, 14.98it/s]"
     ]
    },
    {
     "name": "stdout",
     "output_type": "stream",
     "text": [
      "Iter 30.0, Minibatch Loss= 0.937693, Training Accuracy= 0.58594\n"
     ]
    },
    {
     "name": "stderr",
     "output_type": "stream",
     "text": [
      "\n",
      "\n",
      "\n",
      "\n",
      "  4%|███████▏                                                                                                                                                                  | 33/782 [00:02<00:48, 15.50it/s]\n",
      "\n",
      "\n",
      "\n",
      "  5%|███████▊                                                                                                                                                                  | 36/782 [00:02<00:43, 16.99it/s]\n",
      "\n",
      "\n",
      "\n",
      "  5%|████████▍                                                                                                                                                                 | 39/782 [00:02<00:39, 18.86it/s]"
     ]
    },
    {
     "name": "stdout",
     "output_type": "stream",
     "text": [
      "Iter 40.0, Minibatch Loss= 0.937342, Training Accuracy= 0.58594\n"
     ]
    },
    {
     "name": "stderr",
     "output_type": "stream",
     "text": [
      "\n",
      "\n",
      "\n",
      "\n",
      "  5%|█████████▏                                                                                                                                                                | 42/782 [00:02<00:39, 18.77it/s]\n",
      "\n",
      "\n",
      "\n",
      "  6%|█████████▊                                                                                                                                                                | 45/782 [00:02<00:35, 20.62it/s]\n",
      "\n",
      "\n",
      "\n",
      "  6%|██████████▍                                                                                                                                                               | 48/782 [00:02<00:33, 22.13it/s]"
     ]
    },
    {
     "name": "stdout",
     "output_type": "stream",
     "text": [
      "Iter 50.0, Minibatch Loss= 0.936669, Training Accuracy= 0.58594\n"
     ]
    },
    {
     "name": "stderr",
     "output_type": "stream",
     "text": [
      "\n",
      "\n",
      "\n",
      "\n",
      "  7%|███████████                                                                                                                                                               | 51/782 [00:03<00:33, 21.57it/s]\n",
      "\n",
      "\n",
      "\n",
      "  7%|███████████▋                                                                                                                                                              | 54/782 [00:03<00:32, 22.35it/s]\n",
      "\n",
      "\n",
      "\n",
      "  7%|████████████▍                                                                                                                                                             | 57/782 [00:03<00:31, 22.82it/s]\n",
      "\n",
      "\n",
      "\n",
      "  8%|█████████████                                                                                                                                                             | 60/782 [00:03<00:31, 23.11it/s]"
     ]
    },
    {
     "name": "stdout",
     "output_type": "stream",
     "text": [
      "Iter 60.0, Minibatch Loss= 0.935027, Training Accuracy= 0.58594\n"
     ]
    },
    {
     "name": "stderr",
     "output_type": "stream",
     "text": [
      "\n",
      "\n",
      "\n",
      "\n",
      "  8%|█████████████▋                                                                                                                                                            | 63/782 [00:03<00:33, 21.77it/s]\n",
      "\n",
      "\n",
      "\n",
      "  8%|██████████████▎                                                                                                                                                           | 66/782 [00:03<00:31, 22.71it/s]\n",
      "\n",
      "\n",
      "\n",
      "  9%|███████████████                                                                                                                                                           | 69/782 [00:03<00:29, 23.80it/s]"
     ]
    },
    {
     "name": "stdout",
     "output_type": "stream",
     "text": [
      "Iter 70.0, Minibatch Loss= 0.930252, Training Accuracy= 0.58594\n"
     ]
    },
    {
     "name": "stderr",
     "output_type": "stream",
     "text": [
      "\n",
      "\n",
      "\n",
      "\n",
      "  9%|███████████████▋                                                                                                                                                          | 72/782 [00:04<00:31, 22.68it/s]\n",
      "\n",
      "\n",
      "\n",
      " 10%|████████████████▎                                                                                                                                                         | 75/782 [00:04<00:29, 23.72it/s]\n",
      "\n",
      "\n",
      "\n",
      " 10%|████████████████▉                                                                                                                                                         | 78/782 [00:04<00:29, 23.97it/s]"
     ]
    },
    {
     "name": "stdout",
     "output_type": "stream",
     "text": [
      "Iter 80.0, Minibatch Loss= 0.917919, Training Accuracy= 0.58594\n"
     ]
    },
    {
     "name": "stderr",
     "output_type": "stream",
     "text": [
      "\n",
      "\n",
      "\n",
      "\n",
      " 10%|█████████████████▌                                                                                                                                                        | 81/782 [00:04<00:30, 22.76it/s]\n",
      "\n",
      "\n",
      "\n",
      " 11%|██████████████████▎                                                                                                                                                       | 84/782 [00:04<00:29, 23.87it/s]\n",
      "\n",
      "\n",
      "\n",
      " 11%|██████████████████▉                                                                                                                                                       | 87/782 [00:04<00:28, 24.68it/s]\n",
      "\n",
      "\n",
      "\n",
      " 12%|███████████████████▌                                                                                                                                                      | 90/782 [00:04<00:27, 24.96it/s]"
     ]
    },
    {
     "name": "stdout",
     "output_type": "stream",
     "text": [
      "Iter 90.0, Minibatch Loss= 0.935087, Training Accuracy= 0.58594\n"
     ]
    },
    {
     "ename": "KeyboardInterrupt",
     "evalue": "",
     "output_type": "error",
     "traceback": [
      "\u001b[1;31m---------------------------------------------------------------------------\u001b[0m",
      "\u001b[1;31mKeyboardInterrupt\u001b[0m                         Traceback (most recent call last)",
      "\u001b[1;32m<ipython-input-57-8dcecbc16f2a>\u001b[0m in \u001b[0;36m<module>\u001b[1;34m\u001b[0m\n\u001b[0;32m      4\u001b[0m \u001b[1;32mfor\u001b[0m \u001b[0mbatch\u001b[0m \u001b[1;32min\u001b[0m \u001b[0mbatches\u001b[0m\u001b[1;33m:\u001b[0m\u001b[1;33m\u001b[0m\u001b[0m\n\u001b[0;32m      5\u001b[0m     \u001b[0mbatch_size\u001b[0m \u001b[1;33m=\u001b[0m \u001b[0mbatch\u001b[0m\u001b[1;33m\u001b[0m\u001b[0m\n\u001b[1;32m----> 6\u001b[1;33m     \u001b[0maccs\u001b[0m\u001b[1;33m.\u001b[0m\u001b[0mappend\u001b[0m\u001b[1;33m(\u001b[0m\u001b[0mcreate_model\u001b[0m\u001b[1;33m(\u001b[0m\u001b[1;33m)\u001b[0m\u001b[1;33m)\u001b[0m\u001b[1;33m\u001b[0m\u001b[0m\n\u001b[0m\u001b[0;32m      7\u001b[0m \u001b[1;33m\u001b[0m\u001b[0m\n\u001b[0;32m      8\u001b[0m \u001b[0mprint\u001b[0m\u001b[1;33m(\u001b[0m\u001b[0maccs\u001b[0m\u001b[1;33m)\u001b[0m\u001b[1;33m\u001b[0m\u001b[0m\n",
      "\u001b[1;32m<ipython-input-56-2af7800b45f4>\u001b[0m in \u001b[0;36mcreate_model\u001b[1;34m()\u001b[0m\n\u001b[0;32m     82\u001b[0m \u001b[1;33m\u001b[0m\u001b[0m\n\u001b[0;32m     83\u001b[0m         \u001b[1;31m# Run the optimization with these initialized values\u001b[0m\u001b[1;33m\u001b[0m\u001b[1;33m\u001b[0m\u001b[0m\n\u001b[1;32m---> 84\u001b[1;33m         \u001b[0msess\u001b[0m\u001b[1;33m.\u001b[0m\u001b[0mrun\u001b[0m\u001b[1;33m(\u001b[0m\u001b[1;33m[\u001b[0m\u001b[0mopt_op\u001b[0m\u001b[1;33m]\u001b[0m\u001b[1;33m,\u001b[0m \u001b[0mfeed_dict\u001b[0m\u001b[1;33m=\u001b[0m\u001b[1;33m{\u001b[0m\u001b[0mhyp\u001b[0m\u001b[1;33m:\u001b[0m \u001b[0mhyps\u001b[0m\u001b[1;33m,\u001b[0m \u001b[0mevi\u001b[0m\u001b[1;33m:\u001b[0m \u001b[0mevis\u001b[0m\u001b[1;33m,\u001b[0m \u001b[0my\u001b[0m\u001b[1;33m:\u001b[0m \u001b[0mys\u001b[0m\u001b[1;33m}\u001b[0m\u001b[1;33m)\u001b[0m\u001b[1;33m\u001b[0m\u001b[0m\n\u001b[0m\u001b[0;32m     85\u001b[0m         \u001b[1;31m# display_step: how often the accuracy and loss should\u001b[0m\u001b[1;33m\u001b[0m\u001b[1;33m\u001b[0m\u001b[0m\n\u001b[0;32m     86\u001b[0m         \u001b[1;31m#   be tested and displayed.\u001b[0m\u001b[1;33m\u001b[0m\u001b[1;33m\u001b[0m\u001b[0m\n",
      "\u001b[1;32mf:\\python 36 64\\lib\\site-packages\\tensorflow\\python\\client\\session.py\u001b[0m in \u001b[0;36mrun\u001b[1;34m(self, fetches, feed_dict, options, run_metadata)\u001b[0m\n\u001b[0;32m    887\u001b[0m     \u001b[1;32mtry\u001b[0m\u001b[1;33m:\u001b[0m\u001b[1;33m\u001b[0m\u001b[0m\n\u001b[0;32m    888\u001b[0m       result = self._run(None, fetches, feed_dict, options_ptr,\n\u001b[1;32m--> 889\u001b[1;33m                          run_metadata_ptr)\n\u001b[0m\u001b[0;32m    890\u001b[0m       \u001b[1;32mif\u001b[0m \u001b[0mrun_metadata\u001b[0m\u001b[1;33m:\u001b[0m\u001b[1;33m\u001b[0m\u001b[0m\n\u001b[0;32m    891\u001b[0m         \u001b[0mproto_data\u001b[0m \u001b[1;33m=\u001b[0m \u001b[0mtf_session\u001b[0m\u001b[1;33m.\u001b[0m\u001b[0mTF_GetBuffer\u001b[0m\u001b[1;33m(\u001b[0m\u001b[0mrun_metadata_ptr\u001b[0m\u001b[1;33m)\u001b[0m\u001b[1;33m\u001b[0m\u001b[0m\n",
      "\u001b[1;32mf:\\python 36 64\\lib\\site-packages\\tensorflow\\python\\client\\session.py\u001b[0m in \u001b[0;36m_run\u001b[1;34m(self, handle, fetches, feed_dict, options, run_metadata)\u001b[0m\n\u001b[0;32m   1118\u001b[0m     \u001b[1;32mif\u001b[0m \u001b[0mfinal_fetches\u001b[0m \u001b[1;32mor\u001b[0m \u001b[0mfinal_targets\u001b[0m \u001b[1;32mor\u001b[0m \u001b[1;33m(\u001b[0m\u001b[0mhandle\u001b[0m \u001b[1;32mand\u001b[0m \u001b[0mfeed_dict_tensor\u001b[0m\u001b[1;33m)\u001b[0m\u001b[1;33m:\u001b[0m\u001b[1;33m\u001b[0m\u001b[0m\n\u001b[0;32m   1119\u001b[0m       results = self._do_run(handle, final_targets, final_fetches,\n\u001b[1;32m-> 1120\u001b[1;33m                              feed_dict_tensor, options, run_metadata)\n\u001b[0m\u001b[0;32m   1121\u001b[0m     \u001b[1;32melse\u001b[0m\u001b[1;33m:\u001b[0m\u001b[1;33m\u001b[0m\u001b[0m\n\u001b[0;32m   1122\u001b[0m       \u001b[0mresults\u001b[0m \u001b[1;33m=\u001b[0m \u001b[1;33m[\u001b[0m\u001b[1;33m]\u001b[0m\u001b[1;33m\u001b[0m\u001b[0m\n",
      "\u001b[1;32mf:\\python 36 64\\lib\\site-packages\\tensorflow\\python\\client\\session.py\u001b[0m in \u001b[0;36m_do_run\u001b[1;34m(self, handle, target_list, fetch_list, feed_dict, options, run_metadata)\u001b[0m\n\u001b[0;32m   1315\u001b[0m     \u001b[1;32mif\u001b[0m \u001b[0mhandle\u001b[0m \u001b[1;32mis\u001b[0m \u001b[1;32mNone\u001b[0m\u001b[1;33m:\u001b[0m\u001b[1;33m\u001b[0m\u001b[0m\n\u001b[0;32m   1316\u001b[0m       return self._do_call(_run_fn, self._session, feeds, fetches, targets,\n\u001b[1;32m-> 1317\u001b[1;33m                            options, run_metadata)\n\u001b[0m\u001b[0;32m   1318\u001b[0m     \u001b[1;32melse\u001b[0m\u001b[1;33m:\u001b[0m\u001b[1;33m\u001b[0m\u001b[0m\n\u001b[0;32m   1319\u001b[0m       \u001b[1;32mreturn\u001b[0m \u001b[0mself\u001b[0m\u001b[1;33m.\u001b[0m\u001b[0m_do_call\u001b[0m\u001b[1;33m(\u001b[0m\u001b[0m_prun_fn\u001b[0m\u001b[1;33m,\u001b[0m \u001b[0mself\u001b[0m\u001b[1;33m.\u001b[0m\u001b[0m_session\u001b[0m\u001b[1;33m,\u001b[0m \u001b[0mhandle\u001b[0m\u001b[1;33m,\u001b[0m \u001b[0mfeeds\u001b[0m\u001b[1;33m,\u001b[0m \u001b[0mfetches\u001b[0m\u001b[1;33m)\u001b[0m\u001b[1;33m\u001b[0m\u001b[0m\n",
      "\u001b[1;32mf:\\python 36 64\\lib\\site-packages\\tensorflow\\python\\client\\session.py\u001b[0m in \u001b[0;36m_do_call\u001b[1;34m(self, fn, *args)\u001b[0m\n\u001b[0;32m   1321\u001b[0m   \u001b[1;32mdef\u001b[0m \u001b[0m_do_call\u001b[0m\u001b[1;33m(\u001b[0m\u001b[0mself\u001b[0m\u001b[1;33m,\u001b[0m \u001b[0mfn\u001b[0m\u001b[1;33m,\u001b[0m \u001b[1;33m*\u001b[0m\u001b[0margs\u001b[0m\u001b[1;33m)\u001b[0m\u001b[1;33m:\u001b[0m\u001b[1;33m\u001b[0m\u001b[0m\n\u001b[0;32m   1322\u001b[0m     \u001b[1;32mtry\u001b[0m\u001b[1;33m:\u001b[0m\u001b[1;33m\u001b[0m\u001b[0m\n\u001b[1;32m-> 1323\u001b[1;33m       \u001b[1;32mreturn\u001b[0m \u001b[0mfn\u001b[0m\u001b[1;33m(\u001b[0m\u001b[1;33m*\u001b[0m\u001b[0margs\u001b[0m\u001b[1;33m)\u001b[0m\u001b[1;33m\u001b[0m\u001b[0m\n\u001b[0m\u001b[0;32m   1324\u001b[0m     \u001b[1;32mexcept\u001b[0m \u001b[0merrors\u001b[0m\u001b[1;33m.\u001b[0m\u001b[0mOpError\u001b[0m \u001b[1;32mas\u001b[0m \u001b[0me\u001b[0m\u001b[1;33m:\u001b[0m\u001b[1;33m\u001b[0m\u001b[0m\n\u001b[0;32m   1325\u001b[0m       \u001b[0mmessage\u001b[0m \u001b[1;33m=\u001b[0m \u001b[0mcompat\u001b[0m\u001b[1;33m.\u001b[0m\u001b[0mas_text\u001b[0m\u001b[1;33m(\u001b[0m\u001b[0me\u001b[0m\u001b[1;33m.\u001b[0m\u001b[0mmessage\u001b[0m\u001b[1;33m)\u001b[0m\u001b[1;33m\u001b[0m\u001b[0m\n",
      "\u001b[1;32mf:\\python 36 64\\lib\\site-packages\\tensorflow\\python\\client\\session.py\u001b[0m in \u001b[0;36m_run_fn\u001b[1;34m(session, feed_dict, fetch_list, target_list, options, run_metadata)\u001b[0m\n\u001b[0;32m   1300\u001b[0m           return tf_session.TF_Run(session, options,\n\u001b[0;32m   1301\u001b[0m                                    \u001b[0mfeed_dict\u001b[0m\u001b[1;33m,\u001b[0m \u001b[0mfetch_list\u001b[0m\u001b[1;33m,\u001b[0m \u001b[0mtarget_list\u001b[0m\u001b[1;33m,\u001b[0m\u001b[1;33m\u001b[0m\u001b[0m\n\u001b[1;32m-> 1302\u001b[1;33m                                    status, run_metadata)\n\u001b[0m\u001b[0;32m   1303\u001b[0m \u001b[1;33m\u001b[0m\u001b[0m\n\u001b[0;32m   1304\u001b[0m     \u001b[1;32mdef\u001b[0m \u001b[0m_prun_fn\u001b[0m\u001b[1;33m(\u001b[0m\u001b[0msession\u001b[0m\u001b[1;33m,\u001b[0m \u001b[0mhandle\u001b[0m\u001b[1;33m,\u001b[0m \u001b[0mfeed_dict\u001b[0m\u001b[1;33m,\u001b[0m \u001b[0mfetch_list\u001b[0m\u001b[1;33m)\u001b[0m\u001b[1;33m:\u001b[0m\u001b[1;33m\u001b[0m\u001b[0m\n",
      "\u001b[1;31mKeyboardInterrupt\u001b[0m: "
     ]
    }
   ],
   "source": [
    "import numpy as np\n",
    "accs = [] # 128\n",
    "batches = [128, 64, 32, 1, 256]\n",
    "for batch in batches:\n",
    "    batch_size = batch\n",
    "    accs.append(create_model())\n",
    "\n",
    "print(accs)\n",
    "print(\"Best batch size %s\" % str(batches[np.argmax(accs)]))\n"
   ]
  },
  {
   "cell_type": "markdown",
   "metadata": {},
   "source": [
    "### Constants"
   ]
  },
  {
   "cell_type": "code",
   "execution_count": null,
   "metadata": {},
   "outputs": [],
   "source": [
    "#Constants setup\n",
    "max_hypothesis_length, max_evidence_length = 28, 32\n",
    "batch_size, vector_size, hidden_size = 128, 50, 256\n",
    "\n",
    "training_iterations_count = 100000\n",
    "\n",
    "lstm_size = hidden_size\n",
    "\n",
    "weight_decay = 0.001\n",
    "\n",
    "learning_rate = 1\n",
    "\n",
    "input_p, output_p = 0.6, 0.3"
   ]
  },
  {
   "cell_type": "markdown",
   "metadata": {},
   "source": [
    "### [Training data](http://www.site.uottawa.ca/~diana/csi5386/A2_2019/SICK_train.txt)"
   ]
  },
  {
   "cell_type": "code",
   "execution_count": 53,
   "metadata": {},
   "outputs": [
    {
     "name": "stderr",
     "output_type": "stream",
     "text": [
      "f:\\python 36 64\\lib\\site-packages\\ipykernel_launcher.py:17: FutureWarning: Using a non-tuple sequence for multidimensional indexing is deprecated; use `arr[tuple(seq)]` instead of `arr[seq]`. In the future this will be interpreted as an array index, `arr[np.array(seq)]`, which will result either in an error or a different result.\n"
     ]
    }
   ],
   "source": [
    "import numpy as np\n",
    "\n",
    "def split_data_into_scores(file_name=\"data/training.txt\"):\n",
    "    import csv\n",
    "    with open(file_name,\"r\") as data:\n",
    "        train = csv.DictReader(data , delimiter='\\t')\n",
    "        evi_sentences = []\n",
    "        hyp_sentences = []\n",
    "        labels = []\n",
    "        scores = []\n",
    "        count = 1\n",
    "        for row in train:\n",
    "            hyp_sentences.append(np.vstack(\n",
    "                    sentence2sequence(row[\"sentence_A\"].lower())[0]))\n",
    "            evi_sentences.append(np.vstack(\n",
    "                    sentence2sequence(row[\"sentence_B\"].lower())[0]))\n",
    "            labels.append(row[\"entailment_judgment\"])\n",
    "            scores.append(score_setup(row))\n",
    "        \n",
    "        hyp_sentences = np.stack([fit_to_size(x, (max_hypothesis_length, vector_size))\n",
    "                          for x in hyp_sentences])\n",
    "        evi_sentences = np.stack([fit_to_size(x, (max_evidence_length, vector_size))\n",
    "                          for x in evi_sentences])\n",
    "                                 \n",
    "        return (hyp_sentences, evi_sentences), labels, np.array(scores)\n",
    "data_feature_list, correct_values, correct_scores = split_data_into_scores()\n",
    "\n",
    "l_h, l_e = max_hypothesis_length, max_evidence_length\n",
    "N, D, H = batch_size, vector_size, hidden_size\n",
    "l_seq = l_h + l_e"
   ]
  },
  {
   "cell_type": "markdown",
   "metadata": {},
   "source": [
    "### TRAINING"
   ]
  },
  {
   "cell_type": "code",
   "execution_count": 54,
   "metadata": {},
   "outputs": [],
   "source": [
    "tf.reset_default_graph()"
   ]
  },
  {
   "cell_type": "code",
   "execution_count": 55,
   "metadata": {},
   "outputs": [],
   "source": [
    "lstm = tf.contrib.rnn.LSTMCell(lstm_size)\n",
    "lstm_drop =  tf.contrib.rnn.DropoutWrapper(lstm, input_p, output_p)"
   ]
  },
  {
   "cell_type": "code",
   "execution_count": 56,
   "metadata": {},
   "outputs": [],
   "source": [
    "# N: The number of elements in each of our batches, \n",
    "#   which we use to train subsets of data for efficiency's sake.\n",
    "# l_h: The maximum length of a hypothesis, or the second sentence.  This is\n",
    "#   used because training an RNN is extraordinarily difficult without \n",
    "#   rolling it out to a fixed length.\n",
    "# l_e: The maximum length of evidence, the first sentence.  This is used\n",
    "#   because training an RNN is extraordinarily difficult without \n",
    "#   rolling it out to a fixed length.\n",
    "# D: The size of our used GloVe or other vectors.\n",
    "hyp = tf.placeholder(tf.float32, [N, l_h, D], 'hypothesis')\n",
    "evi = tf.placeholder(tf.float32, [N, l_e, D], 'evidence')\n",
    "y = tf.placeholder(tf.float32, [N, 3], 'label')\n",
    "# hyp: Where the hypotheses will be stored during training.\n",
    "# evi: Where the evidences will be stored during training.\n",
    "# y: Where correct scores will be stored during training.\n",
    "\n",
    "# lstm_size: the size of the gates in the LSTM, \n",
    "#    as in the first LSTM layer's initialization.\n",
    "# lstm_back = tf.contrib.rnn.BasicLSTMCell(lstm_size)\n",
    "lstm_back = tf.contrib.rnn.LSTMCell(lstm_size)\n",
    "\n",
    "# lstm_back:  The LSTM used for looking backwards \n",
    "#   through the sentences, similar to lstm.\n",
    "\n",
    "# input_p: the probability that inputs to the LSTM will be retained at each\n",
    "#   iteration of dropout.\n",
    "# output_p: the probability that outputs from the LSTM will be retained at \n",
    "#   each iteration of dropout.\n",
    "lstm_drop_back = tf.contrib.rnn.DropoutWrapper(lstm_back, input_p, output_p)\n",
    "# lstm_drop_back:  A dropout wrapper for lstm_back, like lstm_drop.\n",
    "\n",
    "\n",
    "fc_initializer = tf.random_normal_initializer(stddev=0.1) \n",
    "# fc_initializer: initial values for the fully connected layer's weights.\n",
    "# hidden_size: the size of the outputs from each lstm layer.  \n",
    "#   Multiplied by 2 to account for the two LSTMs.\n",
    "fc_weight = tf.get_variable('fc_weight', [2*hidden_size, 3], \n",
    "                            initializer = fc_initializer)\n",
    "# fc_weight: Storage for the fully connected layer's weights.\n",
    "fc_bias = tf.get_variable('bias', [3])\n",
    "# fc_bias: Storage for the fully connected layer's bias.\n",
    "\n",
    "# tf.GraphKeys.REGULARIZATION_LOSSES:  A key to a collection in the graph\n",
    "#   designated for losses due to regularization.\n",
    "#   In this case, this portion of loss is regularization on the weights\n",
    "#   for the fully connected layer.\n",
    "tf.add_to_collection(tf.GraphKeys.REGULARIZATION_LOSSES, \n",
    "                     tf.nn.l2_loss(fc_weight)) \n",
    "\n",
    "x = tf.concat([hyp, evi], 1) # N, (Lh+Le), d\n",
    "# Permuting batch_size and n_steps\n",
    "x = tf.transpose(x, [1, 0, 2]) # (Le+Lh), N, d\n",
    "# Reshaping to (n_steps*batch_size, n_input)\n",
    "x = tf.reshape(x, [-1, vector_size]) # (Le+Lh)*N, d\n",
    "# Split to get a list of 'n_steps' tensors of shape (batch_size, n_input)\n",
    "x = tf.split(x, l_seq,)\n",
    "\n",
    "# x: the inputs to the bidirectional_rnn\n",
    "\n",
    "\n",
    "# tf.contrib.rnn.static_bidirectional_rnn: Runs the input through\n",
    "#   two recurrent networks, one that runs the inputs forward and one\n",
    "#   that runs the inputs in reversed order, combining the outputs.\n",
    "rnn_outputs, _, _ = tf.contrib.rnn.static_bidirectional_rnn(lstm, lstm_back,\n",
    "                                                            x, dtype=tf.float32)\n",
    "# rnn_outputs: the list of LSTM outputs, as a list. \n",
    "#   What we want is the latest output, rnn_outputs[-1]\n",
    "\n",
    "classification_scores = tf.matmul(rnn_outputs[-1], fc_weight) + fc_bias\n",
    "# The scores are relative certainties for how likely the output matches\n",
    "#   a certain entailment: \n",
    "#     0: Positive entailment\n",
    "#     1: Neutral entailment\n",
    "#     2: Negative entailment"
   ]
  },
  {
   "cell_type": "code",
   "execution_count": 57,
   "metadata": {},
   "outputs": [],
   "source": [
    "with tf.variable_scope('Accuracy'):\n",
    "    predicts = tf.cast(tf.argmax(classification_scores, 1), 'int32')\n",
    "    y_label = tf.cast(tf.argmax(y, 1), 'int32')\n",
    "    corrects = tf.equal(predicts, y_label)\n",
    "    num_corrects = tf.reduce_sum(tf.cast(corrects, tf.float32))\n",
    "    accuracy = tf.reduce_mean(tf.cast(corrects, tf.float32))\n",
    "\n",
    "with tf.variable_scope(\"loss\"):\n",
    "    cross_entropy = tf.nn.softmax_cross_entropy_with_logits(\n",
    "        logits = classification_scores, labels = y)\n",
    "    loss = tf.reduce_mean(cross_entropy)\n",
    "    total_loss = loss + weight_decay * tf.add_n(\n",
    "        tf.get_collection(tf.GraphKeys.REGULARIZATION_LOSSES))\n",
    "\n",
    "optimizer = tf.train.GradientDescentOptimizer(learning_rate)\n",
    "\n",
    "opt_op = optimizer.minimize(total_loss)"
   ]
  },
  {
   "cell_type": "code",
   "execution_count": null,
   "metadata": {},
   "outputs": [
    {
     "name": "stdout",
     "output_type": "stream",
     "text": [
      "range(0, 100000, 128)\n"
     ]
    },
    {
     "name": "stderr",
     "output_type": "stream",
     "text": [
      "\r",
      "  0%|                                                                          | 0/782 [00:00<?, ?it/s]"
     ]
    },
    {
     "name": "stdout",
     "output_type": "stream",
     "text": [
      "Iter 0.0, Minibatch Loss= 0.982853, Training Accuracy= 0.53125\n"
     ]
    },
    {
     "name": "stderr",
     "output_type": "stream",
     "text": [
      "\r",
      "  0%|                                                                  | 1/782 [00:03<41:27,  3.18s/it]"
     ]
    },
    {
     "name": "stdout",
     "output_type": "stream",
     "text": [
      "Iter 1.0, Minibatch Loss= 1.072385, Training Accuracy= 0.35156\n"
     ]
    },
    {
     "name": "stderr",
     "output_type": "stream",
     "text": [
      "\r",
      "  0%|▏                                                                 | 2/782 [00:04<34:43,  2.67s/it]"
     ]
    },
    {
     "name": "stdout",
     "output_type": "stream",
     "text": [
      "Iter 2.0, Minibatch Loss= 1.020020, Training Accuracy= 0.53125\n"
     ]
    },
    {
     "name": "stderr",
     "output_type": "stream",
     "text": [
      "\r",
      "  0%|▎                                                                 | 3/782 [00:06<30:52,  2.38s/it]"
     ]
    },
    {
     "name": "stdout",
     "output_type": "stream",
     "text": [
      "Iter 3.0, Minibatch Loss= 0.962351, Training Accuracy= 0.53125\n"
     ]
    },
    {
     "name": "stderr",
     "output_type": "stream",
     "text": [
      "\r",
      "  1%|▎                                                                 | 4/782 [00:07<27:35,  2.13s/it]"
     ]
    },
    {
     "name": "stdout",
     "output_type": "stream",
     "text": [
      "Iter 4.0, Minibatch Loss= 0.953920, Training Accuracy= 0.53125\n"
     ]
    },
    {
     "name": "stderr",
     "output_type": "stream",
     "text": [
      "\r",
      "  1%|▍                                                                 | 5/782 [00:09<26:19,  2.03s/it]"
     ]
    },
    {
     "name": "stdout",
     "output_type": "stream",
     "text": [
      "Iter 5.0, Minibatch Loss= 0.953141, Training Accuracy= 0.53125\n"
     ]
    },
    {
     "name": "stderr",
     "output_type": "stream",
     "text": [
      "\r",
      "  1%|▌                                                                 | 6/782 [00:11<24:48,  1.92s/it]"
     ]
    },
    {
     "name": "stdout",
     "output_type": "stream",
     "text": [
      "Iter 6.0, Minibatch Loss= 0.952863, Training Accuracy= 0.53125\n"
     ]
    },
    {
     "name": "stderr",
     "output_type": "stream",
     "text": [
      "\r",
      "  1%|▌                                                                 | 7/782 [00:12<23:33,  1.82s/it]"
     ]
    },
    {
     "name": "stdout",
     "output_type": "stream",
     "text": [
      "Iter 7.0, Minibatch Loss= 0.952617, Training Accuracy= 0.53125\n"
     ]
    },
    {
     "name": "stderr",
     "output_type": "stream",
     "text": [
      "\r",
      "  1%|▋                                                                 | 8/782 [00:14<22:43,  1.76s/it]"
     ]
    },
    {
     "name": "stdout",
     "output_type": "stream",
     "text": [
      "Iter 8.0, Minibatch Loss= 0.952353, Training Accuracy= 0.53125\n"
     ]
    },
    {
     "name": "stderr",
     "output_type": "stream",
     "text": [
      "\r",
      "  1%|▊                                                                 | 9/782 [00:16<22:02,  1.71s/it]"
     ]
    },
    {
     "name": "stdout",
     "output_type": "stream",
     "text": [
      "Iter 9.0, Minibatch Loss= 0.952063, Training Accuracy= 0.53125\n"
     ]
    },
    {
     "name": "stderr",
     "output_type": "stream",
     "text": [
      "\r",
      "  1%|▊                                                                | 10/782 [00:17<21:50,  1.70s/it]"
     ]
    },
    {
     "name": "stdout",
     "output_type": "stream",
     "text": [
      "Iter 10.0, Minibatch Loss= 0.951739, Training Accuracy= 0.53125\n"
     ]
    },
    {
     "name": "stderr",
     "output_type": "stream",
     "text": [
      "\r",
      "  1%|▉                                                                | 11/782 [00:19<21:01,  1.64s/it]"
     ]
    },
    {
     "name": "stdout",
     "output_type": "stream",
     "text": [
      "Iter 11.0, Minibatch Loss= 0.951373, Training Accuracy= 0.53125\n"
     ]
    },
    {
     "name": "stderr",
     "output_type": "stream",
     "text": [
      "\r",
      "  2%|▉                                                                | 12/782 [00:20<21:03,  1.64s/it]"
     ]
    },
    {
     "name": "stdout",
     "output_type": "stream",
     "text": [
      "Iter 12.0, Minibatch Loss= 0.950954, Training Accuracy= 0.53125\n"
     ]
    },
    {
     "name": "stderr",
     "output_type": "stream",
     "text": [
      "\r",
      "  2%|█                                                                | 13/782 [00:22<21:38,  1.69s/it]"
     ]
    },
    {
     "name": "stdout",
     "output_type": "stream",
     "text": [
      "Iter 13.0, Minibatch Loss= 0.950467, Training Accuracy= 0.53125\n"
     ]
    },
    {
     "name": "stderr",
     "output_type": "stream",
     "text": [
      "\r",
      "  2%|█▏                                                               | 14/782 [00:24<21:42,  1.70s/it]"
     ]
    },
    {
     "name": "stdout",
     "output_type": "stream",
     "text": [
      "Iter 14.0, Minibatch Loss= 0.949891, Training Accuracy= 0.53125\n"
     ]
    },
    {
     "name": "stderr",
     "output_type": "stream",
     "text": [
      "\r",
      "  2%|█▏                                                               | 15/782 [00:25<20:53,  1.63s/it]"
     ]
    },
    {
     "name": "stdout",
     "output_type": "stream",
     "text": [
      "Iter 15.0, Minibatch Loss= 0.949194, Training Accuracy= 0.53125\n"
     ]
    },
    {
     "name": "stderr",
     "output_type": "stream",
     "text": [
      "\r",
      "  2%|█▎                                                               | 16/782 [00:27<20:06,  1.57s/it]"
     ]
    },
    {
     "name": "stdout",
     "output_type": "stream",
     "text": [
      "Iter 16.0, Minibatch Loss= 0.948329, Training Accuracy= 0.53125\n"
     ]
    },
    {
     "name": "stderr",
     "output_type": "stream",
     "text": [
      "\r",
      "  2%|█▍                                                               | 17/782 [00:28<19:42,  1.55s/it]"
     ]
    },
    {
     "name": "stdout",
     "output_type": "stream",
     "text": [
      "Iter 17.0, Minibatch Loss= 0.947216, Training Accuracy= 0.53125\n"
     ]
    },
    {
     "name": "stderr",
     "output_type": "stream",
     "text": [
      "\r",
      "  2%|█▍                                                               | 18/782 [00:30<19:45,  1.55s/it]"
     ]
    },
    {
     "name": "stdout",
     "output_type": "stream",
     "text": [
      "Iter 18.0, Minibatch Loss= 0.945708, Training Accuracy= 0.53125\n"
     ]
    },
    {
     "name": "stderr",
     "output_type": "stream",
     "text": [
      "\r",
      "  2%|█▌                                                               | 19/782 [00:31<19:18,  1.52s/it]"
     ]
    },
    {
     "name": "stdout",
     "output_type": "stream",
     "text": [
      "Iter 19.0, Minibatch Loss= 0.943507, Training Accuracy= 0.53125\n"
     ]
    },
    {
     "name": "stderr",
     "output_type": "stream",
     "text": [
      "\r",
      "  3%|█▋                                                               | 20/782 [00:33<19:09,  1.51s/it]"
     ]
    },
    {
     "name": "stdout",
     "output_type": "stream",
     "text": [
      "Iter 20.0, Minibatch Loss= 0.939889, Training Accuracy= 0.53125\n"
     ]
    },
    {
     "name": "stderr",
     "output_type": "stream",
     "text": [
      "\r",
      "  3%|█▋                                                               | 21/782 [00:34<19:23,  1.53s/it]"
     ]
    },
    {
     "name": "stdout",
     "output_type": "stream",
     "text": [
      "Iter 21.0, Minibatch Loss= 0.932562, Training Accuracy= 0.53125\n"
     ]
    },
    {
     "name": "stderr",
     "output_type": "stream",
     "text": [
      "\r",
      "  3%|█▊                                                               | 22/782 [00:36<18:46,  1.48s/it]"
     ]
    },
    {
     "name": "stdout",
     "output_type": "stream",
     "text": [
      "Iter 22.0, Minibatch Loss= 0.910817, Training Accuracy= 0.53125\n"
     ]
    },
    {
     "name": "stderr",
     "output_type": "stream",
     "text": [
      "\r",
      "  3%|█▉                                                               | 23/782 [00:38<20:09,  1.59s/it]"
     ]
    },
    {
     "name": "stdout",
     "output_type": "stream",
     "text": [
      "Iter 23.0, Minibatch Loss= 0.870964, Training Accuracy= 0.53906\n"
     ]
    },
    {
     "name": "stderr",
     "output_type": "stream",
     "text": [
      "\r",
      "  3%|█▉                                                               | 24/782 [00:39<20:07,  1.59s/it]"
     ]
    },
    {
     "name": "stdout",
     "output_type": "stream",
     "text": [
      "Iter 24.0, Minibatch Loss= 1.058347, Training Accuracy= 0.50000\n"
     ]
    },
    {
     "name": "stderr",
     "output_type": "stream",
     "text": [
      "\r",
      "  3%|██                                                               | 25/782 [00:41<20:23,  1.62s/it]"
     ]
    },
    {
     "name": "stdout",
     "output_type": "stream",
     "text": [
      "Iter 25.0, Minibatch Loss= 1.000816, Training Accuracy= 0.53125\n"
     ]
    },
    {
     "name": "stderr",
     "output_type": "stream",
     "text": [
      "\r",
      "  3%|██▏                                                              | 26/782 [00:43<21:07,  1.68s/it]"
     ]
    },
    {
     "name": "stdout",
     "output_type": "stream",
     "text": [
      "Iter 26.0, Minibatch Loss= 0.977986, Training Accuracy= 0.35938\n"
     ]
    },
    {
     "name": "stderr",
     "output_type": "stream",
     "text": [
      "\r",
      "  3%|██▏                                                              | 27/782 [00:44<20:41,  1.64s/it]"
     ]
    },
    {
     "name": "stdout",
     "output_type": "stream",
     "text": [
      "Iter 27.0, Minibatch Loss= 0.957604, Training Accuracy= 0.53125\n"
     ]
    },
    {
     "name": "stderr",
     "output_type": "stream",
     "text": [
      "\r",
      "  4%|██▎                                                              | 28/782 [00:46<20:12,  1.61s/it]"
     ]
    },
    {
     "name": "stdout",
     "output_type": "stream",
     "text": [
      "Iter 28.0, Minibatch Loss= 0.953739, Training Accuracy= 0.53125\n"
     ]
    },
    {
     "name": "stderr",
     "output_type": "stream",
     "text": [
      "\r",
      "  4%|██▍                                                              | 29/782 [00:47<19:31,  1.56s/it]"
     ]
    },
    {
     "name": "stdout",
     "output_type": "stream",
     "text": [
      "Iter 29.0, Minibatch Loss= 0.953116, Training Accuracy= 0.53125\n"
     ]
    },
    {
     "name": "stderr",
     "output_type": "stream",
     "text": [
      "\r",
      "  4%|██▍                                                              | 30/782 [00:49<19:01,  1.52s/it]"
     ]
    },
    {
     "name": "stdout",
     "output_type": "stream",
     "text": [
      "Iter 30.0, Minibatch Loss= 0.952891, Training Accuracy= 0.53125\n"
     ]
    },
    {
     "name": "stderr",
     "output_type": "stream",
     "text": [
      "\r",
      "  4%|██▌                                                              | 31/782 [00:50<19:03,  1.52s/it]"
     ]
    },
    {
     "name": "stdout",
     "output_type": "stream",
     "text": [
      "Iter 31.0, Minibatch Loss= 0.952692, Training Accuracy= 0.53125\n"
     ]
    },
    {
     "name": "stderr",
     "output_type": "stream",
     "text": [
      "\r",
      "  4%|██▋                                                              | 32/782 [00:52<18:43,  1.50s/it]"
     ]
    },
    {
     "name": "stdout",
     "output_type": "stream",
     "text": [
      "Iter 32.0, Minibatch Loss= 0.952483, Training Accuracy= 0.53125\n"
     ]
    },
    {
     "name": "stderr",
     "output_type": "stream",
     "text": [
      "\r",
      "  4%|██▋                                                              | 33/782 [00:53<18:35,  1.49s/it]"
     ]
    },
    {
     "name": "stdout",
     "output_type": "stream",
     "text": [
      "Iter 33.0, Minibatch Loss= 0.952254, Training Accuracy= 0.53125\n"
     ]
    },
    {
     "name": "stderr",
     "output_type": "stream",
     "text": [
      "\r",
      "  4%|██▊                                                              | 34/782 [00:55<18:37,  1.49s/it]"
     ]
    },
    {
     "name": "stdout",
     "output_type": "stream",
     "text": [
      "Iter 34.0, Minibatch Loss= 0.952002, Training Accuracy= 0.53125\n"
     ]
    },
    {
     "name": "stderr",
     "output_type": "stream",
     "text": [
      "\r",
      "  4%|██▉                                                              | 35/782 [00:56<18:02,  1.45s/it]"
     ]
    },
    {
     "name": "stdout",
     "output_type": "stream",
     "text": [
      "Iter 35.0, Minibatch Loss= 0.951722, Training Accuracy= 0.53125\n"
     ]
    },
    {
     "name": "stderr",
     "output_type": "stream",
     "text": [
      "\r",
      "  5%|██▉                                                              | 36/782 [00:58<18:38,  1.50s/it]"
     ]
    },
    {
     "name": "stdout",
     "output_type": "stream",
     "text": [
      "Iter 36.0, Minibatch Loss= 0.951407, Training Accuracy= 0.53125\n"
     ]
    },
    {
     "name": "stderr",
     "output_type": "stream",
     "text": [
      "\r",
      "  5%|███                                                              | 37/782 [00:59<18:31,  1.49s/it]"
     ]
    },
    {
     "name": "stdout",
     "output_type": "stream",
     "text": [
      "Iter 37.0, Minibatch Loss= 0.951050, Training Accuracy= 0.53125\n"
     ]
    },
    {
     "name": "stderr",
     "output_type": "stream",
     "text": [
      "\r",
      "  5%|███▏                                                             | 38/782 [01:01<18:18,  1.48s/it]"
     ]
    },
    {
     "name": "stdout",
     "output_type": "stream",
     "text": [
      "Iter 38.0, Minibatch Loss= 0.950639, Training Accuracy= 0.53125\n"
     ]
    },
    {
     "name": "stderr",
     "output_type": "stream",
     "text": [
      "\r",
      "  5%|███▏                                                             | 39/782 [01:02<18:29,  1.49s/it]"
     ]
    },
    {
     "name": "stdout",
     "output_type": "stream",
     "text": [
      "Iter 39.0, Minibatch Loss= 0.950162, Training Accuracy= 0.53125\n"
     ]
    },
    {
     "name": "stderr",
     "output_type": "stream",
     "text": [
      "\r",
      "  5%|███▎                                                             | 40/782 [01:04<18:35,  1.50s/it]"
     ]
    },
    {
     "name": "stdout",
     "output_type": "stream",
     "text": [
      "Iter 40.0, Minibatch Loss= 0.949599, Training Accuracy= 0.53125\n"
     ]
    },
    {
     "name": "stderr",
     "output_type": "stream",
     "text": [
      "\r",
      "  5%|███▍                                                             | 41/782 [01:05<19:15,  1.56s/it]"
     ]
    },
    {
     "name": "stdout",
     "output_type": "stream",
     "text": [
      "Iter 41.0, Minibatch Loss= 0.948924, Training Accuracy= 0.53125\n"
     ]
    },
    {
     "name": "stderr",
     "output_type": "stream",
     "text": [
      "\r",
      "  5%|███▍                                                             | 42/782 [01:07<18:37,  1.51s/it]"
     ]
    },
    {
     "name": "stdout",
     "output_type": "stream",
     "text": [
      "Iter 42.0, Minibatch Loss= 0.948101, Training Accuracy= 0.53125\n"
     ]
    },
    {
     "name": "stderr",
     "output_type": "stream",
     "text": [
      "\r",
      "  5%|███▌                                                             | 43/782 [01:08<18:39,  1.51s/it]"
     ]
    },
    {
     "name": "stdout",
     "output_type": "stream",
     "text": [
      "Iter 43.0, Minibatch Loss= 0.947075, Training Accuracy= 0.53125\n"
     ]
    },
    {
     "name": "stderr",
     "output_type": "stream",
     "text": [
      "\r",
      "  6%|███▋                                                             | 44/782 [01:10<19:00,  1.55s/it]"
     ]
    },
    {
     "name": "stdout",
     "output_type": "stream",
     "text": [
      "Iter 44.0, Minibatch Loss= 0.945764, Training Accuracy= 0.53125\n"
     ]
    },
    {
     "name": "stderr",
     "output_type": "stream",
     "text": [
      "\r",
      "  6%|███▋                                                             | 45/782 [01:11<18:18,  1.49s/it]"
     ]
    },
    {
     "name": "stdout",
     "output_type": "stream",
     "text": [
      "Iter 45.0, Minibatch Loss= 0.944033, Training Accuracy= 0.53125\n"
     ]
    },
    {
     "name": "stderr",
     "output_type": "stream",
     "text": [
      "\r",
      "  6%|███▊                                                             | 46/782 [01:13<18:07,  1.48s/it]"
     ]
    },
    {
     "name": "stdout",
     "output_type": "stream",
     "text": [
      "Iter 46.0, Minibatch Loss= 0.941653, Training Accuracy= 0.53125\n"
     ]
    },
    {
     "name": "stderr",
     "output_type": "stream",
     "text": [
      "\r",
      "  6%|███▉                                                             | 47/782 [01:14<17:48,  1.45s/it]"
     ]
    },
    {
     "name": "stdout",
     "output_type": "stream",
     "text": [
      "Iter 47.0, Minibatch Loss= 0.938188, Training Accuracy= 0.53125\n"
     ]
    },
    {
     "name": "stderr",
     "output_type": "stream",
     "text": [
      "\r",
      "  6%|███▉                                                             | 48/782 [01:15<17:41,  1.45s/it]"
     ]
    },
    {
     "name": "stdout",
     "output_type": "stream",
     "text": [
      "Iter 48.0, Minibatch Loss= 0.932697, Training Accuracy= 0.53125\n"
     ]
    },
    {
     "name": "stderr",
     "output_type": "stream",
     "text": [
      "\r",
      "  6%|████                                                             | 49/782 [01:17<17:55,  1.47s/it]"
     ]
    },
    {
     "name": "stdout",
     "output_type": "stream",
     "text": [
      "Iter 49.0, Minibatch Loss= 0.922650, Training Accuracy= 0.53125\n"
     ]
    },
    {
     "name": "stderr",
     "output_type": "stream",
     "text": [
      "\r",
      "  6%|████▏                                                            | 50/782 [01:18<17:24,  1.43s/it]"
     ]
    },
    {
     "name": "stdout",
     "output_type": "stream",
     "text": [
      "Iter 50.0, Minibatch Loss= 0.898256, Training Accuracy= 0.53125\n"
     ]
    },
    {
     "name": "stderr",
     "output_type": "stream",
     "text": [
      "\r",
      "  7%|████▏                                                            | 51/782 [01:20<17:39,  1.45s/it]"
     ]
    },
    {
     "name": "stdout",
     "output_type": "stream",
     "text": [
      "Iter 51.0, Minibatch Loss= 0.846929, Training Accuracy= 0.57031\n"
     ]
    },
    {
     "name": "stderr",
     "output_type": "stream",
     "text": [
      "\r",
      "  7%|████▎                                                            | 52/782 [01:21<17:26,  1.43s/it]"
     ]
    },
    {
     "name": "stdout",
     "output_type": "stream",
     "text": [
      "Iter 52.0, Minibatch Loss= 1.053324, Training Accuracy= 0.53125\n"
     ]
    },
    {
     "name": "stderr",
     "output_type": "stream",
     "text": [
      "\r",
      "  7%|████▍                                                            | 53/782 [01:23<17:22,  1.43s/it]"
     ]
    },
    {
     "name": "stdout",
     "output_type": "stream",
     "text": [
      "Iter 53.0, Minibatch Loss= 2.231272, Training Accuracy= 0.11719\n"
     ]
    },
    {
     "name": "stderr",
     "output_type": "stream",
     "text": [
      "\r",
      "  7%|████▍                                                            | 54/782 [01:24<17:43,  1.46s/it]"
     ]
    },
    {
     "name": "stdout",
     "output_type": "stream",
     "text": [
      "Iter 54.0, Minibatch Loss= 1.146716, Training Accuracy= 0.53125\n"
     ]
    },
    {
     "name": "stderr",
     "output_type": "stream",
     "text": [
      "\r",
      "  7%|████▌                                                            | 55/782 [01:26<17:28,  1.44s/it]"
     ]
    },
    {
     "name": "stdout",
     "output_type": "stream",
     "text": [
      "Iter 55.0, Minibatch Loss= 1.025231, Training Accuracy= 0.52344\n"
     ]
    },
    {
     "name": "stderr",
     "output_type": "stream",
     "text": [
      "\r",
      "  7%|████▋                                                            | 56/782 [01:27<17:23,  1.44s/it]"
     ]
    },
    {
     "name": "stdout",
     "output_type": "stream",
     "text": [
      "Iter 56.0, Minibatch Loss= 0.973206, Training Accuracy= 0.53125\n"
     ]
    },
    {
     "name": "stderr",
     "output_type": "stream",
     "text": [
      "\r",
      "  7%|████▋                                                            | 57/782 [01:28<17:17,  1.43s/it]"
     ]
    },
    {
     "name": "stdout",
     "output_type": "stream",
     "text": [
      "Iter 57.0, Minibatch Loss= 0.957723, Training Accuracy= 0.53125\n"
     ]
    },
    {
     "name": "stderr",
     "output_type": "stream",
     "text": [
      "\r",
      "  7%|████▊                                                            | 58/782 [01:30<17:18,  1.44s/it]"
     ]
    },
    {
     "name": "stdout",
     "output_type": "stream",
     "text": [
      "Iter 58.0, Minibatch Loss= 0.955538, Training Accuracy= 0.53125\n"
     ]
    },
    {
     "name": "stderr",
     "output_type": "stream",
     "text": [
      "\r",
      "  8%|████▉                                                            | 59/782 [01:31<17:40,  1.47s/it]"
     ]
    },
    {
     "name": "stdout",
     "output_type": "stream",
     "text": [
      "Iter 59.0, Minibatch Loss= 0.954932, Training Accuracy= 0.53125\n"
     ]
    },
    {
     "name": "stderr",
     "output_type": "stream",
     "text": [
      "\r",
      "  8%|████▉                                                            | 60/782 [01:33<17:30,  1.46s/it]"
     ]
    },
    {
     "name": "stdout",
     "output_type": "stream",
     "text": [
      "Iter 60.0, Minibatch Loss= 0.954543, Training Accuracy= 0.53125\n"
     ]
    },
    {
     "name": "stderr",
     "output_type": "stream",
     "text": [
      "\r",
      "  8%|█████                                                            | 61/782 [01:34<17:26,  1.45s/it]"
     ]
    },
    {
     "name": "stdout",
     "output_type": "stream",
     "text": [
      "Iter 61.0, Minibatch Loss= 0.954206, Training Accuracy= 0.53125\n"
     ]
    },
    {
     "name": "stderr",
     "output_type": "stream",
     "text": [
      "\r",
      "  8%|█████▏                                                           | 62/782 [01:36<17:36,  1.47s/it]"
     ]
    },
    {
     "name": "stdout",
     "output_type": "stream",
     "text": [
      "Iter 62.0, Minibatch Loss= 0.953888, Training Accuracy= 0.53125\n"
     ]
    },
    {
     "name": "stderr",
     "output_type": "stream",
     "text": [
      "\r",
      "  8%|█████▏                                                           | 63/782 [01:37<17:06,  1.43s/it]"
     ]
    },
    {
     "name": "stdout",
     "output_type": "stream",
     "text": [
      "Iter 63.0, Minibatch Loss= 0.953581, Training Accuracy= 0.53125\n"
     ]
    },
    {
     "name": "stderr",
     "output_type": "stream",
     "text": [
      "\r",
      "  8%|█████▎                                                           | 64/782 [01:39<17:44,  1.48s/it]"
     ]
    },
    {
     "name": "stdout",
     "output_type": "stream",
     "text": [
      "Iter 64.0, Minibatch Loss= 0.953277, Training Accuracy= 0.53125\n"
     ]
    },
    {
     "name": "stderr",
     "output_type": "stream",
     "text": [
      "\r",
      "  8%|█████▍                                                           | 65/782 [01:40<17:31,  1.47s/it]"
     ]
    },
    {
     "name": "stdout",
     "output_type": "stream",
     "text": [
      "Iter 65.0, Minibatch Loss= 0.952972, Training Accuracy= 0.53125\n"
     ]
    },
    {
     "name": "stderr",
     "output_type": "stream",
     "text": [
      "\r",
      "  8%|█████▍                                                           | 66/782 [01:42<17:18,  1.45s/it]"
     ]
    },
    {
     "name": "stdout",
     "output_type": "stream",
     "text": [
      "Iter 66.0, Minibatch Loss= 0.952663, Training Accuracy= 0.53125\n"
     ]
    },
    {
     "name": "stderr",
     "output_type": "stream",
     "text": [
      "\r",
      "  9%|█████▌                                                           | 67/782 [01:43<17:33,  1.47s/it]"
     ]
    },
    {
     "name": "stdout",
     "output_type": "stream",
     "text": [
      "Iter 67.0, Minibatch Loss= 0.952346, Training Accuracy= 0.53125\n"
     ]
    },
    {
     "name": "stderr",
     "output_type": "stream",
     "text": [
      "\r",
      "  9%|█████▋                                                           | 68/782 [01:44<17:08,  1.44s/it]"
     ]
    },
    {
     "name": "stdout",
     "output_type": "stream",
     "text": [
      "Iter 68.0, Minibatch Loss= 0.952015, Training Accuracy= 0.53125\n"
     ]
    },
    {
     "name": "stderr",
     "output_type": "stream",
     "text": [
      "\r",
      "  9%|█████▋                                                           | 69/782 [01:46<17:09,  1.44s/it]"
     ]
    },
    {
     "name": "stdout",
     "output_type": "stream",
     "text": [
      "Iter 69.0, Minibatch Loss= 0.951667, Training Accuracy= 0.53125\n"
     ]
    },
    {
     "name": "stderr",
     "output_type": "stream",
     "text": [
      "\r",
      "  9%|█████▊                                                           | 70/782 [01:47<16:58,  1.43s/it]"
     ]
    },
    {
     "name": "stdout",
     "output_type": "stream",
     "text": [
      "Iter 70.0, Minibatch Loss= 0.951297, Training Accuracy= 0.53125\n"
     ]
    },
    {
     "name": "stderr",
     "output_type": "stream",
     "text": [
      "\r",
      "  9%|█████▉                                                           | 71/782 [01:49<17:03,  1.44s/it]"
     ]
    },
    {
     "name": "stdout",
     "output_type": "stream",
     "text": [
      "Iter 71.0, Minibatch Loss= 0.950898, Training Accuracy= 0.53125\n"
     ]
    },
    {
     "name": "stderr",
     "output_type": "stream",
     "text": [
      "\r",
      "  9%|█████▉                                                           | 72/782 [01:50<17:35,  1.49s/it]"
     ]
    },
    {
     "name": "stdout",
     "output_type": "stream",
     "text": [
      "Iter 72.0, Minibatch Loss= 0.950466, Training Accuracy= 0.53125\n"
     ]
    },
    {
     "name": "stderr",
     "output_type": "stream",
     "text": [
      "\r",
      "  9%|██████                                                           | 73/782 [01:52<17:25,  1.47s/it]"
     ]
    },
    {
     "name": "stdout",
     "output_type": "stream",
     "text": [
      "Iter 73.0, Minibatch Loss= 0.949991, Training Accuracy= 0.53125\n"
     ]
    },
    {
     "name": "stderr",
     "output_type": "stream",
     "text": [
      "\r",
      "  9%|██████▏                                                          | 74/782 [01:53<17:14,  1.46s/it]"
     ]
    },
    {
     "name": "stdout",
     "output_type": "stream",
     "text": [
      "Iter 74.0, Minibatch Loss= 0.949463, Training Accuracy= 0.53125\n"
     ]
    },
    {
     "name": "stderr",
     "output_type": "stream",
     "text": [
      "\r",
      " 10%|██████▏                                                          | 75/782 [01:55<16:59,  1.44s/it]"
     ]
    },
    {
     "name": "stdout",
     "output_type": "stream",
     "text": [
      "Iter 75.0, Minibatch Loss= 0.948870, Training Accuracy= 0.53125\n"
     ]
    },
    {
     "name": "stderr",
     "output_type": "stream",
     "text": [
      "\r",
      " 10%|██████▎                                                          | 76/782 [01:56<16:55,  1.44s/it]"
     ]
    },
    {
     "name": "stdout",
     "output_type": "stream",
     "text": [
      "Iter 76.0, Minibatch Loss= 0.948197, Training Accuracy= 0.53125\n"
     ]
    },
    {
     "name": "stderr",
     "output_type": "stream",
     "text": [
      "\r",
      " 10%|██████▍                                                          | 77/782 [01:58<17:14,  1.47s/it]"
     ]
    },
    {
     "name": "stdout",
     "output_type": "stream",
     "text": [
      "Iter 77.0, Minibatch Loss= 0.947421, Training Accuracy= 0.53125\n"
     ]
    },
    {
     "name": "stderr",
     "output_type": "stream",
     "text": [
      "\r",
      " 10%|██████▍                                                          | 78/782 [01:59<16:52,  1.44s/it]"
     ]
    },
    {
     "name": "stdout",
     "output_type": "stream",
     "text": [
      "Iter 78.0, Minibatch Loss= 0.946515, Training Accuracy= 0.53125\n"
     ]
    },
    {
     "name": "stderr",
     "output_type": "stream",
     "text": [
      "\r",
      " 10%|██████▌                                                          | 79/782 [02:00<16:49,  1.44s/it]"
     ]
    },
    {
     "name": "stdout",
     "output_type": "stream",
     "text": [
      "Iter 79.0, Minibatch Loss= 0.945435, Training Accuracy= 0.53125\n"
     ]
    },
    {
     "name": "stderr",
     "output_type": "stream",
     "text": [
      "\r",
      " 10%|██████▋                                                          | 80/782 [02:02<16:51,  1.44s/it]"
     ]
    },
    {
     "name": "stdout",
     "output_type": "stream",
     "text": [
      "Iter 80.0, Minibatch Loss= 0.944121, Training Accuracy= 0.53125\n"
     ]
    },
    {
     "name": "stderr",
     "output_type": "stream",
     "text": [
      "\r",
      " 10%|██████▋                                                          | 81/782 [02:03<16:30,  1.41s/it]"
     ]
    },
    {
     "name": "stdout",
     "output_type": "stream",
     "text": [
      "Iter 81.0, Minibatch Loss= 0.942475, Training Accuracy= 0.53125\n"
     ]
    },
    {
     "name": "stderr",
     "output_type": "stream",
     "text": [
      "\r",
      " 10%|██████▊                                                          | 82/782 [02:05<16:54,  1.45s/it]"
     ]
    },
    {
     "name": "stdout",
     "output_type": "stream",
     "text": [
      "Iter 82.0, Minibatch Loss= 0.940326, Training Accuracy= 0.53125\n"
     ]
    },
    {
     "name": "stderr",
     "output_type": "stream",
     "text": [
      "\r",
      " 11%|██████▉                                                          | 83/782 [02:06<16:43,  1.44s/it]"
     ]
    },
    {
     "name": "stdout",
     "output_type": "stream",
     "text": [
      "Iter 83.0, Minibatch Loss= 0.937340, Training Accuracy= 0.53125\n"
     ]
    },
    {
     "name": "stderr",
     "output_type": "stream",
     "text": [
      "\r",
      " 11%|██████▉                                                          | 84/782 [02:08<16:50,  1.45s/it]"
     ]
    },
    {
     "name": "stdout",
     "output_type": "stream",
     "text": [
      "Iter 84.0, Minibatch Loss= 0.932734, Training Accuracy= 0.53125\n"
     ]
    },
    {
     "name": "stderr",
     "output_type": "stream",
     "text": [
      "\r",
      " 11%|███████                                                          | 85/782 [02:09<17:19,  1.49s/it]"
     ]
    },
    {
     "name": "stdout",
     "output_type": "stream",
     "text": [
      "Iter 85.0, Minibatch Loss= 0.924107, Training Accuracy= 0.53125\n"
     ]
    },
    {
     "name": "stderr",
     "output_type": "stream",
     "text": [
      "\r",
      " 11%|███████▏                                                         | 86/782 [02:11<16:44,  1.44s/it]"
     ]
    },
    {
     "name": "stdout",
     "output_type": "stream",
     "text": [
      "Iter 86.0, Minibatch Loss= 0.900387, Training Accuracy= 0.53125\n"
     ]
    },
    {
     "name": "stderr",
     "output_type": "stream",
     "text": [
      "\r",
      " 11%|███████▏                                                         | 87/782 [02:12<17:06,  1.48s/it]"
     ]
    },
    {
     "name": "stdout",
     "output_type": "stream",
     "text": [
      "Iter 87.0, Minibatch Loss= 0.862390, Training Accuracy= 0.54688\n"
     ]
    },
    {
     "name": "stderr",
     "output_type": "stream",
     "text": [
      "\r",
      " 11%|███████▎                                                         | 88/782 [02:14<16:55,  1.46s/it]"
     ]
    },
    {
     "name": "stdout",
     "output_type": "stream",
     "text": [
      "Iter 88.0, Minibatch Loss= 1.052962, Training Accuracy= 0.53125\n"
     ]
    },
    {
     "name": "stderr",
     "output_type": "stream",
     "text": [
      "\r",
      " 11%|███████▍                                                         | 89/782 [02:15<16:50,  1.46s/it]"
     ]
    },
    {
     "name": "stdout",
     "output_type": "stream",
     "text": [
      "Iter 89.0, Minibatch Loss= 1.002772, Training Accuracy= 0.35938\n"
     ]
    },
    {
     "name": "stderr",
     "output_type": "stream",
     "text": [
      "\r",
      " 12%|███████▍                                                         | 90/782 [02:17<17:03,  1.48s/it]"
     ]
    },
    {
     "name": "stdout",
     "output_type": "stream",
     "text": [
      "Iter 90.0, Minibatch Loss= 0.945459, Training Accuracy= 0.53125\n"
     ]
    },
    {
     "name": "stderr",
     "output_type": "stream",
     "text": [
      "\r",
      " 12%|███████▌                                                         | 91/782 [02:18<16:55,  1.47s/it]"
     ]
    },
    {
     "name": "stdout",
     "output_type": "stream",
     "text": [
      "Iter 91.0, Minibatch Loss= 0.941711, Training Accuracy= 0.53125\n"
     ]
    },
    {
     "name": "stderr",
     "output_type": "stream",
     "text": [
      "\r",
      " 12%|███████▋                                                         | 92/782 [02:19<16:42,  1.45s/it]"
     ]
    },
    {
     "name": "stdout",
     "output_type": "stream",
     "text": [
      "Iter 92.0, Minibatch Loss= 0.937480, Training Accuracy= 0.53125\n"
     ]
    },
    {
     "name": "stderr",
     "output_type": "stream",
     "text": [
      "\r",
      " 12%|███████▋                                                         | 93/782 [02:21<16:29,  1.44s/it]"
     ]
    },
    {
     "name": "stdout",
     "output_type": "stream",
     "text": [
      "Iter 93.0, Minibatch Loss= 0.931097, Training Accuracy= 0.53125\n"
     ]
    },
    {
     "name": "stderr",
     "output_type": "stream",
     "text": [
      "\r",
      " 12%|███████▊                                                         | 94/782 [02:22<16:19,  1.42s/it]"
     ]
    },
    {
     "name": "stdout",
     "output_type": "stream",
     "text": [
      "Iter 94.0, Minibatch Loss= 0.920570, Training Accuracy= 0.53125\n"
     ]
    },
    {
     "name": "stderr",
     "output_type": "stream",
     "text": [
      "\r",
      " 12%|███████▉                                                         | 95/782 [02:24<16:38,  1.45s/it]"
     ]
    },
    {
     "name": "stdout",
     "output_type": "stream",
     "text": [
      "Iter 95.0, Minibatch Loss= 0.901146, Training Accuracy= 0.53125\n"
     ]
    },
    {
     "name": "stderr",
     "output_type": "stream",
     "text": [
      "\r",
      " 12%|███████▉                                                         | 96/782 [02:25<16:24,  1.43s/it]"
     ]
    },
    {
     "name": "stdout",
     "output_type": "stream",
     "text": [
      "Iter 96.0, Minibatch Loss= 0.886269, Training Accuracy= 0.53125\n"
     ]
    },
    {
     "name": "stderr",
     "output_type": "stream",
     "text": [
      "\r",
      " 12%|████████                                                         | 97/782 [02:27<16:24,  1.44s/it]"
     ]
    },
    {
     "name": "stdout",
     "output_type": "stream",
     "text": [
      "Iter 97.0, Minibatch Loss= 1.227095, Training Accuracy= 0.43750\n"
     ]
    },
    {
     "name": "stderr",
     "output_type": "stream",
     "text": [
      "\r",
      " 13%|████████▏                                                        | 98/782 [02:28<16:11,  1.42s/it]"
     ]
    },
    {
     "name": "stdout",
     "output_type": "stream",
     "text": [
      "Iter 98.0, Minibatch Loss= 1.119162, Training Accuracy= 0.29688\n"
     ]
    },
    {
     "name": "stderr",
     "output_type": "stream",
     "text": [
      "\r",
      " 13%|████████▏                                                        | 99/782 [02:29<16:10,  1.42s/it]"
     ]
    },
    {
     "name": "stdout",
     "output_type": "stream",
     "text": [
      "Iter 99.0, Minibatch Loss= 1.059156, Training Accuracy= 0.53125\n"
     ]
    },
    {
     "name": "stderr",
     "output_type": "stream",
     "text": [
      "\r",
      " 13%|████████▏                                                       | 100/782 [02:31<16:33,  1.46s/it]"
     ]
    },
    {
     "name": "stdout",
     "output_type": "stream",
     "text": [
      "Iter 100.0, Minibatch Loss= 0.987850, Training Accuracy= 0.53125\n"
     ]
    },
    {
     "name": "stderr",
     "output_type": "stream",
     "text": [
      "\r",
      " 13%|████████▎                                                       | 101/782 [02:32<16:19,  1.44s/it]"
     ]
    },
    {
     "name": "stdout",
     "output_type": "stream",
     "text": [
      "Iter 101.0, Minibatch Loss= 0.960641, Training Accuracy= 0.53125\n"
     ]
    },
    {
     "name": "stderr",
     "output_type": "stream",
     "text": [
      "\r",
      " 13%|████████▎                                                       | 102/782 [02:34<16:23,  1.45s/it]"
     ]
    },
    {
     "name": "stdout",
     "output_type": "stream",
     "text": [
      "Iter 102.0, Minibatch Loss= 0.954171, Training Accuracy= 0.53125\n"
     ]
    },
    {
     "name": "stderr",
     "output_type": "stream",
     "text": [
      "\r",
      " 13%|████████▍                                                       | 103/782 [02:35<16:32,  1.46s/it]"
     ]
    },
    {
     "name": "stdout",
     "output_type": "stream",
     "text": [
      "Iter 103.0, Minibatch Loss= 0.953456, Training Accuracy= 0.53125\n"
     ]
    },
    {
     "name": "stderr",
     "output_type": "stream",
     "text": [
      "\r",
      " 13%|████████▌                                                       | 104/782 [02:37<16:01,  1.42s/it]"
     ]
    },
    {
     "name": "stdout",
     "output_type": "stream",
     "text": [
      "Iter 104.0, Minibatch Loss= 0.953068, Training Accuracy= 0.53125\n"
     ]
    },
    {
     "name": "stderr",
     "output_type": "stream",
     "text": [
      "\r",
      " 13%|████████▌                                                       | 105/782 [02:38<16:30,  1.46s/it]"
     ]
    },
    {
     "name": "stdout",
     "output_type": "stream",
     "text": [
      "Iter 105.0, Minibatch Loss= 0.952685, Training Accuracy= 0.53125\n"
     ]
    },
    {
     "name": "stderr",
     "output_type": "stream",
     "text": [
      "\r",
      " 14%|████████▋                                                       | 106/782 [02:40<16:32,  1.47s/it]"
     ]
    },
    {
     "name": "stdout",
     "output_type": "stream",
     "text": [
      "Iter 106.0, Minibatch Loss= 0.952299, Training Accuracy= 0.53125\n"
     ]
    },
    {
     "name": "stderr",
     "output_type": "stream",
     "text": [
      "\r",
      " 14%|████████▊                                                       | 107/782 [02:41<16:23,  1.46s/it]"
     ]
    },
    {
     "name": "stdout",
     "output_type": "stream",
     "text": [
      "Iter 107.0, Minibatch Loss= 0.951909, Training Accuracy= 0.53125\n"
     ]
    },
    {
     "name": "stderr",
     "output_type": "stream",
     "text": [
      "\r",
      " 14%|████████▊                                                       | 108/782 [02:43<16:37,  1.48s/it]"
     ]
    },
    {
     "name": "stdout",
     "output_type": "stream",
     "text": [
      "Iter 108.0, Minibatch Loss= 0.951511, Training Accuracy= 0.53125\n"
     ]
    },
    {
     "name": "stderr",
     "output_type": "stream",
     "text": [
      "\r",
      " 14%|████████▉                                                       | 109/782 [02:44<16:19,  1.45s/it]"
     ]
    },
    {
     "name": "stdout",
     "output_type": "stream",
     "text": [
      "Iter 109.0, Minibatch Loss= 0.951103, Training Accuracy= 0.53125\n"
     ]
    },
    {
     "name": "stderr",
     "output_type": "stream",
     "text": [
      "\r",
      " 14%|█████████                                                       | 110/782 [02:46<16:45,  1.50s/it]"
     ]
    },
    {
     "name": "stdout",
     "output_type": "stream",
     "text": [
      "Iter 110.0, Minibatch Loss= 0.950681, Training Accuracy= 0.53125\n"
     ]
    },
    {
     "name": "stderr",
     "output_type": "stream",
     "text": [
      "\r",
      " 14%|█████████                                                       | 111/782 [02:47<17:03,  1.52s/it]"
     ]
    },
    {
     "name": "stdout",
     "output_type": "stream",
     "text": [
      "Iter 111.0, Minibatch Loss= 0.950244, Training Accuracy= 0.53125\n"
     ]
    },
    {
     "name": "stderr",
     "output_type": "stream",
     "text": [
      "\r",
      " 14%|█████████▏                                                      | 112/782 [02:49<16:53,  1.51s/it]"
     ]
    },
    {
     "name": "stdout",
     "output_type": "stream",
     "text": [
      "Iter 112.0, Minibatch Loss= 0.949790, Training Accuracy= 0.53125\n"
     ]
    },
    {
     "name": "stderr",
     "output_type": "stream",
     "text": [
      "\r",
      " 14%|█████████▏                                                      | 113/782 [02:50<17:51,  1.60s/it]"
     ]
    },
    {
     "name": "stdout",
     "output_type": "stream",
     "text": [
      "Iter 113.0, Minibatch Loss= 0.949314, Training Accuracy= 0.53125\n"
     ]
    },
    {
     "name": "stderr",
     "output_type": "stream",
     "text": [
      "\r",
      " 15%|█████████▎                                                      | 114/782 [02:52<17:55,  1.61s/it]"
     ]
    },
    {
     "name": "stdout",
     "output_type": "stream",
     "text": [
      "Iter 114.0, Minibatch Loss= 0.948813, Training Accuracy= 0.53125\n"
     ]
    },
    {
     "name": "stderr",
     "output_type": "stream",
     "text": [
      "\r",
      " 15%|█████████▍                                                      | 115/782 [02:54<17:50,  1.60s/it]"
     ]
    },
    {
     "name": "stdout",
     "output_type": "stream",
     "text": [
      "Iter 115.0, Minibatch Loss= 0.948282, Training Accuracy= 0.53125\n"
     ]
    },
    {
     "name": "stderr",
     "output_type": "stream",
     "text": [
      "\r",
      " 15%|█████████▍                                                      | 116/782 [02:55<17:31,  1.58s/it]"
     ]
    },
    {
     "name": "stdout",
     "output_type": "stream",
     "text": [
      "Iter 116.0, Minibatch Loss= 0.947715, Training Accuracy= 0.53125\n"
     ]
    },
    {
     "name": "stderr",
     "output_type": "stream",
     "text": [
      "\r",
      " 15%|█████████▌                                                      | 117/782 [02:57<17:05,  1.54s/it]"
     ]
    },
    {
     "name": "stdout",
     "output_type": "stream",
     "text": [
      "Iter 117.0, Minibatch Loss= 0.947101, Training Accuracy= 0.53125\n"
     ]
    },
    {
     "name": "stderr",
     "output_type": "stream",
     "text": [
      "\r",
      " 15%|█████████▋                                                      | 118/782 [02:58<17:05,  1.54s/it]"
     ]
    },
    {
     "name": "stdout",
     "output_type": "stream",
     "text": [
      "Iter 118.0, Minibatch Loss= 0.946425, Training Accuracy= 0.53125\n"
     ]
    },
    {
     "name": "stderr",
     "output_type": "stream",
     "text": [
      "\r",
      " 15%|█████████▋                                                      | 119/782 [03:00<16:50,  1.52s/it]"
     ]
    },
    {
     "name": "stdout",
     "output_type": "stream",
     "text": [
      "Iter 119.0, Minibatch Loss= 0.945666, Training Accuracy= 0.53125\n"
     ]
    },
    {
     "name": "stderr",
     "output_type": "stream",
     "text": [
      "\r",
      " 15%|█████████▊                                                      | 120/782 [03:01<16:51,  1.53s/it]"
     ]
    },
    {
     "name": "stdout",
     "output_type": "stream",
     "text": [
      "Iter 120.0, Minibatch Loss= 0.944792, Training Accuracy= 0.53125\n"
     ]
    },
    {
     "name": "stderr",
     "output_type": "stream",
     "text": [
      "\r",
      " 15%|█████████▉                                                      | 121/782 [03:03<16:57,  1.54s/it]"
     ]
    },
    {
     "name": "stdout",
     "output_type": "stream",
     "text": [
      "Iter 121.0, Minibatch Loss= 0.943754, Training Accuracy= 0.53125\n"
     ]
    },
    {
     "name": "stderr",
     "output_type": "stream",
     "text": [
      "\r",
      " 16%|█████████▉                                                      | 122/782 [03:04<16:57,  1.54s/it]"
     ]
    },
    {
     "name": "stdout",
     "output_type": "stream",
     "text": [
      "Iter 122.0, Minibatch Loss= 0.942476, Training Accuracy= 0.53125\n"
     ]
    },
    {
     "name": "stderr",
     "output_type": "stream",
     "text": [
      "\r",
      " 16%|██████████                                                      | 123/782 [03:06<17:16,  1.57s/it]"
     ]
    },
    {
     "name": "stdout",
     "output_type": "stream",
     "text": [
      "Iter 123.0, Minibatch Loss= 0.940834, Training Accuracy= 0.53125\n"
     ]
    },
    {
     "name": "stderr",
     "output_type": "stream",
     "text": [
      "\r",
      " 16%|██████████▏                                                     | 124/782 [03:08<17:12,  1.57s/it]"
     ]
    },
    {
     "name": "stdout",
     "output_type": "stream",
     "text": [
      "Iter 124.0, Minibatch Loss= 0.938617, Training Accuracy= 0.53125\n"
     ]
    },
    {
     "name": "stderr",
     "output_type": "stream",
     "text": [
      "\r",
      " 16%|██████████▏                                                     | 125/782 [03:09<17:22,  1.59s/it]"
     ]
    },
    {
     "name": "stdout",
     "output_type": "stream",
     "text": [
      "Iter 125.0, Minibatch Loss= 1.018488, Training Accuracy= 0.50781\n"
     ]
    },
    {
     "name": "stderr",
     "output_type": "stream",
     "text": [
      "\r",
      " 16%|██████████▎                                                     | 126/782 [03:11<17:23,  1.59s/it]"
     ]
    },
    {
     "name": "stdout",
     "output_type": "stream",
     "text": [
      "Iter 126.0, Minibatch Loss= 1.041809, Training Accuracy= 0.50781\n"
     ]
    },
    {
     "name": "stderr",
     "output_type": "stream",
     "text": [
      "\r",
      " 16%|██████████▍                                                     | 127/782 [03:12<16:47,  1.54s/it]"
     ]
    },
    {
     "name": "stdout",
     "output_type": "stream",
     "text": [
      "Iter 127.0, Minibatch Loss= 0.996499, Training Accuracy= 0.50781\n"
     ]
    },
    {
     "name": "stderr",
     "output_type": "stream",
     "text": [
      "\r",
      " 16%|██████████▍                                                     | 128/782 [03:14<16:31,  1.52s/it]"
     ]
    },
    {
     "name": "stdout",
     "output_type": "stream",
     "text": [
      "Iter 128.0, Minibatch Loss= 0.992916, Training Accuracy= 0.51562\n"
     ]
    },
    {
     "name": "stderr",
     "output_type": "stream",
     "text": [
      "\r",
      " 16%|██████████▌                                                     | 129/782 [03:15<16:16,  1.50s/it]"
     ]
    },
    {
     "name": "stdout",
     "output_type": "stream",
     "text": [
      "Iter 129.0, Minibatch Loss= 0.989512, Training Accuracy= 0.51562\n"
     ]
    },
    {
     "name": "stderr",
     "output_type": "stream",
     "text": [
      "\r",
      " 17%|██████████▋                                                     | 130/782 [03:16<16:00,  1.47s/it]"
     ]
    },
    {
     "name": "stdout",
     "output_type": "stream",
     "text": [
      "Iter 130.0, Minibatch Loss= 0.986134, Training Accuracy= 0.51562\n"
     ]
    },
    {
     "name": "stderr",
     "output_type": "stream",
     "text": [
      "\r",
      " 17%|██████████▋                                                     | 131/782 [03:18<16:17,  1.50s/it]"
     ]
    },
    {
     "name": "stdout",
     "output_type": "stream",
     "text": [
      "Iter 131.0, Minibatch Loss= 0.982613, Training Accuracy= 0.51562\n"
     ]
    },
    {
     "name": "stderr",
     "output_type": "stream",
     "text": [
      "\r",
      " 17%|██████████▊                                                     | 132/782 [03:19<16:03,  1.48s/it]"
     ]
    },
    {
     "name": "stdout",
     "output_type": "stream",
     "text": [
      "Iter 132.0, Minibatch Loss= 0.979106, Training Accuracy= 0.51562\n"
     ]
    },
    {
     "name": "stderr",
     "output_type": "stream",
     "text": [
      "\r",
      " 17%|██████████▉                                                     | 133/782 [03:21<15:56,  1.47s/it]"
     ]
    },
    {
     "name": "stdout",
     "output_type": "stream",
     "text": [
      "Iter 133.0, Minibatch Loss= 0.979235, Training Accuracy= 0.51562\n"
     ]
    },
    {
     "name": "stderr",
     "output_type": "stream",
     "text": [
      "\r",
      " 17%|██████████▉                                                     | 134/782 [03:22<16:06,  1.49s/it]"
     ]
    },
    {
     "name": "stdout",
     "output_type": "stream",
     "text": [
      "Iter 134.0, Minibatch Loss= 1.017482, Training Accuracy= 0.50781\n"
     ]
    },
    {
     "name": "stderr",
     "output_type": "stream",
     "text": [
      "\r",
      " 17%|███████████                                                     | 135/782 [03:24<15:54,  1.47s/it]"
     ]
    },
    {
     "name": "stdout",
     "output_type": "stream",
     "text": [
      "Iter 135.0, Minibatch Loss= 1.089793, Training Accuracy= 0.51562\n"
     ]
    },
    {
     "name": "stderr",
     "output_type": "stream",
     "text": [
      "\r",
      " 17%|███████████▏                                                    | 136/782 [03:25<15:43,  1.46s/it]"
     ]
    },
    {
     "name": "stdout",
     "output_type": "stream",
     "text": [
      "Iter 136.0, Minibatch Loss= 1.016865, Training Accuracy= 0.51562\n"
     ]
    },
    {
     "name": "stderr",
     "output_type": "stream",
     "text": [
      "\r",
      " 18%|███████████▏                                                    | 137/782 [03:27<15:30,  1.44s/it]"
     ]
    },
    {
     "name": "stdout",
     "output_type": "stream",
     "text": [
      "Iter 137.0, Minibatch Loss= 1.007012, Training Accuracy= 0.51562\n"
     ]
    },
    {
     "name": "stderr",
     "output_type": "stream",
     "text": [
      "\r",
      " 18%|███████████▎                                                    | 138/782 [03:28<15:23,  1.43s/it]"
     ]
    },
    {
     "name": "stdout",
     "output_type": "stream",
     "text": [
      "Iter 138.0, Minibatch Loss= 1.005851, Training Accuracy= 0.51562\n"
     ]
    },
    {
     "name": "stderr",
     "output_type": "stream",
     "text": [
      "\r",
      " 18%|███████████▍                                                    | 139/782 [03:30<15:49,  1.48s/it]"
     ]
    },
    {
     "name": "stdout",
     "output_type": "stream",
     "text": [
      "Iter 139.0, Minibatch Loss= 1.002010, Training Accuracy= 0.51562\n"
     ]
    },
    {
     "name": "stderr",
     "output_type": "stream",
     "text": [
      "\r",
      " 18%|███████████▍                                                    | 140/782 [03:31<15:37,  1.46s/it]"
     ]
    },
    {
     "name": "stdout",
     "output_type": "stream",
     "text": [
      "Iter 140.0, Minibatch Loss= 1.000495, Training Accuracy= 0.51562\n"
     ]
    },
    {
     "name": "stderr",
     "output_type": "stream",
     "text": [
      "\r",
      " 18%|███████████▌                                                    | 141/782 [03:33<15:38,  1.46s/it]"
     ]
    },
    {
     "name": "stdout",
     "output_type": "stream",
     "text": [
      "Iter 141.0, Minibatch Loss= 0.999097, Training Accuracy= 0.51562\n"
     ]
    },
    {
     "name": "stderr",
     "output_type": "stream",
     "text": [
      "\r",
      " 18%|███████████▌                                                    | 142/782 [03:34<15:45,  1.48s/it]"
     ]
    },
    {
     "name": "stdout",
     "output_type": "stream",
     "text": [
      "Iter 142.0, Minibatch Loss= 0.998119, Training Accuracy= 0.51562\n"
     ]
    },
    {
     "name": "stderr",
     "output_type": "stream",
     "text": [
      "\r",
      " 18%|███████████▋                                                    | 143/782 [03:35<15:19,  1.44s/it]"
     ]
    },
    {
     "name": "stdout",
     "output_type": "stream",
     "text": [
      "Iter 143.0, Minibatch Loss= 0.997217, Training Accuracy= 0.51562\n"
     ]
    },
    {
     "name": "stderr",
     "output_type": "stream",
     "text": [
      "\r",
      " 18%|███████████▊                                                    | 144/782 [03:37<16:08,  1.52s/it]"
     ]
    },
    {
     "name": "stdout",
     "output_type": "stream",
     "text": [
      "Iter 144.0, Minibatch Loss= 0.996334, Training Accuracy= 0.51562\n"
     ]
    },
    {
     "name": "stderr",
     "output_type": "stream",
     "text": [
      "\r",
      " 19%|███████████▊                                                    | 145/782 [03:39<16:35,  1.56s/it]"
     ]
    },
    {
     "name": "stdout",
     "output_type": "stream",
     "text": [
      "Iter 145.0, Minibatch Loss= 0.995402, Training Accuracy= 0.51562\n"
     ]
    },
    {
     "name": "stderr",
     "output_type": "stream",
     "text": [
      "\r",
      " 19%|███████████▉                                                    | 146/782 [03:40<16:40,  1.57s/it]"
     ]
    },
    {
     "name": "stdout",
     "output_type": "stream",
     "text": [
      "Iter 146.0, Minibatch Loss= 0.994374, Training Accuracy= 0.51562\n"
     ]
    },
    {
     "name": "stderr",
     "output_type": "stream",
     "text": [
      "\r",
      " 19%|████████████                                                    | 147/782 [03:42<16:51,  1.59s/it]"
     ]
    },
    {
     "name": "stdout",
     "output_type": "stream",
     "text": [
      "Iter 147.0, Minibatch Loss= 0.993196, Training Accuracy= 0.51562\n"
     ]
    },
    {
     "name": "stderr",
     "output_type": "stream",
     "text": [
      "\r",
      " 19%|████████████                                                    | 148/782 [03:44<16:25,  1.55s/it]"
     ]
    },
    {
     "name": "stdout",
     "output_type": "stream",
     "text": [
      "Iter 148.0, Minibatch Loss= 0.991804, Training Accuracy= 0.51562\n"
     ]
    },
    {
     "name": "stderr",
     "output_type": "stream",
     "text": [
      "\r",
      " 19%|████████████▏                                                   | 149/782 [03:45<17:02,  1.61s/it]"
     ]
    },
    {
     "name": "stdout",
     "output_type": "stream",
     "text": [
      "Iter 149.0, Minibatch Loss= 0.990103, Training Accuracy= 0.51562\n"
     ]
    },
    {
     "name": "stderr",
     "output_type": "stream",
     "text": [
      "\r",
      " 19%|████████████▎                                                   | 150/782 [03:47<16:44,  1.59s/it]"
     ]
    },
    {
     "name": "stdout",
     "output_type": "stream",
     "text": [
      "Iter 150.0, Minibatch Loss= 0.987960, Training Accuracy= 0.51562\n"
     ]
    },
    {
     "name": "stderr",
     "output_type": "stream",
     "text": [
      "\r",
      " 19%|████████████▎                                                   | 151/782 [03:48<16:17,  1.55s/it]"
     ]
    },
    {
     "name": "stdout",
     "output_type": "stream",
     "text": [
      "Iter 151.0, Minibatch Loss= 0.985180, Training Accuracy= 0.51562\n"
     ]
    },
    {
     "name": "stderr",
     "output_type": "stream",
     "text": [
      "\r",
      " 19%|████████████▍                                                   | 152/782 [03:50<16:17,  1.55s/it]"
     ]
    },
    {
     "name": "stdout",
     "output_type": "stream",
     "text": [
      "Iter 152.0, Minibatch Loss= 0.981483, Training Accuracy= 0.51562\n"
     ]
    },
    {
     "name": "stderr",
     "output_type": "stream",
     "text": [
      "\r",
      " 20%|████████████▌                                                   | 153/782 [03:51<16:07,  1.54s/it]"
     ]
    },
    {
     "name": "stdout",
     "output_type": "stream",
     "text": [
      "Iter 153.0, Minibatch Loss= 0.976481, Training Accuracy= 0.51562\n"
     ]
    },
    {
     "name": "stderr",
     "output_type": "stream",
     "text": [
      "\r",
      " 20%|████████████▌                                                   | 154/782 [03:53<16:01,  1.53s/it]"
     ]
    },
    {
     "name": "stdout",
     "output_type": "stream",
     "text": [
      "Iter 154.0, Minibatch Loss= 0.969581, Training Accuracy= 0.51562\n"
     ]
    },
    {
     "name": "stderr",
     "output_type": "stream",
     "text": [
      "\r",
      " 20%|████████████▋                                                   | 155/782 [03:54<15:59,  1.53s/it]"
     ]
    },
    {
     "name": "stdout",
     "output_type": "stream",
     "text": [
      "Iter 155.0, Minibatch Loss= 0.959383, Training Accuracy= 0.51562\n"
     ]
    },
    {
     "name": "stderr",
     "output_type": "stream",
     "text": [
      "\r",
      " 20%|████████████▊                                                   | 156/782 [03:56<16:12,  1.55s/it]"
     ]
    },
    {
     "name": "stdout",
     "output_type": "stream",
     "text": [
      "Iter 156.0, Minibatch Loss= 0.941549, Training Accuracy= 0.51562\n"
     ]
    },
    {
     "name": "stderr",
     "output_type": "stream",
     "text": [
      "\r",
      " 20%|████████████▊                                                   | 157/782 [03:58<16:13,  1.56s/it]"
     ]
    },
    {
     "name": "stdout",
     "output_type": "stream",
     "text": [
      "Iter 157.0, Minibatch Loss= 0.908810, Training Accuracy= 0.54688\n"
     ]
    },
    {
     "name": "stderr",
     "output_type": "stream",
     "text": [
      "\r",
      " 20%|████████████▉                                                   | 158/782 [03:59<15:43,  1.51s/it]"
     ]
    },
    {
     "name": "stdout",
     "output_type": "stream",
     "text": [
      "Iter 158.0, Minibatch Loss= 0.923158, Training Accuracy= 0.51562\n"
     ]
    },
    {
     "name": "stderr",
     "output_type": "stream",
     "text": [
      "\r",
      " 20%|█████████████                                                   | 159/782 [04:00<15:26,  1.49s/it]"
     ]
    },
    {
     "name": "stdout",
     "output_type": "stream",
     "text": [
      "Iter 159.0, Minibatch Loss= 1.114439, Training Accuracy= 0.50781\n"
     ]
    },
    {
     "name": "stderr",
     "output_type": "stream",
     "text": [
      "\r",
      " 20%|█████████████                                                   | 160/782 [04:02<15:13,  1.47s/it]"
     ]
    },
    {
     "name": "stdout",
     "output_type": "stream",
     "text": [
      "Iter 160.0, Minibatch Loss= 1.024383, Training Accuracy= 0.42188\n"
     ]
    },
    {
     "name": "stderr",
     "output_type": "stream",
     "text": [
      "\r",
      " 21%|█████████████▏                                                  | 161/782 [04:03<15:04,  1.46s/it]"
     ]
    },
    {
     "name": "stdout",
     "output_type": "stream",
     "text": [
      "Iter 161.0, Minibatch Loss= 1.040404, Training Accuracy= 0.50781\n"
     ]
    },
    {
     "name": "stderr",
     "output_type": "stream",
     "text": [
      "\r",
      " 21%|█████████████▎                                                  | 162/782 [04:05<15:18,  1.48s/it]"
     ]
    },
    {
     "name": "stdout",
     "output_type": "stream",
     "text": [
      "Iter 162.0, Minibatch Loss= 1.002096, Training Accuracy= 0.50781\n"
     ]
    },
    {
     "name": "stderr",
     "output_type": "stream",
     "text": [
      "\r",
      " 21%|█████████████▎                                                  | 163/782 [04:06<15:05,  1.46s/it]"
     ]
    },
    {
     "name": "stdout",
     "output_type": "stream",
     "text": [
      "Iter 163.0, Minibatch Loss= 0.995977, Training Accuracy= 0.51562\n"
     ]
    },
    {
     "name": "stderr",
     "output_type": "stream",
     "text": [
      "\r",
      " 21%|█████████████▍                                                  | 164/782 [04:08<15:12,  1.48s/it]"
     ]
    },
    {
     "name": "stdout",
     "output_type": "stream",
     "text": [
      "Iter 164.0, Minibatch Loss= 0.994704, Training Accuracy= 0.51562\n"
     ]
    },
    {
     "name": "stderr",
     "output_type": "stream",
     "text": [
      "\r",
      " 21%|█████████████▌                                                  | 165/782 [04:09<15:41,  1.53s/it]"
     ]
    },
    {
     "name": "stdout",
     "output_type": "stream",
     "text": [
      "Iter 165.0, Minibatch Loss= 0.993718, Training Accuracy= 0.50781\n"
     ]
    },
    {
     "name": "stderr",
     "output_type": "stream",
     "text": [
      "\r",
      " 21%|█████████████▌                                                  | 166/782 [04:11<15:23,  1.50s/it]"
     ]
    },
    {
     "name": "stdout",
     "output_type": "stream",
     "text": [
      "Iter 166.0, Minibatch Loss= 0.992815, Training Accuracy= 0.50781\n"
     ]
    },
    {
     "name": "stderr",
     "output_type": "stream",
     "text": [
      "\r",
      " 21%|█████████████▋                                                  | 167/782 [04:12<15:09,  1.48s/it]"
     ]
    },
    {
     "name": "stdout",
     "output_type": "stream",
     "text": [
      "Iter 167.0, Minibatch Loss= 0.991962, Training Accuracy= 0.50781\n"
     ]
    },
    {
     "name": "stderr",
     "output_type": "stream",
     "text": [
      "\r",
      " 21%|█████████████▋                                                  | 168/782 [04:14<14:53,  1.46s/it]"
     ]
    },
    {
     "name": "stdout",
     "output_type": "stream",
     "text": [
      "Iter 168.0, Minibatch Loss= 0.991136, Training Accuracy= 0.51562\n"
     ]
    },
    {
     "name": "stderr",
     "output_type": "stream",
     "text": [
      "\r",
      " 22%|█████████████▊                                                  | 169/782 [04:15<14:46,  1.45s/it]"
     ]
    },
    {
     "name": "stdout",
     "output_type": "stream",
     "text": [
      "Iter 169.0, Minibatch Loss= 0.990323, Training Accuracy= 0.51562\n"
     ]
    },
    {
     "name": "stderr",
     "output_type": "stream",
     "text": [
      "\r",
      " 22%|█████████████▉                                                  | 170/782 [04:17<15:00,  1.47s/it]"
     ]
    },
    {
     "name": "stdout",
     "output_type": "stream",
     "text": [
      "Iter 170.0, Minibatch Loss= 0.989509, Training Accuracy= 0.52344\n"
     ]
    },
    {
     "name": "stderr",
     "output_type": "stream",
     "text": [
      "\r",
      " 22%|█████████████▉                                                  | 171/782 [04:18<14:45,  1.45s/it]"
     ]
    },
    {
     "name": "stdout",
     "output_type": "stream",
     "text": [
      "Iter 171.0, Minibatch Loss= 0.988680, Training Accuracy= 0.52344\n"
     ]
    },
    {
     "name": "stderr",
     "output_type": "stream",
     "text": [
      "\r",
      " 22%|██████████████                                                  | 172/782 [04:19<14:36,  1.44s/it]"
     ]
    },
    {
     "name": "stdout",
     "output_type": "stream",
     "text": [
      "Iter 172.0, Minibatch Loss= 0.987825, Training Accuracy= 0.52344\n"
     ]
    },
    {
     "name": "stderr",
     "output_type": "stream",
     "text": [
      "\r",
      " 22%|██████████████▏                                                 | 173/782 [04:21<14:26,  1.42s/it]"
     ]
    },
    {
     "name": "stdout",
     "output_type": "stream",
     "text": [
      "Iter 173.0, Minibatch Loss= 0.986930, Training Accuracy= 0.52344\n"
     ]
    },
    {
     "name": "stderr",
     "output_type": "stream",
     "text": [
      "\r",
      " 22%|██████████████▏                                                 | 174/782 [04:22<14:13,  1.40s/it]"
     ]
    },
    {
     "name": "stdout",
     "output_type": "stream",
     "text": [
      "Iter 174.0, Minibatch Loss= 0.985979, Training Accuracy= 0.52344\n"
     ]
    },
    {
     "name": "stderr",
     "output_type": "stream",
     "text": [
      "\r",
      " 22%|██████████████▎                                                 | 175/782 [04:24<14:35,  1.44s/it]"
     ]
    },
    {
     "name": "stdout",
     "output_type": "stream",
     "text": [
      "Iter 175.0, Minibatch Loss= 0.984954, Training Accuracy= 0.52344\n"
     ]
    },
    {
     "name": "stderr",
     "output_type": "stream",
     "text": [
      "\r",
      " 23%|██████████████▍                                                 | 176/782 [04:25<14:22,  1.42s/it]"
     ]
    },
    {
     "name": "stdout",
     "output_type": "stream",
     "text": [
      "Iter 176.0, Minibatch Loss= 0.983830, Training Accuracy= 0.52344\n"
     ]
    },
    {
     "name": "stderr",
     "output_type": "stream",
     "text": [
      "\r",
      " 23%|██████████████▍                                                 | 177/782 [04:26<14:16,  1.42s/it]"
     ]
    },
    {
     "name": "stdout",
     "output_type": "stream",
     "text": [
      "Iter 177.0, Minibatch Loss= 0.982576, Training Accuracy= 0.52344\n"
     ]
    },
    {
     "name": "stderr",
     "output_type": "stream",
     "text": [
      "\r",
      " 23%|██████████████▌                                                 | 178/782 [04:28<14:31,  1.44s/it]"
     ]
    },
    {
     "name": "stdout",
     "output_type": "stream",
     "text": [
      "Iter 178.0, Minibatch Loss= 0.981148, Training Accuracy= 0.52344\n"
     ]
    },
    {
     "name": "stderr",
     "output_type": "stream",
     "text": [
      "\r",
      " 23%|██████████████▋                                                 | 179/782 [04:29<14:03,  1.40s/it]"
     ]
    },
    {
     "name": "stdout",
     "output_type": "stream",
     "text": [
      "Iter 179.0, Minibatch Loss= 0.979483, Training Accuracy= 0.52344\n"
     ]
    },
    {
     "name": "stderr",
     "output_type": "stream",
     "text": [
      "\r",
      " 23%|██████████████▋                                                 | 180/782 [04:31<14:19,  1.43s/it]"
     ]
    },
    {
     "name": "stdout",
     "output_type": "stream",
     "text": [
      "Iter 180.0, Minibatch Loss= 0.977485, Training Accuracy= 0.52344\n"
     ]
    },
    {
     "name": "stderr",
     "output_type": "stream",
     "text": [
      "\r",
      " 23%|██████████████▊                                                 | 181/782 [04:32<14:15,  1.42s/it]"
     ]
    },
    {
     "name": "stdout",
     "output_type": "stream",
     "text": [
      "Iter 181.0, Minibatch Loss= 0.975003, Training Accuracy= 0.52344\n"
     ]
    },
    {
     "name": "stderr",
     "output_type": "stream",
     "text": [
      "\r",
      " 23%|██████████████▉                                                 | 182/782 [04:34<14:20,  1.43s/it]"
     ]
    },
    {
     "name": "stdout",
     "output_type": "stream",
     "text": [
      "Iter 182.0, Minibatch Loss= 0.971782, Training Accuracy= 0.52344\n"
     ]
    },
    {
     "name": "stderr",
     "output_type": "stream",
     "text": [
      "\r",
      " 23%|██████████████▉                                                 | 183/782 [04:35<14:41,  1.47s/it]"
     ]
    },
    {
     "name": "stdout",
     "output_type": "stream",
     "text": [
      "Iter 183.0, Minibatch Loss= 0.967361, Training Accuracy= 0.51562\n"
     ]
    },
    {
     "name": "stderr",
     "output_type": "stream",
     "text": [
      "\r",
      " 24%|███████████████                                                 | 184/782 [04:37<14:20,  1.44s/it]"
     ]
    },
    {
     "name": "stdout",
     "output_type": "stream",
     "text": [
      "Iter 184.0, Minibatch Loss= 0.960830, Training Accuracy= 0.51562\n"
     ]
    },
    {
     "name": "stderr",
     "output_type": "stream",
     "text": [
      "\r",
      " 24%|███████████████▏                                                | 185/782 [04:38<14:37,  1.47s/it]"
     ]
    },
    {
     "name": "stdout",
     "output_type": "stream",
     "text": [
      "Iter 185.0, Minibatch Loss= 0.950145, Training Accuracy= 0.51562\n"
     ]
    },
    {
     "name": "stderr",
     "output_type": "stream",
     "text": [
      "\r",
      " 24%|███████████████▏                                                | 186/782 [04:40<14:38,  1.47s/it]"
     ]
    },
    {
     "name": "stdout",
     "output_type": "stream",
     "text": [
      "Iter 186.0, Minibatch Loss= 0.929902, Training Accuracy= 0.52344\n"
     ]
    },
    {
     "name": "stderr",
     "output_type": "stream",
     "text": [
      "\r",
      " 24%|███████████████▎                                                | 187/782 [04:41<14:28,  1.46s/it]"
     ]
    },
    {
     "name": "stdout",
     "output_type": "stream",
     "text": [
      "Iter 187.0, Minibatch Loss= 0.882885, Training Accuracy= 0.57031\n"
     ]
    },
    {
     "name": "stderr",
     "output_type": "stream",
     "text": [
      "\r",
      " 24%|███████████████▍                                                | 188/782 [04:43<14:37,  1.48s/it]"
     ]
    },
    {
     "name": "stdout",
     "output_type": "stream",
     "text": [
      "Iter 188.0, Minibatch Loss= 0.804077, Training Accuracy= 0.67188\n"
     ]
    },
    {
     "name": "stderr",
     "output_type": "stream",
     "text": [
      "\r",
      " 24%|███████████████▍                                                | 189/782 [04:44<14:19,  1.45s/it]"
     ]
    },
    {
     "name": "stdout",
     "output_type": "stream",
     "text": [
      "Iter 189.0, Minibatch Loss= 1.314465, Training Accuracy= 0.21875\n"
     ]
    },
    {
     "name": "stderr",
     "output_type": "stream",
     "text": [
      "\r",
      " 24%|███████████████▌                                                | 190/782 [04:45<14:14,  1.44s/it]"
     ]
    },
    {
     "name": "stdout",
     "output_type": "stream",
     "text": [
      "Iter 190.0, Minibatch Loss= 1.779524, Training Accuracy= 0.32812\n"
     ]
    },
    {
     "name": "stderr",
     "output_type": "stream",
     "text": [
      "\r",
      " 24%|███████████████▋                                                | 191/782 [04:47<14:07,  1.43s/it]"
     ]
    },
    {
     "name": "stdout",
     "output_type": "stream",
     "text": [
      "Iter 191.0, Minibatch Loss= 2.710215, Training Accuracy= 0.21094\n"
     ]
    },
    {
     "name": "stderr",
     "output_type": "stream",
     "text": [
      "\r",
      " 25%|███████████████▋                                                | 192/782 [04:48<14:04,  1.43s/it]"
     ]
    },
    {
     "name": "stdout",
     "output_type": "stream",
     "text": [
      "Iter 192.0, Minibatch Loss= 1.520599, Training Accuracy= 0.37500\n"
     ]
    },
    {
     "name": "stderr",
     "output_type": "stream",
     "text": [
      "\r",
      " 25%|███████████████▊                                                | 193/782 [04:50<14:19,  1.46s/it]"
     ]
    },
    {
     "name": "stdout",
     "output_type": "stream",
     "text": [
      "Iter 193.0, Minibatch Loss= 1.196303, Training Accuracy= 0.50781\n"
     ]
    },
    {
     "name": "stderr",
     "output_type": "stream",
     "text": [
      "\r",
      " 25%|███████████████▉                                                | 194/782 [04:51<14:04,  1.44s/it]"
     ]
    },
    {
     "name": "stdout",
     "output_type": "stream",
     "text": [
      "Iter 194.0, Minibatch Loss= 1.117741, Training Accuracy= 0.32812\n"
     ]
    },
    {
     "name": "stderr",
     "output_type": "stream",
     "text": [
      "\r",
      " 25%|███████████████▉                                                | 195/782 [04:53<14:02,  1.44s/it]"
     ]
    },
    {
     "name": "stdout",
     "output_type": "stream",
     "text": [
      "Iter 195.0, Minibatch Loss= 1.113796, Training Accuracy= 0.50781\n"
     ]
    },
    {
     "name": "stderr",
     "output_type": "stream",
     "text": [
      "\r",
      " 25%|████████████████                                                | 196/782 [04:54<14:17,  1.46s/it]"
     ]
    },
    {
     "name": "stdout",
     "output_type": "stream",
     "text": [
      "Iter 196.0, Minibatch Loss= 1.000856, Training Accuracy= 0.51562\n"
     ]
    },
    {
     "name": "stderr",
     "output_type": "stream",
     "text": [
      "\r",
      " 25%|████████████████                                                | 197/782 [04:55<13:47,  1.42s/it]"
     ]
    },
    {
     "name": "stdout",
     "output_type": "stream",
     "text": [
      "Iter 197.0, Minibatch Loss= 0.986958, Training Accuracy= 0.51562\n"
     ]
    },
    {
     "name": "stderr",
     "output_type": "stream",
     "text": [
      "\r",
      " 25%|████████████████▏                                               | 198/782 [04:57<13:59,  1.44s/it]"
     ]
    },
    {
     "name": "stdout",
     "output_type": "stream",
     "text": [
      "Iter 198.0, Minibatch Loss= 0.981764, Training Accuracy= 0.51562\n"
     ]
    },
    {
     "name": "stderr",
     "output_type": "stream",
     "text": [
      "\r",
      " 25%|████████████████▎                                               | 199/782 [04:58<13:51,  1.43s/it]"
     ]
    },
    {
     "name": "stdout",
     "output_type": "stream",
     "text": [
      "Iter 199.0, Minibatch Loss= 0.976561, Training Accuracy= 0.51562\n"
     ]
    },
    {
     "name": "stderr",
     "output_type": "stream",
     "text": [
      "\r",
      " 26%|████████████████▎                                               | 200/782 [05:00<13:46,  1.42s/it]"
     ]
    },
    {
     "name": "stdout",
     "output_type": "stream",
     "text": [
      "Iter 200.0, Minibatch Loss= 0.970238, Training Accuracy= 0.51562\n"
     ]
    },
    {
     "name": "stderr",
     "output_type": "stream",
     "text": [
      "\r",
      " 26%|████████████████▍                                               | 201/782 [05:01<14:02,  1.45s/it]"
     ]
    },
    {
     "name": "stdout",
     "output_type": "stream",
     "text": [
      "Iter 201.0, Minibatch Loss= 0.961924, Training Accuracy= 0.51562\n"
     ]
    },
    {
     "name": "stderr",
     "output_type": "stream",
     "text": [
      "\r",
      " 26%|████████████████▌                                               | 202/782 [05:03<13:59,  1.45s/it]"
     ]
    },
    {
     "name": "stdout",
     "output_type": "stream",
     "text": [
      "Iter 202.0, Minibatch Loss= 0.950245, Training Accuracy= 0.51562\n"
     ]
    },
    {
     "name": "stderr",
     "output_type": "stream",
     "text": [
      "\r",
      " 26%|████████████████▌                                               | 203/782 [05:04<13:58,  1.45s/it]"
     ]
    },
    {
     "name": "stdout",
     "output_type": "stream",
     "text": [
      "Iter 203.0, Minibatch Loss= 0.936487, Training Accuracy= 0.51562\n"
     ]
    },
    {
     "name": "stderr",
     "output_type": "stream",
     "text": [
      "\r",
      " 26%|████████████████▋                                               | 204/782 [05:05<13:47,  1.43s/it]"
     ]
    },
    {
     "name": "stdout",
     "output_type": "stream",
     "text": [
      "Iter 204.0, Minibatch Loss= 1.120291, Training Accuracy= 0.50000\n"
     ]
    },
    {
     "name": "stderr",
     "output_type": "stream",
     "text": [
      "\r",
      " 26%|████████████████▊                                               | 205/782 [05:07<13:50,  1.44s/it]"
     ]
    },
    {
     "name": "stdout",
     "output_type": "stream",
     "text": [
      "Iter 205.0, Minibatch Loss= 0.996752, Training Accuracy= 0.51562\n"
     ]
    },
    {
     "name": "stderr",
     "output_type": "stream",
     "text": [
      "\r",
      " 26%|████████████████▊                                               | 206/782 [05:08<14:02,  1.46s/it]"
     ]
    },
    {
     "name": "stdout",
     "output_type": "stream",
     "text": [
      "Iter 206.0, Minibatch Loss= 0.981088, Training Accuracy= 0.51562\n"
     ]
    },
    {
     "name": "stderr",
     "output_type": "stream",
     "text": [
      "\r",
      " 26%|████████████████▉                                               | 207/782 [05:10<14:06,  1.47s/it]"
     ]
    },
    {
     "name": "stdout",
     "output_type": "stream",
     "text": [
      "Iter 207.0, Minibatch Loss= 0.974443, Training Accuracy= 0.51562\n"
     ]
    },
    {
     "name": "stderr",
     "output_type": "stream",
     "text": [
      "\r",
      " 27%|█████████████████                                               | 208/782 [05:11<13:44,  1.44s/it]"
     ]
    },
    {
     "name": "stdout",
     "output_type": "stream",
     "text": [
      "Iter 208.0, Minibatch Loss= 0.966894, Training Accuracy= 0.51562\n"
     ]
    },
    {
     "name": "stderr",
     "output_type": "stream",
     "text": [
      "\r",
      " 27%|█████████████████                                               | 209/782 [05:13<13:58,  1.46s/it]"
     ]
    },
    {
     "name": "stdout",
     "output_type": "stream",
     "text": [
      "Iter 209.0, Minibatch Loss= 0.956692, Training Accuracy= 0.51562\n"
     ]
    },
    {
     "name": "stderr",
     "output_type": "stream",
     "text": [
      "\r",
      " 27%|█████████████████▏                                              | 210/782 [05:14<14:04,  1.48s/it]"
     ]
    },
    {
     "name": "stdout",
     "output_type": "stream",
     "text": [
      "Iter 210.0, Minibatch Loss= 0.942742, Training Accuracy= 0.51562\n"
     ]
    },
    {
     "name": "stderr",
     "output_type": "stream",
     "text": [
      "\r",
      " 27%|█████████████████▎                                              | 211/782 [05:16<14:00,  1.47s/it]"
     ]
    },
    {
     "name": "stdout",
     "output_type": "stream",
     "text": [
      "Iter 211.0, Minibatch Loss= 0.924403, Training Accuracy= 0.53125\n"
     ]
    },
    {
     "name": "stderr",
     "output_type": "stream",
     "text": [
      "\r",
      " 27%|█████████████████▎                                              | 212/782 [05:17<13:55,  1.47s/it]"
     ]
    },
    {
     "name": "stdout",
     "output_type": "stream",
     "text": [
      "Iter 212.0, Minibatch Loss= 0.898814, Training Accuracy= 0.54688\n"
     ]
    },
    {
     "name": "stderr",
     "output_type": "stream",
     "text": [
      "\r",
      " 27%|█████████████████▍                                              | 213/782 [05:19<13:43,  1.45s/it]"
     ]
    },
    {
     "name": "stdout",
     "output_type": "stream",
     "text": [
      "Iter 213.0, Minibatch Loss= 0.977569, Training Accuracy= 0.43750\n"
     ]
    },
    {
     "name": "stderr",
     "output_type": "stream",
     "text": [
      "\r",
      " 27%|█████████████████▌                                              | 214/782 [05:20<13:37,  1.44s/it]"
     ]
    },
    {
     "name": "stdout",
     "output_type": "stream",
     "text": [
      "Iter 214.0, Minibatch Loss= 1.084405, Training Accuracy= 0.51562\n"
     ]
    },
    {
     "name": "stderr",
     "output_type": "stream",
     "text": [
      "\r",
      " 27%|█████████████████▌                                              | 215/782 [05:21<13:38,  1.44s/it]"
     ]
    },
    {
     "name": "stdout",
     "output_type": "stream",
     "text": [
      "Iter 215.0, Minibatch Loss= 0.989670, Training Accuracy= 0.51562\n"
     ]
    },
    {
     "name": "stderr",
     "output_type": "stream",
     "text": [
      "\r",
      " 28%|█████████████████▋                                              | 216/782 [05:23<13:33,  1.44s/it]"
     ]
    },
    {
     "name": "stdout",
     "output_type": "stream",
     "text": [
      "Iter 216.0, Minibatch Loss= 0.973055, Training Accuracy= 0.51562\n"
     ]
    },
    {
     "name": "stderr",
     "output_type": "stream",
     "text": [
      "\r",
      " 28%|█████████████████▊                                              | 217/782 [05:24<13:28,  1.43s/it]"
     ]
    },
    {
     "name": "stdout",
     "output_type": "stream",
     "text": [
      "Iter 217.0, Minibatch Loss= 0.966797, Training Accuracy= 0.51562\n"
     ]
    },
    {
     "name": "stderr",
     "output_type": "stream",
     "text": [
      "\r",
      " 28%|█████████████████▊                                              | 218/782 [05:26<13:23,  1.42s/it]"
     ]
    },
    {
     "name": "stdout",
     "output_type": "stream",
     "text": [
      "Iter 218.0, Minibatch Loss= 0.958345, Training Accuracy= 0.51562\n"
     ]
    },
    {
     "name": "stderr",
     "output_type": "stream",
     "text": [
      "\r",
      " 28%|█████████████████▉                                              | 219/782 [05:27<13:17,  1.42s/it]"
     ]
    },
    {
     "name": "stdout",
     "output_type": "stream",
     "text": [
      "Iter 219.0, Minibatch Loss= 0.949952, Training Accuracy= 0.51562\n"
     ]
    },
    {
     "name": "stderr",
     "output_type": "stream",
     "text": [
      "\r",
      " 28%|██████████████████                                              | 220/782 [05:28<13:05,  1.40s/it]"
     ]
    },
    {
     "name": "stdout",
     "output_type": "stream",
     "text": [
      "Iter 220.0, Minibatch Loss= 0.940545, Training Accuracy= 0.55469\n"
     ]
    },
    {
     "name": "stderr",
     "output_type": "stream",
     "text": [
      "\r",
      " 28%|██████████████████                                              | 221/782 [05:30<13:06,  1.40s/it]"
     ]
    },
    {
     "name": "stdout",
     "output_type": "stream",
     "text": [
      "Iter 221.0, Minibatch Loss= 0.995894, Training Accuracy= 0.51562\n"
     ]
    },
    {
     "name": "stderr",
     "output_type": "stream",
     "text": [
      "\r",
      " 28%|██████████████████▏                                             | 222/782 [05:31<13:08,  1.41s/it]"
     ]
    },
    {
     "name": "stdout",
     "output_type": "stream",
     "text": [
      "Iter 222.0, Minibatch Loss= 0.910412, Training Accuracy= 0.51562\n"
     ]
    },
    {
     "name": "stderr",
     "output_type": "stream",
     "text": [
      "\r",
      " 29%|██████████████████▎                                             | 223/782 [05:33<13:15,  1.42s/it]"
     ]
    },
    {
     "name": "stdout",
     "output_type": "stream",
     "text": [
      "Iter 223.0, Minibatch Loss= 0.876291, Training Accuracy= 0.58594\n"
     ]
    },
    {
     "name": "stderr",
     "output_type": "stream",
     "text": [
      "\r",
      " 29%|██████████████████▎                                             | 224/782 [05:34<13:16,  1.43s/it]"
     ]
    },
    {
     "name": "stdout",
     "output_type": "stream",
     "text": [
      "Iter 224.0, Minibatch Loss= 1.085388, Training Accuracy= 0.50781\n"
     ]
    },
    {
     "name": "stderr",
     "output_type": "stream",
     "text": [
      "\r",
      " 29%|██████████████████▍                                             | 225/782 [05:36<13:12,  1.42s/it]"
     ]
    },
    {
     "name": "stdout",
     "output_type": "stream",
     "text": [
      "Iter 225.0, Minibatch Loss= 0.967107, Training Accuracy= 0.51562\n"
     ]
    },
    {
     "name": "stderr",
     "output_type": "stream",
     "text": [
      "\r",
      " 29%|██████████████████▍                                             | 226/782 [05:37<13:36,  1.47s/it]"
     ]
    },
    {
     "name": "stdout",
     "output_type": "stream",
     "text": [
      "Iter 226.0, Minibatch Loss= 0.922495, Training Accuracy= 0.53125\n"
     ]
    },
    {
     "name": "stderr",
     "output_type": "stream",
     "text": [
      "\r",
      " 29%|██████████████████▌                                             | 227/782 [05:39<13:43,  1.48s/it]"
     ]
    },
    {
     "name": "stdout",
     "output_type": "stream",
     "text": [
      "Iter 227.0, Minibatch Loss= 0.884834, Training Accuracy= 0.45312\n"
     ]
    },
    {
     "name": "stderr",
     "output_type": "stream",
     "text": [
      "\r",
      " 29%|██████████████████▋                                             | 228/782 [05:40<13:48,  1.50s/it]"
     ]
    },
    {
     "name": "stdout",
     "output_type": "stream",
     "text": [
      "Iter 228.0, Minibatch Loss= 0.997860, Training Accuracy= 0.51562\n"
     ]
    },
    {
     "name": "stderr",
     "output_type": "stream",
     "text": [
      "\r",
      " 29%|██████████████████▋                                             | 229/782 [05:42<13:37,  1.48s/it]"
     ]
    },
    {
     "name": "stdout",
     "output_type": "stream",
     "text": [
      "Iter 229.0, Minibatch Loss= 0.965508, Training Accuracy= 0.51562\n"
     ]
    },
    {
     "name": "stderr",
     "output_type": "stream",
     "text": [
      "\r",
      " 29%|██████████████████▊                                             | 230/782 [05:43<13:28,  1.46s/it]"
     ]
    },
    {
     "name": "stdout",
     "output_type": "stream",
     "text": [
      "Iter 230.0, Minibatch Loss= 0.950497, Training Accuracy= 0.52344\n"
     ]
    },
    {
     "name": "stderr",
     "output_type": "stream",
     "text": [
      "\r",
      " 30%|██████████████████▉                                             | 231/782 [05:45<13:24,  1.46s/it]"
     ]
    },
    {
     "name": "stdout",
     "output_type": "stream",
     "text": [
      "Iter 231.0, Minibatch Loss= 0.930500, Training Accuracy= 0.53125\n"
     ]
    },
    {
     "name": "stderr",
     "output_type": "stream",
     "text": [
      "\r",
      " 30%|██████████████████▉                                             | 232/782 [05:46<13:42,  1.50s/it]"
     ]
    },
    {
     "name": "stdout",
     "output_type": "stream",
     "text": [
      "Iter 232.0, Minibatch Loss= 0.901187, Training Accuracy= 0.57812\n"
     ]
    },
    {
     "name": "stderr",
     "output_type": "stream",
     "text": [
      "\r",
      " 30%|███████████████████                                             | 233/782 [05:48<13:35,  1.49s/it]"
     ]
    },
    {
     "name": "stdout",
     "output_type": "stream",
     "text": [
      "Iter 233.0, Minibatch Loss= 0.858354, Training Accuracy= 0.60938\n"
     ]
    },
    {
     "name": "stderr",
     "output_type": "stream",
     "text": [
      "\r",
      " 30%|███████████████████▏                                            | 234/782 [05:49<13:27,  1.47s/it]"
     ]
    },
    {
     "name": "stdout",
     "output_type": "stream",
     "text": [
      "Iter 234.0, Minibatch Loss= 0.800189, Training Accuracy= 0.68750\n"
     ]
    },
    {
     "name": "stderr",
     "output_type": "stream",
     "text": [
      "\r",
      " 30%|███████████████████▏                                            | 235/782 [05:51<13:38,  1.50s/it]"
     ]
    },
    {
     "name": "stdout",
     "output_type": "stream",
     "text": [
      "Iter 235.0, Minibatch Loss= 0.925743, Training Accuracy= 0.51562\n"
     ]
    },
    {
     "name": "stderr",
     "output_type": "stream",
     "text": [
      "\r",
      " 30%|███████████████████▎                                            | 236/782 [05:52<13:55,  1.53s/it]"
     ]
    },
    {
     "name": "stdout",
     "output_type": "stream",
     "text": [
      "Iter 236.0, Minibatch Loss= 0.989868, Training Accuracy= 0.54688\n"
     ]
    },
    {
     "name": "stderr",
     "output_type": "stream",
     "text": [
      "\r",
      " 30%|███████████████████▍                                            | 237/782 [05:54<14:03,  1.55s/it]"
     ]
    },
    {
     "name": "stdout",
     "output_type": "stream",
     "text": [
      "Iter 237.0, Minibatch Loss= 1.324737, Training Accuracy= 0.34375\n"
     ]
    },
    {
     "name": "stderr",
     "output_type": "stream",
     "text": [
      "\r",
      " 30%|███████████████████▍                                            | 238/782 [05:55<14:02,  1.55s/it]"
     ]
    },
    {
     "name": "stdout",
     "output_type": "stream",
     "text": [
      "Iter 238.0, Minibatch Loss= 1.280227, Training Accuracy= 0.32812\n"
     ]
    },
    {
     "name": "stderr",
     "output_type": "stream",
     "text": [
      "\r",
      " 31%|███████████████████▌                                            | 239/782 [05:57<14:18,  1.58s/it]"
     ]
    },
    {
     "name": "stdout",
     "output_type": "stream",
     "text": [
      "Iter 239.0, Minibatch Loss= 1.228017, Training Accuracy= 0.51562\n"
     ]
    },
    {
     "name": "stderr",
     "output_type": "stream",
     "text": [
      "\r",
      " 31%|███████████████████▋                                            | 240/782 [05:58<13:56,  1.54s/it]"
     ]
    },
    {
     "name": "stdout",
     "output_type": "stream",
     "text": [
      "Iter 240.0, Minibatch Loss= 1.071241, Training Accuracy= 0.32812\n"
     ]
    },
    {
     "name": "stderr",
     "output_type": "stream",
     "text": [
      "\r",
      " 31%|███████████████████▋                                            | 241/782 [06:00<13:46,  1.53s/it]"
     ]
    },
    {
     "name": "stdout",
     "output_type": "stream",
     "text": [
      "Iter 241.0, Minibatch Loss= 1.011471, Training Accuracy= 0.51562\n"
     ]
    },
    {
     "name": "stderr",
     "output_type": "stream",
     "text": [
      "\r",
      " 31%|███████████████████▊                                            | 242/782 [06:01<13:35,  1.51s/it]"
     ]
    },
    {
     "name": "stdout",
     "output_type": "stream",
     "text": [
      "Iter 242.0, Minibatch Loss= 1.001164, Training Accuracy= 0.53125\n"
     ]
    },
    {
     "name": "stderr",
     "output_type": "stream",
     "text": [
      "\r",
      " 31%|███████████████████▉                                            | 243/782 [06:03<13:49,  1.54s/it]"
     ]
    },
    {
     "name": "stdout",
     "output_type": "stream",
     "text": [
      "Iter 243.0, Minibatch Loss= 0.998105, Training Accuracy= 0.51562\n"
     ]
    },
    {
     "name": "stderr",
     "output_type": "stream",
     "text": [
      "\r",
      " 31%|███████████████████▉                                            | 244/782 [06:05<13:39,  1.52s/it]"
     ]
    },
    {
     "name": "stdout",
     "output_type": "stream",
     "text": [
      "Iter 244.0, Minibatch Loss= 0.996021, Training Accuracy= 0.51562\n"
     ]
    },
    {
     "name": "stderr",
     "output_type": "stream",
     "text": [
      "\r",
      " 31%|████████████████████                                            | 245/782 [06:06<13:39,  1.53s/it]"
     ]
    },
    {
     "name": "stdout",
     "output_type": "stream",
     "text": [
      "Iter 245.0, Minibatch Loss= 0.994113, Training Accuracy= 0.51562\n"
     ]
    },
    {
     "name": "stderr",
     "output_type": "stream",
     "text": [
      "\r",
      " 31%|████████████████████▏                                           | 246/782 [06:08<13:50,  1.55s/it]"
     ]
    },
    {
     "name": "stdout",
     "output_type": "stream",
     "text": [
      "Iter 246.0, Minibatch Loss= 0.991928, Training Accuracy= 0.51562\n"
     ]
    },
    {
     "name": "stderr",
     "output_type": "stream",
     "text": [
      "\r",
      " 32%|████████████████████▏                                           | 247/782 [06:09<13:48,  1.55s/it]"
     ]
    },
    {
     "name": "stdout",
     "output_type": "stream",
     "text": [
      "Iter 247.0, Minibatch Loss= 0.989173, Training Accuracy= 0.51562\n"
     ]
    },
    {
     "name": "stderr",
     "output_type": "stream",
     "text": [
      "\r",
      " 32%|████████████████████▎                                           | 248/782 [06:11<13:23,  1.50s/it]"
     ]
    },
    {
     "name": "stdout",
     "output_type": "stream",
     "text": [
      "Iter 248.0, Minibatch Loss= 0.985420, Training Accuracy= 0.51562\n"
     ]
    },
    {
     "name": "stderr",
     "output_type": "stream",
     "text": [
      "\r",
      " 32%|████████████████████▍                                           | 249/782 [06:12<13:06,  1.48s/it]"
     ]
    },
    {
     "name": "stdout",
     "output_type": "stream",
     "text": [
      "Iter 249.0, Minibatch Loss= 0.979945, Training Accuracy= 0.51562\n"
     ]
    },
    {
     "name": "stderr",
     "output_type": "stream",
     "text": [
      "\r",
      " 32%|████████████████████▍                                           | 250/782 [06:13<13:01,  1.47s/it]"
     ]
    },
    {
     "name": "stdout",
     "output_type": "stream",
     "text": [
      "Iter 250.0, Minibatch Loss= 0.917059, Training Accuracy= 0.60938\n"
     ]
    },
    {
     "name": "stderr",
     "output_type": "stream",
     "text": [
      "\r",
      " 32%|████████████████████▌                                           | 251/782 [06:15<12:59,  1.47s/it]"
     ]
    },
    {
     "name": "stdout",
     "output_type": "stream",
     "text": [
      "Iter 251.0, Minibatch Loss= 0.911467, Training Accuracy= 0.60938\n"
     ]
    },
    {
     "name": "stderr",
     "output_type": "stream",
     "text": [
      "\r",
      " 32%|████████████████████▌                                           | 252/782 [06:16<12:47,  1.45s/it]"
     ]
    },
    {
     "name": "stdout",
     "output_type": "stream",
     "text": [
      "Iter 252.0, Minibatch Loss= 0.908581, Training Accuracy= 0.60938\n"
     ]
    },
    {
     "name": "stderr",
     "output_type": "stream",
     "text": [
      "\r",
      " 32%|████████████████████▋                                           | 253/782 [06:18<12:43,  1.44s/it]"
     ]
    },
    {
     "name": "stdout",
     "output_type": "stream",
     "text": [
      "Iter 253.0, Minibatch Loss= 0.905960, Training Accuracy= 0.60938\n"
     ]
    },
    {
     "name": "stderr",
     "output_type": "stream",
     "text": [
      "\r",
      " 32%|████████████████████▊                                           | 254/782 [06:19<12:42,  1.44s/it]"
     ]
    },
    {
     "name": "stdout",
     "output_type": "stream",
     "text": [
      "Iter 254.0, Minibatch Loss= 0.903303, Training Accuracy= 0.60938\n"
     ]
    },
    {
     "name": "stderr",
     "output_type": "stream",
     "text": [
      "\r",
      " 33%|████████████████████▊                                           | 255/782 [06:21<12:31,  1.43s/it]"
     ]
    },
    {
     "name": "stdout",
     "output_type": "stream",
     "text": [
      "Iter 255.0, Minibatch Loss= 0.900606, Training Accuracy= 0.60938\n"
     ]
    },
    {
     "name": "stderr",
     "output_type": "stream",
     "text": [
      "\r",
      " 33%|████████████████████▉                                           | 256/782 [06:22<12:19,  1.41s/it]"
     ]
    },
    {
     "name": "stdout",
     "output_type": "stream",
     "text": [
      "Iter 256.0, Minibatch Loss= 0.897963, Training Accuracy= 0.60156\n"
     ]
    },
    {
     "name": "stderr",
     "output_type": "stream",
     "text": [
      "\r",
      " 33%|█████████████████████                                           | 257/782 [06:23<12:22,  1.41s/it]"
     ]
    },
    {
     "name": "stdout",
     "output_type": "stream",
     "text": [
      "Iter 257.0, Minibatch Loss= 0.895426, Training Accuracy= 0.59375\n"
     ]
    },
    {
     "name": "stderr",
     "output_type": "stream",
     "text": [
      "\r",
      " 33%|█████████████████████                                           | 258/782 [06:25<12:21,  1.42s/it]"
     ]
    },
    {
     "name": "stdout",
     "output_type": "stream",
     "text": [
      "Iter 258.0, Minibatch Loss= 0.892921, Training Accuracy= 0.59375\n"
     ]
    },
    {
     "name": "stderr",
     "output_type": "stream",
     "text": [
      "\r",
      " 33%|█████████████████████▏                                          | 259/782 [06:26<12:19,  1.41s/it]"
     ]
    },
    {
     "name": "stdout",
     "output_type": "stream",
     "text": [
      "Iter 259.0, Minibatch Loss= 0.890323, Training Accuracy= 0.60156\n"
     ]
    },
    {
     "name": "stderr",
     "output_type": "stream",
     "text": [
      "\r",
      " 33%|█████████████████████▎                                          | 260/782 [06:28<12:20,  1.42s/it]"
     ]
    },
    {
     "name": "stdout",
     "output_type": "stream",
     "text": [
      "Iter 260.0, Minibatch Loss= 0.887517, Training Accuracy= 0.60156\n"
     ]
    },
    {
     "name": "stderr",
     "output_type": "stream",
     "text": [
      "\r",
      " 33%|█████████████████████▎                                          | 261/782 [06:29<12:25,  1.43s/it]"
     ]
    },
    {
     "name": "stdout",
     "output_type": "stream",
     "text": [
      "Iter 261.0, Minibatch Loss= 0.884379, Training Accuracy= 0.60156\n"
     ]
    },
    {
     "name": "stderr",
     "output_type": "stream",
     "text": [
      "\r",
      " 34%|█████████████████████▍                                          | 262/782 [06:30<12:17,  1.42s/it]"
     ]
    },
    {
     "name": "stdout",
     "output_type": "stream",
     "text": [
      "Iter 262.0, Minibatch Loss= 0.880718, Training Accuracy= 0.60156\n"
     ]
    },
    {
     "name": "stderr",
     "output_type": "stream",
     "text": [
      "\r",
      " 34%|█████████████████████▌                                          | 263/782 [06:32<12:07,  1.40s/it]"
     ]
    },
    {
     "name": "stdout",
     "output_type": "stream",
     "text": [
      "Iter 263.0, Minibatch Loss= 0.876215, Training Accuracy= 0.60156\n"
     ]
    },
    {
     "name": "stderr",
     "output_type": "stream",
     "text": [
      "\r",
      " 34%|█████████████████████▌                                          | 264/782 [06:33<12:16,  1.42s/it]"
     ]
    },
    {
     "name": "stdout",
     "output_type": "stream",
     "text": [
      "Iter 264.0, Minibatch Loss= 0.870315, Training Accuracy= 0.60156\n"
     ]
    },
    {
     "name": "stderr",
     "output_type": "stream",
     "text": [
      "\r",
      " 34%|█████████████████████▋                                          | 265/782 [06:35<12:15,  1.42s/it]"
     ]
    },
    {
     "name": "stdout",
     "output_type": "stream",
     "text": [
      "Iter 265.0, Minibatch Loss= 0.862115, Training Accuracy= 0.59375\n"
     ]
    },
    {
     "name": "stderr",
     "output_type": "stream",
     "text": [
      "\r",
      " 34%|█████████████████████▊                                          | 266/782 [06:36<12:15,  1.43s/it]"
     ]
    },
    {
     "name": "stdout",
     "output_type": "stream",
     "text": [
      "Iter 266.0, Minibatch Loss= 0.850640, Training Accuracy= 0.60938\n"
     ]
    },
    {
     "name": "stderr",
     "output_type": "stream",
     "text": [
      "\r",
      " 34%|█████████████████████▊                                          | 267/782 [06:38<12:18,  1.43s/it]"
     ]
    },
    {
     "name": "stdout",
     "output_type": "stream",
     "text": [
      "Iter 267.0, Minibatch Loss= 0.836661, Training Accuracy= 0.63281\n"
     ]
    },
    {
     "name": "stderr",
     "output_type": "stream",
     "text": [
      "\r",
      " 34%|█████████████████████▉                                          | 268/782 [06:39<12:23,  1.45s/it]"
     ]
    },
    {
     "name": "stdout",
     "output_type": "stream",
     "text": [
      "Iter 268.0, Minibatch Loss= 0.821013, Training Accuracy= 0.63281\n"
     ]
    },
    {
     "name": "stderr",
     "output_type": "stream",
     "text": [
      "\r",
      " 34%|██████████████████████                                          | 269/782 [06:41<12:13,  1.43s/it]"
     ]
    },
    {
     "name": "stdout",
     "output_type": "stream",
     "text": [
      "Iter 269.0, Minibatch Loss= 1.171104, Training Accuracy= 0.45312\n"
     ]
    },
    {
     "name": "stderr",
     "output_type": "stream",
     "text": [
      "\r",
      " 35%|██████████████████████                                          | 270/782 [06:42<12:13,  1.43s/it]"
     ]
    },
    {
     "name": "stdout",
     "output_type": "stream",
     "text": [
      "Iter 270.0, Minibatch Loss= 1.001715, Training Accuracy= 0.60938\n"
     ]
    },
    {
     "name": "stderr",
     "output_type": "stream",
     "text": [
      "\r",
      " 35%|██████████████████████▏                                         | 271/782 [06:43<12:14,  1.44s/it]"
     ]
    },
    {
     "name": "stdout",
     "output_type": "stream",
     "text": [
      "Iter 271.0, Minibatch Loss= 1.190712, Training Accuracy= 0.12500\n"
     ]
    },
    {
     "name": "stderr",
     "output_type": "stream",
     "text": [
      "\r",
      " 35%|██████████████████████▎                                         | 272/782 [06:45<12:10,  1.43s/it]"
     ]
    },
    {
     "name": "stdout",
     "output_type": "stream",
     "text": [
      "Iter 272.0, Minibatch Loss= 1.362007, Training Accuracy= 0.60938\n"
     ]
    },
    {
     "name": "stderr",
     "output_type": "stream",
     "text": [
      "\r",
      " 35%|██████████████████████▎                                         | 273/782 [06:46<12:04,  1.42s/it]"
     ]
    },
    {
     "name": "stdout",
     "output_type": "stream",
     "text": [
      "Iter 273.0, Minibatch Loss= 0.985695, Training Accuracy= 0.60938\n"
     ]
    },
    {
     "name": "stderr",
     "output_type": "stream",
     "text": [
      "\r",
      " 35%|██████████████████████▍                                         | 274/782 [06:48<11:59,  1.42s/it]"
     ]
    },
    {
     "name": "stdout",
     "output_type": "stream",
     "text": [
      "Iter 274.0, Minibatch Loss= 0.935860, Training Accuracy= 0.60938\n"
     ]
    },
    {
     "name": "stderr",
     "output_type": "stream",
     "text": [
      "\r",
      " 35%|██████████████████████▌                                         | 275/782 [06:49<12:00,  1.42s/it]"
     ]
    },
    {
     "name": "stdout",
     "output_type": "stream",
     "text": [
      "Iter 275.0, Minibatch Loss= 0.911600, Training Accuracy= 0.60938\n"
     ]
    },
    {
     "name": "stderr",
     "output_type": "stream",
     "text": [
      "\r",
      " 35%|██████████████████████▌                                         | 276/782 [06:50<12:02,  1.43s/it]"
     ]
    },
    {
     "name": "stdout",
     "output_type": "stream",
     "text": [
      "Iter 276.0, Minibatch Loss= 0.909727, Training Accuracy= 0.60938\n"
     ]
    },
    {
     "name": "stderr",
     "output_type": "stream",
     "text": [
      "\r",
      " 35%|██████████████████████▋                                         | 277/782 [06:52<11:53,  1.41s/it]"
     ]
    },
    {
     "name": "stdout",
     "output_type": "stream",
     "text": [
      "Iter 277.0, Minibatch Loss= 0.908579, Training Accuracy= 0.60938\n"
     ]
    },
    {
     "name": "stderr",
     "output_type": "stream",
     "text": [
      "\r",
      " 36%|██████████████████████▊                                         | 278/782 [06:53<11:49,  1.41s/it]"
     ]
    },
    {
     "name": "stdout",
     "output_type": "stream",
     "text": [
      "Iter 278.0, Minibatch Loss= 0.907588, Training Accuracy= 0.60938\n"
     ]
    },
    {
     "name": "stderr",
     "output_type": "stream",
     "text": [
      "\r",
      " 36%|██████████████████████▊                                         | 279/782 [06:55<11:53,  1.42s/it]"
     ]
    },
    {
     "name": "stdout",
     "output_type": "stream",
     "text": [
      "Iter 279.0, Minibatch Loss= 0.906666, Training Accuracy= 0.60938\n"
     ]
    },
    {
     "name": "stderr",
     "output_type": "stream",
     "text": [
      "\r",
      " 36%|██████████████████████▉                                         | 280/782 [06:56<11:53,  1.42s/it]"
     ]
    },
    {
     "name": "stdout",
     "output_type": "stream",
     "text": [
      "Iter 280.0, Minibatch Loss= 0.905761, Training Accuracy= 0.60938\n"
     ]
    },
    {
     "name": "stderr",
     "output_type": "stream",
     "text": [
      "\r",
      " 36%|██████████████████████▉                                         | 281/782 [06:58<11:46,  1.41s/it]"
     ]
    },
    {
     "name": "stdout",
     "output_type": "stream",
     "text": [
      "Iter 281.0, Minibatch Loss= 0.904833, Training Accuracy= 0.60938\n"
     ]
    },
    {
     "name": "stderr",
     "output_type": "stream",
     "text": [
      "\r",
      " 36%|███████████████████████                                         | 282/782 [06:59<11:41,  1.40s/it]"
     ]
    },
    {
     "name": "stdout",
     "output_type": "stream",
     "text": [
      "Iter 282.0, Minibatch Loss= 0.903855, Training Accuracy= 0.60938\n"
     ]
    },
    {
     "name": "stderr",
     "output_type": "stream",
     "text": [
      "\r",
      " 36%|███████████████████████▏                                        | 283/782 [07:00<11:39,  1.40s/it]"
     ]
    },
    {
     "name": "stdout",
     "output_type": "stream",
     "text": [
      "Iter 283.0, Minibatch Loss= 0.902797, Training Accuracy= 0.60938\n"
     ]
    },
    {
     "name": "stderr",
     "output_type": "stream",
     "text": [
      "\r",
      " 36%|███████████████████████▏                                        | 284/782 [07:02<11:48,  1.42s/it]"
     ]
    },
    {
     "name": "stdout",
     "output_type": "stream",
     "text": [
      "Iter 284.0, Minibatch Loss= 0.901634, Training Accuracy= 0.60938\n"
     ]
    },
    {
     "name": "stderr",
     "output_type": "stream",
     "text": [
      "\r",
      " 36%|███████████████████████▎                                        | 285/782 [07:03<11:51,  1.43s/it]"
     ]
    },
    {
     "name": "stdout",
     "output_type": "stream",
     "text": [
      "Iter 285.0, Minibatch Loss= 0.900335, Training Accuracy= 0.60938\n"
     ]
    },
    {
     "name": "stderr",
     "output_type": "stream",
     "text": [
      "\r",
      " 37%|███████████████████████▍                                        | 286/782 [07:05<11:32,  1.40s/it]"
     ]
    },
    {
     "name": "stdout",
     "output_type": "stream",
     "text": [
      "Iter 286.0, Minibatch Loss= 0.898874, Training Accuracy= 0.60938\n"
     ]
    },
    {
     "name": "stderr",
     "output_type": "stream",
     "text": [
      "\r",
      " 37%|███████████████████████▍                                        | 287/782 [07:06<11:35,  1.41s/it]"
     ]
    },
    {
     "name": "stdout",
     "output_type": "stream",
     "text": [
      "Iter 287.0, Minibatch Loss= 0.897219, Training Accuracy= 0.60938\n"
     ]
    },
    {
     "name": "stderr",
     "output_type": "stream",
     "text": [
      "\r",
      " 37%|███████████████████████▌                                        | 288/782 [07:07<11:36,  1.41s/it]"
     ]
    },
    {
     "name": "stdout",
     "output_type": "stream",
     "text": [
      "Iter 288.0, Minibatch Loss= 0.895344, Training Accuracy= 0.60938\n"
     ]
    },
    {
     "name": "stderr",
     "output_type": "stream",
     "text": [
      "\r",
      " 37%|███████████████████████▋                                        | 289/782 [07:09<11:43,  1.43s/it]"
     ]
    },
    {
     "name": "stdout",
     "output_type": "stream",
     "text": [
      "Iter 289.0, Minibatch Loss= 0.893226, Training Accuracy= 0.60938\n"
     ]
    },
    {
     "name": "stderr",
     "output_type": "stream",
     "text": [
      "\r",
      " 37%|███████████████████████▋                                        | 290/782 [07:10<11:40,  1.42s/it]"
     ]
    },
    {
     "name": "stdout",
     "output_type": "stream",
     "text": [
      "Iter 290.0, Minibatch Loss= 0.890851, Training Accuracy= 0.60938\n"
     ]
    },
    {
     "name": "stderr",
     "output_type": "stream",
     "text": [
      "\r",
      " 37%|███████████████████████▊                                        | 291/782 [07:12<11:34,  1.41s/it]"
     ]
    },
    {
     "name": "stdout",
     "output_type": "stream",
     "text": [
      "Iter 291.0, Minibatch Loss= 0.888214, Training Accuracy= 0.60938\n"
     ]
    },
    {
     "name": "stderr",
     "output_type": "stream",
     "text": [
      "\r",
      " 37%|███████████████████████▉                                        | 292/782 [07:13<11:30,  1.41s/it]"
     ]
    },
    {
     "name": "stdout",
     "output_type": "stream",
     "text": [
      "Iter 292.0, Minibatch Loss= 0.885308, Training Accuracy= 0.60938\n"
     ]
    },
    {
     "name": "stderr",
     "output_type": "stream",
     "text": [
      "\r",
      " 37%|███████████████████████▉                                        | 293/782 [07:14<11:31,  1.41s/it]"
     ]
    },
    {
     "name": "stdout",
     "output_type": "stream",
     "text": [
      "Iter 293.0, Minibatch Loss= 0.882111, Training Accuracy= 0.60938\n"
     ]
    },
    {
     "name": "stderr",
     "output_type": "stream",
     "text": [
      "\r",
      " 38%|████████████████████████                                        | 294/782 [07:16<11:30,  1.42s/it]"
     ]
    },
    {
     "name": "stdout",
     "output_type": "stream",
     "text": [
      "Iter 294.0, Minibatch Loss= 0.878563, Training Accuracy= 0.60938\n"
     ]
    },
    {
     "name": "stderr",
     "output_type": "stream",
     "text": [
      "\r",
      " 38%|████████████████████████▏                                       | 295/782 [07:17<11:19,  1.39s/it]"
     ]
    },
    {
     "name": "stdout",
     "output_type": "stream",
     "text": [
      "Iter 295.0, Minibatch Loss= 0.874548, Training Accuracy= 0.60938\n"
     ]
    },
    {
     "name": "stderr",
     "output_type": "stream",
     "text": [
      "\r",
      " 38%|████████████████████████▏                                       | 296/782 [07:19<11:22,  1.40s/it]"
     ]
    },
    {
     "name": "stdout",
     "output_type": "stream",
     "text": [
      "Iter 296.0, Minibatch Loss= 0.869883, Training Accuracy= 0.60938\n"
     ]
    },
    {
     "name": "stderr",
     "output_type": "stream",
     "text": [
      "\r",
      " 38%|████████████████████████▎                                       | 297/782 [07:20<11:23,  1.41s/it]"
     ]
    },
    {
     "name": "stdout",
     "output_type": "stream",
     "text": [
      "Iter 297.0, Minibatch Loss= 0.864317, Training Accuracy= 0.60938\n"
     ]
    },
    {
     "name": "stderr",
     "output_type": "stream",
     "text": [
      "\r",
      " 38%|████████████████████████▍                                       | 298/782 [07:22<11:23,  1.41s/it]"
     ]
    },
    {
     "name": "stdout",
     "output_type": "stream",
     "text": [
      "Iter 298.0, Minibatch Loss= 0.857534, Training Accuracy= 0.60938\n"
     ]
    },
    {
     "name": "stderr",
     "output_type": "stream",
     "text": [
      "\r",
      " 38%|████████████████████████▍                                       | 299/782 [07:23<11:23,  1.42s/it]"
     ]
    },
    {
     "name": "stdout",
     "output_type": "stream",
     "text": [
      "Iter 299.0, Minibatch Loss= 0.849201, Training Accuracy= 0.60938\n"
     ]
    },
    {
     "name": "stderr",
     "output_type": "stream",
     "text": [
      "\r",
      " 38%|████████████████████████▌                                       | 300/782 [07:24<11:23,  1.42s/it]"
     ]
    },
    {
     "name": "stdout",
     "output_type": "stream",
     "text": [
      "Iter 300.0, Minibatch Loss= 0.839093, Training Accuracy= 0.61719\n"
     ]
    },
    {
     "name": "stderr",
     "output_type": "stream",
     "text": [
      "\r",
      " 38%|████████████████████████▋                                       | 301/782 [07:26<11:38,  1.45s/it]"
     ]
    },
    {
     "name": "stdout",
     "output_type": "stream",
     "text": [
      "Iter 301.0, Minibatch Loss= 0.827195, Training Accuracy= 0.64062\n"
     ]
    },
    {
     "name": "stderr",
     "output_type": "stream",
     "text": [
      "\r",
      " 39%|████████████████████████▋                                       | 302/782 [07:27<11:56,  1.49s/it]"
     ]
    },
    {
     "name": "stdout",
     "output_type": "stream",
     "text": [
      "Iter 302.0, Minibatch Loss= 0.813494, Training Accuracy= 0.64062\n"
     ]
    },
    {
     "name": "stderr",
     "output_type": "stream",
     "text": [
      "\r",
      " 39%|████████████████████████▊                                       | 303/782 [07:29<12:20,  1.55s/it]"
     ]
    },
    {
     "name": "stdout",
     "output_type": "stream",
     "text": [
      "Iter 303.0, Minibatch Loss= 0.797431, Training Accuracy= 0.66406\n"
     ]
    },
    {
     "name": "stderr",
     "output_type": "stream",
     "text": [
      "\r",
      " 39%|████████████████████████▉                                       | 304/782 [07:31<12:06,  1.52s/it]"
     ]
    },
    {
     "name": "stdout",
     "output_type": "stream",
     "text": [
      "Iter 304.0, Minibatch Loss= 0.778231, Training Accuracy= 0.66406\n"
     ]
    },
    {
     "name": "stderr",
     "output_type": "stream",
     "text": [
      "\r",
      " 39%|████████████████████████▉                                       | 305/782 [07:32<12:01,  1.51s/it]"
     ]
    },
    {
     "name": "stdout",
     "output_type": "stream",
     "text": [
      "Iter 305.0, Minibatch Loss= 0.759865, Training Accuracy= 0.68750\n"
     ]
    },
    {
     "name": "stderr",
     "output_type": "stream",
     "text": [
      "\r",
      " 39%|█████████████████████████                                       | 306/782 [07:34<12:12,  1.54s/it]"
     ]
    },
    {
     "name": "stdout",
     "output_type": "stream",
     "text": [
      "Iter 306.0, Minibatch Loss= 0.963490, Training Accuracy= 0.61719\n"
     ]
    },
    {
     "name": "stderr",
     "output_type": "stream",
     "text": [
      "\r",
      " 39%|█████████████████████████▏                                      | 307/782 [07:35<12:02,  1.52s/it]"
     ]
    },
    {
     "name": "stdout",
     "output_type": "stream",
     "text": [
      "Iter 307.0, Minibatch Loss= 1.005510, Training Accuracy= 0.60938\n"
     ]
    },
    {
     "name": "stderr",
     "output_type": "stream",
     "text": [
      "\r",
      " 39%|█████████████████████████▏                                      | 308/782 [07:37<11:51,  1.50s/it]"
     ]
    },
    {
     "name": "stdout",
     "output_type": "stream",
     "text": [
      "Iter 308.0, Minibatch Loss= 0.933658, Training Accuracy= 0.60938\n"
     ]
    },
    {
     "name": "stderr",
     "output_type": "stream",
     "text": [
      "\r",
      " 40%|█████████████████████████▎                                      | 309/782 [07:38<11:52,  1.51s/it]"
     ]
    },
    {
     "name": "stdout",
     "output_type": "stream",
     "text": [
      "Iter 309.0, Minibatch Loss= 0.905037, Training Accuracy= 0.60938\n"
     ]
    },
    {
     "name": "stderr",
     "output_type": "stream",
     "text": [
      "\r",
      " 40%|█████████████████████████▎                                      | 310/782 [07:40<11:49,  1.50s/it]"
     ]
    },
    {
     "name": "stdout",
     "output_type": "stream",
     "text": [
      "Iter 310.0, Minibatch Loss= 0.898679, Training Accuracy= 0.60938\n"
     ]
    },
    {
     "name": "stderr",
     "output_type": "stream",
     "text": [
      "\r",
      " 40%|█████████████████████████▍                                      | 311/782 [07:41<11:36,  1.48s/it]"
     ]
    },
    {
     "name": "stdout",
     "output_type": "stream",
     "text": [
      "Iter 311.0, Minibatch Loss= 0.892353, Training Accuracy= 0.60938\n"
     ]
    },
    {
     "name": "stderr",
     "output_type": "stream",
     "text": [
      "\r",
      " 40%|█████████████████████████▌                                      | 312/782 [07:43<11:25,  1.46s/it]"
     ]
    },
    {
     "name": "stdout",
     "output_type": "stream",
     "text": [
      "Iter 312.0, Minibatch Loss= 0.885343, Training Accuracy= 0.60938\n"
     ]
    },
    {
     "name": "stderr",
     "output_type": "stream",
     "text": [
      "\r",
      " 40%|█████████████████████████▌                                      | 313/782 [07:44<11:16,  1.44s/it]"
     ]
    },
    {
     "name": "stdout",
     "output_type": "stream",
     "text": [
      "Iter 313.0, Minibatch Loss= 0.877562, Training Accuracy= 0.60938\n"
     ]
    },
    {
     "name": "stderr",
     "output_type": "stream",
     "text": [
      "\r",
      " 40%|█████████████████████████▋                                      | 314/782 [07:45<10:57,  1.41s/it]"
     ]
    },
    {
     "name": "stdout",
     "output_type": "stream",
     "text": [
      "Iter 314.0, Minibatch Loss= 0.869062, Training Accuracy= 0.60938\n"
     ]
    },
    {
     "name": "stderr",
     "output_type": "stream",
     "text": [
      "\r",
      " 40%|█████████████████████████▊                                      | 315/782 [07:47<10:59,  1.41s/it]"
     ]
    },
    {
     "name": "stdout",
     "output_type": "stream",
     "text": [
      "Iter 315.0, Minibatch Loss= 0.881186, Training Accuracy= 0.60938\n"
     ]
    },
    {
     "name": "stderr",
     "output_type": "stream",
     "text": [
      "\r",
      " 40%|█████████████████████████▊                                      | 316/782 [07:48<10:56,  1.41s/it]"
     ]
    },
    {
     "name": "stdout",
     "output_type": "stream",
     "text": [
      "Iter 316.0, Minibatch Loss= 1.297114, Training Accuracy= 0.32031\n"
     ]
    },
    {
     "name": "stderr",
     "output_type": "stream",
     "text": [
      "\r",
      " 41%|█████████████████████████▉                                      | 317/782 [07:49<10:54,  1.41s/it]"
     ]
    },
    {
     "name": "stdout",
     "output_type": "stream",
     "text": [
      "Iter 317.0, Minibatch Loss= 1.117259, Training Accuracy= 0.59375\n"
     ]
    },
    {
     "name": "stderr",
     "output_type": "stream",
     "text": [
      "\r",
      " 41%|██████████████████████████                                      | 318/782 [07:51<10:49,  1.40s/it]"
     ]
    },
    {
     "name": "stdout",
     "output_type": "stream",
     "text": [
      "Iter 318.0, Minibatch Loss= 0.963514, Training Accuracy= 0.60938\n"
     ]
    },
    {
     "name": "stderr",
     "output_type": "stream",
     "text": [
      "\r",
      " 41%|██████████████████████████                                      | 319/782 [07:52<10:50,  1.40s/it]"
     ]
    },
    {
     "name": "stdout",
     "output_type": "stream",
     "text": [
      "Iter 319.0, Minibatch Loss= 1.133163, Training Accuracy= 0.12500\n"
     ]
    },
    {
     "name": "stderr",
     "output_type": "stream",
     "text": [
      "\r",
      " 41%|██████████████████████████▏                                     | 320/782 [07:54<10:39,  1.38s/it]"
     ]
    },
    {
     "name": "stdout",
     "output_type": "stream",
     "text": [
      "Iter 320.0, Minibatch Loss= 1.337813, Training Accuracy= 0.60938\n"
     ]
    },
    {
     "name": "stderr",
     "output_type": "stream",
     "text": [
      "\r",
      " 41%|██████████████████████████▎                                     | 321/782 [07:55<10:45,  1.40s/it]"
     ]
    },
    {
     "name": "stdout",
     "output_type": "stream",
     "text": [
      "Iter 321.0, Minibatch Loss= 1.013642, Training Accuracy= 0.27344\n"
     ]
    },
    {
     "name": "stderr",
     "output_type": "stream",
     "text": [
      "\r",
      " 41%|██████████████████████████▎                                     | 322/782 [07:56<10:49,  1.41s/it]"
     ]
    },
    {
     "name": "stdout",
     "output_type": "stream",
     "text": [
      "Iter 322.0, Minibatch Loss= 1.008807, Training Accuracy= 0.60938\n"
     ]
    },
    {
     "name": "stderr",
     "output_type": "stream",
     "text": [
      "\r",
      " 41%|██████████████████████████▍                                     | 323/782 [07:58<10:51,  1.42s/it]"
     ]
    },
    {
     "name": "stdout",
     "output_type": "stream",
     "text": [
      "Iter 323.0, Minibatch Loss= 0.918170, Training Accuracy= 0.60938\n"
     ]
    },
    {
     "name": "stderr",
     "output_type": "stream",
     "text": [
      "\r",
      " 41%|██████████████████████████▌                                     | 324/782 [07:59<10:47,  1.41s/it]"
     ]
    },
    {
     "name": "stdout",
     "output_type": "stream",
     "text": [
      "Iter 324.0, Minibatch Loss= 0.912403, Training Accuracy= 0.60938\n"
     ]
    },
    {
     "name": "stderr",
     "output_type": "stream",
     "text": [
      "\r",
      " 42%|██████████████████████████▌                                     | 325/782 [08:01<10:46,  1.41s/it]"
     ]
    },
    {
     "name": "stdout",
     "output_type": "stream",
     "text": [
      "Iter 325.0, Minibatch Loss= 0.910698, Training Accuracy= 0.60938\n"
     ]
    },
    {
     "name": "stderr",
     "output_type": "stream",
     "text": [
      "\r",
      " 42%|██████████████████████████▋                                     | 326/782 [08:02<10:45,  1.42s/it]"
     ]
    },
    {
     "name": "stdout",
     "output_type": "stream",
     "text": [
      "Iter 326.0, Minibatch Loss= 0.909036, Training Accuracy= 0.60938\n"
     ]
    },
    {
     "name": "stderr",
     "output_type": "stream",
     "text": [
      "\r",
      " 42%|██████████████████████████▊                                     | 327/782 [08:04<10:47,  1.42s/it]"
     ]
    },
    {
     "name": "stdout",
     "output_type": "stream",
     "text": [
      "Iter 327.0, Minibatch Loss= 0.906932, Training Accuracy= 0.60938\n"
     ]
    },
    {
     "name": "stderr",
     "output_type": "stream",
     "text": [
      "\r",
      " 42%|██████████████████████████▊                                     | 328/782 [08:05<10:33,  1.40s/it]"
     ]
    },
    {
     "name": "stdout",
     "output_type": "stream",
     "text": [
      "Iter 328.0, Minibatch Loss= 0.904046, Training Accuracy= 0.60938\n"
     ]
    },
    {
     "name": "stderr",
     "output_type": "stream",
     "text": [
      "\r",
      " 42%|██████████████████████████▉                                     | 329/782 [08:06<10:28,  1.39s/it]"
     ]
    },
    {
     "name": "stdout",
     "output_type": "stream",
     "text": [
      "Iter 329.0, Minibatch Loss= 0.899805, Training Accuracy= 0.60938\n"
     ]
    },
    {
     "name": "stderr",
     "output_type": "stream",
     "text": [
      "\r",
      " 42%|███████████████████████████                                     | 330/782 [08:08<10:37,  1.41s/it]"
     ]
    },
    {
     "name": "stdout",
     "output_type": "stream",
     "text": [
      "Iter 330.0, Minibatch Loss= 0.893301, Training Accuracy= 0.60938\n"
     ]
    },
    {
     "name": "stderr",
     "output_type": "stream",
     "text": [
      "\r",
      " 42%|███████████████████████████                                     | 331/782 [08:09<10:45,  1.43s/it]"
     ]
    },
    {
     "name": "stdout",
     "output_type": "stream",
     "text": [
      "Iter 331.0, Minibatch Loss= 0.883647, Training Accuracy= 0.60938\n"
     ]
    },
    {
     "name": "stderr",
     "output_type": "stream",
     "text": [
      "\r",
      " 42%|███████████████████████████▏                                    | 332/782 [08:11<10:42,  1.43s/it]"
     ]
    },
    {
     "name": "stdout",
     "output_type": "stream",
     "text": [
      "Iter 332.0, Minibatch Loss= 0.870820, Training Accuracy= 0.60938\n"
     ]
    },
    {
     "name": "stderr",
     "output_type": "stream",
     "text": [
      "\r",
      " 43%|███████████████████████████▎                                    | 333/782 [08:12<10:42,  1.43s/it]"
     ]
    },
    {
     "name": "stdout",
     "output_type": "stream",
     "text": [
      "Iter 333.0, Minibatch Loss= 0.854830, Training Accuracy= 0.60938\n"
     ]
    },
    {
     "name": "stderr",
     "output_type": "stream",
     "text": [
      "\r",
      " 43%|███████████████████████████▎                                    | 334/782 [08:14<10:39,  1.43s/it]"
     ]
    },
    {
     "name": "stdout",
     "output_type": "stream",
     "text": [
      "Iter 334.0, Minibatch Loss= 0.839194, Training Accuracy= 0.60938\n"
     ]
    },
    {
     "name": "stderr",
     "output_type": "stream",
     "text": [
      "\r",
      " 43%|███████████████████████████▍                                    | 335/782 [08:15<10:37,  1.43s/it]"
     ]
    },
    {
     "name": "stdout",
     "output_type": "stream",
     "text": [
      "Iter 335.0, Minibatch Loss= 0.908216, Training Accuracy= 0.60938\n"
     ]
    },
    {
     "name": "stderr",
     "output_type": "stream",
     "text": [
      "\r",
      " 43%|███████████████████████████▍                                    | 336/782 [08:16<10:36,  1.43s/it]"
     ]
    },
    {
     "name": "stdout",
     "output_type": "stream",
     "text": [
      "Iter 336.0, Minibatch Loss= 1.103173, Training Accuracy= 0.50781\n"
     ]
    },
    {
     "name": "stderr",
     "output_type": "stream",
     "text": [
      "\r",
      " 43%|███████████████████████████▌                                    | 337/782 [08:18<10:33,  1.42s/it]"
     ]
    },
    {
     "name": "stdout",
     "output_type": "stream",
     "text": [
      "Iter 337.0, Minibatch Loss= 0.905350, Training Accuracy= 0.60938\n"
     ]
    },
    {
     "name": "stderr",
     "output_type": "stream",
     "text": [
      "\r",
      " 43%|███████████████████████████▋                                    | 338/782 [08:19<10:28,  1.42s/it]"
     ]
    },
    {
     "name": "stdout",
     "output_type": "stream",
     "text": [
      "Iter 338.0, Minibatch Loss= 0.887930, Training Accuracy= 0.61719\n"
     ]
    },
    {
     "name": "stderr",
     "output_type": "stream",
     "text": [
      "\r",
      " 43%|███████████████████████████▋                                    | 339/782 [08:21<10:16,  1.39s/it]"
     ]
    },
    {
     "name": "stdout",
     "output_type": "stream",
     "text": [
      "Iter 339.0, Minibatch Loss= 0.877355, Training Accuracy= 0.61719\n"
     ]
    },
    {
     "name": "stderr",
     "output_type": "stream",
     "text": [
      "\r",
      " 43%|███████████████████████████▊                                    | 340/782 [08:22<10:15,  1.39s/it]"
     ]
    },
    {
     "name": "stdout",
     "output_type": "stream",
     "text": [
      "Iter 340.0, Minibatch Loss= 0.866121, Training Accuracy= 0.61719\n"
     ]
    },
    {
     "name": "stderr",
     "output_type": "stream",
     "text": [
      "\r",
      " 44%|███████████████████████████▉                                    | 341/782 [08:23<10:16,  1.40s/it]"
     ]
    },
    {
     "name": "stdout",
     "output_type": "stream",
     "text": [
      "Iter 341.0, Minibatch Loss= 0.861018, Training Accuracy= 0.61719\n"
     ]
    },
    {
     "name": "stderr",
     "output_type": "stream",
     "text": [
      "\r",
      " 44%|███████████████████████████▉                                    | 342/782 [08:25<10:17,  1.40s/it]"
     ]
    },
    {
     "name": "stdout",
     "output_type": "stream",
     "text": [
      "Iter 342.0, Minibatch Loss= 0.882945, Training Accuracy= 0.64062\n"
     ]
    },
    {
     "name": "stderr",
     "output_type": "stream",
     "text": [
      "\r",
      " 44%|████████████████████████████                                    | 343/782 [08:26<10:16,  1.40s/it]"
     ]
    },
    {
     "name": "stdout",
     "output_type": "stream",
     "text": [
      "Iter 343.0, Minibatch Loss= 0.965609, Training Accuracy= 0.60938\n"
     ]
    },
    {
     "name": "stderr",
     "output_type": "stream",
     "text": [
      "\r",
      " 44%|████████████████████████████▏                                   | 344/782 [08:28<10:16,  1.41s/it]"
     ]
    },
    {
     "name": "stdout",
     "output_type": "stream",
     "text": [
      "Iter 344.0, Minibatch Loss= 0.863527, Training Accuracy= 0.61719\n"
     ]
    },
    {
     "name": "stderr",
     "output_type": "stream",
     "text": [
      "\r",
      " 44%|████████████████████████████▏                                   | 345/782 [08:29<10:16,  1.41s/it]"
     ]
    },
    {
     "name": "stdout",
     "output_type": "stream",
     "text": [
      "Iter 345.0, Minibatch Loss= 0.840270, Training Accuracy= 0.61719\n"
     ]
    },
    {
     "name": "stderr",
     "output_type": "stream",
     "text": [
      "\r",
      " 44%|████████████████████████████▎                                   | 346/782 [08:30<10:16,  1.41s/it]"
     ]
    },
    {
     "name": "stdout",
     "output_type": "stream",
     "text": [
      "Iter 346.0, Minibatch Loss= 0.825391, Training Accuracy= 0.62500\n"
     ]
    },
    {
     "name": "stderr",
     "output_type": "stream",
     "text": [
      "\r",
      " 44%|████████████████████████████▍                                   | 347/782 [08:32<10:12,  1.41s/it]"
     ]
    },
    {
     "name": "stdout",
     "output_type": "stream",
     "text": [
      "Iter 347.0, Minibatch Loss= 0.830605, Training Accuracy= 0.61719\n"
     ]
    },
    {
     "name": "stderr",
     "output_type": "stream",
     "text": [
      "\r",
      " 45%|████████████████████████████▍                                   | 348/782 [08:33<10:16,  1.42s/it]"
     ]
    },
    {
     "name": "stdout",
     "output_type": "stream",
     "text": [
      "Iter 348.0, Minibatch Loss= 0.986939, Training Accuracy= 0.61719\n"
     ]
    },
    {
     "name": "stderr",
     "output_type": "stream",
     "text": [
      "\r",
      " 45%|████████████████████████████▌                                   | 349/782 [08:35<10:04,  1.40s/it]"
     ]
    },
    {
     "name": "stdout",
     "output_type": "stream",
     "text": [
      "Iter 349.0, Minibatch Loss= 0.836583, Training Accuracy= 0.62500\n"
     ]
    },
    {
     "name": "stderr",
     "output_type": "stream",
     "text": [
      "\r",
      " 45%|████████████████████████████▋                                   | 350/782 [08:36<10:07,  1.41s/it]"
     ]
    },
    {
     "name": "stdout",
     "output_type": "stream",
     "text": [
      "Iter 350.0, Minibatch Loss= 0.857312, Training Accuracy= 0.61719\n"
     ]
    },
    {
     "name": "stderr",
     "output_type": "stream",
     "text": [
      "\r",
      " 45%|████████████████████████████▋                                   | 351/782 [08:37<10:16,  1.43s/it]"
     ]
    },
    {
     "name": "stdout",
     "output_type": "stream",
     "text": [
      "Iter 351.0, Minibatch Loss= 0.972711, Training Accuracy= 0.59375\n"
     ]
    },
    {
     "name": "stderr",
     "output_type": "stream",
     "text": [
      "\r",
      " 45%|████████████████████████████▊                                   | 352/782 [08:39<10:25,  1.45s/it]"
     ]
    },
    {
     "name": "stdout",
     "output_type": "stream",
     "text": [
      "Iter 352.0, Minibatch Loss= 0.968705, Training Accuracy= 0.60938\n"
     ]
    },
    {
     "name": "stderr",
     "output_type": "stream",
     "text": [
      "\r",
      " 45%|████████████████████████████▉                                   | 353/782 [08:40<10:24,  1.46s/it]"
     ]
    },
    {
     "name": "stdout",
     "output_type": "stream",
     "text": [
      "Iter 353.0, Minibatch Loss= 0.918392, Training Accuracy= 0.61719\n"
     ]
    },
    {
     "name": "stderr",
     "output_type": "stream",
     "text": [
      "\r",
      " 45%|████████████████████████████▉                                   | 354/782 [08:42<10:19,  1.45s/it]"
     ]
    },
    {
     "name": "stdout",
     "output_type": "stream",
     "text": [
      "Iter 354.0, Minibatch Loss= 0.903100, Training Accuracy= 0.61719\n"
     ]
    },
    {
     "name": "stderr",
     "output_type": "stream",
     "text": [
      "\r",
      " 45%|█████████████████████████████                                   | 355/782 [08:43<10:13,  1.44s/it]"
     ]
    },
    {
     "name": "stdout",
     "output_type": "stream",
     "text": [
      "Iter 355.0, Minibatch Loss= 0.895626, Training Accuracy= 0.61719\n"
     ]
    },
    {
     "name": "stderr",
     "output_type": "stream",
     "text": [
      "\r",
      " 46%|█████████████████████████████▏                                  | 356/782 [08:45<10:07,  1.43s/it]"
     ]
    },
    {
     "name": "stdout",
     "output_type": "stream",
     "text": [
      "Iter 356.0, Minibatch Loss= 0.890583, Training Accuracy= 0.61719\n"
     ]
    },
    {
     "name": "stderr",
     "output_type": "stream",
     "text": [
      "\r",
      " 46%|█████████████████████████████▏                                  | 357/782 [08:46<10:04,  1.42s/it]"
     ]
    },
    {
     "name": "stdout",
     "output_type": "stream",
     "text": [
      "Iter 357.0, Minibatch Loss= 0.885819, Training Accuracy= 0.61719\n"
     ]
    },
    {
     "name": "stderr",
     "output_type": "stream",
     "text": [
      "\r",
      " 46%|█████████████████████████████▎                                  | 358/782 [08:48<09:59,  1.41s/it]"
     ]
    },
    {
     "name": "stdout",
     "output_type": "stream",
     "text": [
      "Iter 358.0, Minibatch Loss= 0.879823, Training Accuracy= 0.61719\n"
     ]
    },
    {
     "name": "stderr",
     "output_type": "stream",
     "text": [
      "\r",
      " 46%|█████████████████████████████▍                                  | 359/782 [08:49<09:47,  1.39s/it]"
     ]
    },
    {
     "name": "stdout",
     "output_type": "stream",
     "text": [
      "Iter 359.0, Minibatch Loss= 0.870602, Training Accuracy= 0.61719\n"
     ]
    },
    {
     "name": "stderr",
     "output_type": "stream",
     "text": [
      "\r",
      " 46%|█████████████████████████████▍                                  | 360/782 [08:50<09:46,  1.39s/it]"
     ]
    },
    {
     "name": "stdout",
     "output_type": "stream",
     "text": [
      "Iter 360.0, Minibatch Loss= 0.854726, Training Accuracy= 0.61719\n"
     ]
    },
    {
     "name": "stderr",
     "output_type": "stream",
     "text": [
      "\r",
      " 46%|█████████████████████████████▌                                  | 361/782 [08:52<09:46,  1.39s/it]"
     ]
    },
    {
     "name": "stdout",
     "output_type": "stream",
     "text": [
      "Iter 361.0, Minibatch Loss= 0.829050, Training Accuracy= 0.62500\n"
     ]
    },
    {
     "name": "stderr",
     "output_type": "stream",
     "text": [
      "\r",
      " 46%|█████████████████████████████▋                                  | 362/782 [08:53<10:03,  1.44s/it]"
     ]
    },
    {
     "name": "stdout",
     "output_type": "stream",
     "text": [
      "Iter 362.0, Minibatch Loss= 0.801605, Training Accuracy= 0.63281\n"
     ]
    },
    {
     "name": "stderr",
     "output_type": "stream",
     "text": [
      "\r",
      " 46%|█████████████████████████████▋                                  | 363/782 [08:55<10:24,  1.49s/it]"
     ]
    },
    {
     "name": "stdout",
     "output_type": "stream",
     "text": [
      "Iter 363.0, Minibatch Loss= 0.778318, Training Accuracy= 0.64062\n"
     ]
    },
    {
     "name": "stderr",
     "output_type": "stream",
     "text": [
      "\r",
      " 47%|█████████████████████████████▊                                  | 364/782 [08:56<10:17,  1.48s/it]"
     ]
    },
    {
     "name": "stdout",
     "output_type": "stream",
     "text": [
      "Iter 364.0, Minibatch Loss= 0.761654, Training Accuracy= 0.64062\n"
     ]
    },
    {
     "name": "stderr",
     "output_type": "stream",
     "text": [
      "\r",
      " 47%|█████████████████████████████▊                                  | 365/782 [08:58<09:57,  1.43s/it]"
     ]
    },
    {
     "name": "stdout",
     "output_type": "stream",
     "text": [
      "Iter 365.0, Minibatch Loss= 0.923744, Training Accuracy= 0.60938\n"
     ]
    },
    {
     "name": "stderr",
     "output_type": "stream",
     "text": [
      "\r",
      " 47%|█████████████████████████████▉                                  | 366/782 [08:59<09:47,  1.41s/it]"
     ]
    },
    {
     "name": "stdout",
     "output_type": "stream",
     "text": [
      "Iter 366.0, Minibatch Loss= 1.217735, Training Accuracy= 0.53906\n"
     ]
    },
    {
     "name": "stderr",
     "output_type": "stream",
     "text": [
      "\r",
      " 47%|██████████████████████████████                                  | 367/782 [09:00<09:46,  1.41s/it]"
     ]
    },
    {
     "name": "stdout",
     "output_type": "stream",
     "text": [
      "Iter 367.0, Minibatch Loss= 0.924812, Training Accuracy= 0.60938\n"
     ]
    },
    {
     "name": "stderr",
     "output_type": "stream",
     "text": [
      "\r",
      " 47%|██████████████████████████████                                  | 368/782 [09:02<09:49,  1.42s/it]"
     ]
    },
    {
     "name": "stdout",
     "output_type": "stream",
     "text": [
      "Iter 368.0, Minibatch Loss= 0.938094, Training Accuracy= 0.61719\n"
     ]
    },
    {
     "name": "stderr",
     "output_type": "stream",
     "text": [
      "\r",
      " 47%|██████████████████████████████▏                                 | 369/782 [09:03<09:55,  1.44s/it]"
     ]
    },
    {
     "name": "stdout",
     "output_type": "stream",
     "text": [
      "Iter 369.0, Minibatch Loss= 0.890048, Training Accuracy= 0.60938\n"
     ]
    },
    {
     "name": "stderr",
     "output_type": "stream",
     "text": [
      "\r",
      " 47%|██████████████████████████████▎                                 | 370/782 [09:05<09:48,  1.43s/it]"
     ]
    },
    {
     "name": "stdout",
     "output_type": "stream",
     "text": [
      "Iter 370.0, Minibatch Loss= 0.866817, Training Accuracy= 0.63281\n"
     ]
    },
    {
     "name": "stderr",
     "output_type": "stream",
     "text": [
      "\r",
      " 47%|██████████████████████████████▎                                 | 371/782 [09:06<09:47,  1.43s/it]"
     ]
    },
    {
     "name": "stdout",
     "output_type": "stream",
     "text": [
      "Iter 371.0, Minibatch Loss= 0.848640, Training Accuracy= 0.61719\n"
     ]
    },
    {
     "name": "stderr",
     "output_type": "stream",
     "text": [
      "\r",
      " 48%|██████████████████████████████▍                                 | 372/782 [09:08<09:48,  1.44s/it]"
     ]
    },
    {
     "name": "stdout",
     "output_type": "stream",
     "text": [
      "Iter 372.0, Minibatch Loss= 0.850102, Training Accuracy= 0.64062\n"
     ]
    },
    {
     "name": "stderr",
     "output_type": "stream",
     "text": [
      "\r",
      " 48%|██████████████████████████████▌                                 | 373/782 [09:09<09:57,  1.46s/it]"
     ]
    },
    {
     "name": "stdout",
     "output_type": "stream",
     "text": [
      "Iter 373.0, Minibatch Loss= 0.939781, Training Accuracy= 0.60938\n"
     ]
    },
    {
     "name": "stderr",
     "output_type": "stream",
     "text": [
      "\r",
      " 48%|██████████████████████████████▌                                 | 374/782 [09:10<09:50,  1.45s/it]"
     ]
    },
    {
     "name": "stdout",
     "output_type": "stream",
     "text": [
      "Iter 374.0, Minibatch Loss= 0.832616, Training Accuracy= 0.61719\n"
     ]
    },
    {
     "name": "stderr",
     "output_type": "stream",
     "text": [
      "\r",
      " 48%|██████████████████████████████▋                                 | 375/782 [09:12<09:49,  1.45s/it]"
     ]
    },
    {
     "name": "stdout",
     "output_type": "stream",
     "text": [
      "Iter 375.0, Minibatch Loss= 0.818496, Training Accuracy= 0.64844\n"
     ]
    },
    {
     "name": "stderr",
     "output_type": "stream",
     "text": [
      "\r",
      " 48%|██████████████████████████████▊                                 | 376/782 [09:13<09:44,  1.44s/it]"
     ]
    },
    {
     "name": "stdout",
     "output_type": "stream",
     "text": [
      "Iter 376.0, Minibatch Loss= 0.801197, Training Accuracy= 0.65625\n"
     ]
    },
    {
     "name": "stderr",
     "output_type": "stream",
     "text": [
      "\r",
      " 48%|██████████████████████████████▊                                 | 377/782 [09:15<09:32,  1.41s/it]"
     ]
    },
    {
     "name": "stdout",
     "output_type": "stream",
     "text": [
      "Iter 377.0, Minibatch Loss= 0.791222, Training Accuracy= 0.65625\n"
     ]
    },
    {
     "name": "stderr",
     "output_type": "stream",
     "text": [
      "\r",
      " 48%|██████████████████████████████▉                                 | 378/782 [09:16<09:29,  1.41s/it]"
     ]
    },
    {
     "name": "stdout",
     "output_type": "stream",
     "text": [
      "Iter 378.0, Minibatch Loss= 0.781987, Training Accuracy= 0.65625\n"
     ]
    },
    {
     "name": "stderr",
     "output_type": "stream",
     "text": [
      "\r",
      " 48%|███████████████████████████████                                 | 379/782 [09:18<09:31,  1.42s/it]"
     ]
    },
    {
     "name": "stdout",
     "output_type": "stream",
     "text": [
      "Iter 379.0, Minibatch Loss= 0.772033, Training Accuracy= 0.65625\n"
     ]
    },
    {
     "name": "stderr",
     "output_type": "stream",
     "text": [
      "\r",
      " 49%|███████████████████████████████                                 | 380/782 [09:19<09:31,  1.42s/it]"
     ]
    },
    {
     "name": "stdout",
     "output_type": "stream",
     "text": [
      "Iter 380.0, Minibatch Loss= 0.761523, Training Accuracy= 0.65625\n"
     ]
    },
    {
     "name": "stderr",
     "output_type": "stream",
     "text": [
      "\r",
      " 49%|███████████████████████████████▏                                | 381/782 [09:20<09:39,  1.45s/it]"
     ]
    },
    {
     "name": "stdout",
     "output_type": "stream",
     "text": [
      "Iter 381.0, Minibatch Loss= 0.751018, Training Accuracy= 0.65625\n"
     ]
    },
    {
     "name": "stderr",
     "output_type": "stream",
     "text": [
      "\r",
      " 49%|███████████████████████████████▎                                | 382/782 [09:22<09:28,  1.42s/it]"
     ]
    },
    {
     "name": "stdout",
     "output_type": "stream",
     "text": [
      "Iter 382.0, Minibatch Loss= 0.740237, Training Accuracy= 0.65625\n"
     ]
    },
    {
     "name": "stderr",
     "output_type": "stream",
     "text": [
      "\r",
      " 49%|███████████████████████████████▎                                | 383/782 [09:23<09:23,  1.41s/it]"
     ]
    },
    {
     "name": "stdout",
     "output_type": "stream",
     "text": [
      "Iter 383.0, Minibatch Loss= 0.728747, Training Accuracy= 0.65625\n"
     ]
    },
    {
     "name": "stderr",
     "output_type": "stream",
     "text": [
      "\r",
      " 49%|███████████████████████████████▍                                | 384/782 [09:25<09:19,  1.41s/it]"
     ]
    },
    {
     "name": "stdout",
     "output_type": "stream",
     "text": [
      "Iter 384.0, Minibatch Loss= 0.716470, Training Accuracy= 0.65625\n"
     ]
    },
    {
     "name": "stderr",
     "output_type": "stream",
     "text": [
      "\r",
      " 49%|███████████████████████████████▌                                | 385/782 [09:26<09:17,  1.40s/it]"
     ]
    },
    {
     "name": "stdout",
     "output_type": "stream",
     "text": [
      "Iter 385.0, Minibatch Loss= 0.710948, Training Accuracy= 0.65625\n"
     ]
    },
    {
     "name": "stderr",
     "output_type": "stream",
     "text": [
      "\r",
      " 49%|███████████████████████████████▌                                | 386/782 [09:28<09:28,  1.44s/it]"
     ]
    },
    {
     "name": "stdout",
     "output_type": "stream",
     "text": [
      "Iter 386.0, Minibatch Loss= 0.815410, Training Accuracy= 0.57031\n"
     ]
    },
    {
     "name": "stderr",
     "output_type": "stream",
     "text": [
      "\r",
      " 49%|███████████████████████████████▋                                | 387/782 [09:29<09:24,  1.43s/it]"
     ]
    },
    {
     "name": "stdout",
     "output_type": "stream",
     "text": [
      "Iter 387.0, Minibatch Loss= 0.855176, Training Accuracy= 0.65625\n"
     ]
    },
    {
     "name": "stderr",
     "output_type": "stream",
     "text": [
      "\r",
      " 50%|███████████████████████████████▊                                | 388/782 [09:30<09:19,  1.42s/it]"
     ]
    },
    {
     "name": "stdout",
     "output_type": "stream",
     "text": [
      "Iter 388.0, Minibatch Loss= 0.748342, Training Accuracy= 0.65625\n"
     ]
    },
    {
     "name": "stderr",
     "output_type": "stream",
     "text": [
      "\r",
      " 50%|███████████████████████████████▊                                | 389/782 [09:32<09:14,  1.41s/it]"
     ]
    },
    {
     "name": "stdout",
     "output_type": "stream",
     "text": [
      "Iter 389.0, Minibatch Loss= 0.770152, Training Accuracy= 0.65625\n"
     ]
    },
    {
     "name": "stderr",
     "output_type": "stream",
     "text": [
      "\r",
      " 50%|███████████████████████████████▉                                | 390/782 [09:33<09:14,  1.41s/it]"
     ]
    },
    {
     "name": "stdout",
     "output_type": "stream",
     "text": [
      "Iter 390.0, Minibatch Loss= 0.825522, Training Accuracy= 0.65625\n"
     ]
    },
    {
     "name": "stderr",
     "output_type": "stream",
     "text": [
      "\r",
      " 50%|████████████████████████████████                                | 391/782 [09:35<09:26,  1.45s/it]"
     ]
    },
    {
     "name": "stdout",
     "output_type": "stream",
     "text": [
      "Iter 391.0, Minibatch Loss= 0.807445, Training Accuracy= 0.65625\n"
     ]
    },
    {
     "name": "stderr",
     "output_type": "stream",
     "text": [
      "\r",
      " 50%|████████████████████████████████                                | 392/782 [09:36<09:26,  1.45s/it]"
     ]
    },
    {
     "name": "stdout",
     "output_type": "stream",
     "text": [
      "Iter 392.0, Minibatch Loss= 0.794102, Training Accuracy= 0.65625\n"
     ]
    },
    {
     "name": "stderr",
     "output_type": "stream",
     "text": [
      "\r",
      " 50%|████████████████████████████████▏                               | 393/782 [09:38<09:41,  1.49s/it]"
     ]
    },
    {
     "name": "stdout",
     "output_type": "stream",
     "text": [
      "Iter 393.0, Minibatch Loss= 0.784539, Training Accuracy= 0.65625\n"
     ]
    },
    {
     "name": "stderr",
     "output_type": "stream",
     "text": [
      "\r",
      " 50%|████████████████████████████████▏                               | 394/782 [09:39<09:53,  1.53s/it]"
     ]
    },
    {
     "name": "stdout",
     "output_type": "stream",
     "text": [
      "Iter 394.0, Minibatch Loss= 0.778230, Training Accuracy= 0.65625\n"
     ]
    },
    {
     "name": "stderr",
     "output_type": "stream",
     "text": [
      "\r",
      " 51%|████████████████████████████████▎                               | 395/782 [09:41<09:35,  1.49s/it]"
     ]
    },
    {
     "name": "stdout",
     "output_type": "stream",
     "text": [
      "Iter 395.0, Minibatch Loss= 0.774396, Training Accuracy= 0.65625\n"
     ]
    },
    {
     "name": "stderr",
     "output_type": "stream",
     "text": [
      "\r",
      " 51%|████████████████████████████████▍                               | 396/782 [09:42<09:45,  1.52s/it]"
     ]
    },
    {
     "name": "stdout",
     "output_type": "stream",
     "text": [
      "Iter 396.0, Minibatch Loss= 0.771821, Training Accuracy= 0.65625\n"
     ]
    },
    {
     "name": "stderr",
     "output_type": "stream",
     "text": [
      "\r",
      " 51%|████████████████████████████████▍                               | 397/782 [09:44<09:53,  1.54s/it]"
     ]
    },
    {
     "name": "stdout",
     "output_type": "stream",
     "text": [
      "Iter 397.0, Minibatch Loss= 0.769559, Training Accuracy= 0.65625\n"
     ]
    },
    {
     "name": "stderr",
     "output_type": "stream",
     "text": [
      "\r",
      " 51%|████████████████████████████████▌                               | 398/782 [09:45<09:49,  1.53s/it]"
     ]
    },
    {
     "name": "stdout",
     "output_type": "stream",
     "text": [
      "Iter 398.0, Minibatch Loss= 0.767176, Training Accuracy= 0.65625\n"
     ]
    },
    {
     "name": "stderr",
     "output_type": "stream",
     "text": [
      "\r",
      " 51%|████████████████████████████████▋                               | 399/782 [09:47<09:52,  1.55s/it]"
     ]
    },
    {
     "name": "stdout",
     "output_type": "stream",
     "text": [
      "Iter 399.0, Minibatch Loss= 0.764573, Training Accuracy= 0.65625\n"
     ]
    },
    {
     "name": "stderr",
     "output_type": "stream",
     "text": [
      "\r",
      " 51%|████████████████████████████████▋                               | 400/782 [09:48<09:23,  1.48s/it]"
     ]
    },
    {
     "name": "stdout",
     "output_type": "stream",
     "text": [
      "Iter 400.0, Minibatch Loss= 0.763070, Training Accuracy= 0.65625\n"
     ]
    },
    {
     "name": "stderr",
     "output_type": "stream",
     "text": [
      "\r",
      " 51%|████████████████████████████████▊                               | 401/782 [09:50<09:30,  1.50s/it]"
     ]
    },
    {
     "name": "stdout",
     "output_type": "stream",
     "text": [
      "Iter 401.0, Minibatch Loss= 0.778125, Training Accuracy= 0.57812\n"
     ]
    },
    {
     "name": "stderr",
     "output_type": "stream",
     "text": [
      "\r",
      " 51%|████████████████████████████████▉                               | 402/782 [09:51<09:27,  1.49s/it]"
     ]
    },
    {
     "name": "stdout",
     "output_type": "stream",
     "text": [
      "Iter 402.0, Minibatch Loss= 0.864933, Training Accuracy= 0.65625\n"
     ]
    },
    {
     "name": "stderr",
     "output_type": "stream",
     "text": [
      "\r",
      " 52%|████████████████████████████████▉                               | 403/782 [09:53<09:28,  1.50s/it]"
     ]
    },
    {
     "name": "stdout",
     "output_type": "stream",
     "text": [
      "Iter 403.0, Minibatch Loss= 0.813264, Training Accuracy= 0.65625\n"
     ]
    },
    {
     "name": "stderr",
     "output_type": "stream",
     "text": [
      "\r",
      " 52%|█████████████████████████████████                               | 404/782 [09:55<09:46,  1.55s/it]"
     ]
    },
    {
     "name": "stdout",
     "output_type": "stream",
     "text": [
      "Iter 404.0, Minibatch Loss= 0.748226, Training Accuracy= 0.65625\n"
     ]
    },
    {
     "name": "stderr",
     "output_type": "stream",
     "text": [
      "\r",
      " 52%|█████████████████████████████████▏                              | 405/782 [09:56<09:41,  1.54s/it]"
     ]
    },
    {
     "name": "stdout",
     "output_type": "stream",
     "text": [
      "Iter 405.0, Minibatch Loss= 0.708791, Training Accuracy= 0.65625\n"
     ]
    },
    {
     "name": "stderr",
     "output_type": "stream",
     "text": [
      "\r",
      " 52%|█████████████████████████████████▏                              | 406/782 [09:58<09:41,  1.55s/it]"
     ]
    },
    {
     "name": "stdout",
     "output_type": "stream",
     "text": [
      "Iter 406.0, Minibatch Loss= 0.692743, Training Accuracy= 0.65625\n"
     ]
    },
    {
     "name": "stderr",
     "output_type": "stream",
     "text": [
      "\r",
      " 52%|█████████████████████████████████▎                              | 407/782 [09:59<09:31,  1.52s/it]"
     ]
    },
    {
     "name": "stdout",
     "output_type": "stream",
     "text": [
      "Iter 407.0, Minibatch Loss= 0.848604, Training Accuracy= 0.65625\n"
     ]
    },
    {
     "name": "stderr",
     "output_type": "stream",
     "text": [
      "\r",
      " 52%|█████████████████████████████████▍                              | 408/782 [10:01<09:24,  1.51s/it]"
     ]
    },
    {
     "name": "stdout",
     "output_type": "stream",
     "text": [
      "Iter 408.0, Minibatch Loss= 0.692221, Training Accuracy= 0.65625\n"
     ]
    },
    {
     "name": "stderr",
     "output_type": "stream",
     "text": [
      "\r",
      " 52%|█████████████████████████████████▍                              | 409/782 [10:02<09:31,  1.53s/it]"
     ]
    },
    {
     "name": "stdout",
     "output_type": "stream",
     "text": [
      "Iter 409.0, Minibatch Loss= 0.734157, Training Accuracy= 0.65625\n"
     ]
    },
    {
     "name": "stderr",
     "output_type": "stream",
     "text": [
      "\r",
      " 52%|█████████████████████████████████▌                              | 410/782 [10:04<09:16,  1.50s/it]"
     ]
    },
    {
     "name": "stdout",
     "output_type": "stream",
     "text": [
      "Iter 410.0, Minibatch Loss= 0.822394, Training Accuracy= 0.65625\n"
     ]
    },
    {
     "name": "stderr",
     "output_type": "stream",
     "text": [
      "\r",
      " 53%|█████████████████████████████████▋                              | 411/782 [10:05<09:27,  1.53s/it]"
     ]
    },
    {
     "name": "stdout",
     "output_type": "stream",
     "text": [
      "Iter 411.0, Minibatch Loss= 0.775513, Training Accuracy= 0.65625\n"
     ]
    },
    {
     "name": "stderr",
     "output_type": "stream",
     "text": [
      "\r",
      " 53%|█████████████████████████████████▋                              | 412/782 [10:07<09:12,  1.49s/it]"
     ]
    },
    {
     "name": "stdout",
     "output_type": "stream",
     "text": [
      "Iter 412.0, Minibatch Loss= 0.763841, Training Accuracy= 0.65625\n"
     ]
    },
    {
     "name": "stderr",
     "output_type": "stream",
     "text": [
      "\r",
      " 53%|█████████████████████████████████▊                              | 413/782 [10:08<09:27,  1.54s/it]"
     ]
    },
    {
     "name": "stdout",
     "output_type": "stream",
     "text": [
      "Iter 413.0, Minibatch Loss= 0.754160, Training Accuracy= 0.65625\n"
     ]
    },
    {
     "name": "stderr",
     "output_type": "stream",
     "text": [
      "\r",
      " 53%|█████████████████████████████████▉                              | 414/782 [10:10<09:50,  1.61s/it]"
     ]
    },
    {
     "name": "stdout",
     "output_type": "stream",
     "text": [
      "Iter 414.0, Minibatch Loss= 0.745101, Training Accuracy= 0.65625\n"
     ]
    },
    {
     "name": "stderr",
     "output_type": "stream",
     "text": [
      "\r",
      " 53%|█████████████████████████████████▉                              | 415/782 [10:11<09:35,  1.57s/it]"
     ]
    },
    {
     "name": "stdout",
     "output_type": "stream",
     "text": [
      "Iter 415.0, Minibatch Loss= 0.735600, Training Accuracy= 0.65625\n"
     ]
    },
    {
     "name": "stderr",
     "output_type": "stream",
     "text": [
      "\r",
      " 53%|██████████████████████████████████                              | 416/782 [10:13<09:39,  1.58s/it]"
     ]
    },
    {
     "name": "stdout",
     "output_type": "stream",
     "text": [
      "Iter 416.0, Minibatch Loss= 0.724900, Training Accuracy= 0.65625\n"
     ]
    },
    {
     "name": "stderr",
     "output_type": "stream",
     "text": [
      "\r",
      " 53%|██████████████████████████████████▏                             | 417/782 [10:15<09:26,  1.55s/it]"
     ]
    },
    {
     "name": "stdout",
     "output_type": "stream",
     "text": [
      "Iter 417.0, Minibatch Loss= 0.712043, Training Accuracy= 0.65625\n"
     ]
    },
    {
     "name": "stderr",
     "output_type": "stream",
     "text": [
      "\r",
      " 53%|██████████████████████████████████▏                             | 418/782 [10:16<09:14,  1.52s/it]"
     ]
    },
    {
     "name": "stdout",
     "output_type": "stream",
     "text": [
      "Iter 418.0, Minibatch Loss= 0.696950, Training Accuracy= 0.65625\n"
     ]
    },
    {
     "name": "stderr",
     "output_type": "stream",
     "text": [
      "\r",
      " 54%|██████████████████████████████████▎                             | 419/782 [10:18<09:39,  1.60s/it]"
     ]
    },
    {
     "name": "stdout",
     "output_type": "stream",
     "text": [
      "Iter 419.0, Minibatch Loss= 0.737904, Training Accuracy= 0.61719\n"
     ]
    },
    {
     "name": "stderr",
     "output_type": "stream",
     "text": [
      "\r",
      " 54%|██████████████████████████████████▎                             | 420/782 [10:19<09:28,  1.57s/it]"
     ]
    },
    {
     "name": "stdout",
     "output_type": "stream",
     "text": [
      "Iter 420.0, Minibatch Loss= 0.898292, Training Accuracy= 0.65625\n"
     ]
    },
    {
     "name": "stderr",
     "output_type": "stream",
     "text": [
      "\r",
      " 54%|██████████████████████████████████▍                             | 421/782 [10:21<09:35,  1.59s/it]"
     ]
    },
    {
     "name": "stdout",
     "output_type": "stream",
     "text": [
      "Iter 421.0, Minibatch Loss= 0.866153, Training Accuracy= 0.55469\n"
     ]
    },
    {
     "name": "stderr",
     "output_type": "stream",
     "text": [
      "\r",
      " 54%|██████████████████████████████████▌                             | 422/782 [10:22<09:18,  1.55s/it]"
     ]
    },
    {
     "name": "stdout",
     "output_type": "stream",
     "text": [
      "Iter 422.0, Minibatch Loss= 0.834452, Training Accuracy= 0.65625\n"
     ]
    },
    {
     "name": "stderr",
     "output_type": "stream",
     "text": [
      "\r",
      " 54%|██████████████████████████████████▌                             | 423/782 [10:24<09:05,  1.52s/it]"
     ]
    },
    {
     "name": "stdout",
     "output_type": "stream",
     "text": [
      "Iter 423.0, Minibatch Loss= 0.782405, Training Accuracy= 0.65625\n"
     ]
    },
    {
     "name": "stderr",
     "output_type": "stream",
     "text": [
      "\r",
      " 54%|██████████████████████████████████▋                             | 424/782 [10:26<09:17,  1.56s/it]"
     ]
    },
    {
     "name": "stdout",
     "output_type": "stream",
     "text": [
      "Iter 424.0, Minibatch Loss= 0.769958, Training Accuracy= 0.65625\n"
     ]
    },
    {
     "name": "stderr",
     "output_type": "stream",
     "text": [
      "\r",
      " 54%|██████████████████████████████████▊                             | 425/782 [10:27<09:00,  1.51s/it]"
     ]
    },
    {
     "name": "stdout",
     "output_type": "stream",
     "text": [
      "Iter 425.0, Minibatch Loss= 0.760793, Training Accuracy= 0.65625\n"
     ]
    },
    {
     "name": "stderr",
     "output_type": "stream",
     "text": [
      "\r",
      " 54%|██████████████████████████████████▊                             | 426/782 [10:29<09:20,  1.58s/it]"
     ]
    },
    {
     "name": "stdout",
     "output_type": "stream",
     "text": [
      "Iter 426.0, Minibatch Loss= 0.751998, Training Accuracy= 0.65625\n"
     ]
    },
    {
     "name": "stderr",
     "output_type": "stream",
     "text": [
      "\r",
      " 55%|██████████████████████████████████▉                             | 427/782 [10:30<09:08,  1.55s/it]"
     ]
    },
    {
     "name": "stdout",
     "output_type": "stream",
     "text": [
      "Iter 427.0, Minibatch Loss= 0.739773, Training Accuracy= 0.65625\n"
     ]
    },
    {
     "name": "stderr",
     "output_type": "stream",
     "text": [
      "\r",
      " 55%|███████████████████████████████████                             | 428/782 [10:32<09:07,  1.55s/it]"
     ]
    },
    {
     "name": "stdout",
     "output_type": "stream",
     "text": [
      "Iter 428.0, Minibatch Loss= 0.719860, Training Accuracy= 0.65625\n"
     ]
    },
    {
     "name": "stderr",
     "output_type": "stream",
     "text": [
      "\r",
      " 55%|███████████████████████████████████                             | 429/782 [10:33<09:22,  1.59s/it]"
     ]
    },
    {
     "name": "stdout",
     "output_type": "stream",
     "text": [
      "Iter 429.0, Minibatch Loss= 0.698628, Training Accuracy= 0.65625\n"
     ]
    },
    {
     "name": "stderr",
     "output_type": "stream",
     "text": [
      "\r",
      " 55%|███████████████████████████████████▏                            | 430/782 [10:35<09:04,  1.55s/it]"
     ]
    },
    {
     "name": "stdout",
     "output_type": "stream",
     "text": [
      "Iter 430.0, Minibatch Loss= 0.686305, Training Accuracy= 0.65625\n"
     ]
    },
    {
     "name": "stderr",
     "output_type": "stream",
     "text": [
      "\r",
      " 55%|███████████████████████████████████▎                            | 431/782 [10:36<09:05,  1.55s/it]"
     ]
    },
    {
     "name": "stdout",
     "output_type": "stream",
     "text": [
      "Iter 431.0, Minibatch Loss= 0.684207, Training Accuracy= 0.66406\n"
     ]
    },
    {
     "name": "stderr",
     "output_type": "stream",
     "text": [
      "\r",
      " 55%|███████████████████████████████████▎                            | 432/782 [10:38<09:04,  1.55s/it]"
     ]
    },
    {
     "name": "stdout",
     "output_type": "stream",
     "text": [
      "Iter 432.0, Minibatch Loss= 0.831497, Training Accuracy= 0.65625\n"
     ]
    },
    {
     "name": "stderr",
     "output_type": "stream",
     "text": [
      "\r",
      " 55%|███████████████████████████████████▍                            | 433/782 [10:39<09:02,  1.55s/it]"
     ]
    },
    {
     "name": "stdout",
     "output_type": "stream",
     "text": [
      "Iter 433.0, Minibatch Loss= 0.845484, Training Accuracy= 0.65625\n"
     ]
    },
    {
     "name": "stderr",
     "output_type": "stream",
     "text": [
      "\r",
      " 55%|███████████████████████████████████▌                            | 434/782 [10:41<08:53,  1.53s/it]"
     ]
    },
    {
     "name": "stdout",
     "output_type": "stream",
     "text": [
      "Iter 434.0, Minibatch Loss= 0.787150, Training Accuracy= 0.65625\n"
     ]
    },
    {
     "name": "stderr",
     "output_type": "stream",
     "text": [
      "\r",
      " 56%|███████████████████████████████████▌                            | 435/782 [10:43<08:54,  1.54s/it]"
     ]
    },
    {
     "name": "stdout",
     "output_type": "stream",
     "text": [
      "Iter 435.0, Minibatch Loss= 0.780899, Training Accuracy= 0.65625\n"
     ]
    },
    {
     "name": "stderr",
     "output_type": "stream",
     "text": [
      "\r",
      " 56%|███████████████████████████████████▋                            | 436/782 [10:44<09:12,  1.60s/it]"
     ]
    },
    {
     "name": "stdout",
     "output_type": "stream",
     "text": [
      "Iter 436.0, Minibatch Loss= 0.779595, Training Accuracy= 0.65625\n"
     ]
    },
    {
     "name": "stderr",
     "output_type": "stream",
     "text": [
      "\r",
      " 56%|███████████████████████████████████▊                            | 437/782 [10:46<08:58,  1.56s/it]"
     ]
    },
    {
     "name": "stdout",
     "output_type": "stream",
     "text": [
      "Iter 437.0, Minibatch Loss= 0.801042, Training Accuracy= 0.65625\n"
     ]
    },
    {
     "name": "stderr",
     "output_type": "stream",
     "text": [
      "\r",
      " 56%|███████████████████████████████████▊                            | 438/782 [10:47<08:46,  1.53s/it]"
     ]
    },
    {
     "name": "stdout",
     "output_type": "stream",
     "text": [
      "Iter 438.0, Minibatch Loss= 0.891178, Training Accuracy= 0.42969\n"
     ]
    },
    {
     "name": "stderr",
     "output_type": "stream",
     "text": [
      "\r",
      " 56%|███████████████████████████████████▉                            | 439/782 [10:49<08:48,  1.54s/it]"
     ]
    },
    {
     "name": "stdout",
     "output_type": "stream",
     "text": [
      "Iter 439.0, Minibatch Loss= 0.840140, Training Accuracy= 0.65625\n"
     ]
    },
    {
     "name": "stderr",
     "output_type": "stream",
     "text": [
      "\r",
      " 56%|████████████████████████████████████                            | 440/782 [10:50<08:22,  1.47s/it]"
     ]
    },
    {
     "name": "stdout",
     "output_type": "stream",
     "text": [
      "Iter 440.0, Minibatch Loss= 0.805420, Training Accuracy= 0.65625\n"
     ]
    },
    {
     "name": "stderr",
     "output_type": "stream",
     "text": [
      "\r",
      " 56%|████████████████████████████████████                            | 441/782 [10:52<08:31,  1.50s/it]"
     ]
    },
    {
     "name": "stdout",
     "output_type": "stream",
     "text": [
      "Iter 441.0, Minibatch Loss= 0.797562, Training Accuracy= 0.65625\n"
     ]
    },
    {
     "name": "stderr",
     "output_type": "stream",
     "text": [
      "\r",
      " 57%|████████████████████████████████████▏                           | 442/782 [10:53<08:23,  1.48s/it]"
     ]
    },
    {
     "name": "stdout",
     "output_type": "stream",
     "text": [
      "Iter 442.0, Minibatch Loss= 0.790720, Training Accuracy= 0.65625\n"
     ]
    },
    {
     "name": "stderr",
     "output_type": "stream",
     "text": [
      "\r",
      " 57%|████████████████████████████████████▎                           | 443/782 [10:55<08:19,  1.47s/it]"
     ]
    },
    {
     "name": "stdout",
     "output_type": "stream",
     "text": [
      "Iter 443.0, Minibatch Loss= 0.784477, Training Accuracy= 0.65625\n"
     ]
    },
    {
     "name": "stderr",
     "output_type": "stream",
     "text": [
      "\r",
      " 57%|████████████████████████████████████▎                           | 444/782 [10:56<08:26,  1.50s/it]"
     ]
    },
    {
     "name": "stdout",
     "output_type": "stream",
     "text": [
      "Iter 444.0, Minibatch Loss= 0.779529, Training Accuracy= 0.65625\n"
     ]
    },
    {
     "name": "stderr",
     "output_type": "stream",
     "text": [
      "\r",
      " 57%|████████████████████████████████████▍                           | 445/782 [10:57<08:12,  1.46s/it]"
     ]
    },
    {
     "name": "stdout",
     "output_type": "stream",
     "text": [
      "Iter 445.0, Minibatch Loss= 0.776247, Training Accuracy= 0.65625\n"
     ]
    },
    {
     "name": "stderr",
     "output_type": "stream",
     "text": [
      "\r",
      " 57%|████████████████████████████████████▌                           | 446/782 [10:59<08:17,  1.48s/it]"
     ]
    },
    {
     "name": "stdout",
     "output_type": "stream",
     "text": [
      "Iter 446.0, Minibatch Loss= 0.774230, Training Accuracy= 0.65625\n"
     ]
    },
    {
     "name": "stderr",
     "output_type": "stream",
     "text": [
      "\r",
      " 57%|████████████████████████████████████▌                           | 447/782 [11:00<08:10,  1.46s/it]"
     ]
    },
    {
     "name": "stdout",
     "output_type": "stream",
     "text": [
      "Iter 447.0, Minibatch Loss= 0.772822, Training Accuracy= 0.65625\n"
     ]
    },
    {
     "name": "stderr",
     "output_type": "stream",
     "text": [
      "\r",
      " 57%|████████████████████████████████████▋                           | 448/782 [11:02<08:11,  1.47s/it]"
     ]
    },
    {
     "name": "stdout",
     "output_type": "stream",
     "text": [
      "Iter 448.0, Minibatch Loss= 0.771587, Training Accuracy= 0.65625\n"
     ]
    },
    {
     "name": "stderr",
     "output_type": "stream",
     "text": [
      "\r",
      " 57%|████████████████████████████████████▋                           | 449/782 [11:04<08:25,  1.52s/it]"
     ]
    },
    {
     "name": "stdout",
     "output_type": "stream",
     "text": [
      "Iter 449.0, Minibatch Loss= 0.770349, Training Accuracy= 0.65625\n"
     ]
    },
    {
     "name": "stderr",
     "output_type": "stream",
     "text": [
      "\r",
      " 58%|████████████████████████████████████▊                           | 450/782 [11:05<08:17,  1.50s/it]"
     ]
    },
    {
     "name": "stdout",
     "output_type": "stream",
     "text": [
      "Iter 450.0, Minibatch Loss= 0.769469, Training Accuracy= 0.65625\n"
     ]
    },
    {
     "name": "stderr",
     "output_type": "stream",
     "text": [
      "\r",
      " 58%|████████████████████████████████████▉                           | 451/782 [11:06<08:10,  1.48s/it]"
     ]
    },
    {
     "name": "stdout",
     "output_type": "stream",
     "text": [
      "Iter 451.0, Minibatch Loss= 0.778111, Training Accuracy= 0.65625\n"
     ]
    },
    {
     "name": "stderr",
     "output_type": "stream",
     "text": [
      "\r",
      " 58%|████████████████████████████████████▉                           | 452/782 [11:08<08:08,  1.48s/it]"
     ]
    },
    {
     "name": "stdout",
     "output_type": "stream",
     "text": [
      "Iter 452.0, Minibatch Loss= 0.870557, Training Accuracy= 0.42188\n"
     ]
    },
    {
     "name": "stderr",
     "output_type": "stream",
     "text": [
      "\r",
      " 58%|█████████████████████████████████████                           | 453/782 [11:09<08:09,  1.49s/it]"
     ]
    },
    {
     "name": "stdout",
     "output_type": "stream",
     "text": [
      "Iter 453.0, Minibatch Loss= 0.840229, Training Accuracy= 0.65625\n"
     ]
    },
    {
     "name": "stderr",
     "output_type": "stream",
     "text": [
      "\r",
      " 58%|█████████████████████████████████████▏                          | 454/782 [11:11<08:13,  1.50s/it]"
     ]
    },
    {
     "name": "stdout",
     "output_type": "stream",
     "text": [
      "Iter 454.0, Minibatch Loss= 0.794588, Training Accuracy= 0.65625\n"
     ]
    },
    {
     "name": "stderr",
     "output_type": "stream",
     "text": [
      "\r",
      " 58%|█████████████████████████████████████▏                          | 455/782 [11:12<08:04,  1.48s/it]"
     ]
    },
    {
     "name": "stdout",
     "output_type": "stream",
     "text": [
      "Iter 455.0, Minibatch Loss= 0.786227, Training Accuracy= 0.65625\n"
     ]
    },
    {
     "name": "stderr",
     "output_type": "stream",
     "text": [
      "\r",
      " 58%|█████████████████████████████████████▎                          | 456/782 [11:14<07:56,  1.46s/it]"
     ]
    },
    {
     "name": "stdout",
     "output_type": "stream",
     "text": [
      "Iter 456.0, Minibatch Loss= 0.778378, Training Accuracy= 0.65625\n"
     ]
    },
    {
     "name": "stderr",
     "output_type": "stream",
     "text": [
      "\r",
      " 58%|█████████████████████████████████████▍                          | 457/782 [11:15<07:50,  1.45s/it]"
     ]
    },
    {
     "name": "stdout",
     "output_type": "stream",
     "text": [
      "Iter 457.0, Minibatch Loss= 0.772271, Training Accuracy= 0.65625\n"
     ]
    },
    {
     "name": "stderr",
     "output_type": "stream",
     "text": [
      "\r",
      " 59%|█████████████████████████████████████▍                          | 458/782 [11:17<07:48,  1.45s/it]"
     ]
    },
    {
     "name": "stdout",
     "output_type": "stream",
     "text": [
      "Iter 458.0, Minibatch Loss= 0.768266, Training Accuracy= 0.65625\n"
     ]
    },
    {
     "name": "stderr",
     "output_type": "stream",
     "text": [
      "\r",
      " 59%|█████████████████████████████████████▌                          | 459/782 [11:18<07:54,  1.47s/it]"
     ]
    },
    {
     "name": "stdout",
     "output_type": "stream",
     "text": [
      "Iter 459.0, Minibatch Loss= 0.765354, Training Accuracy= 0.65625\n"
     ]
    },
    {
     "name": "stderr",
     "output_type": "stream",
     "text": [
      "\r",
      " 59%|█████████████████████████████████████▋                          | 460/782 [11:20<07:43,  1.44s/it]"
     ]
    },
    {
     "name": "stdout",
     "output_type": "stream",
     "text": [
      "Iter 460.0, Minibatch Loss= 0.762926, Training Accuracy= 0.65625\n"
     ]
    },
    {
     "name": "stderr",
     "output_type": "stream",
     "text": [
      "\r",
      " 59%|█████████████████████████████████████▋                          | 461/782 [11:21<07:42,  1.44s/it]"
     ]
    },
    {
     "name": "stdout",
     "output_type": "stream",
     "text": [
      "Iter 461.0, Minibatch Loss= 0.769215, Training Accuracy= 0.65625\n"
     ]
    },
    {
     "name": "stderr",
     "output_type": "stream",
     "text": [
      "\r",
      " 59%|█████████████████████████████████████▊                          | 462/782 [11:22<07:38,  1.43s/it]"
     ]
    },
    {
     "name": "stdout",
     "output_type": "stream",
     "text": [
      "Iter 462.0, Minibatch Loss= 0.942890, Training Accuracy= 0.65625\n"
     ]
    },
    {
     "name": "stderr",
     "output_type": "stream",
     "text": [
      "\r",
      " 59%|█████████████████████████████████████▉                          | 463/782 [11:24<07:36,  1.43s/it]"
     ]
    },
    {
     "name": "stdout",
     "output_type": "stream",
     "text": [
      "Iter 463.0, Minibatch Loss= 0.850308, Training Accuracy= 0.65625\n"
     ]
    },
    {
     "name": "stderr",
     "output_type": "stream",
     "text": [
      "\r",
      " 59%|█████████████████████████████████████▉                          | 464/782 [11:25<07:44,  1.46s/it]"
     ]
    },
    {
     "name": "stdout",
     "output_type": "stream",
     "text": [
      "Iter 464.0, Minibatch Loss= 0.816838, Training Accuracy= 0.65625\n"
     ]
    },
    {
     "name": "stderr",
     "output_type": "stream",
     "text": [
      "\r",
      " 59%|██████████████████████████████████████                          | 465/782 [11:27<07:40,  1.45s/it]"
     ]
    },
    {
     "name": "stdout",
     "output_type": "stream",
     "text": [
      "Iter 465.0, Minibatch Loss= 0.814559, Training Accuracy= 0.65625\n"
     ]
    },
    {
     "name": "stderr",
     "output_type": "stream",
     "text": [
      "\r",
      " 60%|██████████████████████████████████████▏                         | 466/782 [11:28<07:39,  1.45s/it]"
     ]
    },
    {
     "name": "stdout",
     "output_type": "stream",
     "text": [
      "Iter 466.0, Minibatch Loss= 0.812408, Training Accuracy= 0.65625\n"
     ]
    },
    {
     "name": "stderr",
     "output_type": "stream",
     "text": [
      "\r",
      " 60%|██████████████████████████████████████▏                         | 467/782 [11:30<07:37,  1.45s/it]"
     ]
    },
    {
     "name": "stdout",
     "output_type": "stream",
     "text": [
      "Iter 467.0, Minibatch Loss= 0.810062, Training Accuracy= 0.65625\n"
     ]
    },
    {
     "name": "stderr",
     "output_type": "stream",
     "text": [
      "\r",
      " 60%|██████████████████████████████████████▎                         | 468/782 [11:31<07:33,  1.45s/it]"
     ]
    },
    {
     "name": "stdout",
     "output_type": "stream",
     "text": [
      "Iter 468.0, Minibatch Loss= 0.807375, Training Accuracy= 0.65625\n"
     ]
    },
    {
     "name": "stderr",
     "output_type": "stream",
     "text": [
      "\r",
      " 60%|██████████████████████████████████████▍                         | 469/782 [11:33<07:46,  1.49s/it]"
     ]
    },
    {
     "name": "stdout",
     "output_type": "stream",
     "text": [
      "Iter 469.0, Minibatch Loss= 0.804189, Training Accuracy= 0.65625\n"
     ]
    },
    {
     "name": "stderr",
     "output_type": "stream",
     "text": [
      "\r",
      " 60%|██████████████████████████████████████▍                         | 470/782 [11:34<07:40,  1.47s/it]"
     ]
    },
    {
     "name": "stdout",
     "output_type": "stream",
     "text": [
      "Iter 470.0, Minibatch Loss= 0.800333, Training Accuracy= 0.65625\n"
     ]
    },
    {
     "name": "stderr",
     "output_type": "stream",
     "text": [
      "\r",
      " 60%|██████████████████████████████████████▌                         | 471/782 [11:36<07:35,  1.47s/it]"
     ]
    },
    {
     "name": "stdout",
     "output_type": "stream",
     "text": [
      "Iter 471.0, Minibatch Loss= 0.795635, Training Accuracy= 0.65625\n"
     ]
    },
    {
     "name": "stderr",
     "output_type": "stream",
     "text": [
      "\r",
      " 60%|██████████████████████████████████████▋                         | 472/782 [11:37<07:43,  1.50s/it]"
     ]
    },
    {
     "name": "stdout",
     "output_type": "stream",
     "text": [
      "Iter 472.0, Minibatch Loss= 0.789968, Training Accuracy= 0.65625\n"
     ]
    },
    {
     "name": "stderr",
     "output_type": "stream",
     "text": [
      "\r",
      " 60%|██████████████████████████████████████▋                         | 473/782 [11:39<07:36,  1.48s/it]"
     ]
    },
    {
     "name": "stdout",
     "output_type": "stream",
     "text": [
      "Iter 473.0, Minibatch Loss= 0.783359, Training Accuracy= 0.65625\n"
     ]
    },
    {
     "name": "stderr",
     "output_type": "stream",
     "text": [
      "\r",
      " 61%|██████████████████████████████████████▊                         | 474/782 [11:40<07:42,  1.50s/it]"
     ]
    },
    {
     "name": "stdout",
     "output_type": "stream",
     "text": [
      "Iter 474.0, Minibatch Loss= 0.776169, Training Accuracy= 0.65625\n"
     ]
    },
    {
     "name": "stderr",
     "output_type": "stream",
     "text": [
      "\r",
      " 61%|██████████████████████████████████████▊                         | 475/782 [11:42<07:31,  1.47s/it]"
     ]
    },
    {
     "name": "stdout",
     "output_type": "stream",
     "text": [
      "Iter 475.0, Minibatch Loss= 0.769169, Training Accuracy= 0.64844\n"
     ]
    },
    {
     "name": "stderr",
     "output_type": "stream",
     "text": [
      "\r",
      " 61%|██████████████████████████████████████▉                         | 476/782 [11:43<07:25,  1.45s/it]"
     ]
    },
    {
     "name": "stdout",
     "output_type": "stream",
     "text": [
      "Iter 476.0, Minibatch Loss= 0.764108, Training Accuracy= 0.64844\n"
     ]
    },
    {
     "name": "stderr",
     "output_type": "stream",
     "text": [
      "\r",
      " 61%|███████████████████████████████████████                         | 477/782 [11:44<07:25,  1.46s/it]"
     ]
    },
    {
     "name": "stdout",
     "output_type": "stream",
     "text": [
      "Iter 477.0, Minibatch Loss= 0.960817, Training Accuracy= 0.41406\n"
     ]
    },
    {
     "name": "stderr",
     "output_type": "stream",
     "text": [
      "\r",
      " 61%|███████████████████████████████████████                         | 478/782 [11:46<07:14,  1.43s/it]"
     ]
    },
    {
     "name": "stdout",
     "output_type": "stream",
     "text": [
      "Iter 478.0, Minibatch Loss= 0.842973, Training Accuracy= 0.65625\n"
     ]
    },
    {
     "name": "stderr",
     "output_type": "stream",
     "text": [
      "\r",
      " 61%|███████████████████████████████████████▏                        | 479/782 [11:47<07:25,  1.47s/it]"
     ]
    },
    {
     "name": "stdout",
     "output_type": "stream",
     "text": [
      "Iter 479.0, Minibatch Loss= 0.855796, Training Accuracy= 0.65625\n"
     ]
    },
    {
     "name": "stderr",
     "output_type": "stream",
     "text": [
      "\r",
      " 61%|███████████████████████████████████████▎                        | 480/782 [11:49<07:19,  1.46s/it]"
     ]
    },
    {
     "name": "stdout",
     "output_type": "stream",
     "text": [
      "Iter 480.0, Minibatch Loss= 0.896058, Training Accuracy= 0.53125\n"
     ]
    },
    {
     "name": "stderr",
     "output_type": "stream",
     "text": [
      "\r",
      " 62%|███████████████████████████████████████▎                        | 481/782 [11:50<07:18,  1.46s/it]"
     ]
    },
    {
     "name": "stdout",
     "output_type": "stream",
     "text": [
      "Iter 481.0, Minibatch Loss= 1.001723, Training Accuracy= 0.65625\n"
     ]
    },
    {
     "name": "stderr",
     "output_type": "stream",
     "text": [
      "\r",
      " 62%|███████████████████████████████████████▍                        | 482/782 [11:52<07:25,  1.49s/it]"
     ]
    },
    {
     "name": "stdout",
     "output_type": "stream",
     "text": [
      "Iter 482.0, Minibatch Loss= 0.828397, Training Accuracy= 0.65625\n"
     ]
    },
    {
     "name": "stderr",
     "output_type": "stream",
     "text": [
      "\r",
      " 62%|███████████████████████████████████████▌                        | 483/782 [11:53<07:16,  1.46s/it]"
     ]
    },
    {
     "name": "stdout",
     "output_type": "stream",
     "text": [
      "Iter 483.0, Minibatch Loss= 0.816943, Training Accuracy= 0.65625\n"
     ]
    },
    {
     "name": "stderr",
     "output_type": "stream",
     "text": [
      "\r",
      " 62%|███████████████████████████████████████▌                        | 484/782 [11:55<07:28,  1.50s/it]"
     ]
    },
    {
     "name": "stdout",
     "output_type": "stream",
     "text": [
      "Iter 484.0, Minibatch Loss= 0.813407, Training Accuracy= 0.65625\n"
     ]
    },
    {
     "name": "stderr",
     "output_type": "stream",
     "text": [
      "\r",
      " 62%|███████████████████████████████████████▋                        | 485/782 [11:56<07:23,  1.49s/it]"
     ]
    },
    {
     "name": "stdout",
     "output_type": "stream",
     "text": [
      "Iter 485.0, Minibatch Loss= 0.810652, Training Accuracy= 0.65625\n"
     ]
    },
    {
     "name": "stderr",
     "output_type": "stream",
     "text": [
      "\r",
      " 62%|███████████████████████████████████████▊                        | 486/782 [11:58<07:14,  1.47s/it]"
     ]
    },
    {
     "name": "stdout",
     "output_type": "stream",
     "text": [
      "Iter 486.0, Minibatch Loss= 0.808007, Training Accuracy= 0.65625\n"
     ]
    },
    {
     "name": "stderr",
     "output_type": "stream",
     "text": [
      "\r",
      " 62%|███████████████████████████████████████▊                        | 487/782 [11:59<07:22,  1.50s/it]"
     ]
    },
    {
     "name": "stdout",
     "output_type": "stream",
     "text": [
      "Iter 487.0, Minibatch Loss= 0.805346, Training Accuracy= 0.65625\n"
     ]
    },
    {
     "name": "stderr",
     "output_type": "stream",
     "text": [
      "\r",
      " 62%|███████████████████████████████████████▉                        | 488/782 [12:01<07:11,  1.47s/it]"
     ]
    },
    {
     "name": "stdout",
     "output_type": "stream",
     "text": [
      "Iter 488.0, Minibatch Loss= 0.802583, Training Accuracy= 0.65625\n"
     ]
    },
    {
     "name": "stderr",
     "output_type": "stream",
     "text": [
      "\r",
      " 63%|████████████████████████████████████████                        | 489/782 [12:02<07:09,  1.47s/it]"
     ]
    },
    {
     "name": "stdout",
     "output_type": "stream",
     "text": [
      "Iter 489.0, Minibatch Loss= 0.799645, Training Accuracy= 0.65625\n"
     ]
    },
    {
     "name": "stderr",
     "output_type": "stream",
     "text": [
      "\r",
      " 63%|████████████████████████████████████████                        | 490/782 [12:04<07:07,  1.46s/it]"
     ]
    },
    {
     "name": "stdout",
     "output_type": "stream",
     "text": [
      "Iter 490.0, Minibatch Loss= 0.796468, Training Accuracy= 0.65625\n"
     ]
    },
    {
     "name": "stderr",
     "output_type": "stream",
     "text": [
      "\r",
      " 63%|████████████████████████████████████████▏                       | 491/782 [12:05<07:10,  1.48s/it]"
     ]
    },
    {
     "name": "stdout",
     "output_type": "stream",
     "text": [
      "Iter 491.0, Minibatch Loss= 0.792995, Training Accuracy= 0.65625\n"
     ]
    },
    {
     "name": "stderr",
     "output_type": "stream",
     "text": [
      "\r",
      " 63%|████████████████████████████████████████▎                       | 492/782 [12:07<07:22,  1.52s/it]"
     ]
    },
    {
     "name": "stdout",
     "output_type": "stream",
     "text": [
      "Iter 492.0, Minibatch Loss= 0.789167, Training Accuracy= 0.65625\n"
     ]
    },
    {
     "name": "stderr",
     "output_type": "stream",
     "text": [
      "\r",
      " 63%|████████████████████████████████████████▎                       | 493/782 [12:08<07:18,  1.52s/it]"
     ]
    },
    {
     "name": "stdout",
     "output_type": "stream",
     "text": [
      "Iter 493.0, Minibatch Loss= 0.784918, Training Accuracy= 0.65625\n"
     ]
    },
    {
     "name": "stderr",
     "output_type": "stream",
     "text": [
      "\r",
      " 63%|████████████████████████████████████████▍                       | 494/782 [12:10<07:18,  1.52s/it]"
     ]
    },
    {
     "name": "stdout",
     "output_type": "stream",
     "text": [
      "Iter 494.0, Minibatch Loss= 0.780134, Training Accuracy= 0.65625\n"
     ]
    },
    {
     "name": "stderr",
     "output_type": "stream",
     "text": [
      "\r",
      " 63%|████████████████████████████████████████▌                       | 495/782 [12:11<07:10,  1.50s/it]"
     ]
    },
    {
     "name": "stdout",
     "output_type": "stream",
     "text": [
      "Iter 495.0, Minibatch Loss= 0.774568, Training Accuracy= 0.65625\n"
     ]
    },
    {
     "name": "stderr",
     "output_type": "stream",
     "text": [
      "\r",
      " 63%|████████████████████████████████████████▌                       | 496/782 [12:13<07:03,  1.48s/it]"
     ]
    },
    {
     "name": "stdout",
     "output_type": "stream",
     "text": [
      "Iter 496.0, Minibatch Loss= 0.767690, Training Accuracy= 0.65625\n"
     ]
    },
    {
     "name": "stderr",
     "output_type": "stream",
     "text": [
      "\r",
      " 64%|████████████████████████████████████████▋                       | 497/782 [12:14<07:10,  1.51s/it]"
     ]
    },
    {
     "name": "stdout",
     "output_type": "stream",
     "text": [
      "Iter 497.0, Minibatch Loss= 0.758562, Training Accuracy= 0.65625\n"
     ]
    },
    {
     "name": "stderr",
     "output_type": "stream",
     "text": [
      "\r",
      " 64%|████████████████████████████████████████▊                       | 498/782 [12:16<07:01,  1.48s/it]"
     ]
    },
    {
     "name": "stdout",
     "output_type": "stream",
     "text": [
      "Iter 498.0, Minibatch Loss= 0.746259, Training Accuracy= 0.65625\n"
     ]
    },
    {
     "name": "stderr",
     "output_type": "stream",
     "text": [
      "\r",
      " 64%|████████████████████████████████████████▊                       | 499/782 [12:17<06:57,  1.48s/it]"
     ]
    },
    {
     "name": "stdout",
     "output_type": "stream",
     "text": [
      "Iter 499.0, Minibatch Loss= 0.731316, Training Accuracy= 0.65625\n"
     ]
    },
    {
     "name": "stderr",
     "output_type": "stream",
     "text": [
      "\r",
      " 64%|████████████████████████████████████████▉                       | 500/782 [12:19<07:01,  1.50s/it]"
     ]
    },
    {
     "name": "stdout",
     "output_type": "stream",
     "text": [
      "Iter 500.0, Minibatch Loss= 1.019597, Training Accuracy= 0.40625\n"
     ]
    },
    {
     "name": "stderr",
     "output_type": "stream",
     "text": [
      "\r",
      " 64%|█████████████████████████████████████████                       | 501/782 [12:20<06:49,  1.46s/it]"
     ]
    },
    {
     "name": "stdout",
     "output_type": "stream",
     "text": [
      "Iter 501.0, Minibatch Loss= 0.983752, Training Accuracy= 0.50781\n"
     ]
    },
    {
     "name": "stderr",
     "output_type": "stream",
     "text": [
      "\r",
      " 64%|█████████████████████████████████████████                       | 502/782 [12:22<06:52,  1.47s/it]"
     ]
    },
    {
     "name": "stdout",
     "output_type": "stream",
     "text": [
      "Iter 502.0, Minibatch Loss= 0.963273, Training Accuracy= 0.51562\n"
     ]
    },
    {
     "name": "stderr",
     "output_type": "stream",
     "text": [
      "\r",
      " 64%|█████████████████████████████████████████▏                      | 503/782 [12:23<06:46,  1.46s/it]"
     ]
    },
    {
     "name": "stdout",
     "output_type": "stream",
     "text": [
      "Iter 503.0, Minibatch Loss= 0.942279, Training Accuracy= 0.50781\n"
     ]
    },
    {
     "name": "stderr",
     "output_type": "stream",
     "text": [
      "\r",
      " 64%|█████████████████████████████████████████▏                      | 504/782 [12:24<06:41,  1.44s/it]"
     ]
    },
    {
     "name": "stdout",
     "output_type": "stream",
     "text": [
      "Iter 504.0, Minibatch Loss= 0.923505, Training Accuracy= 0.50781\n"
     ]
    },
    {
     "name": "stderr",
     "output_type": "stream",
     "text": [
      "\r",
      " 65%|█████████████████████████████████████████▎                      | 505/782 [12:26<06:46,  1.47s/it]"
     ]
    },
    {
     "name": "stdout",
     "output_type": "stream",
     "text": [
      "Iter 505.0, Minibatch Loss= 1.048831, Training Accuracy= 0.41406\n"
     ]
    },
    {
     "name": "stderr",
     "output_type": "stream",
     "text": [
      "\r",
      " 65%|█████████████████████████████████████████▍                      | 506/782 [12:27<06:38,  1.44s/it]"
     ]
    },
    {
     "name": "stdout",
     "output_type": "stream",
     "text": [
      "Iter 506.0, Minibatch Loss= 1.082009, Training Accuracy= 0.50781\n"
     ]
    },
    {
     "name": "stderr",
     "output_type": "stream",
     "text": [
      "\r",
      " 65%|█████████████████████████████████████████▍                      | 507/782 [12:29<06:55,  1.51s/it]"
     ]
    },
    {
     "name": "stdout",
     "output_type": "stream",
     "text": [
      "Iter 507.0, Minibatch Loss= 1.015232, Training Accuracy= 0.50781\n"
     ]
    },
    {
     "name": "stderr",
     "output_type": "stream",
     "text": [
      "\r",
      " 65%|█████████████████████████████████████████▌                      | 508/782 [12:30<06:46,  1.48s/it]"
     ]
    },
    {
     "name": "stdout",
     "output_type": "stream",
     "text": [
      "Iter 508.0, Minibatch Loss= 1.005106, Training Accuracy= 0.50781\n"
     ]
    },
    {
     "name": "stderr",
     "output_type": "stream",
     "text": [
      "\r",
      " 65%|█████████████████████████████████████████▋                      | 509/782 [12:32<06:39,  1.46s/it]"
     ]
    },
    {
     "name": "stdout",
     "output_type": "stream",
     "text": [
      "Iter 509.0, Minibatch Loss= 0.999256, Training Accuracy= 0.50781\n"
     ]
    },
    {
     "name": "stderr",
     "output_type": "stream",
     "text": [
      "\r",
      " 65%|█████████████████████████████████████████▋                      | 510/782 [12:33<06:47,  1.50s/it]"
     ]
    },
    {
     "name": "stdout",
     "output_type": "stream",
     "text": [
      "Iter 510.0, Minibatch Loss= 0.993058, Training Accuracy= 0.50781\n"
     ]
    },
    {
     "name": "stderr",
     "output_type": "stream",
     "text": [
      "\r",
      " 65%|█████████████████████████████████████████▊                      | 511/782 [12:35<06:32,  1.45s/it]"
     ]
    },
    {
     "name": "stdout",
     "output_type": "stream",
     "text": [
      "Iter 511.0, Minibatch Loss= 0.984651, Training Accuracy= 0.50781\n"
     ]
    },
    {
     "name": "stderr",
     "output_type": "stream",
     "text": [
      "\r",
      " 65%|█████████████████████████████████████████▉                      | 512/782 [12:36<06:40,  1.48s/it]"
     ]
    },
    {
     "name": "stdout",
     "output_type": "stream",
     "text": [
      "Iter 512.0, Minibatch Loss= 0.972163, Training Accuracy= 0.50781\n"
     ]
    },
    {
     "name": "stderr",
     "output_type": "stream",
     "text": [
      "\r",
      " 66%|█████████████████████████████████████████▉                      | 513/782 [12:38<06:36,  1.47s/it]"
     ]
    },
    {
     "name": "stdout",
     "output_type": "stream",
     "text": [
      "Iter 513.0, Minibatch Loss= 0.955211, Training Accuracy= 0.50781\n"
     ]
    },
    {
     "name": "stderr",
     "output_type": "stream",
     "text": [
      "\r",
      " 66%|██████████████████████████████████████████                      | 514/782 [12:39<06:39,  1.49s/it]"
     ]
    },
    {
     "name": "stdout",
     "output_type": "stream",
     "text": [
      "Iter 514.0, Minibatch Loss= 0.935545, Training Accuracy= 0.50781\n"
     ]
    },
    {
     "name": "stderr",
     "output_type": "stream",
     "text": [
      "\r",
      " 66%|██████████████████████████████████████████▏                     | 515/782 [12:41<06:46,  1.52s/it]"
     ]
    },
    {
     "name": "stdout",
     "output_type": "stream",
     "text": [
      "Iter 515.0, Minibatch Loss= 0.913452, Training Accuracy= 0.50781\n"
     ]
    },
    {
     "name": "stderr",
     "output_type": "stream",
     "text": [
      "\r",
      " 66%|██████████████████████████████████████████▏                     | 516/782 [12:42<06:28,  1.46s/it]"
     ]
    },
    {
     "name": "stdout",
     "output_type": "stream",
     "text": [
      "Iter 516.0, Minibatch Loss= 0.897128, Training Accuracy= 0.53906\n"
     ]
    },
    {
     "name": "stderr",
     "output_type": "stream",
     "text": [
      "\r",
      " 66%|██████████████████████████████████████████▎                     | 517/782 [12:44<06:29,  1.47s/it]"
     ]
    },
    {
     "name": "stdout",
     "output_type": "stream",
     "text": [
      "Iter 517.0, Minibatch Loss= 1.040483, Training Accuracy= 0.42969\n"
     ]
    },
    {
     "name": "stderr",
     "output_type": "stream",
     "text": [
      "\r",
      " 66%|██████████████████████████████████████████▍                     | 518/782 [12:45<06:23,  1.45s/it]"
     ]
    },
    {
     "name": "stdout",
     "output_type": "stream",
     "text": [
      "Iter 518.0, Minibatch Loss= 1.069121, Training Accuracy= 0.50781\n"
     ]
    },
    {
     "name": "stderr",
     "output_type": "stream",
     "text": [
      "\r",
      " 66%|██████████████████████████████████████████▍                     | 519/782 [12:46<06:20,  1.45s/it]"
     ]
    },
    {
     "name": "stdout",
     "output_type": "stream",
     "text": [
      "Iter 519.0, Minibatch Loss= 1.013298, Training Accuracy= 0.50781\n"
     ]
    },
    {
     "name": "stderr",
     "output_type": "stream",
     "text": [
      "\r",
      " 66%|██████████████████████████████████████████▌                     | 520/782 [12:48<06:24,  1.47s/it]"
     ]
    },
    {
     "name": "stdout",
     "output_type": "stream",
     "text": [
      "Iter 520.0, Minibatch Loss= 1.010911, Training Accuracy= 0.50781\n"
     ]
    },
    {
     "name": "stderr",
     "output_type": "stream",
     "text": [
      "\r",
      " 67%|██████████████████████████████████████████▋                     | 521/782 [12:49<06:18,  1.45s/it]"
     ]
    },
    {
     "name": "stdout",
     "output_type": "stream",
     "text": [
      "Iter 521.0, Minibatch Loss= 1.009518, Training Accuracy= 0.50781\n"
     ]
    },
    {
     "name": "stderr",
     "output_type": "stream",
     "text": [
      "\r",
      " 67%|██████████████████████████████████████████▋                     | 522/782 [12:51<06:14,  1.44s/it]"
     ]
    },
    {
     "name": "stdout",
     "output_type": "stream",
     "text": [
      "Iter 522.0, Minibatch Loss= 1.008485, Training Accuracy= 0.50781\n"
     ]
    },
    {
     "name": "stderr",
     "output_type": "stream",
     "text": [
      "\r",
      " 67%|██████████████████████████████████████████▊                     | 523/782 [12:52<06:08,  1.42s/it]"
     ]
    },
    {
     "name": "stdout",
     "output_type": "stream",
     "text": [
      "Iter 523.0, Minibatch Loss= 1.007613, Training Accuracy= 0.50781\n"
     ]
    },
    {
     "name": "stderr",
     "output_type": "stream",
     "text": [
      "\r",
      " 67%|██████████████████████████████████████████▉                     | 524/782 [12:54<06:09,  1.43s/it]"
     ]
    },
    {
     "name": "stdout",
     "output_type": "stream",
     "text": [
      "Iter 524.0, Minibatch Loss= 1.006803, Training Accuracy= 0.50781\n"
     ]
    },
    {
     "name": "stderr",
     "output_type": "stream",
     "text": [
      "\r",
      " 67%|██████████████████████████████████████████▉                     | 525/782 [12:55<06:17,  1.47s/it]"
     ]
    },
    {
     "name": "stdout",
     "output_type": "stream",
     "text": [
      "Iter 525.0, Minibatch Loss= 1.005996, Training Accuracy= 0.50781\n"
     ]
    },
    {
     "name": "stderr",
     "output_type": "stream",
     "text": [
      "\r",
      " 67%|███████████████████████████████████████████                     | 526/782 [12:57<06:05,  1.43s/it]"
     ]
    },
    {
     "name": "stdout",
     "output_type": "stream",
     "text": [
      "Iter 526.0, Minibatch Loss= 1.005144, Training Accuracy= 0.50781\n"
     ]
    },
    {
     "name": "stderr",
     "output_type": "stream",
     "text": [
      "\r",
      " 67%|███████████████████████████████████████████▏                    | 527/782 [12:58<06:11,  1.46s/it]"
     ]
    },
    {
     "name": "stdout",
     "output_type": "stream",
     "text": [
      "Iter 527.0, Minibatch Loss= 1.004200, Training Accuracy= 0.50781\n"
     ]
    },
    {
     "name": "stderr",
     "output_type": "stream",
     "text": [
      "\r",
      " 68%|███████████████████████████████████████████▏                    | 528/782 [12:59<06:07,  1.45s/it]"
     ]
    },
    {
     "name": "stdout",
     "output_type": "stream",
     "text": [
      "Iter 528.0, Minibatch Loss= 1.003109, Training Accuracy= 0.50781\n"
     ]
    },
    {
     "name": "stderr",
     "output_type": "stream",
     "text": [
      "\r",
      " 68%|███████████████████████████████████████████▎                    | 529/782 [13:01<06:13,  1.48s/it]"
     ]
    },
    {
     "name": "stdout",
     "output_type": "stream",
     "text": [
      "Iter 529.0, Minibatch Loss= 1.001800, Training Accuracy= 0.50781\n"
     ]
    },
    {
     "name": "stderr",
     "output_type": "stream",
     "text": [
      "\r",
      " 68%|███████████████████████████████████████████▍                    | 530/782 [13:03<06:33,  1.56s/it]"
     ]
    },
    {
     "name": "stdout",
     "output_type": "stream",
     "text": [
      "Iter 530.0, Minibatch Loss= 1.000172, Training Accuracy= 0.50781\n"
     ]
    },
    {
     "name": "stderr",
     "output_type": "stream",
     "text": [
      "\r",
      " 68%|███████████████████████████████████████████▍                    | 531/782 [13:04<06:26,  1.54s/it]"
     ]
    },
    {
     "name": "stdout",
     "output_type": "stream",
     "text": [
      "Iter 531.0, Minibatch Loss= 0.998084, Training Accuracy= 0.50781\n"
     ]
    },
    {
     "name": "stderr",
     "output_type": "stream",
     "text": [
      "\r",
      " 68%|███████████████████████████████████████████▌                    | 532/782 [13:06<06:19,  1.52s/it]"
     ]
    },
    {
     "name": "stdout",
     "output_type": "stream",
     "text": [
      "Iter 532.0, Minibatch Loss= 0.995342, Training Accuracy= 0.50781\n"
     ]
    },
    {
     "name": "stderr",
     "output_type": "stream",
     "text": [
      "\r",
      " 68%|███████████████████████████████████████████▌                    | 533/782 [13:07<06:10,  1.49s/it]"
     ]
    },
    {
     "name": "stdout",
     "output_type": "stream",
     "text": [
      "Iter 533.0, Minibatch Loss= 0.991714, Training Accuracy= 0.50781\n"
     ]
    },
    {
     "name": "stderr",
     "output_type": "stream",
     "text": [
      "\r",
      " 68%|███████████████████████████████████████████▋                    | 534/782 [13:09<06:07,  1.48s/it]"
     ]
    },
    {
     "name": "stdout",
     "output_type": "stream",
     "text": [
      "Iter 534.0, Minibatch Loss= 0.987009, Training Accuracy= 0.50781\n"
     ]
    },
    {
     "name": "stderr",
     "output_type": "stream",
     "text": [
      "\r",
      " 68%|███████████████████████████████████████████▊                    | 535/782 [13:10<06:12,  1.51s/it]"
     ]
    },
    {
     "name": "stdout",
     "output_type": "stream",
     "text": [
      "Iter 535.0, Minibatch Loss= 0.981203, Training Accuracy= 0.50781\n"
     ]
    },
    {
     "name": "stderr",
     "output_type": "stream",
     "text": [
      "\r",
      " 69%|███████████████████████████████████████████▊                    | 536/782 [13:12<06:00,  1.46s/it]"
     ]
    },
    {
     "name": "stdout",
     "output_type": "stream",
     "text": [
      "Iter 536.0, Minibatch Loss= 0.974336, Training Accuracy= 0.50781\n"
     ]
    },
    {
     "name": "stderr",
     "output_type": "stream",
     "text": [
      "\r",
      " 69%|███████████████████████████████████████████▉                    | 537/782 [13:13<05:56,  1.46s/it]"
     ]
    },
    {
     "name": "stdout",
     "output_type": "stream",
     "text": [
      "Iter 537.0, Minibatch Loss= 0.966061, Training Accuracy= 0.50781\n"
     ]
    },
    {
     "name": "stderr",
     "output_type": "stream",
     "text": [
      "\r",
      " 69%|████████████████████████████████████████████                    | 538/782 [13:14<05:48,  1.43s/it]"
     ]
    },
    {
     "name": "stdout",
     "output_type": "stream",
     "text": [
      "Iter 538.0, Minibatch Loss= 0.955503, Training Accuracy= 0.50781\n"
     ]
    },
    {
     "name": "stderr",
     "output_type": "stream",
     "text": [
      "\r",
      " 69%|████████████████████████████████████████████                    | 539/782 [13:16<05:45,  1.42s/it]"
     ]
    },
    {
     "name": "stdout",
     "output_type": "stream",
     "text": [
      "Iter 539.0, Minibatch Loss= 0.941466, Training Accuracy= 0.50781\n"
     ]
    },
    {
     "name": "stderr",
     "output_type": "stream",
     "text": [
      "\r",
      " 69%|████████████████████████████████████████████▏                   | 540/782 [13:17<05:50,  1.45s/it]"
     ]
    },
    {
     "name": "stdout",
     "output_type": "stream",
     "text": [
      "Iter 540.0, Minibatch Loss= 0.922444, Training Accuracy= 0.53906\n"
     ]
    },
    {
     "name": "stderr",
     "output_type": "stream",
     "text": [
      "\r",
      " 69%|████████████████████████████████████████████▎                   | 541/782 [13:19<05:59,  1.49s/it]"
     ]
    },
    {
     "name": "stdout",
     "output_type": "stream",
     "text": [
      "Iter 541.0, Minibatch Loss= 0.903491, Training Accuracy= 0.53125\n"
     ]
    },
    {
     "name": "stderr",
     "output_type": "stream",
     "text": [
      "\r",
      " 69%|████████████████████████████████████████████▎                   | 542/782 [13:20<05:59,  1.50s/it]"
     ]
    },
    {
     "name": "stdout",
     "output_type": "stream",
     "text": [
      "Iter 542.0, Minibatch Loss= 0.889946, Training Accuracy= 0.53906\n"
     ]
    },
    {
     "name": "stderr",
     "output_type": "stream",
     "text": [
      "\r",
      " 69%|████████████████████████████████████████████▍                   | 543/782 [13:22<05:59,  1.50s/it]"
     ]
    },
    {
     "name": "stdout",
     "output_type": "stream",
     "text": [
      "Iter 543.0, Minibatch Loss= 0.942016, Training Accuracy= 0.50000\n"
     ]
    },
    {
     "name": "stderr",
     "output_type": "stream",
     "text": [
      "\r",
      " 70%|████████████████████████████████████████████▌                   | 544/782 [13:23<06:00,  1.51s/it]"
     ]
    },
    {
     "name": "stdout",
     "output_type": "stream",
     "text": [
      "Iter 544.0, Minibatch Loss= 1.261575, Training Accuracy= 0.44531\n"
     ]
    },
    {
     "name": "stderr",
     "output_type": "stream",
     "text": [
      "\r",
      " 70%|████████████████████████████████████████████▌                   | 545/782 [13:25<06:11,  1.57s/it]"
     ]
    },
    {
     "name": "stdout",
     "output_type": "stream",
     "text": [
      "Iter 545.0, Minibatch Loss= 1.063696, Training Accuracy= 0.49219\n"
     ]
    },
    {
     "name": "stderr",
     "output_type": "stream",
     "text": [
      "\r",
      " 70%|████████████████████████████████████████████▋                   | 546/782 [13:27<06:01,  1.53s/it]"
     ]
    },
    {
     "name": "stdout",
     "output_type": "stream",
     "text": [
      "Iter 546.0, Minibatch Loss= 1.071643, Training Accuracy= 0.50781\n"
     ]
    },
    {
     "name": "stderr",
     "output_type": "stream",
     "text": [
      "\r",
      " 70%|████████████████████████████████████████████▊                   | 547/782 [13:28<05:56,  1.52s/it]"
     ]
    },
    {
     "name": "stdout",
     "output_type": "stream",
     "text": [
      "Iter 547.0, Minibatch Loss= 1.048604, Training Accuracy= 0.43750\n"
     ]
    },
    {
     "name": "stderr",
     "output_type": "stream",
     "text": [
      "\r",
      " 70%|████████████████████████████████████████████▊                   | 548/782 [13:30<06:07,  1.57s/it]"
     ]
    },
    {
     "name": "stdout",
     "output_type": "stream",
     "text": [
      "Iter 548.0, Minibatch Loss= 1.029732, Training Accuracy= 0.51562\n"
     ]
    },
    {
     "name": "stderr",
     "output_type": "stream",
     "text": [
      "\r",
      " 70%|████████████████████████████████████████████▉                   | 549/782 [13:31<05:50,  1.50s/it]"
     ]
    },
    {
     "name": "stdout",
     "output_type": "stream",
     "text": [
      "Iter 549.0, Minibatch Loss= 1.009140, Training Accuracy= 0.51562\n"
     ]
    },
    {
     "name": "stderr",
     "output_type": "stream",
     "text": [
      "\r",
      " 70%|█████████████████████████████████████████████                   | 550/782 [13:33<05:53,  1.52s/it]"
     ]
    },
    {
     "name": "stdout",
     "output_type": "stream",
     "text": [
      "Iter 550.0, Minibatch Loss= 0.939757, Training Accuracy= 0.51562\n"
     ]
    },
    {
     "name": "stderr",
     "output_type": "stream",
     "text": [
      "\r",
      " 70%|█████████████████████████████████████████████                   | 551/782 [13:34<05:44,  1.49s/it]"
     ]
    },
    {
     "name": "stdout",
     "output_type": "stream",
     "text": [
      "Iter 551.0, Minibatch Loss= 0.895792, Training Accuracy= 0.51562\n"
     ]
    },
    {
     "name": "stderr",
     "output_type": "stream",
     "text": [
      "\r",
      " 71%|█████████████████████████████████████████████▏                  | 552/782 [13:36<05:43,  1.49s/it]"
     ]
    },
    {
     "name": "stdout",
     "output_type": "stream",
     "text": [
      "Iter 552.0, Minibatch Loss= 0.874106, Training Accuracy= 0.57031\n"
     ]
    },
    {
     "name": "stderr",
     "output_type": "stream",
     "text": [
      "\r",
      " 71%|█████████████████████████████████████████████▎                  | 553/782 [13:37<05:51,  1.54s/it]"
     ]
    },
    {
     "name": "stdout",
     "output_type": "stream",
     "text": [
      "Iter 553.0, Minibatch Loss= 0.945064, Training Accuracy= 0.50781\n"
     ]
    },
    {
     "name": "stderr",
     "output_type": "stream",
     "text": [
      "\r",
      " 71%|█████████████████████████████████████████████▎                  | 554/782 [13:39<05:54,  1.55s/it]"
     ]
    },
    {
     "name": "stdout",
     "output_type": "stream",
     "text": [
      "Iter 554.0, Minibatch Loss= 1.189089, Training Accuracy= 0.51562\n"
     ]
    },
    {
     "name": "stderr",
     "output_type": "stream",
     "text": [
      "\r",
      " 71%|█████████████████████████████████████████████▍                  | 555/782 [13:40<05:54,  1.56s/it]"
     ]
    },
    {
     "name": "stdout",
     "output_type": "stream",
     "text": [
      "Iter 555.0, Minibatch Loss= 0.954647, Training Accuracy= 0.51562\n"
     ]
    },
    {
     "name": "stderr",
     "output_type": "stream",
     "text": [
      "\r",
      " 71%|█████████████████████████████████████████████▌                  | 556/782 [13:42<05:48,  1.54s/it]"
     ]
    },
    {
     "name": "stdout",
     "output_type": "stream",
     "text": [
      "Iter 556.0, Minibatch Loss= 0.915688, Training Accuracy= 0.51562\n"
     ]
    },
    {
     "name": "stderr",
     "output_type": "stream",
     "text": [
      "\r",
      " 71%|█████████████████████████████████████████████▌                  | 557/782 [13:44<05:54,  1.58s/it]"
     ]
    },
    {
     "name": "stdout",
     "output_type": "stream",
     "text": [
      "Iter 557.0, Minibatch Loss= 1.077297, Training Accuracy= 0.42188\n"
     ]
    },
    {
     "name": "stderr",
     "output_type": "stream",
     "text": [
      "\r",
      " 71%|█████████████████████████████████████████████▋                  | 558/782 [13:45<05:50,  1.56s/it]"
     ]
    },
    {
     "name": "stdout",
     "output_type": "stream",
     "text": [
      "Iter 558.0, Minibatch Loss= 1.077135, Training Accuracy= 0.50781\n"
     ]
    },
    {
     "name": "stderr",
     "output_type": "stream",
     "text": [
      "\r",
      " 71%|█████████████████████████████████████████████▋                  | 559/782 [13:47<05:59,  1.61s/it]"
     ]
    },
    {
     "name": "stdout",
     "output_type": "stream",
     "text": [
      "Iter 559.0, Minibatch Loss= 1.016830, Training Accuracy= 0.50781\n"
     ]
    },
    {
     "name": "stderr",
     "output_type": "stream",
     "text": [
      "\r",
      " 72%|█████████████████████████████████████████████▊                  | 560/782 [13:49<06:06,  1.65s/it]"
     ]
    },
    {
     "name": "stdout",
     "output_type": "stream",
     "text": [
      "Iter 560.0, Minibatch Loss= 1.010720, Training Accuracy= 0.50781\n"
     ]
    },
    {
     "name": "stderr",
     "output_type": "stream",
     "text": [
      "\r",
      " 72%|█████████████████████████████████████████████▉                  | 561/782 [13:50<06:09,  1.67s/it]"
     ]
    },
    {
     "name": "stdout",
     "output_type": "stream",
     "text": [
      "Iter 561.0, Minibatch Loss= 1.007745, Training Accuracy= 0.50781\n"
     ]
    },
    {
     "name": "stderr",
     "output_type": "stream",
     "text": [
      "\r",
      " 72%|█████████████████████████████████████████████▉                  | 562/782 [13:52<06:03,  1.65s/it]"
     ]
    },
    {
     "name": "stdout",
     "output_type": "stream",
     "text": [
      "Iter 562.0, Minibatch Loss= 1.005539, Training Accuracy= 0.50781\n"
     ]
    },
    {
     "name": "stderr",
     "output_type": "stream",
     "text": [
      "\r",
      " 72%|██████████████████████████████████████████████                  | 563/782 [13:54<06:12,  1.70s/it]"
     ]
    },
    {
     "name": "stdout",
     "output_type": "stream",
     "text": [
      "Iter 563.0, Minibatch Loss= 1.003551, Training Accuracy= 0.50781\n"
     ]
    },
    {
     "name": "stderr",
     "output_type": "stream",
     "text": [
      "\r",
      " 72%|██████████████████████████████████████████████▏                 | 564/782 [13:55<06:08,  1.69s/it]"
     ]
    },
    {
     "name": "stdout",
     "output_type": "stream",
     "text": [
      "Iter 564.0, Minibatch Loss= 1.001517, Training Accuracy= 0.51562\n"
     ]
    },
    {
     "name": "stderr",
     "output_type": "stream",
     "text": [
      "\r",
      " 72%|██████████████████████████████████████████████▏                 | 565/782 [13:57<06:09,  1.70s/it]"
     ]
    },
    {
     "name": "stdout",
     "output_type": "stream",
     "text": [
      "Iter 565.0, Minibatch Loss= 0.999229, Training Accuracy= 0.51562\n"
     ]
    },
    {
     "name": "stderr",
     "output_type": "stream",
     "text": [
      "\r",
      " 72%|██████████████████████████████████████████████▎                 | 566/782 [13:59<06:13,  1.73s/it]"
     ]
    },
    {
     "name": "stdout",
     "output_type": "stream",
     "text": [
      "Iter 566.0, Minibatch Loss= 0.996479, Training Accuracy= 0.51562\n"
     ]
    },
    {
     "name": "stderr",
     "output_type": "stream",
     "text": [
      "\r",
      " 73%|██████████████████████████████████████████████▍                 | 567/782 [14:01<06:04,  1.70s/it]"
     ]
    },
    {
     "name": "stdout",
     "output_type": "stream",
     "text": [
      "Iter 567.0, Minibatch Loss= 0.993012, Training Accuracy= 0.51562\n"
     ]
    },
    {
     "name": "stderr",
     "output_type": "stream",
     "text": [
      "\r",
      " 73%|██████████████████████████████████████████████▍                 | 568/782 [14:02<06:13,  1.75s/it]"
     ]
    },
    {
     "name": "stdout",
     "output_type": "stream",
     "text": [
      "Iter 568.0, Minibatch Loss= 0.988465, Training Accuracy= 0.51562\n"
     ]
    },
    {
     "name": "stderr",
     "output_type": "stream",
     "text": [
      "\r",
      " 73%|██████████████████████████████████████████████▌                 | 569/782 [14:04<06:15,  1.76s/it]"
     ]
    },
    {
     "name": "stdout",
     "output_type": "stream",
     "text": [
      "Iter 569.0, Minibatch Loss= 0.982234, Training Accuracy= 0.51562\n"
     ]
    },
    {
     "name": "stderr",
     "output_type": "stream",
     "text": [
      "\r",
      " 73%|██████████████████████████████████████████████▋                 | 570/782 [14:06<06:10,  1.75s/it]"
     ]
    },
    {
     "name": "stdout",
     "output_type": "stream",
     "text": [
      "Iter 570.0, Minibatch Loss= 0.973279, Training Accuracy= 0.51562\n"
     ]
    },
    {
     "name": "stderr",
     "output_type": "stream",
     "text": [
      "\r",
      " 73%|██████████████████████████████████████████████▋                 | 571/782 [14:08<06:27,  1.84s/it]"
     ]
    },
    {
     "name": "stdout",
     "output_type": "stream",
     "text": [
      "Iter 571.0, Minibatch Loss= 0.960001, Training Accuracy= 0.51562\n"
     ]
    },
    {
     "name": "stderr",
     "output_type": "stream",
     "text": [
      "\r",
      " 73%|██████████████████████████████████████████████▊                 | 572/782 [14:10<06:24,  1.83s/it]"
     ]
    },
    {
     "name": "stdout",
     "output_type": "stream",
     "text": [
      "Iter 572.0, Minibatch Loss= 0.940826, Training Accuracy= 0.51562\n"
     ]
    },
    {
     "name": "stderr",
     "output_type": "stream",
     "text": [
      "\r",
      " 73%|██████████████████████████████████████████████▉                 | 573/782 [14:12<06:23,  1.83s/it]"
     ]
    },
    {
     "name": "stdout",
     "output_type": "stream",
     "text": [
      "Iter 573.0, Minibatch Loss= 0.916805, Training Accuracy= 0.55469\n"
     ]
    },
    {
     "name": "stderr",
     "output_type": "stream",
     "text": [
      "\r",
      " 73%|██████████████████████████████████████████████▉                 | 574/782 [14:13<06:14,  1.80s/it]"
     ]
    },
    {
     "name": "stdout",
     "output_type": "stream",
     "text": [
      "Iter 574.0, Minibatch Loss= 0.889201, Training Accuracy= 0.59375\n"
     ]
    },
    {
     "name": "stderr",
     "output_type": "stream",
     "text": [
      "\r",
      " 74%|███████████████████████████████████████████████                 | 575/782 [14:15<05:51,  1.70s/it]"
     ]
    },
    {
     "name": "stdout",
     "output_type": "stream",
     "text": [
      "Iter 575.0, Minibatch Loss= 0.957619, Training Accuracy= 0.52344\n"
     ]
    },
    {
     "name": "stderr",
     "output_type": "stream",
     "text": [
      "\r",
      " 74%|███████████████████████████████████████████████▏                | 576/782 [14:16<05:39,  1.65s/it]"
     ]
    },
    {
     "name": "stdout",
     "output_type": "stream",
     "text": [
      "Iter 576.0, Minibatch Loss= 1.450119, Training Accuracy= 0.21875\n"
     ]
    },
    {
     "name": "stderr",
     "output_type": "stream",
     "text": [
      "\r",
      " 74%|███████████████████████████████████████████████▏                | 577/782 [14:18<05:24,  1.58s/it]"
     ]
    },
    {
     "name": "stdout",
     "output_type": "stream",
     "text": [
      "Iter 577.0, Minibatch Loss= 1.028438, Training Accuracy= 0.52344\n"
     ]
    },
    {
     "name": "stderr",
     "output_type": "stream",
     "text": [
      "\r",
      " 74%|███████████████████████████████████████████████▎                | 578/782 [14:19<05:14,  1.54s/it]"
     ]
    },
    {
     "name": "stdout",
     "output_type": "stream",
     "text": [
      "Iter 578.0, Minibatch Loss= 0.992431, Training Accuracy= 0.50781\n"
     ]
    },
    {
     "name": "stderr",
     "output_type": "stream",
     "text": [
      "\r",
      " 74%|███████████████████████████████████████████████▍                | 579/782 [14:21<05:11,  1.54s/it]"
     ]
    },
    {
     "name": "stdout",
     "output_type": "stream",
     "text": [
      "Iter 579.0, Minibatch Loss= 0.921004, Training Accuracy= 0.50781\n"
     ]
    },
    {
     "name": "stderr",
     "output_type": "stream",
     "text": [
      "\r",
      " 74%|███████████████████████████████████████████████▍                | 580/782 [14:22<05:01,  1.49s/it]"
     ]
    },
    {
     "name": "stdout",
     "output_type": "stream",
     "text": [
      "Iter 580.0, Minibatch Loss= 0.888102, Training Accuracy= 0.50781\n"
     ]
    },
    {
     "name": "stderr",
     "output_type": "stream",
     "text": [
      "\r",
      " 74%|███████████████████████████████████████████████▌                | 581/782 [14:24<05:05,  1.52s/it]"
     ]
    },
    {
     "name": "stdout",
     "output_type": "stream",
     "text": [
      "Iter 581.0, Minibatch Loss= 0.919583, Training Accuracy= 0.52344\n"
     ]
    },
    {
     "name": "stderr",
     "output_type": "stream",
     "text": [
      "\r",
      " 74%|███████████████████████████████████████████████▋                | 582/782 [14:25<05:07,  1.54s/it]"
     ]
    },
    {
     "name": "stdout",
     "output_type": "stream",
     "text": [
      "Iter 582.0, Minibatch Loss= 1.206533, Training Accuracy= 0.46094\n"
     ]
    },
    {
     "name": "stderr",
     "output_type": "stream",
     "text": [
      "\r",
      " 75%|███████████████████████████████████████████████▋                | 583/782 [14:27<05:01,  1.51s/it]"
     ]
    },
    {
     "name": "stdout",
     "output_type": "stream",
     "text": [
      "Iter 583.0, Minibatch Loss= 1.031539, Training Accuracy= 0.50781\n"
     ]
    },
    {
     "name": "stderr",
     "output_type": "stream",
     "text": [
      "\r",
      " 75%|███████████████████████████████████████████████▊                | 584/782 [14:28<05:12,  1.58s/it]"
     ]
    },
    {
     "name": "stdout",
     "output_type": "stream",
     "text": [
      "Iter 584.0, Minibatch Loss= 1.017118, Training Accuracy= 0.51562\n"
     ]
    },
    {
     "name": "stderr",
     "output_type": "stream",
     "text": [
      "\r",
      " 75%|███████████████████████████████████████████████▉                | 585/782 [14:30<05:13,  1.59s/it]"
     ]
    },
    {
     "name": "stdout",
     "output_type": "stream",
     "text": [
      "Iter 585.0, Minibatch Loss= 1.021837, Training Accuracy= 0.50781\n"
     ]
    },
    {
     "name": "stderr",
     "output_type": "stream",
     "text": [
      "\r",
      " 75%|███████████████████████████████████████████████▉                | 586/782 [14:32<05:15,  1.61s/it]"
     ]
    },
    {
     "name": "stdout",
     "output_type": "stream",
     "text": [
      "Iter 586.0, Minibatch Loss= 1.015373, Training Accuracy= 0.51562\n"
     ]
    },
    {
     "name": "stderr",
     "output_type": "stream",
     "text": [
      "\r",
      " 75%|████████████████████████████████████████████████                | 587/782 [14:33<05:15,  1.62s/it]"
     ]
    },
    {
     "name": "stdout",
     "output_type": "stream",
     "text": [
      "Iter 587.0, Minibatch Loss= 1.021035, Training Accuracy= 0.50781\n"
     ]
    },
    {
     "name": "stderr",
     "output_type": "stream",
     "text": [
      "\r",
      " 75%|████████████████████████████████████████████████                | 588/782 [14:35<05:12,  1.61s/it]"
     ]
    },
    {
     "name": "stdout",
     "output_type": "stream",
     "text": [
      "Iter 588.0, Minibatch Loss= 1.010648, Training Accuracy= 0.51562\n"
     ]
    },
    {
     "name": "stderr",
     "output_type": "stream",
     "text": [
      "\r",
      " 75%|████████████████████████████████████████████████▏               | 589/782 [14:37<05:12,  1.62s/it]"
     ]
    },
    {
     "name": "stdout",
     "output_type": "stream",
     "text": [
      "Iter 589.0, Minibatch Loss= 1.010836, Training Accuracy= 0.50781\n"
     ]
    },
    {
     "name": "stderr",
     "output_type": "stream",
     "text": [
      "\r",
      " 75%|████████████████████████████████████████████████▎               | 590/782 [14:38<05:08,  1.60s/it]"
     ]
    },
    {
     "name": "stdout",
     "output_type": "stream",
     "text": [
      "Iter 590.0, Minibatch Loss= 1.008109, Training Accuracy= 0.51562\n"
     ]
    },
    {
     "name": "stderr",
     "output_type": "stream",
     "text": [
      "\r",
      " 76%|████████████████████████████████████████████████▎               | 591/782 [14:40<05:11,  1.63s/it]"
     ]
    },
    {
     "name": "stdout",
     "output_type": "stream",
     "text": [
      "Iter 591.0, Minibatch Loss= 1.008264, Training Accuracy= 0.50781\n"
     ]
    },
    {
     "name": "stderr",
     "output_type": "stream",
     "text": [
      "\r",
      " 76%|████████████████████████████████████████████████▍               | 592/782 [14:41<05:07,  1.62s/it]"
     ]
    },
    {
     "name": "stdout",
     "output_type": "stream",
     "text": [
      "Iter 592.0, Minibatch Loss= 1.006758, Training Accuracy= 0.51562\n"
     ]
    },
    {
     "name": "stderr",
     "output_type": "stream",
     "text": [
      "\r",
      " 76%|████████████████████████████████████████████████▌               | 593/782 [14:43<05:03,  1.61s/it]"
     ]
    },
    {
     "name": "stdout",
     "output_type": "stream",
     "text": [
      "Iter 593.0, Minibatch Loss= 1.007032, Training Accuracy= 0.51562\n"
     ]
    },
    {
     "name": "stderr",
     "output_type": "stream",
     "text": [
      "\r",
      " 76%|████████████████████████████████████████████████▌               | 594/782 [14:45<05:04,  1.62s/it]"
     ]
    },
    {
     "name": "stdout",
     "output_type": "stream",
     "text": [
      "Iter 594.0, Minibatch Loss= 1.005967, Training Accuracy= 0.51562\n"
     ]
    },
    {
     "name": "stderr",
     "output_type": "stream",
     "text": [
      "\r",
      " 76%|████████████████████████████████████████████████▋               | 595/782 [14:46<05:07,  1.64s/it]"
     ]
    },
    {
     "name": "stdout",
     "output_type": "stream",
     "text": [
      "Iter 595.0, Minibatch Loss= 1.006590, Training Accuracy= 0.51562\n"
     ]
    },
    {
     "name": "stderr",
     "output_type": "stream",
     "text": [
      "\r",
      " 76%|████████████████████████████████████████████████▊               | 596/782 [14:48<05:04,  1.64s/it]"
     ]
    },
    {
     "name": "stdout",
     "output_type": "stream",
     "text": [
      "Iter 596.0, Minibatch Loss= 1.005617, Training Accuracy= 0.51562\n"
     ]
    },
    {
     "name": "stderr",
     "output_type": "stream",
     "text": [
      "\r",
      " 76%|████████████████████████████████████████████████▊               | 597/782 [14:50<04:58,  1.61s/it]"
     ]
    },
    {
     "name": "stdout",
     "output_type": "stream",
     "text": [
      "Iter 597.0, Minibatch Loss= 1.006918, Training Accuracy= 0.51562\n"
     ]
    },
    {
     "name": "stderr",
     "output_type": "stream",
     "text": [
      "\r",
      " 76%|████████████████████████████████████████████████▉               | 598/782 [14:51<04:50,  1.58s/it]"
     ]
    },
    {
     "name": "stdout",
     "output_type": "stream",
     "text": [
      "Iter 598.0, Minibatch Loss= 1.005627, Training Accuracy= 0.51562\n"
     ]
    },
    {
     "name": "stderr",
     "output_type": "stream",
     "text": [
      "\r",
      " 77%|█████████████████████████████████████████████████               | 599/782 [14:53<04:46,  1.56s/it]"
     ]
    },
    {
     "name": "stdout",
     "output_type": "stream",
     "text": [
      "Iter 599.0, Minibatch Loss= 1.007824, Training Accuracy= 0.51562\n"
     ]
    },
    {
     "name": "stderr",
     "output_type": "stream",
     "text": [
      "\r",
      " 77%|█████████████████████████████████████████████████               | 600/782 [14:54<04:37,  1.52s/it]"
     ]
    },
    {
     "name": "stdout",
     "output_type": "stream",
     "text": [
      "Iter 600.0, Minibatch Loss= 1.005488, Training Accuracy= 0.51562\n"
     ]
    },
    {
     "name": "stderr",
     "output_type": "stream",
     "text": [
      "\r",
      " 77%|█████████████████████████████████████████████████▏              | 601/782 [14:55<04:31,  1.50s/it]"
     ]
    },
    {
     "name": "stdout",
     "output_type": "stream",
     "text": [
      "Iter 601.0, Minibatch Loss= 1.007958, Training Accuracy= 0.51562\n"
     ]
    },
    {
     "name": "stderr",
     "output_type": "stream",
     "text": [
      "\r",
      " 77%|█████████████████████████████████████████████████▎              | 602/782 [14:57<04:23,  1.47s/it]"
     ]
    },
    {
     "name": "stdout",
     "output_type": "stream",
     "text": [
      "Iter 602.0, Minibatch Loss= 1.004613, Training Accuracy= 0.51562\n"
     ]
    },
    {
     "name": "stderr",
     "output_type": "stream",
     "text": [
      "\r",
      " 77%|█████████████████████████████████████████████████▎              | 603/782 [14:58<04:20,  1.46s/it]"
     ]
    },
    {
     "name": "stdout",
     "output_type": "stream",
     "text": [
      "Iter 603.0, Minibatch Loss= 1.006511, Training Accuracy= 0.51562\n"
     ]
    },
    {
     "name": "stderr",
     "output_type": "stream",
     "text": [
      "\r",
      " 77%|█████████████████████████████████████████████████▍              | 604/782 [15:00<04:22,  1.48s/it]"
     ]
    },
    {
     "name": "stdout",
     "output_type": "stream",
     "text": [
      "Iter 604.0, Minibatch Loss= 1.003332, Training Accuracy= 0.51562\n"
     ]
    },
    {
     "name": "stderr",
     "output_type": "stream",
     "text": [
      "\r",
      " 77%|█████████████████████████████████████████████████▌              | 605/782 [15:01<04:17,  1.45s/it]"
     ]
    },
    {
     "name": "stdout",
     "output_type": "stream",
     "text": [
      "Iter 605.0, Minibatch Loss= 1.004925, Training Accuracy= 0.51562\n"
     ]
    },
    {
     "name": "stderr",
     "output_type": "stream",
     "text": [
      "\r",
      " 77%|█████████████████████████████████████████████████▌              | 606/782 [15:03<04:16,  1.46s/it]"
     ]
    },
    {
     "name": "stdout",
     "output_type": "stream",
     "text": [
      "Iter 606.0, Minibatch Loss= 1.002182, Training Accuracy= 0.51562\n"
     ]
    },
    {
     "name": "stderr",
     "output_type": "stream",
     "text": [
      "\r",
      " 78%|█████████████████████████████████████████████████▋              | 607/782 [15:04<04:15,  1.46s/it]"
     ]
    },
    {
     "name": "stdout",
     "output_type": "stream",
     "text": [
      "Iter 607.0, Minibatch Loss= 1.004172, Training Accuracy= 0.51562\n"
     ]
    },
    {
     "name": "stderr",
     "output_type": "stream",
     "text": [
      "\r",
      " 78%|█████████████████████████████████████████████████▊              | 608/782 [15:06<04:19,  1.49s/it]"
     ]
    },
    {
     "name": "stdout",
     "output_type": "stream",
     "text": [
      "Iter 608.0, Minibatch Loss= 1.001448, Training Accuracy= 0.51562\n"
     ]
    },
    {
     "name": "stderr",
     "output_type": "stream",
     "text": [
      "\r",
      " 78%|█████████████████████████████████████████████████▊              | 609/782 [15:07<04:34,  1.58s/it]"
     ]
    },
    {
     "name": "stdout",
     "output_type": "stream",
     "text": [
      "Iter 609.0, Minibatch Loss= 1.004559, Training Accuracy= 0.51562\n"
     ]
    },
    {
     "name": "stderr",
     "output_type": "stream",
     "text": [
      "\r",
      " 78%|█████████████████████████████████████████████████▉              | 610/782 [15:09<04:34,  1.60s/it]"
     ]
    },
    {
     "name": "stdout",
     "output_type": "stream",
     "text": [
      "Iter 610.0, Minibatch Loss= 1.000989, Training Accuracy= 0.51562\n"
     ]
    },
    {
     "name": "stderr",
     "output_type": "stream",
     "text": [
      "\r",
      " 78%|██████████████████████████████████████████████████              | 611/782 [15:11<04:32,  1.59s/it]"
     ]
    },
    {
     "name": "stdout",
     "output_type": "stream",
     "text": [
      "Iter 611.0, Minibatch Loss= 1.005091, Training Accuracy= 0.51562\n"
     ]
    },
    {
     "name": "stderr",
     "output_type": "stream",
     "text": [
      "\r",
      " 78%|██████████████████████████████████████████████████              | 612/782 [15:12<04:28,  1.58s/it]"
     ]
    },
    {
     "name": "stdout",
     "output_type": "stream",
     "text": [
      "Iter 612.0, Minibatch Loss= 1.000039, Training Accuracy= 0.52344\n"
     ]
    },
    {
     "name": "stderr",
     "output_type": "stream",
     "text": [
      "\r",
      " 78%|██████████████████████████████████████████████████▏             | 613/782 [15:14<04:27,  1.58s/it]"
     ]
    },
    {
     "name": "stdout",
     "output_type": "stream",
     "text": [
      "Iter 613.0, Minibatch Loss= 1.003985, Training Accuracy= 0.51562\n"
     ]
    },
    {
     "name": "stderr",
     "output_type": "stream",
     "text": [
      "\r",
      " 79%|██████████████████████████████████████████████████▎             | 614/782 [15:15<04:28,  1.60s/it]"
     ]
    },
    {
     "name": "stdout",
     "output_type": "stream",
     "text": [
      "Iter 614.0, Minibatch Loss= 0.998564, Training Accuracy= 0.52344\n"
     ]
    },
    {
     "name": "stderr",
     "output_type": "stream",
     "text": [
      "\r",
      " 79%|██████████████████████████████████████████████████▎             | 615/782 [15:17<04:28,  1.61s/it]"
     ]
    },
    {
     "name": "stdout",
     "output_type": "stream",
     "text": [
      "Iter 615.0, Minibatch Loss= 1.002974, Training Accuracy= 0.51562\n"
     ]
    },
    {
     "name": "stderr",
     "output_type": "stream",
     "text": [
      "\r",
      " 79%|██████████████████████████████████████████████████▍             | 616/782 [15:19<04:26,  1.60s/it]"
     ]
    },
    {
     "name": "stdout",
     "output_type": "stream",
     "text": [
      "Iter 616.0, Minibatch Loss= 0.997118, Training Accuracy= 0.53906\n"
     ]
    },
    {
     "name": "stderr",
     "output_type": "stream",
     "text": [
      "\r",
      " 79%|██████████████████████████████████████████████████▍             | 617/782 [15:20<04:25,  1.61s/it]"
     ]
    },
    {
     "name": "stdout",
     "output_type": "stream",
     "text": [
      "Iter 617.0, Minibatch Loss= 1.002827, Training Accuracy= 0.50781\n"
     ]
    },
    {
     "name": "stderr",
     "output_type": "stream",
     "text": [
      "\r",
      " 79%|██████████████████████████████████████████████████▌             | 618/782 [15:22<04:27,  1.63s/it]"
     ]
    },
    {
     "name": "stdout",
     "output_type": "stream",
     "text": [
      "Iter 618.0, Minibatch Loss= 0.995326, Training Accuracy= 0.53125\n"
     ]
    },
    {
     "name": "stderr",
     "output_type": "stream",
     "text": [
      "\r",
      " 79%|██████████████████████████████████████████████████▋             | 619/782 [15:24<04:27,  1.64s/it]"
     ]
    },
    {
     "name": "stdout",
     "output_type": "stream",
     "text": [
      "Iter 619.0, Minibatch Loss= 1.002017, Training Accuracy= 0.50781\n"
     ]
    },
    {
     "name": "stderr",
     "output_type": "stream",
     "text": [
      "\r",
      " 79%|██████████████████████████████████████████████████▋             | 620/782 [15:25<04:25,  1.64s/it]"
     ]
    },
    {
     "name": "stdout",
     "output_type": "stream",
     "text": [
      "Iter 620.0, Minibatch Loss= 0.992614, Training Accuracy= 0.53125\n"
     ]
    },
    {
     "name": "stderr",
     "output_type": "stream",
     "text": [
      "\r",
      " 79%|██████████████████████████████████████████████████▊             | 621/782 [15:27<04:27,  1.66s/it]"
     ]
    },
    {
     "name": "stdout",
     "output_type": "stream",
     "text": [
      "Iter 621.0, Minibatch Loss= 1.000421, Training Accuracy= 0.51562\n"
     ]
    },
    {
     "name": "stderr",
     "output_type": "stream",
     "text": [
      "\r",
      " 80%|██████████████████████████████████████████████████▉             | 622/782 [15:29<04:23,  1.65s/it]"
     ]
    },
    {
     "name": "stdout",
     "output_type": "stream",
     "text": [
      "Iter 622.0, Minibatch Loss= 0.989589, Training Accuracy= 0.52344\n"
     ]
    },
    {
     "name": "stderr",
     "output_type": "stream",
     "text": [
      "\r",
      " 80%|██████████████████████████████████████████████████▉             | 623/782 [15:30<04:10,  1.58s/it]"
     ]
    },
    {
     "name": "stdout",
     "output_type": "stream",
     "text": [
      "Iter 623.0, Minibatch Loss= 1.000279, Training Accuracy= 0.51562\n"
     ]
    },
    {
     "name": "stderr",
     "output_type": "stream",
     "text": [
      "\r",
      " 80%|███████████████████████████████████████████████████             | 624/782 [15:32<04:04,  1.54s/it]"
     ]
    },
    {
     "name": "stdout",
     "output_type": "stream",
     "text": [
      "Iter 624.0, Minibatch Loss= 0.984994, Training Accuracy= 0.53125\n"
     ]
    },
    {
     "name": "stderr",
     "output_type": "stream",
     "text": [
      "\r",
      " 80%|███████████████████████████████████████████████████▏            | 625/782 [15:33<03:59,  1.52s/it]"
     ]
    },
    {
     "name": "stdout",
     "output_type": "stream",
     "text": [
      "Iter 625.0, Minibatch Loss= 0.948967, Training Accuracy= 0.54688\n"
     ]
    },
    {
     "name": "stderr",
     "output_type": "stream",
     "text": [
      "\r",
      " 80%|███████████████████████████████████████████████████▏            | 626/782 [15:34<03:55,  1.51s/it]"
     ]
    },
    {
     "name": "stdout",
     "output_type": "stream",
     "text": [
      "Iter 626.0, Minibatch Loss= 0.933247, Training Accuracy= 0.54688\n"
     ]
    },
    {
     "name": "stderr",
     "output_type": "stream",
     "text": [
      "\r",
      " 80%|███████████████████████████████████████████████████▎            | 627/782 [15:36<03:52,  1.50s/it]"
     ]
    },
    {
     "name": "stdout",
     "output_type": "stream",
     "text": [
      "Iter 627.0, Minibatch Loss= 0.930034, Training Accuracy= 0.54688\n"
     ]
    },
    {
     "name": "stderr",
     "output_type": "stream",
     "text": [
      "\r",
      " 80%|███████████████████████████████████████████████████▍            | 628/782 [15:37<03:52,  1.51s/it]"
     ]
    },
    {
     "name": "stdout",
     "output_type": "stream",
     "text": [
      "Iter 628.0, Minibatch Loss= 0.931150, Training Accuracy= 0.53125\n"
     ]
    },
    {
     "name": "stderr",
     "output_type": "stream",
     "text": [
      "\r",
      " 80%|███████████████████████████████████████████████████▍            | 629/782 [15:39<03:53,  1.53s/it]"
     ]
    },
    {
     "name": "stdout",
     "output_type": "stream",
     "text": [
      "Iter 629.0, Minibatch Loss= 0.938303, Training Accuracy= 0.55469\n"
     ]
    },
    {
     "name": "stderr",
     "output_type": "stream",
     "text": [
      "\r",
      " 81%|███████████████████████████████████████████████████▌            | 630/782 [15:41<03:50,  1.52s/it]"
     ]
    },
    {
     "name": "stdout",
     "output_type": "stream",
     "text": [
      "Iter 630.0, Minibatch Loss= 0.963055, Training Accuracy= 0.52344\n"
     ]
    },
    {
     "name": "stderr",
     "output_type": "stream",
     "text": [
      "\r",
      " 81%|███████████████████████████████████████████████████▋            | 631/782 [15:42<03:41,  1.46s/it]"
     ]
    },
    {
     "name": "stdout",
     "output_type": "stream",
     "text": [
      "Iter 631.0, Minibatch Loss= 0.935824, Training Accuracy= 0.55469\n"
     ]
    },
    {
     "name": "stderr",
     "output_type": "stream",
     "text": [
      "\r",
      " 81%|███████████████████████████████████████████████████▋            | 632/782 [15:43<03:36,  1.45s/it]"
     ]
    },
    {
     "name": "stdout",
     "output_type": "stream",
     "text": [
      "Iter 632.0, Minibatch Loss= 0.927138, Training Accuracy= 0.54688\n"
     ]
    },
    {
     "name": "stderr",
     "output_type": "stream",
     "text": [
      "\r",
      " 81%|███████████████████████████████████████████████████▊            | 633/782 [15:45<03:37,  1.46s/it]"
     ]
    },
    {
     "name": "stdout",
     "output_type": "stream",
     "text": [
      "Iter 633.0, Minibatch Loss= 0.922580, Training Accuracy= 0.54688\n"
     ]
    },
    {
     "name": "stderr",
     "output_type": "stream",
     "text": [
      "\r",
      " 81%|███████████████████████████████████████████████████▉            | 634/782 [15:46<03:43,  1.51s/it]"
     ]
    },
    {
     "name": "stdout",
     "output_type": "stream",
     "text": [
      "Iter 634.0, Minibatch Loss= 0.921586, Training Accuracy= 0.52344\n"
     ]
    },
    {
     "name": "stderr",
     "output_type": "stream",
     "text": [
      "\r",
      " 81%|███████████████████████████████████████████████████▉            | 635/782 [15:48<03:41,  1.51s/it]"
     ]
    },
    {
     "name": "stdout",
     "output_type": "stream",
     "text": [
      "Iter 635.0, Minibatch Loss= 0.921863, Training Accuracy= 0.55469\n"
     ]
    },
    {
     "name": "stderr",
     "output_type": "stream",
     "text": [
      "\r",
      " 81%|████████████████████████████████████████████████████            | 636/782 [15:49<03:41,  1.51s/it]"
     ]
    },
    {
     "name": "stdout",
     "output_type": "stream",
     "text": [
      "Iter 636.0, Minibatch Loss= 0.929794, Training Accuracy= 0.53125\n"
     ]
    },
    {
     "name": "stderr",
     "output_type": "stream",
     "text": [
      "\r",
      " 81%|████████████████████████████████████████████████████▏           | 637/782 [15:51<03:36,  1.49s/it]"
     ]
    },
    {
     "name": "stdout",
     "output_type": "stream",
     "text": [
      "Iter 637.0, Minibatch Loss= 0.920100, Training Accuracy= 0.55469\n"
     ]
    },
    {
     "name": "stderr",
     "output_type": "stream",
     "text": [
      "\r",
      " 82%|████████████████████████████████████████████████████▏           | 638/782 [15:52<03:28,  1.45s/it]"
     ]
    },
    {
     "name": "stdout",
     "output_type": "stream",
     "text": [
      "Iter 638.0, Minibatch Loss= 0.974184, Training Accuracy= 0.55469\n"
     ]
    },
    {
     "name": "stderr",
     "output_type": "stream",
     "text": [
      "\r",
      " 82%|████████████████████████████████████████████████████▎           | 639/782 [15:54<03:26,  1.44s/it]"
     ]
    },
    {
     "name": "stdout",
     "output_type": "stream",
     "text": [
      "Iter 639.0, Minibatch Loss= 0.919917, Training Accuracy= 0.55469\n"
     ]
    },
    {
     "name": "stderr",
     "output_type": "stream",
     "text": [
      "\r",
      " 82%|████████████████████████████████████████████████████▍           | 640/782 [15:55<03:25,  1.45s/it]"
     ]
    },
    {
     "name": "stdout",
     "output_type": "stream",
     "text": [
      "Iter 640.0, Minibatch Loss= 0.915164, Training Accuracy= 0.56250\n"
     ]
    },
    {
     "name": "stderr",
     "output_type": "stream",
     "text": [
      "\r",
      " 82%|████████████████████████████████████████████████████▍           | 641/782 [15:57<03:26,  1.47s/it]"
     ]
    },
    {
     "name": "stdout",
     "output_type": "stream",
     "text": [
      "Iter 641.0, Minibatch Loss= 0.911029, Training Accuracy= 0.55469\n"
     ]
    },
    {
     "name": "stderr",
     "output_type": "stream",
     "text": [
      "\r",
      " 82%|████████████████████████████████████████████████████▌           | 642/782 [15:58<03:24,  1.46s/it]"
     ]
    },
    {
     "name": "stdout",
     "output_type": "stream",
     "text": [
      "Iter 642.0, Minibatch Loss= 0.914439, Training Accuracy= 0.52344\n"
     ]
    },
    {
     "name": "stderr",
     "output_type": "stream",
     "text": [
      "\r",
      " 82%|████████████████████████████████████████████████████▌           | 643/782 [16:00<03:25,  1.48s/it]"
     ]
    },
    {
     "name": "stdout",
     "output_type": "stream",
     "text": [
      "Iter 643.0, Minibatch Loss= 0.945856, Training Accuracy= 0.55469\n"
     ]
    },
    {
     "name": "stderr",
     "output_type": "stream",
     "text": [
      "\r",
      " 82%|████████████████████████████████████████████████████▋           | 644/782 [16:01<03:19,  1.44s/it]"
     ]
    },
    {
     "name": "stdout",
     "output_type": "stream",
     "text": [
      "Iter 644.0, Minibatch Loss= 0.944210, Training Accuracy= 0.54688\n"
     ]
    },
    {
     "name": "stderr",
     "output_type": "stream",
     "text": [
      "\r",
      " 82%|████████████████████████████████████████████████████▊           | 645/782 [16:02<03:19,  1.45s/it]"
     ]
    },
    {
     "name": "stdout",
     "output_type": "stream",
     "text": [
      "Iter 645.0, Minibatch Loss= 1.025418, Training Accuracy= 0.54688\n"
     ]
    },
    {
     "name": "stderr",
     "output_type": "stream",
     "text": [
      "\r",
      " 83%|████████████████████████████████████████████████████▊           | 646/782 [16:04<03:19,  1.47s/it]"
     ]
    },
    {
     "name": "stdout",
     "output_type": "stream",
     "text": [
      "Iter 646.0, Minibatch Loss= 0.992490, Training Accuracy= 0.55469\n"
     ]
    },
    {
     "name": "stderr",
     "output_type": "stream",
     "text": [
      "\r",
      " 83%|████████████████████████████████████████████████████▉           | 647/782 [16:05<03:19,  1.47s/it]"
     ]
    },
    {
     "name": "stdout",
     "output_type": "stream",
     "text": [
      "Iter 647.0, Minibatch Loss= 0.960484, Training Accuracy= 0.55469\n"
     ]
    },
    {
     "name": "stderr",
     "output_type": "stream",
     "text": [
      "\r",
      " 83%|█████████████████████████████████████████████████████           | 648/782 [16:07<03:16,  1.47s/it]"
     ]
    },
    {
     "name": "stdout",
     "output_type": "stream",
     "text": [
      "Iter 648.0, Minibatch Loss= 0.945987, Training Accuracy= 0.55469\n"
     ]
    },
    {
     "name": "stderr",
     "output_type": "stream",
     "text": [
      "\r",
      " 83%|█████████████████████████████████████████████████████           | 649/782 [16:08<03:17,  1.48s/it]"
     ]
    },
    {
     "name": "stdout",
     "output_type": "stream",
     "text": [
      "Iter 649.0, Minibatch Loss= 0.937249, Training Accuracy= 0.55469\n"
     ]
    },
    {
     "name": "stderr",
     "output_type": "stream",
     "text": [
      "\r",
      " 83%|█████████████████████████████████████████████████████▏          | 650/782 [16:10<03:17,  1.50s/it]"
     ]
    },
    {
     "name": "stdout",
     "output_type": "stream",
     "text": [
      "Iter 650.0, Minibatch Loss= 0.931845, Training Accuracy= 0.55469\n"
     ]
    },
    {
     "name": "stderr",
     "output_type": "stream",
     "text": [
      "\r",
      " 83%|█████████████████████████████████████████████████████▎          | 651/782 [16:11<03:12,  1.47s/it]"
     ]
    },
    {
     "name": "stdout",
     "output_type": "stream",
     "text": [
      "Iter 651.0, Minibatch Loss= 0.928217, Training Accuracy= 0.55469\n"
     ]
    },
    {
     "name": "stderr",
     "output_type": "stream",
     "text": [
      "\r",
      " 83%|█████████████████████████████████████████████████████▎          | 652/782 [16:13<03:11,  1.48s/it]"
     ]
    },
    {
     "name": "stdout",
     "output_type": "stream",
     "text": [
      "Iter 652.0, Minibatch Loss= 0.925423, Training Accuracy= 0.55469\n"
     ]
    },
    {
     "name": "stderr",
     "output_type": "stream",
     "text": [
      "\r",
      " 84%|█████████████████████████████████████████████████████▍          | 653/782 [16:14<03:15,  1.51s/it]"
     ]
    },
    {
     "name": "stdout",
     "output_type": "stream",
     "text": [
      "Iter 653.0, Minibatch Loss= 0.922691, Training Accuracy= 0.55469\n"
     ]
    },
    {
     "name": "stderr",
     "output_type": "stream",
     "text": [
      "\r",
      " 84%|█████████████████████████████████████████████████████▌          | 654/782 [16:16<03:12,  1.51s/it]"
     ]
    },
    {
     "name": "stdout",
     "output_type": "stream",
     "text": [
      "Iter 654.0, Minibatch Loss= 0.919219, Training Accuracy= 0.55469\n"
     ]
    },
    {
     "name": "stderr",
     "output_type": "stream",
     "text": [
      "\r",
      " 84%|█████████████████████████████████████████████████████▌          | 655/782 [16:17<03:09,  1.49s/it]"
     ]
    },
    {
     "name": "stdout",
     "output_type": "stream",
     "text": [
      "Iter 655.0, Minibatch Loss= 0.913649, Training Accuracy= 0.55469\n"
     ]
    },
    {
     "name": "stderr",
     "output_type": "stream",
     "text": [
      "\r",
      " 84%|█████████████████████████████████████████████████████▋          | 656/782 [16:19<03:05,  1.48s/it]"
     ]
    },
    {
     "name": "stdout",
     "output_type": "stream",
     "text": [
      "Iter 656.0, Minibatch Loss= 0.902602, Training Accuracy= 0.57812\n"
     ]
    },
    {
     "name": "stderr",
     "output_type": "stream",
     "text": [
      "\r",
      " 84%|█████████████████████████████████████████████████████▊          | 657/782 [16:20<03:03,  1.47s/it]"
     ]
    },
    {
     "name": "stdout",
     "output_type": "stream",
     "text": [
      "Iter 657.0, Minibatch Loss= 0.877343, Training Accuracy= 0.61719\n"
     ]
    },
    {
     "name": "stderr",
     "output_type": "stream",
     "text": [
      "\r",
      " 84%|█████████████████████████████████████████████████████▊          | 658/782 [16:22<02:56,  1.43s/it]"
     ]
    },
    {
     "name": "stdout",
     "output_type": "stream",
     "text": [
      "Iter 658.0, Minibatch Loss= 1.183856, Training Accuracy= 0.53906\n"
     ]
    },
    {
     "name": "stderr",
     "output_type": "stream",
     "text": [
      "\r",
      " 84%|█████████████████████████████████████████████████████▉          | 659/782 [16:23<02:56,  1.43s/it]"
     ]
    },
    {
     "name": "stdout",
     "output_type": "stream",
     "text": [
      "Iter 659.0, Minibatch Loss= 1.005193, Training Accuracy= 0.32812\n"
     ]
    },
    {
     "name": "stderr",
     "output_type": "stream",
     "text": [
      "\r",
      " 84%|██████████████████████████████████████████████████████          | 660/782 [16:24<02:55,  1.44s/it]"
     ]
    },
    {
     "name": "stdout",
     "output_type": "stream",
     "text": [
      "Iter 660.0, Minibatch Loss= 1.028597, Training Accuracy= 0.55469\n"
     ]
    },
    {
     "name": "stderr",
     "output_type": "stream",
     "text": [
      "\r",
      " 85%|██████████████████████████████████████████████████████          | 661/782 [16:26<02:53,  1.44s/it]"
     ]
    },
    {
     "name": "stdout",
     "output_type": "stream",
     "text": [
      "Iter 661.0, Minibatch Loss= 0.958777, Training Accuracy= 0.51562\n"
     ]
    },
    {
     "name": "stderr",
     "output_type": "stream",
     "text": [
      "\r",
      " 85%|██████████████████████████████████████████████████████▏         | 662/782 [16:27<02:52,  1.43s/it]"
     ]
    },
    {
     "name": "stdout",
     "output_type": "stream",
     "text": [
      "Iter 662.0, Minibatch Loss= 0.958730, Training Accuracy= 0.55469\n"
     ]
    },
    {
     "name": "stderr",
     "output_type": "stream",
     "text": [
      "\r",
      " 85%|██████████████████████████████████████████████████████▎         | 663/782 [16:29<02:50,  1.43s/it]"
     ]
    },
    {
     "name": "stdout",
     "output_type": "stream",
     "text": [
      "Iter 663.0, Minibatch Loss= 0.945201, Training Accuracy= 0.55469\n"
     ]
    },
    {
     "name": "stderr",
     "output_type": "stream",
     "text": [
      "\r",
      " 85%|██████████████████████████████████████████████████████▎         | 664/782 [16:30<02:48,  1.42s/it]"
     ]
    },
    {
     "name": "stdout",
     "output_type": "stream",
     "text": [
      "Iter 664.0, Minibatch Loss= 0.938756, Training Accuracy= 0.55469\n"
     ]
    },
    {
     "name": "stderr",
     "output_type": "stream",
     "text": [
      "\r",
      " 85%|██████████████████████████████████████████████████████▍         | 665/782 [16:31<02:42,  1.39s/it]"
     ]
    },
    {
     "name": "stdout",
     "output_type": "stream",
     "text": [
      "Iter 665.0, Minibatch Loss= 0.936434, Training Accuracy= 0.55469\n"
     ]
    },
    {
     "name": "stderr",
     "output_type": "stream",
     "text": [
      "\r",
      " 85%|██████████████████████████████████████████████████████▌         | 666/782 [16:33<02:43,  1.41s/it]"
     ]
    },
    {
     "name": "stdout",
     "output_type": "stream",
     "text": [
      "Iter 666.0, Minibatch Loss= 0.937176, Training Accuracy= 0.55469\n"
     ]
    },
    {
     "name": "stderr",
     "output_type": "stream",
     "text": [
      "\r",
      " 85%|██████████████████████████████████████████████████████▌         | 667/782 [16:34<02:43,  1.42s/it]"
     ]
    },
    {
     "name": "stdout",
     "output_type": "stream",
     "text": [
      "Iter 667.0, Minibatch Loss= 0.948144, Training Accuracy= 0.53125\n"
     ]
    },
    {
     "name": "stderr",
     "output_type": "stream",
     "text": [
      "\r",
      " 85%|██████████████████████████████████████████████████████▋         | 668/782 [16:36<02:44,  1.44s/it]"
     ]
    },
    {
     "name": "stdout",
     "output_type": "stream",
     "text": [
      "Iter 668.0, Minibatch Loss= 0.959318, Training Accuracy= 0.55469\n"
     ]
    },
    {
     "name": "stderr",
     "output_type": "stream",
     "text": [
      "\r",
      " 86%|██████████████████████████████████████████████████████▊         | 669/782 [16:38<02:54,  1.54s/it]"
     ]
    },
    {
     "name": "stdout",
     "output_type": "stream",
     "text": [
      "Iter 669.0, Minibatch Loss= 0.954087, Training Accuracy= 0.55469\n"
     ]
    },
    {
     "name": "stderr",
     "output_type": "stream",
     "text": [
      "\r",
      " 86%|██████████████████████████████████████████████████████▊         | 670/782 [16:39<03:02,  1.63s/it]"
     ]
    },
    {
     "name": "stdout",
     "output_type": "stream",
     "text": [
      "Iter 670.0, Minibatch Loss= 0.938196, Training Accuracy= 0.55469\n"
     ]
    },
    {
     "name": "stderr",
     "output_type": "stream",
     "text": [
      "\r",
      " 86%|██████████████████████████████████████████████████████▉         | 671/782 [16:41<03:06,  1.68s/it]"
     ]
    },
    {
     "name": "stdout",
     "output_type": "stream",
     "text": [
      "Iter 671.0, Minibatch Loss= 0.934628, Training Accuracy= 0.55469\n"
     ]
    },
    {
     "name": "stderr",
     "output_type": "stream",
     "text": [
      "\r",
      " 86%|██████████████████████████████████████████████████████▉         | 672/782 [16:43<02:57,  1.61s/it]"
     ]
    },
    {
     "name": "stdout",
     "output_type": "stream",
     "text": [
      "Iter 672.0, Minibatch Loss= 0.932425, Training Accuracy= 0.55469\n"
     ]
    },
    {
     "name": "stderr",
     "output_type": "stream",
     "text": [
      "\r",
      " 86%|███████████████████████████████████████████████████████         | 673/782 [16:44<02:49,  1.55s/it]"
     ]
    },
    {
     "name": "stdout",
     "output_type": "stream",
     "text": [
      "Iter 673.0, Minibatch Loss= 0.931475, Training Accuracy= 0.55469\n"
     ]
    },
    {
     "name": "stderr",
     "output_type": "stream",
     "text": [
      "\r",
      " 86%|███████████████████████████████████████████████████████▏        | 674/782 [16:46<02:45,  1.53s/it]"
     ]
    },
    {
     "name": "stdout",
     "output_type": "stream",
     "text": [
      "Iter 674.0, Minibatch Loss= 0.931365, Training Accuracy= 0.55469\n"
     ]
    },
    {
     "name": "stderr",
     "output_type": "stream",
     "text": [
      "\r",
      " 86%|███████████████████████████████████████████████████████▏        | 675/782 [16:47<02:41,  1.51s/it]"
     ]
    },
    {
     "name": "stdout",
     "output_type": "stream",
     "text": [
      "Iter 675.0, Minibatch Loss= 0.932622, Training Accuracy= 0.55469\n"
     ]
    },
    {
     "name": "stderr",
     "output_type": "stream",
     "text": [
      "\r",
      " 86%|███████████████████████████████████████████████████████▎        | 676/782 [16:49<02:37,  1.49s/it]"
     ]
    },
    {
     "name": "stdout",
     "output_type": "stream",
     "text": [
      "Iter 676.0, Minibatch Loss= 0.936978, Training Accuracy= 0.55469\n"
     ]
    },
    {
     "name": "stderr",
     "output_type": "stream",
     "text": [
      "\r",
      " 87%|███████████████████████████████████████████████████████▍        | 677/782 [16:50<02:41,  1.54s/it]"
     ]
    },
    {
     "name": "stdout",
     "output_type": "stream",
     "text": [
      "Iter 677.0, Minibatch Loss= 0.949203, Training Accuracy= 0.53125\n"
     ]
    },
    {
     "name": "stderr",
     "output_type": "stream",
     "text": [
      "\r",
      " 87%|███████████████████████████████████████████████████████▍        | 678/782 [16:52<02:35,  1.49s/it]"
     ]
    },
    {
     "name": "stdout",
     "output_type": "stream",
     "text": [
      "Iter 678.0, Minibatch Loss= 0.943000, Training Accuracy= 0.55469\n"
     ]
    },
    {
     "name": "stderr",
     "output_type": "stream",
     "text": [
      "\r",
      " 87%|███████████████████████████████████████████████████████▌        | 679/782 [16:53<02:31,  1.47s/it]"
     ]
    },
    {
     "name": "stdout",
     "output_type": "stream",
     "text": [
      "Iter 679.0, Minibatch Loss= 0.943023, Training Accuracy= 0.55469\n"
     ]
    },
    {
     "name": "stderr",
     "output_type": "stream",
     "text": [
      "\r",
      " 87%|███████████████████████████████████████████████████████▋        | 680/782 [16:54<02:29,  1.46s/it]"
     ]
    },
    {
     "name": "stdout",
     "output_type": "stream",
     "text": [
      "Iter 680.0, Minibatch Loss= 0.934994, Training Accuracy= 0.55469\n"
     ]
    },
    {
     "name": "stderr",
     "output_type": "stream",
     "text": [
      "\r",
      " 87%|███████████████████████████████████████████████████████▋        | 681/782 [16:56<02:26,  1.45s/it]"
     ]
    },
    {
     "name": "stdout",
     "output_type": "stream",
     "text": [
      "Iter 681.0, Minibatch Loss= 0.934977, Training Accuracy= 0.55469\n"
     ]
    },
    {
     "name": "stderr",
     "output_type": "stream",
     "text": [
      "\r",
      " 87%|███████████████████████████████████████████████████████▊        | 682/782 [16:57<02:23,  1.44s/it]"
     ]
    },
    {
     "name": "stdout",
     "output_type": "stream",
     "text": [
      "Iter 682.0, Minibatch Loss= 0.933919, Training Accuracy= 0.55469\n"
     ]
    },
    {
     "name": "stderr",
     "output_type": "stream",
     "text": [
      "\r",
      " 87%|███████████████████████████████████████████████████████▉        | 683/782 [16:59<02:21,  1.42s/it]"
     ]
    },
    {
     "name": "stdout",
     "output_type": "stream",
     "text": [
      "Iter 683.0, Minibatch Loss= 0.936210, Training Accuracy= 0.55469\n"
     ]
    },
    {
     "name": "stderr",
     "output_type": "stream",
     "text": [
      "\r",
      " 87%|███████████████████████████████████████████████████████▉        | 684/782 [17:00<02:19,  1.42s/it]"
     ]
    },
    {
     "name": "stdout",
     "output_type": "stream",
     "text": [
      "Iter 684.0, Minibatch Loss= 0.935048, Training Accuracy= 0.55469\n"
     ]
    },
    {
     "name": "stderr",
     "output_type": "stream",
     "text": [
      "\r",
      " 88%|████████████████████████████████████████████████████████        | 685/782 [17:02<02:20,  1.44s/it]"
     ]
    },
    {
     "name": "stdout",
     "output_type": "stream",
     "text": [
      "Iter 685.0, Minibatch Loss= 0.938013, Training Accuracy= 0.55469\n"
     ]
    },
    {
     "name": "stderr",
     "output_type": "stream",
     "text": [
      "\r",
      " 88%|████████████████████████████████████████████████████████▏       | 686/782 [17:03<02:23,  1.50s/it]"
     ]
    },
    {
     "name": "stdout",
     "output_type": "stream",
     "text": [
      "Iter 686.0, Minibatch Loss= 0.934769, Training Accuracy= 0.55469\n"
     ]
    },
    {
     "name": "stderr",
     "output_type": "stream",
     "text": [
      "\r",
      " 88%|████████████████████████████████████████████████████████▏       | 687/782 [17:05<02:23,  1.51s/it]"
     ]
    },
    {
     "name": "stdout",
     "output_type": "stream",
     "text": [
      "Iter 687.0, Minibatch Loss= 0.936877, Training Accuracy= 0.55469\n"
     ]
    },
    {
     "name": "stderr",
     "output_type": "stream",
     "text": [
      "\r",
      " 88%|████████████████████████████████████████████████████████▎       | 688/782 [17:06<02:23,  1.52s/it]"
     ]
    },
    {
     "name": "stdout",
     "output_type": "stream",
     "text": [
      "Iter 688.0, Minibatch Loss= 0.933717, Training Accuracy= 0.55469\n"
     ]
    },
    {
     "name": "stderr",
     "output_type": "stream",
     "text": [
      "\r",
      " 88%|████████████████████████████████████████████████████████▍       | 689/782 [17:08<02:23,  1.55s/it]"
     ]
    },
    {
     "name": "stdout",
     "output_type": "stream",
     "text": [
      "Iter 689.0, Minibatch Loss= 0.935427, Training Accuracy= 0.55469\n"
     ]
    },
    {
     "name": "stderr",
     "output_type": "stream",
     "text": [
      "\r",
      " 88%|████████████████████████████████████████████████████████▍       | 690/782 [17:09<02:22,  1.55s/it]"
     ]
    },
    {
     "name": "stdout",
     "output_type": "stream",
     "text": [
      "Iter 690.0, Minibatch Loss= 0.932956, Training Accuracy= 0.55469\n"
     ]
    },
    {
     "name": "stderr",
     "output_type": "stream",
     "text": [
      "\r",
      " 88%|████████████████████████████████████████████████████████▌       | 691/782 [17:11<02:18,  1.52s/it]"
     ]
    },
    {
     "name": "stdout",
     "output_type": "stream",
     "text": [
      "Iter 691.0, Minibatch Loss= 0.934585, Training Accuracy= 0.55469\n"
     ]
    },
    {
     "name": "stderr",
     "output_type": "stream",
     "text": [
      "\r",
      " 88%|████████████████████████████████████████████████████████▋       | 692/782 [17:12<02:15,  1.50s/it]"
     ]
    },
    {
     "name": "stdout",
     "output_type": "stream",
     "text": [
      "Iter 692.0, Minibatch Loss= 0.932449, Training Accuracy= 0.55469\n"
     ]
    },
    {
     "name": "stderr",
     "output_type": "stream",
     "text": [
      "\r",
      " 89%|████████████████████████████████████████████████████████▋       | 693/782 [17:14<02:12,  1.49s/it]"
     ]
    },
    {
     "name": "stdout",
     "output_type": "stream",
     "text": [
      "Iter 693.0, Minibatch Loss= 0.934066, Training Accuracy= 0.55469\n"
     ]
    },
    {
     "name": "stderr",
     "output_type": "stream",
     "text": [
      "\r",
      " 89%|████████████████████████████████████████████████████████▊       | 694/782 [17:15<02:09,  1.47s/it]"
     ]
    },
    {
     "name": "stdout",
     "output_type": "stream",
     "text": [
      "Iter 694.0, Minibatch Loss= 0.932050, Training Accuracy= 0.55469\n"
     ]
    },
    {
     "name": "stderr",
     "output_type": "stream",
     "text": [
      "\r",
      " 89%|████████████████████████████████████████████████████████▉       | 695/782 [17:17<02:07,  1.47s/it]"
     ]
    },
    {
     "name": "stdout",
     "output_type": "stream",
     "text": [
      "Iter 695.0, Minibatch Loss= 0.933660, Training Accuracy= 0.55469\n"
     ]
    },
    {
     "name": "stderr",
     "output_type": "stream",
     "text": [
      "\r",
      " 89%|████████████████████████████████████████████████████████▉       | 696/782 [17:18<02:05,  1.46s/it]"
     ]
    },
    {
     "name": "stdout",
     "output_type": "stream",
     "text": [
      "Iter 696.0, Minibatch Loss= 0.931687, Training Accuracy= 0.55469\n"
     ]
    },
    {
     "name": "stderr",
     "output_type": "stream",
     "text": [
      "\r",
      " 89%|█████████████████████████████████████████████████████████       | 697/782 [17:20<02:04,  1.47s/it]"
     ]
    },
    {
     "name": "stdout",
     "output_type": "stream",
     "text": [
      "Iter 697.0, Minibatch Loss= 0.933282, Training Accuracy= 0.55469\n"
     ]
    },
    {
     "name": "stderr",
     "output_type": "stream",
     "text": [
      "\r",
      " 89%|█████████████████████████████████████████████████████████▏      | 698/782 [17:21<02:03,  1.48s/it]"
     ]
    },
    {
     "name": "stdout",
     "output_type": "stream",
     "text": [
      "Iter 698.0, Minibatch Loss= 0.931336, Training Accuracy= 0.55469\n"
     ]
    },
    {
     "name": "stderr",
     "output_type": "stream",
     "text": [
      "\r",
      " 89%|█████████████████████████████████████████████████████████▏      | 699/782 [17:23<02:02,  1.47s/it]"
     ]
    },
    {
     "name": "stdout",
     "output_type": "stream",
     "text": [
      "Iter 699.0, Minibatch Loss= 0.932914, Training Accuracy= 0.55469\n"
     ]
    },
    {
     "name": "stderr",
     "output_type": "stream",
     "text": [
      "\r",
      " 90%|█████████████████████████████████████████████████████████▎      | 700/782 [17:24<01:59,  1.46s/it]"
     ]
    },
    {
     "name": "stdout",
     "output_type": "stream",
     "text": [
      "Iter 700.0, Minibatch Loss= 0.930996, Training Accuracy= 0.55469\n"
     ]
    },
    {
     "name": "stderr",
     "output_type": "stream",
     "text": [
      "\r",
      " 90%|█████████████████████████████████████████████████████████▎      | 701/782 [17:25<01:55,  1.42s/it]"
     ]
    },
    {
     "name": "stdout",
     "output_type": "stream",
     "text": [
      "Iter 701.0, Minibatch Loss= 0.932565, Training Accuracy= 0.55469\n"
     ]
    },
    {
     "name": "stderr",
     "output_type": "stream",
     "text": [
      "\r",
      " 90%|█████████████████████████████████████████████████████████▍      | 702/782 [17:27<01:52,  1.41s/it]"
     ]
    },
    {
     "name": "stdout",
     "output_type": "stream",
     "text": [
      "Iter 702.0, Minibatch Loss= 0.930673, Training Accuracy= 0.55469\n"
     ]
    },
    {
     "name": "stderr",
     "output_type": "stream",
     "text": [
      "\r",
      " 90%|█████████████████████████████████████████████████████████▌      | 703/782 [17:28<01:51,  1.41s/it]"
     ]
    },
    {
     "name": "stdout",
     "output_type": "stream",
     "text": [
      "Iter 703.0, Minibatch Loss= 0.932250, Training Accuracy= 0.55469\n"
     ]
    },
    {
     "name": "stderr",
     "output_type": "stream",
     "text": [
      "\r",
      " 90%|█████████████████████████████████████████████████████████▌      | 704/782 [17:29<01:48,  1.40s/it]"
     ]
    },
    {
     "name": "stdout",
     "output_type": "stream",
     "text": [
      "Iter 704.0, Minibatch Loss= 0.930373, Training Accuracy= 0.55469\n"
     ]
    },
    {
     "name": "stderr",
     "output_type": "stream",
     "text": [
      "\r",
      " 90%|█████████████████████████████████████████████████████████▋      | 705/782 [17:31<01:47,  1.40s/it]"
     ]
    },
    {
     "name": "stdout",
     "output_type": "stream",
     "text": [
      "Iter 705.0, Minibatch Loss= 0.931980, Training Accuracy= 0.55469\n"
     ]
    },
    {
     "name": "stderr",
     "output_type": "stream",
     "text": [
      "\r",
      " 90%|█████████████████████████████████████████████████████████▊      | 706/782 [17:32<01:47,  1.42s/it]"
     ]
    },
    {
     "name": "stdout",
     "output_type": "stream",
     "text": [
      "Iter 706.0, Minibatch Loss= 0.930101, Training Accuracy= 0.55469\n"
     ]
    },
    {
     "name": "stderr",
     "output_type": "stream",
     "text": [
      "\r",
      " 90%|█████████████████████████████████████████████████████████▊      | 707/782 [17:34<01:48,  1.44s/it]"
     ]
    },
    {
     "name": "stdout",
     "output_type": "stream",
     "text": [
      "Iter 707.0, Minibatch Loss= 0.931759, Training Accuracy= 0.55469\n"
     ]
    },
    {
     "name": "stderr",
     "output_type": "stream",
     "text": [
      "\r",
      " 91%|█████████████████████████████████████████████████████████▉      | 708/782 [17:35<01:46,  1.44s/it]"
     ]
    },
    {
     "name": "stdout",
     "output_type": "stream",
     "text": [
      "Iter 708.0, Minibatch Loss= 0.929857, Training Accuracy= 0.55469\n"
     ]
    },
    {
     "name": "stderr",
     "output_type": "stream",
     "text": [
      "\r",
      " 91%|██████████████████████████████████████████████████████████      | 709/782 [17:37<01:44,  1.43s/it]"
     ]
    },
    {
     "name": "stdout",
     "output_type": "stream",
     "text": [
      "Iter 709.0, Minibatch Loss= 0.931586, Training Accuracy= 0.55469\n"
     ]
    },
    {
     "name": "stderr",
     "output_type": "stream",
     "text": [
      "\r",
      " 91%|██████████████████████████████████████████████████████████      | 710/782 [17:38<01:44,  1.45s/it]"
     ]
    },
    {
     "name": "stdout",
     "output_type": "stream",
     "text": [
      "Iter 710.0, Minibatch Loss= 0.929637, Training Accuracy= 0.55469\n"
     ]
    },
    {
     "name": "stderr",
     "output_type": "stream",
     "text": [
      "\r",
      " 91%|██████████████████████████████████████████████████████████▏     | 711/782 [17:40<01:44,  1.47s/it]"
     ]
    },
    {
     "name": "stdout",
     "output_type": "stream",
     "text": [
      "Iter 711.0, Minibatch Loss= 0.931455, Training Accuracy= 0.55469\n"
     ]
    },
    {
     "name": "stderr",
     "output_type": "stream",
     "text": [
      "\r",
      " 91%|██████████████████████████████████████████████████████████▎     | 712/782 [17:41<01:41,  1.45s/it]"
     ]
    },
    {
     "name": "stdout",
     "output_type": "stream",
     "text": [
      "Iter 712.0, Minibatch Loss= 0.929437, Training Accuracy= 0.55469\n"
     ]
    },
    {
     "name": "stderr",
     "output_type": "stream",
     "text": [
      "\r",
      " 91%|██████████████████████████████████████████████████████████▎     | 713/782 [17:43<01:39,  1.44s/it]"
     ]
    },
    {
     "name": "stdout",
     "output_type": "stream",
     "text": [
      "Iter 713.0, Minibatch Loss= 0.931354, Training Accuracy= 0.55469\n"
     ]
    },
    {
     "name": "stderr",
     "output_type": "stream",
     "text": [
      "\r",
      " 91%|██████████████████████████████████████████████████████████▍     | 714/782 [17:44<01:37,  1.43s/it]"
     ]
    },
    {
     "name": "stdout",
     "output_type": "stream",
     "text": [
      "Iter 714.0, Minibatch Loss= 0.929247, Training Accuracy= 0.55469\n"
     ]
    },
    {
     "name": "stderr",
     "output_type": "stream",
     "text": [
      "\r",
      " 91%|██████████████████████████████████████████████████████████▌     | 715/782 [17:45<01:36,  1.44s/it]"
     ]
    },
    {
     "name": "stdout",
     "output_type": "stream",
     "text": [
      "Iter 715.0, Minibatch Loss= 0.931270, Training Accuracy= 0.55469\n"
     ]
    },
    {
     "name": "stderr",
     "output_type": "stream",
     "text": [
      "\r",
      " 92%|██████████████████████████████████████████████████████████▌     | 716/782 [17:47<01:36,  1.46s/it]"
     ]
    },
    {
     "name": "stdout",
     "output_type": "stream",
     "text": [
      "Iter 716.0, Minibatch Loss= 0.929059, Training Accuracy= 0.55469\n"
     ]
    },
    {
     "name": "stderr",
     "output_type": "stream",
     "text": [
      "\r",
      " 92%|██████████████████████████████████████████████████████████▋     | 717/782 [17:48<01:36,  1.49s/it]"
     ]
    },
    {
     "name": "stdout",
     "output_type": "stream",
     "text": [
      "Iter 717.0, Minibatch Loss= 0.931188, Training Accuracy= 0.55469\n"
     ]
    },
    {
     "name": "stderr",
     "output_type": "stream",
     "text": [
      "\r",
      " 92%|██████████████████████████████████████████████████████████▊     | 718/782 [17:50<01:36,  1.51s/it]"
     ]
    },
    {
     "name": "stdout",
     "output_type": "stream",
     "text": [
      "Iter 718.0, Minibatch Loss= 0.928867, Training Accuracy= 0.55469\n"
     ]
    },
    {
     "name": "stderr",
     "output_type": "stream",
     "text": [
      "\r",
      " 92%|██████████████████████████████████████████████████████████▊     | 719/782 [17:52<01:35,  1.52s/it]"
     ]
    },
    {
     "name": "stdout",
     "output_type": "stream",
     "text": [
      "Iter 719.0, Minibatch Loss= 0.931103, Training Accuracy= 0.55469\n"
     ]
    },
    {
     "name": "stderr",
     "output_type": "stream",
     "text": [
      "\r",
      " 92%|██████████████████████████████████████████████████████████▉     | 720/782 [17:53<01:35,  1.54s/it]"
     ]
    },
    {
     "name": "stdout",
     "output_type": "stream",
     "text": [
      "Iter 720.0, Minibatch Loss= 0.928669, Training Accuracy= 0.55469\n"
     ]
    },
    {
     "name": "stderr",
     "output_type": "stream",
     "text": [
      "\r",
      " 92%|███████████████████████████████████████████████████████████     | 721/782 [17:55<01:36,  1.58s/it]"
     ]
    },
    {
     "name": "stdout",
     "output_type": "stream",
     "text": [
      "Iter 721.0, Minibatch Loss= 0.931013, Training Accuracy= 0.55469\n"
     ]
    },
    {
     "name": "stderr",
     "output_type": "stream",
     "text": [
      "\r",
      " 92%|███████████████████████████████████████████████████████████     | 722/782 [17:56<01:35,  1.60s/it]"
     ]
    },
    {
     "name": "stdout",
     "output_type": "stream",
     "text": [
      "Iter 722.0, Minibatch Loss= 0.928464, Training Accuracy= 0.55469\n"
     ]
    },
    {
     "name": "stderr",
     "output_type": "stream",
     "text": [
      "\r",
      " 92%|███████████████████████████████████████████████████████████▏    | 723/782 [17:58<01:33,  1.58s/it]"
     ]
    },
    {
     "name": "stdout",
     "output_type": "stream",
     "text": [
      "Iter 723.0, Minibatch Loss= 0.930921, Training Accuracy= 0.55469\n"
     ]
    },
    {
     "name": "stderr",
     "output_type": "stream",
     "text": [
      "\r",
      " 93%|███████████████████████████████████████████████████████████▎    | 724/782 [18:00<01:32,  1.59s/it]"
     ]
    },
    {
     "name": "stdout",
     "output_type": "stream",
     "text": [
      "Iter 724.0, Minibatch Loss= 0.928255, Training Accuracy= 0.55469\n"
     ]
    },
    {
     "name": "stderr",
     "output_type": "stream",
     "text": [
      "\r",
      " 93%|███████████████████████████████████████████████████████████▎    | 725/782 [18:01<01:30,  1.60s/it]"
     ]
    },
    {
     "name": "stdout",
     "output_type": "stream",
     "text": [
      "Iter 725.0, Minibatch Loss= 0.930831, Training Accuracy= 0.55469\n"
     ]
    },
    {
     "name": "stderr",
     "output_type": "stream",
     "text": [
      "\r",
      " 93%|███████████████████████████████████████████████████████████▍    | 726/782 [18:03<01:28,  1.59s/it]"
     ]
    },
    {
     "name": "stdout",
     "output_type": "stream",
     "text": [
      "Iter 726.0, Minibatch Loss= 0.928041, Training Accuracy= 0.55469\n"
     ]
    },
    {
     "name": "stderr",
     "output_type": "stream",
     "text": [
      "\r",
      " 93%|███████████████████████████████████████████████████████████▍    | 727/782 [18:04<01:25,  1.56s/it]"
     ]
    },
    {
     "name": "stdout",
     "output_type": "stream",
     "text": [
      "Iter 727.0, Minibatch Loss= 0.930744, Training Accuracy= 0.55469\n"
     ]
    },
    {
     "name": "stderr",
     "output_type": "stream",
     "text": [
      "\r",
      " 93%|███████████████████████████████████████████████████████████▌    | 728/782 [18:06<01:24,  1.56s/it]"
     ]
    },
    {
     "name": "stdout",
     "output_type": "stream",
     "text": [
      "Iter 728.0, Minibatch Loss= 0.927821, Training Accuracy= 0.55469\n"
     ]
    },
    {
     "name": "stderr",
     "output_type": "stream",
     "text": [
      "\r",
      " 93%|███████████████████████████████████████████████████████████▋    | 729/782 [18:07<01:20,  1.53s/it]"
     ]
    },
    {
     "name": "stdout",
     "output_type": "stream",
     "text": [
      "Iter 729.0, Minibatch Loss= 0.930655, Training Accuracy= 0.55469\n"
     ]
    },
    {
     "name": "stderr",
     "output_type": "stream",
     "text": [
      "\r",
      " 93%|███████████████████████████████████████████████████████████▋    | 730/782 [18:09<01:18,  1.52s/it]"
     ]
    },
    {
     "name": "stdout",
     "output_type": "stream",
     "text": [
      "Iter 730.0, Minibatch Loss= 0.927590, Training Accuracy= 0.55469\n"
     ]
    },
    {
     "name": "stderr",
     "output_type": "stream",
     "text": [
      "\r",
      " 93%|███████████████████████████████████████████████████████████▊    | 731/782 [18:10<01:17,  1.52s/it]"
     ]
    },
    {
     "name": "stdout",
     "output_type": "stream",
     "text": [
      "Iter 731.0, Minibatch Loss= 0.930559, Training Accuracy= 0.55469\n"
     ]
    },
    {
     "name": "stderr",
     "output_type": "stream",
     "text": [
      "\r",
      " 94%|███████████████████████████████████████████████████████████▉    | 732/782 [18:12<01:17,  1.56s/it]"
     ]
    },
    {
     "name": "stdout",
     "output_type": "stream",
     "text": [
      "Iter 732.0, Minibatch Loss= 0.927348, Training Accuracy= 0.55469\n"
     ]
    },
    {
     "name": "stderr",
     "output_type": "stream",
     "text": [
      "\r",
      " 94%|███████████████████████████████████████████████████████████▉    | 733/782 [18:13<01:14,  1.53s/it]"
     ]
    },
    {
     "name": "stdout",
     "output_type": "stream",
     "text": [
      "Iter 733.0, Minibatch Loss= 0.930453, Training Accuracy= 0.55469\n"
     ]
    },
    {
     "name": "stderr",
     "output_type": "stream",
     "text": [
      "\r",
      " 94%|████████████████████████████████████████████████████████████    | 734/782 [18:15<01:11,  1.49s/it]"
     ]
    },
    {
     "name": "stdout",
     "output_type": "stream",
     "text": [
      "Iter 734.0, Minibatch Loss= 0.927093, Training Accuracy= 0.55469\n"
     ]
    },
    {
     "name": "stderr",
     "output_type": "stream",
     "text": [
      "\r",
      " 94%|████████████████████████████████████████████████████████████▏   | 735/782 [18:16<01:09,  1.47s/it]"
     ]
    },
    {
     "name": "stdout",
     "output_type": "stream",
     "text": [
      "Iter 735.0, Minibatch Loss= 0.930340, Training Accuracy= 0.55469\n"
     ]
    },
    {
     "name": "stderr",
     "output_type": "stream",
     "text": [
      "\r",
      " 94%|████████████████████████████████████████████████████████████▏   | 736/782 [18:18<01:07,  1.48s/it]"
     ]
    },
    {
     "name": "stdout",
     "output_type": "stream",
     "text": [
      "Iter 736.0, Minibatch Loss= 0.926827, Training Accuracy= 0.55469\n"
     ]
    },
    {
     "name": "stderr",
     "output_type": "stream",
     "text": [
      "\r",
      " 94%|████████████████████████████████████████████████████████████▎   | 737/782 [18:19<01:08,  1.52s/it]"
     ]
    },
    {
     "name": "stdout",
     "output_type": "stream",
     "text": [
      "Iter 737.0, Minibatch Loss= 0.930221, Training Accuracy= 0.55469\n"
     ]
    },
    {
     "name": "stderr",
     "output_type": "stream",
     "text": [
      "\r",
      " 94%|████████████████████████████████████████████████████████████▍   | 738/782 [18:21<01:08,  1.55s/it]"
     ]
    },
    {
     "name": "stdout",
     "output_type": "stream",
     "text": [
      "Iter 738.0, Minibatch Loss= 0.926551, Training Accuracy= 0.55469\n"
     ]
    },
    {
     "name": "stderr",
     "output_type": "stream",
     "text": [
      "\r",
      " 95%|████████████████████████████████████████████████████████████▍   | 739/782 [18:23<01:06,  1.56s/it]"
     ]
    },
    {
     "name": "stdout",
     "output_type": "stream",
     "text": [
      "Iter 739.0, Minibatch Loss= 0.930096, Training Accuracy= 0.55469\n"
     ]
    },
    {
     "name": "stderr",
     "output_type": "stream",
     "text": [
      "\r",
      " 95%|████████████████████████████████████████████████████████████▌   | 740/782 [18:24<01:05,  1.56s/it]"
     ]
    },
    {
     "name": "stdout",
     "output_type": "stream",
     "text": [
      "Iter 740.0, Minibatch Loss= 0.926263, Training Accuracy= 0.55469\n"
     ]
    },
    {
     "name": "stderr",
     "output_type": "stream",
     "text": [
      "\r",
      " 95%|████████████████████████████████████████████████████████████▋   | 741/782 [18:26<01:05,  1.59s/it]"
     ]
    },
    {
     "name": "stdout",
     "output_type": "stream",
     "text": [
      "Iter 741.0, Minibatch Loss= 0.929963, Training Accuracy= 0.55469\n"
     ]
    },
    {
     "name": "stderr",
     "output_type": "stream",
     "text": [
      "\r",
      " 95%|████████████████████████████████████████████████████████████▋   | 742/782 [18:27<01:02,  1.56s/it]"
     ]
    },
    {
     "name": "stdout",
     "output_type": "stream",
     "text": [
      "Iter 742.0, Minibatch Loss= 0.925963, Training Accuracy= 0.55469\n"
     ]
    },
    {
     "name": "stderr",
     "output_type": "stream",
     "text": [
      "\r",
      " 95%|████████████████████████████████████████████████████████████▊   | 743/782 [18:29<01:00,  1.54s/it]"
     ]
    },
    {
     "name": "stdout",
     "output_type": "stream",
     "text": [
      "Iter 743.0, Minibatch Loss= 0.929819, Training Accuracy= 0.55469\n"
     ]
    },
    {
     "name": "stderr",
     "output_type": "stream",
     "text": [
      "\r",
      " 95%|████████████████████████████████████████████████████████████▉   | 744/782 [18:30<00:58,  1.55s/it]"
     ]
    },
    {
     "name": "stdout",
     "output_type": "stream",
     "text": [
      "Iter 744.0, Minibatch Loss= 0.925650, Training Accuracy= 0.55469\n"
     ]
    },
    {
     "name": "stderr",
     "output_type": "stream",
     "text": [
      "\r",
      " 95%|████████████████████████████████████████████████████████████▉   | 745/782 [18:32<00:56,  1.54s/it]"
     ]
    },
    {
     "name": "stdout",
     "output_type": "stream",
     "text": [
      "Iter 745.0, Minibatch Loss= 0.929664, Training Accuracy= 0.55469\n"
     ]
    },
    {
     "name": "stderr",
     "output_type": "stream",
     "text": [
      "\r",
      " 95%|█████████████████████████████████████████████████████████████   | 746/782 [18:33<00:55,  1.54s/it]"
     ]
    },
    {
     "name": "stdout",
     "output_type": "stream",
     "text": [
      "Iter 746.0, Minibatch Loss= 0.925325, Training Accuracy= 0.55469\n"
     ]
    },
    {
     "name": "stderr",
     "output_type": "stream",
     "text": [
      "\r",
      " 96%|█████████████████████████████████████████████████████████████▏  | 747/782 [18:35<00:53,  1.54s/it]"
     ]
    },
    {
     "name": "stdout",
     "output_type": "stream",
     "text": [
      "Iter 747.0, Minibatch Loss= 0.929497, Training Accuracy= 0.55469\n"
     ]
    },
    {
     "name": "stderr",
     "output_type": "stream",
     "text": [
      "\r",
      " 96%|█████████████████████████████████████████████████████████████▏  | 748/782 [18:36<00:51,  1.52s/it]"
     ]
    },
    {
     "name": "stdout",
     "output_type": "stream",
     "text": [
      "Iter 748.0, Minibatch Loss= 0.924988, Training Accuracy= 0.55469\n"
     ]
    },
    {
     "name": "stderr",
     "output_type": "stream",
     "text": [
      "\r",
      " 96%|█████████████████████████████████████████████████████████████▎  | 749/782 [18:38<00:49,  1.50s/it]"
     ]
    },
    {
     "name": "stdout",
     "output_type": "stream",
     "text": [
      "Iter 749.0, Minibatch Loss= 0.929319, Training Accuracy= 0.55469\n"
     ]
    },
    {
     "name": "stderr",
     "output_type": "stream",
     "text": [
      "\r",
      " 96%|█████████████████████████████████████████████████████████████▍  | 750/782 [18:40<00:49,  1.55s/it]"
     ]
    },
    {
     "name": "stdout",
     "output_type": "stream",
     "text": [
      "Iter 750.0, Minibatch Loss= 0.926846, Training Accuracy= 0.60938\n"
     ]
    },
    {
     "name": "stderr",
     "output_type": "stream",
     "text": [
      "\r",
      " 96%|█████████████████████████████████████████████████████████████▍  | 751/782 [18:41<00:48,  1.57s/it]"
     ]
    },
    {
     "name": "stdout",
     "output_type": "stream",
     "text": [
      "Iter 751.0, Minibatch Loss= 0.920161, Training Accuracy= 0.60938\n"
     ]
    },
    {
     "name": "stderr",
     "output_type": "stream",
     "text": [
      "\r",
      " 96%|█████████████████████████████████████████████████████████████▌  | 752/782 [18:43<00:46,  1.56s/it]"
     ]
    },
    {
     "name": "stdout",
     "output_type": "stream",
     "text": [
      "Iter 752.0, Minibatch Loss= 0.916095, Training Accuracy= 0.60938\n"
     ]
    },
    {
     "name": "stderr",
     "output_type": "stream",
     "text": [
      "\r",
      " 96%|█████████████████████████████████████████████████████████████▋  | 753/782 [18:44<00:45,  1.57s/it]"
     ]
    },
    {
     "name": "stdout",
     "output_type": "stream",
     "text": [
      "Iter 753.0, Minibatch Loss= 0.912430, Training Accuracy= 0.60938\n"
     ]
    },
    {
     "name": "stderr",
     "output_type": "stream",
     "text": [
      "\r",
      " 96%|█████████████████████████████████████████████████████████████▋  | 754/782 [18:46<00:43,  1.56s/it]"
     ]
    },
    {
     "name": "stdout",
     "output_type": "stream",
     "text": [
      "Iter 754.0, Minibatch Loss= 0.908657, Training Accuracy= 0.60938\n"
     ]
    },
    {
     "name": "stderr",
     "output_type": "stream",
     "text": [
      "\r",
      " 97%|█████████████████████████████████████████████████████████████▊  | 755/782 [18:47<00:42,  1.56s/it]"
     ]
    },
    {
     "name": "stdout",
     "output_type": "stream",
     "text": [
      "Iter 755.0, Minibatch Loss= 0.904604, Training Accuracy= 0.60938\n"
     ]
    },
    {
     "name": "stderr",
     "output_type": "stream",
     "text": [
      "\r",
      " 97%|█████████████████████████████████████████████████████████████▊  | 756/782 [18:49<00:40,  1.56s/it]"
     ]
    },
    {
     "name": "stdout",
     "output_type": "stream",
     "text": [
      "Iter 756.0, Minibatch Loss= 0.900179, Training Accuracy= 0.60938\n"
     ]
    },
    {
     "name": "stderr",
     "output_type": "stream",
     "text": [
      "\r",
      " 97%|█████████████████████████████████████████████████████████████▉  | 757/782 [18:50<00:38,  1.56s/it]"
     ]
    },
    {
     "name": "stdout",
     "output_type": "stream",
     "text": [
      "Iter 757.0, Minibatch Loss= 0.895374, Training Accuracy= 0.60938\n"
     ]
    },
    {
     "name": "stderr",
     "output_type": "stream",
     "text": [
      "\r",
      " 97%|██████████████████████████████████████████████████████████████  | 758/782 [18:52<00:36,  1.54s/it]"
     ]
    },
    {
     "name": "stdout",
     "output_type": "stream",
     "text": [
      "Iter 758.0, Minibatch Loss= 0.890286, Training Accuracy= 0.60938\n"
     ]
    },
    {
     "name": "stderr",
     "output_type": "stream",
     "text": [
      "\r",
      " 97%|██████████████████████████████████████████████████████████████  | 759/782 [18:54<00:35,  1.54s/it]"
     ]
    },
    {
     "name": "stdout",
     "output_type": "stream",
     "text": [
      "Iter 759.0, Minibatch Loss= 0.885102, Training Accuracy= 0.60938\n"
     ]
    },
    {
     "name": "stderr",
     "output_type": "stream",
     "text": [
      "\r",
      " 97%|██████████████████████████████████████████████████████████████▏ | 760/782 [18:55<00:33,  1.52s/it]"
     ]
    },
    {
     "name": "stdout",
     "output_type": "stream",
     "text": [
      "Iter 760.0, Minibatch Loss= 0.880014, Training Accuracy= 0.60938\n"
     ]
    },
    {
     "name": "stderr",
     "output_type": "stream",
     "text": [
      "\r",
      " 97%|██████████████████████████████████████████████████████████████▎ | 761/782 [18:56<00:31,  1.50s/it]"
     ]
    },
    {
     "name": "stdout",
     "output_type": "stream",
     "text": [
      "Iter 761.0, Minibatch Loss= 0.875137, Training Accuracy= 0.60938\n"
     ]
    },
    {
     "name": "stderr",
     "output_type": "stream",
     "text": [
      "\r",
      " 97%|██████████████████████████████████████████████████████████████▎ | 762/782 [18:58<00:29,  1.45s/it]"
     ]
    },
    {
     "name": "stdout",
     "output_type": "stream",
     "text": [
      "Iter 762.0, Minibatch Loss= 0.870505, Training Accuracy= 0.60938\n"
     ]
    },
    {
     "name": "stderr",
     "output_type": "stream",
     "text": [
      "\r",
      " 98%|██████████████████████████████████████████████████████████████▍ | 763/782 [18:59<00:27,  1.44s/it]"
     ]
    },
    {
     "name": "stdout",
     "output_type": "stream",
     "text": [
      "Iter 763.0, Minibatch Loss= 0.866130, Training Accuracy= 0.60938\n"
     ]
    },
    {
     "name": "stderr",
     "output_type": "stream",
     "text": [
      "\r",
      " 98%|██████████████████████████████████████████████████████████████▌ | 764/782 [19:01<00:26,  1.47s/it]"
     ]
    },
    {
     "name": "stdout",
     "output_type": "stream",
     "text": [
      "Iter 764.0, Minibatch Loss= 0.862116, Training Accuracy= 0.60938\n"
     ]
    },
    {
     "name": "stderr",
     "output_type": "stream",
     "text": [
      "\r",
      " 98%|██████████████████████████████████████████████████████████████▌ | 765/782 [19:02<00:26,  1.53s/it]"
     ]
    },
    {
     "name": "stdout",
     "output_type": "stream",
     "text": [
      "Iter 765.0, Minibatch Loss= 0.860864, Training Accuracy= 0.60938\n"
     ]
    },
    {
     "name": "stderr",
     "output_type": "stream",
     "text": [
      "\r",
      " 98%|██████████████████████████████████████████████████████████████▋ | 766/782 [19:04<00:24,  1.55s/it]"
     ]
    },
    {
     "name": "stdout",
     "output_type": "stream",
     "text": [
      "Iter 766.0, Minibatch Loss= 0.913762, Training Accuracy= 0.60938\n"
     ]
    },
    {
     "name": "stderr",
     "output_type": "stream",
     "text": [
      "\r",
      " 98%|██████████████████████████████████████████████████████████████▊ | 767/782 [19:06<00:23,  1.56s/it]"
     ]
    },
    {
     "name": "stdout",
     "output_type": "stream",
     "text": [
      "Iter 767.0, Minibatch Loss= 1.126198, Training Accuracy= 0.60938\n"
     ]
    },
    {
     "name": "stderr",
     "output_type": "stream",
     "text": [
      "\r",
      " 98%|██████████████████████████████████████████████████████████████▊ | 768/782 [19:07<00:21,  1.56s/it]"
     ]
    },
    {
     "name": "stdout",
     "output_type": "stream",
     "text": [
      "Iter 768.0, Minibatch Loss= 0.932299, Training Accuracy= 0.60938\n"
     ]
    },
    {
     "name": "stderr",
     "output_type": "stream",
     "text": [
      "\r",
      " 98%|██████████████████████████████████████████████████████████████▉ | 769/782 [19:09<00:20,  1.57s/it]"
     ]
    },
    {
     "name": "stdout",
     "output_type": "stream",
     "text": [
      "Iter 769.0, Minibatch Loss= 0.908544, Training Accuracy= 0.60938\n"
     ]
    },
    {
     "name": "stderr",
     "output_type": "stream",
     "text": [
      "\r",
      " 98%|███████████████████████████████████████████████████████████████ | 770/782 [19:10<00:18,  1.58s/it]"
     ]
    },
    {
     "name": "stdout",
     "output_type": "stream",
     "text": [
      "Iter 770.0, Minibatch Loss= 0.965357, Training Accuracy= 0.60938\n"
     ]
    },
    {
     "name": "stderr",
     "output_type": "stream",
     "text": [
      "\r",
      " 99%|███████████████████████████████████████████████████████████████ | 771/782 [19:12<00:16,  1.53s/it]"
     ]
    },
    {
     "name": "stdout",
     "output_type": "stream",
     "text": [
      "Iter 771.0, Minibatch Loss= 0.951943, Training Accuracy= 0.60938\n"
     ]
    },
    {
     "name": "stderr",
     "output_type": "stream",
     "text": [
      "\r",
      " 99%|███████████████████████████████████████████████████████████████▏| 772/782 [19:13<00:14,  1.50s/it]"
     ]
    },
    {
     "name": "stdout",
     "output_type": "stream",
     "text": [
      "Iter 772.0, Minibatch Loss= 0.970611, Training Accuracy= 0.60938\n"
     ]
    },
    {
     "name": "stderr",
     "output_type": "stream",
     "text": [
      "\r",
      " 99%|███████████████████████████████████████████████████████████████▎| 773/782 [19:15<00:13,  1.48s/it]"
     ]
    },
    {
     "name": "stdout",
     "output_type": "stream",
     "text": [
      "Iter 773.0, Minibatch Loss= 0.927713, Training Accuracy= 0.60938\n"
     ]
    },
    {
     "name": "stderr",
     "output_type": "stream",
     "text": [
      "\r",
      " 99%|███████████████████████████████████████████████████████████████▎| 774/782 [19:16<00:11,  1.49s/it]"
     ]
    },
    {
     "name": "stdout",
     "output_type": "stream",
     "text": [
      "Iter 774.0, Minibatch Loss= 0.910762, Training Accuracy= 0.60938\n"
     ]
    },
    {
     "name": "stderr",
     "output_type": "stream",
     "text": [
      "\r",
      " 99%|███████████████████████████████████████████████████████████████▍| 775/782 [19:18<00:10,  1.48s/it]"
     ]
    },
    {
     "name": "stdout",
     "output_type": "stream",
     "text": [
      "Iter 775.0, Minibatch Loss= 0.898486, Training Accuracy= 0.60938\n"
     ]
    },
    {
     "name": "stderr",
     "output_type": "stream",
     "text": [
      "\r",
      " 99%|███████████████████████████████████████████████████████████████▌| 776/782 [19:19<00:08,  1.46s/it]"
     ]
    },
    {
     "name": "stdout",
     "output_type": "stream",
     "text": [
      "Iter 776.0, Minibatch Loss= 0.889450, Training Accuracy= 0.60938\n"
     ]
    },
    {
     "name": "stderr",
     "output_type": "stream",
     "text": [
      "\r",
      " 99%|███████████████████████████████████████████████████████████████▌| 777/782 [19:20<00:07,  1.43s/it]"
     ]
    },
    {
     "name": "stdout",
     "output_type": "stream",
     "text": [
      "Iter 777.0, Minibatch Loss= 0.881466, Training Accuracy= 0.60938\n"
     ]
    },
    {
     "name": "stderr",
     "output_type": "stream",
     "text": [
      "\r",
      " 99%|███████████████████████████████████████████████████████████████▋| 778/782 [19:22<00:05,  1.47s/it]"
     ]
    },
    {
     "name": "stdout",
     "output_type": "stream",
     "text": [
      "Iter 778.0, Minibatch Loss= 0.874486, Training Accuracy= 0.60938\n"
     ]
    },
    {
     "name": "stderr",
     "output_type": "stream",
     "text": [
      "\r",
      "100%|███████████████████████████████████████████████████████████████▊| 779/782 [19:23<00:04,  1.46s/it]"
     ]
    },
    {
     "name": "stdout",
     "output_type": "stream",
     "text": [
      "Iter 779.0, Minibatch Loss= 0.868597, Training Accuracy= 0.60938\n"
     ]
    },
    {
     "name": "stderr",
     "output_type": "stream",
     "text": [
      "\r",
      "100%|███████████████████████████████████████████████████████████████▊| 780/782 [19:25<00:02,  1.45s/it]"
     ]
    },
    {
     "name": "stdout",
     "output_type": "stream",
     "text": [
      "Iter 780.0, Minibatch Loss= 0.863849, Training Accuracy= 0.60938\n"
     ]
    },
    {
     "name": "stderr",
     "output_type": "stream",
     "text": [
      "\r",
      "100%|███████████████████████████████████████████████████████████████▉| 781/782 [19:26<00:01,  1.44s/it]"
     ]
    },
    {
     "name": "stdout",
     "output_type": "stream",
     "text": [
      "Iter 781.0, Minibatch Loss= 0.861124, Training Accuracy= 0.60938\n"
     ]
    },
    {
     "name": "stderr",
     "output_type": "stream",
     "text": [
      "100%|████████████████████████████████████████████████████████████████| 782/782 [19:28<00:00,  1.44s/it]\n"
     ]
    },
    {
     "name": "stdout",
     "output_type": "stream",
     "text": [
      "Iter 0.0, Minibatch Loss= 0.915699, Training Accuracy= 0.57031\n",
      "Iter 1.0, Minibatch Loss= 0.908374, Training Accuracy= 0.57031\n",
      "Iter 2.0, Minibatch Loss= 0.905173, Training Accuracy= 0.57031\n",
      "Iter 3.0, Minibatch Loss= 0.903111, Training Accuracy= 0.57031\n",
      "Iter 4.0, Minibatch Loss= 0.901555, Training Accuracy= 0.57031\n",
      "Iter 5.0, Minibatch Loss= 0.900305, Training Accuracy= 0.57031\n",
      "Iter 6.0, Minibatch Loss= 0.899256, Training Accuracy= 0.57031\n",
      "Iter 7.0, Minibatch Loss= 0.898350, Training Accuracy= 0.57031\n",
      "Iter 8.0, Minibatch Loss= 0.897546, Training Accuracy= 0.57031\n",
      "Iter 9.0, Minibatch Loss= 0.896818, Training Accuracy= 0.57031\n",
      "Iter 10.0, Minibatch Loss= 0.896148, Training Accuracy= 0.57031\n",
      "Iter 11.0, Minibatch Loss= 0.895524, Training Accuracy= 0.57031\n",
      "Iter 12.0, Minibatch Loss= 0.894934, Training Accuracy= 0.57031\n",
      "Iter 13.0, Minibatch Loss= 0.894372, Training Accuracy= 0.57031\n",
      "Iter 14.0, Minibatch Loss= 0.893832, Training Accuracy= 0.57031\n",
      "Iter 15.0, Minibatch Loss= 0.893308, Training Accuracy= 0.57031\n",
      "Iter 16.0, Minibatch Loss= 0.892798, Training Accuracy= 0.57031\n",
      "Iter 17.0, Minibatch Loss= 0.892297, Training Accuracy= 0.57031\n",
      "Iter 18.0, Minibatch Loss= 0.891805, Training Accuracy= 0.57031\n",
      "Iter 19.0, Minibatch Loss= 0.891320, Training Accuracy= 0.57031\n",
      "Iter 20.0, Minibatch Loss= 0.890843, Training Accuracy= 0.57031\n",
      "Iter 21.0, Minibatch Loss= 0.890381, Training Accuracy= 0.57031\n",
      "Iter 22.0, Minibatch Loss= 0.889947, Training Accuracy= 0.57031\n",
      "Iter 23.0, Minibatch Loss= 0.889565, Training Accuracy= 0.57031\n",
      "Iter 24.0, Minibatch Loss= 0.889321, Training Accuracy= 0.57031\n",
      "Iter 25.0, Minibatch Loss= 0.889292, Training Accuracy= 0.57031\n",
      "Iter 26.0, Minibatch Loss= 0.889950, Training Accuracy= 0.57031\n",
      "Iter 27.0, Minibatch Loss= 0.891338, Training Accuracy= 0.57031\n",
      "Iter 28.0, Minibatch Loss= 0.895726, Training Accuracy= 0.57031\n",
      "Iter 29.0, Minibatch Loss= 0.898963, Training Accuracy= 0.57031\n",
      "Iter 30.0, Minibatch Loss= 0.908481, Training Accuracy= 0.57031\n",
      "Iter 31.0, Minibatch Loss= 0.900486, Training Accuracy= 0.57031\n",
      "Iter 32.0, Minibatch Loss= 0.904203, Training Accuracy= 0.57031\n",
      "Iter 33.0, Minibatch Loss= 0.896474, Training Accuracy= 0.57031\n",
      "Iter 34.0, Minibatch Loss= 0.898875, Training Accuracy= 0.57031\n",
      "Iter 35.0, Minibatch Loss= 0.895378, Training Accuracy= 0.57031\n",
      "Iter 36.0, Minibatch Loss= 0.899039, Training Accuracy= 0.57031\n",
      "Iter 37.0, Minibatch Loss= 0.895798, Training Accuracy= 0.57031\n",
      "Iter 38.0, Minibatch Loss= 0.899908, Training Accuracy= 0.57031\n",
      "Iter 39.0, Minibatch Loss= 0.895756, Training Accuracy= 0.57031\n",
      "Iter 40.0, Minibatch Loss= 0.899629, Training Accuracy= 0.57031\n",
      "Iter 41.0, Minibatch Loss= 0.895262, Training Accuracy= 0.57031\n",
      "Iter 42.0, Minibatch Loss= 0.899021, Training Accuracy= 0.57031\n",
      "Iter 43.0, Minibatch Loss= 0.894845, Training Accuracy= 0.57031\n",
      "Iter 44.0, Minibatch Loss= 0.898680, Training Accuracy= 0.57031\n",
      "Iter 45.0, Minibatch Loss= 0.894550, Training Accuracy= 0.57031\n",
      "Iter 46.0, Minibatch Loss= 0.898459, Training Accuracy= 0.57031\n",
      "Iter 47.0, Minibatch Loss= 0.894258, Training Accuracy= 0.57031\n",
      "Iter 48.0, Minibatch Loss= 0.898201, Training Accuracy= 0.57031\n",
      "Iter 49.0, Minibatch Loss= 0.893938, Training Accuracy= 0.57031\n",
      "Iter 50.0, Minibatch Loss= 0.897910, Training Accuracy= 0.57031\n",
      "Iter 51.0, Minibatch Loss= 0.893608, Training Accuracy= 0.57031\n",
      "Iter 52.0, Minibatch Loss= 0.897617, Training Accuracy= 0.57031\n",
      "Iter 53.0, Minibatch Loss= 0.893277, Training Accuracy= 0.57031\n",
      "Iter 54.0, Minibatch Loss= 0.897325, Training Accuracy= 0.57031\n",
      "Iter 55.0, Minibatch Loss= 0.892943, Training Accuracy= 0.57031\n",
      "Iter 56.0, Minibatch Loss= 0.897030, Training Accuracy= 0.57031\n",
      "Iter 57.0, Minibatch Loss= 0.892604, Training Accuracy= 0.57812\n",
      "Iter 58.0, Minibatch Loss= 0.896729, Training Accuracy= 0.57031\n",
      "Iter 59.0, Minibatch Loss= 0.892262, Training Accuracy= 0.57812\n",
      "Iter 60.0, Minibatch Loss= 0.896425, Training Accuracy= 0.57031\n",
      "Iter 61.0, Minibatch Loss= 0.891917, Training Accuracy= 0.57812\n",
      "Iter 62.0, Minibatch Loss= 0.896119, Training Accuracy= 0.57031\n",
      "Iter 63.0, Minibatch Loss= 0.891571, Training Accuracy= 0.57812\n",
      "Iter 64.0, Minibatch Loss= 0.895812, Training Accuracy= 0.57031\n",
      "Iter 65.0, Minibatch Loss= 0.891223, Training Accuracy= 0.57812\n",
      "Iter 66.0, Minibatch Loss= 0.895504, Training Accuracy= 0.57031\n",
      "Iter 67.0, Minibatch Loss= 0.890874, Training Accuracy= 0.57812\n",
      "Iter 68.0, Minibatch Loss= 0.895196, Training Accuracy= 0.57031\n",
      "Iter 69.0, Minibatch Loss= 0.890525, Training Accuracy= 0.57812\n",
      "Iter 70.0, Minibatch Loss= 0.894887, Training Accuracy= 0.57031\n",
      "Iter 71.0, Minibatch Loss= 0.890175, Training Accuracy= 0.57812\n",
      "Iter 72.0, Minibatch Loss= 0.894578, Training Accuracy= 0.57031\n",
      "Iter 73.0, Minibatch Loss= 0.889826, Training Accuracy= 0.57812\n",
      "Iter 74.0, Minibatch Loss= 0.894270, Training Accuracy= 0.57031\n",
      "Iter 75.0, Minibatch Loss= 0.889477, Training Accuracy= 0.57812\n",
      "Iter 76.0, Minibatch Loss= 0.893962, Training Accuracy= 0.57031\n",
      "Iter 77.0, Minibatch Loss= 0.889129, Training Accuracy= 0.57812\n",
      "Iter 78.0, Minibatch Loss= 0.893653, Training Accuracy= 0.57031\n",
      "Iter 79.0, Minibatch Loss= 0.888781, Training Accuracy= 0.57812\n",
      "Iter 80.0, Minibatch Loss= 0.893346, Training Accuracy= 0.57031\n",
      "Iter 81.0, Minibatch Loss= 0.888434, Training Accuracy= 0.57812\n",
      "Iter 82.0, Minibatch Loss= 0.893038, Training Accuracy= 0.57031\n",
      "Iter 83.0, Minibatch Loss= 0.888088, Training Accuracy= 0.57812\n",
      "Iter 84.0, Minibatch Loss= 0.892731, Training Accuracy= 0.57031\n",
      "Iter 85.0, Minibatch Loss= 0.887743, Training Accuracy= 0.57812\n",
      "Iter 86.0, Minibatch Loss= 0.892423, Training Accuracy= 0.57031\n",
      "Iter 87.0, Minibatch Loss= 0.887400, Training Accuracy= 0.57812\n",
      "Iter 88.0, Minibatch Loss= 0.892116, Training Accuracy= 0.57031\n",
      "Iter 89.0, Minibatch Loss= 0.887058, Training Accuracy= 0.57812\n",
      "Iter 90.0, Minibatch Loss= 0.891808, Training Accuracy= 0.57031\n",
      "Iter 91.0, Minibatch Loss= 0.886717, Training Accuracy= 0.57812\n",
      "Iter 92.0, Minibatch Loss= 0.891500, Training Accuracy= 0.57031\n",
      "Iter 93.0, Minibatch Loss= 0.886377, Training Accuracy= 0.57812\n",
      "Iter 94.0, Minibatch Loss= 0.891191, Training Accuracy= 0.57031\n",
      "Iter 95.0, Minibatch Loss= 0.886039, Training Accuracy= 0.57812\n",
      "Iter 96.0, Minibatch Loss= 0.890882, Training Accuracy= 0.57031\n",
      "Iter 97.0, Minibatch Loss= 0.885703, Training Accuracy= 0.57812\n",
      "Iter 98.0, Minibatch Loss= 0.890573, Training Accuracy= 0.57031\n",
      "Iter 99.0, Minibatch Loss= 0.885368, Training Accuracy= 0.57812\n",
      "Iter 100.0, Minibatch Loss= 0.890263, Training Accuracy= 0.57031\n",
      "Iter 101.0, Minibatch Loss= 0.885034, Training Accuracy= 0.57812\n",
      "Iter 102.0, Minibatch Loss= 0.889952, Training Accuracy= 0.57031\n",
      "Iter 103.0, Minibatch Loss= 0.884702, Training Accuracy= 0.57812\n",
      "Iter 104.0, Minibatch Loss= 0.889640, Training Accuracy= 0.57031\n",
      "Iter 105.0, Minibatch Loss= 0.884372, Training Accuracy= 0.57812\n",
      "Iter 106.0, Minibatch Loss= 0.889328, Training Accuracy= 0.57031\n",
      "Iter 107.0, Minibatch Loss= 0.884043, Training Accuracy= 0.57812\n",
      "Iter 108.0, Minibatch Loss= 0.889015, Training Accuracy= 0.57031\n",
      "Iter 109.0, Minibatch Loss= 0.883715, Training Accuracy= 0.57812\n",
      "Iter 110.0, Minibatch Loss= 0.888701, Training Accuracy= 0.57031\n",
      "Iter 111.0, Minibatch Loss= 0.883388, Training Accuracy= 0.57812\n",
      "Iter 112.0, Minibatch Loss= 0.888386, Training Accuracy= 0.57031\n",
      "Iter 113.0, Minibatch Loss= 0.883062, Training Accuracy= 0.57812\n",
      "Iter 114.0, Minibatch Loss= 0.888069, Training Accuracy= 0.57031\n",
      "Iter 115.0, Minibatch Loss= 0.882738, Training Accuracy= 0.57812\n",
      "Iter 116.0, Minibatch Loss= 0.887752, Training Accuracy= 0.57031\n",
      "Iter 117.0, Minibatch Loss= 0.882414, Training Accuracy= 0.57812\n",
      "Iter 118.0, Minibatch Loss= 0.887434, Training Accuracy= 0.57031\n",
      "Iter 119.0, Minibatch Loss= 0.882092, Training Accuracy= 0.57812\n",
      "Iter 120.0, Minibatch Loss= 0.887114, Training Accuracy= 0.57031\n",
      "Iter 121.0, Minibatch Loss= 0.881770, Training Accuracy= 0.57812\n",
      "Iter 122.0, Minibatch Loss= 0.886792, Training Accuracy= 0.57031\n",
      "Iter 123.0, Minibatch Loss= 0.881449, Training Accuracy= 0.57812\n",
      "Iter 124.0, Minibatch Loss= 0.886469, Training Accuracy= 0.57031\n",
      "Iter 125.0, Minibatch Loss= 1.053632, Training Accuracy= 0.48438\n",
      "Iter 126.0, Minibatch Loss= 1.037834, Training Accuracy= 0.47656\n"
     ]
    },
    {
     "name": "stdout",
     "output_type": "stream",
     "text": [
      "Iter 127.0, Minibatch Loss= 1.029056, Training Accuracy= 0.48438\n",
      "Iter 128.0, Minibatch Loss= 1.023348, Training Accuracy= 0.49219\n",
      "Iter 129.0, Minibatch Loss= 1.018996, Training Accuracy= 0.49219\n",
      "Iter 130.0, Minibatch Loss= 1.015308, Training Accuracy= 0.48438\n",
      "Iter 131.0, Minibatch Loss= 1.011995, Training Accuracy= 0.47656\n",
      "Iter 132.0, Minibatch Loss= 1.008939, Training Accuracy= 0.48438\n",
      "Iter 133.0, Minibatch Loss= 1.006101, Training Accuracy= 0.48438\n",
      "Iter 134.0, Minibatch Loss= 1.003483, Training Accuracy= 0.48438\n",
      "Iter 135.0, Minibatch Loss= 1.001102, Training Accuracy= 0.48438\n",
      "Iter 136.0, Minibatch Loss= 0.998973, Training Accuracy= 0.48438\n",
      "Iter 137.0, Minibatch Loss= 0.997097, Training Accuracy= 0.48438\n",
      "Iter 138.0, Minibatch Loss= 0.995456, Training Accuracy= 0.48438\n",
      "Iter 139.0, Minibatch Loss= 0.994018, Training Accuracy= 0.48438\n",
      "Iter 140.0, Minibatch Loss= 0.992745, Training Accuracy= 0.48438\n",
      "Iter 141.0, Minibatch Loss= 0.991600, Training Accuracy= 0.47656\n",
      "Iter 142.0, Minibatch Loss= 0.990559, Training Accuracy= 0.49219\n",
      "Iter 143.0, Minibatch Loss= 0.989635, Training Accuracy= 0.47656\n",
      "Iter 144.0, Minibatch Loss= 0.989015, Training Accuracy= 0.49219\n",
      "Iter 145.0, Minibatch Loss= 0.989873, Training Accuracy= 0.49219\n",
      "Iter 146.0, Minibatch Loss= 0.998218, Training Accuracy= 0.48438\n",
      "Iter 147.0, Minibatch Loss= 1.035896, Training Accuracy= 0.48438\n",
      "Iter 148.0, Minibatch Loss= 1.026698, Training Accuracy= 0.49219\n",
      "Iter 149.0, Minibatch Loss= 1.050136, Training Accuracy= 0.49219\n",
      "Iter 150.0, Minibatch Loss= 0.994375, Training Accuracy= 0.49219\n",
      "Iter 151.0, Minibatch Loss= 0.990543, Training Accuracy= 0.50000\n",
      "Iter 152.0, Minibatch Loss= 0.988919, Training Accuracy= 0.49219\n",
      "Iter 153.0, Minibatch Loss= 0.989261, Training Accuracy= 0.48438\n",
      "Iter 154.0, Minibatch Loss= 0.995438, Training Accuracy= 0.50000\n",
      "Iter 155.0, Minibatch Loss= 1.012795, Training Accuracy= 0.48438\n",
      "Iter 156.0, Minibatch Loss= 1.050622, Training Accuracy= 0.49219\n",
      "Iter 157.0, Minibatch Loss= 0.991087, Training Accuracy= 0.50000\n",
      "Iter 158.0, Minibatch Loss= 0.989482, Training Accuracy= 0.50000\n",
      "Iter 159.0, Minibatch Loss= 0.991477, Training Accuracy= 0.49219\n",
      "Iter 160.0, Minibatch Loss= 1.004070, Training Accuracy= 0.49219\n",
      "Iter 161.0, Minibatch Loss= 1.017487, Training Accuracy= 0.49219\n",
      "Iter 162.0, Minibatch Loss= 1.047212, Training Accuracy= 0.49219\n",
      "Iter 163.0, Minibatch Loss= 0.989487, Training Accuracy= 0.50781\n",
      "Iter 164.0, Minibatch Loss= 0.986549, Training Accuracy= 0.49219\n",
      "Iter 165.0, Minibatch Loss= 0.985570, Training Accuracy= 0.50000\n",
      "Iter 166.0, Minibatch Loss= 0.987685, Training Accuracy= 0.50000\n",
      "Iter 167.0, Minibatch Loss= 0.996305, Training Accuracy= 0.50000\n",
      "Iter 168.0, Minibatch Loss= 1.026447, Training Accuracy= 0.48438\n",
      "Iter 169.0, Minibatch Loss= 1.011439, Training Accuracy= 0.47656\n",
      "Iter 170.0, Minibatch Loss= 1.035254, Training Accuracy= 0.48438\n",
      "Iter 171.0, Minibatch Loss= 0.990459, Training Accuracy= 0.50000\n",
      "Iter 172.0, Minibatch Loss= 0.991467, Training Accuracy= 0.50000\n",
      "Iter 173.0, Minibatch Loss= 0.994051, Training Accuracy= 0.49219\n",
      "Iter 174.0, Minibatch Loss= 1.009876, Training Accuracy= 0.47656\n",
      "Iter 175.0, Minibatch Loss= 1.006523, Training Accuracy= 0.47656\n",
      "Iter 176.0, Minibatch Loss= 1.027672, Training Accuracy= 0.48438\n",
      "Iter 177.0, Minibatch Loss= 0.992693, Training Accuracy= 0.49219\n",
      "Iter 178.0, Minibatch Loss= 0.997639, Training Accuracy= 0.49219\n",
      "Iter 179.0, Minibatch Loss= 0.996784, Training Accuracy= 0.49219\n",
      "Iter 180.0, Minibatch Loss= 1.011568, Training Accuracy= 0.48438\n",
      "Iter 181.0, Minibatch Loss= 0.999652, Training Accuracy= 0.49219\n",
      "Iter 182.0, Minibatch Loss= 1.013613, Training Accuracy= 0.48438\n",
      "Iter 183.0, Minibatch Loss= 0.996080, Training Accuracy= 0.49219\n",
      "Iter 184.0, Minibatch Loss= 1.005654, Training Accuracy= 0.48438\n",
      "Iter 185.0, Minibatch Loss= 0.996141, Training Accuracy= 0.49219\n",
      "Iter 186.0, Minibatch Loss= 1.007198, Training Accuracy= 0.48438\n",
      "Iter 187.0, Minibatch Loss= 0.996077, Training Accuracy= 0.49219\n",
      "Iter 188.0, Minibatch Loss= 1.007009, Training Accuracy= 0.48438\n",
      "Iter 189.0, Minibatch Loss= 0.995314, Training Accuracy= 0.49219\n",
      "Iter 190.0, Minibatch Loss= 1.005626, Training Accuracy= 0.48438\n",
      "Iter 191.0, Minibatch Loss= 0.994714, Training Accuracy= 0.49219\n",
      "Iter 192.0, Minibatch Loss= 1.004920, Training Accuracy= 0.48438\n",
      "Iter 193.0, Minibatch Loss= 0.994239, Training Accuracy= 0.49219\n",
      "Iter 194.0, Minibatch Loss= 1.004391, Training Accuracy= 0.48438\n",
      "Iter 195.0, Minibatch Loss= 0.993682, Training Accuracy= 0.49219\n",
      "Iter 196.0, Minibatch Loss= 1.003678, Training Accuracy= 0.48438\n",
      "Iter 197.0, Minibatch Loss= 0.993057, Training Accuracy= 0.49219\n",
      "Iter 198.0, Minibatch Loss= 1.002928, Training Accuracy= 0.48438\n",
      "Iter 199.0, Minibatch Loss= 0.992425, Training Accuracy= 0.49219\n",
      "Iter 200.0, Minibatch Loss= 1.002242, Training Accuracy= 0.48438\n",
      "Iter 201.0, Minibatch Loss= 0.991777, Training Accuracy= 0.50000\n",
      "Iter 202.0, Minibatch Loss= 1.001555, Training Accuracy= 0.48438\n",
      "Iter 203.0, Minibatch Loss= 0.991083, Training Accuracy= 0.50000\n",
      "Iter 204.0, Minibatch Loss= 1.000820, Training Accuracy= 0.48438\n",
      "Iter 205.0, Minibatch Loss= 0.990345, Training Accuracy= 0.50000\n",
      "Iter 206.0, Minibatch Loss= 1.000053, Training Accuracy= 0.48438\n",
      "Iter 207.0, Minibatch Loss= 0.989574, Training Accuracy= 0.50781\n",
      "Iter 208.0, Minibatch Loss= 0.999260, Training Accuracy= 0.48438\n",
      "Iter 209.0, Minibatch Loss= 0.988759, Training Accuracy= 0.50781\n",
      "Iter 210.0, Minibatch Loss= 0.998422, Training Accuracy= 0.49219\n",
      "Iter 211.0, Minibatch Loss= 0.987906, Training Accuracy= 0.50781\n",
      "Iter 212.0, Minibatch Loss= 0.997544, Training Accuracy= 0.49219\n",
      "Iter 213.0, Minibatch Loss= 0.987017, Training Accuracy= 0.50781\n",
      "Iter 214.0, Minibatch Loss= 0.996622, Training Accuracy= 0.49219\n",
      "Iter 215.0, Minibatch Loss= 0.986093, Training Accuracy= 0.50781\n",
      "Iter 216.0, Minibatch Loss= 0.995641, Training Accuracy= 0.50000\n",
      "Iter 217.0, Minibatch Loss= 0.985116, Training Accuracy= 0.51562\n",
      "Iter 218.0, Minibatch Loss= 0.994569, Training Accuracy= 0.50000\n",
      "Iter 219.0, Minibatch Loss= 0.984046, Training Accuracy= 0.50781\n",
      "Iter 220.0, Minibatch Loss= 0.993365, Training Accuracy= 0.50000\n",
      "Iter 221.0, Minibatch Loss= 0.982841, Training Accuracy= 0.50781\n",
      "Iter 222.0, Minibatch Loss= 0.992023, Training Accuracy= 0.50000\n",
      "Iter 223.0, Minibatch Loss= 0.981506, Training Accuracy= 0.50781\n",
      "Iter 224.0, Minibatch Loss= 0.990608, Training Accuracy= 0.50781\n",
      "Iter 225.0, Minibatch Loss= 0.980101, Training Accuracy= 0.51562\n",
      "Iter 226.0, Minibatch Loss= 0.989198, Training Accuracy= 0.50781\n",
      "Iter 227.0, Minibatch Loss= 0.978638, Training Accuracy= 0.51562\n",
      "Iter 228.0, Minibatch Loss= 0.987771, Training Accuracy= 0.50781\n",
      "Iter 229.0, Minibatch Loss= 0.977000, Training Accuracy= 0.51562\n",
      "Iter 230.0, Minibatch Loss= 0.986176, Training Accuracy= 0.51562\n",
      "Iter 231.0, Minibatch Loss= 0.975025, Training Accuracy= 0.51562\n",
      "Iter 232.0, Minibatch Loss= 0.984352, Training Accuracy= 0.51562\n",
      "Iter 233.0, Minibatch Loss= 0.972874, Training Accuracy= 0.52344\n",
      "Iter 234.0, Minibatch Loss= 0.982719, Training Accuracy= 0.51562\n",
      "Iter 235.0, Minibatch Loss= 0.971368, Training Accuracy= 0.52344\n",
      "Iter 236.0, Minibatch Loss= 0.982305, Training Accuracy= 0.50781\n",
      "Iter 237.0, Minibatch Loss= 0.971693, Training Accuracy= 0.51562\n",
      "Iter 238.0, Minibatch Loss= 0.982417, Training Accuracy= 0.50781\n",
      "Iter 239.0, Minibatch Loss= 0.966522, Training Accuracy= 0.53125\n",
      "Iter 240.0, Minibatch Loss= 0.973896, Training Accuracy= 0.52344\n",
      "Iter 241.0, Minibatch Loss= 0.958247, Training Accuracy= 0.53125\n",
      "Iter 242.0, Minibatch Loss= 0.968030, Training Accuracy= 0.52344\n",
      "Iter 243.0, Minibatch Loss= 0.959055, Training Accuracy= 0.52344\n",
      "Iter 244.0, Minibatch Loss= 1.001935, Training Accuracy= 0.51562\n",
      "Iter 245.0, Minibatch Loss= 1.010991, Training Accuracy= 0.48438\n",
      "Iter 246.0, Minibatch Loss= 1.009902, Training Accuracy= 0.42969\n",
      "Iter 247.0, Minibatch Loss= 0.996905, Training Accuracy= 0.48438\n",
      "Iter 248.0, Minibatch Loss= 1.021039, Training Accuracy= 0.50000\n",
      "Iter 249.0, Minibatch Loss= 0.953673, Training Accuracy= 0.53125\n",
      "Iter 250.0, Minibatch Loss= 1.006083, Training Accuracy= 0.57031\n",
      "Iter 251.0, Minibatch Loss= 0.975438, Training Accuracy= 0.57031\n",
      "Iter 252.0, Minibatch Loss= 0.961652, Training Accuracy= 0.57031\n"
     ]
    },
    {
     "name": "stdout",
     "output_type": "stream",
     "text": [
      "Iter 253.0, Minibatch Loss= 0.954642, Training Accuracy= 0.56250\n",
      "Iter 254.0, Minibatch Loss= 0.947538, Training Accuracy= 0.57031\n",
      "Iter 255.0, Minibatch Loss= 0.945953, Training Accuracy= 0.57812\n",
      "Iter 256.0, Minibatch Loss= 0.937868, Training Accuracy= 0.57812\n",
      "Iter 257.0, Minibatch Loss= 0.934297, Training Accuracy= 0.57031\n",
      "Iter 258.0, Minibatch Loss= 0.932745, Training Accuracy= 0.57031\n",
      "Iter 259.0, Minibatch Loss= 0.938391, Training Accuracy= 0.56250\n",
      "Iter 260.0, Minibatch Loss= 0.928496, Training Accuracy= 0.57031\n",
      "Iter 261.0, Minibatch Loss= 0.922446, Training Accuracy= 0.57812\n",
      "Iter 262.0, Minibatch Loss= 0.918089, Training Accuracy= 0.58594\n",
      "Iter 263.0, Minibatch Loss= 0.916553, Training Accuracy= 0.58594\n",
      "Iter 264.0, Minibatch Loss= 0.921140, Training Accuracy= 0.57031\n",
      "Iter 265.0, Minibatch Loss= 0.944220, Training Accuracy= 0.56250\n",
      "Iter 266.0, Minibatch Loss= 0.965737, Training Accuracy= 0.56250\n",
      "Iter 267.0, Minibatch Loss= 1.007584, Training Accuracy= 0.57031\n",
      "Iter 268.0, Minibatch Loss= 0.933610, Training Accuracy= 0.57812\n",
      "Iter 269.0, Minibatch Loss= 0.922157, Training Accuracy= 0.57031\n",
      "Iter 270.0, Minibatch Loss= 0.914740, Training Accuracy= 0.58594\n",
      "Iter 271.0, Minibatch Loss= 0.914562, Training Accuracy= 0.59375\n",
      "Iter 272.0, Minibatch Loss= 0.949948, Training Accuracy= 0.57031\n",
      "Iter 273.0, Minibatch Loss= 1.009293, Training Accuracy= 0.57812\n",
      "Iter 274.0, Minibatch Loss= 0.958254, Training Accuracy= 0.56250\n",
      "Iter 275.0, Minibatch Loss= 0.916328, Training Accuracy= 0.58594\n",
      "Iter 276.0, Minibatch Loss= 0.906869, Training Accuracy= 0.57812\n",
      "Iter 277.0, Minibatch Loss= 0.901881, Training Accuracy= 0.58594\n",
      "Iter 278.0, Minibatch Loss= 0.908631, Training Accuracy= 0.56250\n",
      "Iter 279.0, Minibatch Loss= 0.973198, Training Accuracy= 0.56250\n",
      "Iter 280.0, Minibatch Loss= 1.001858, Training Accuracy= 0.56250\n",
      "Iter 281.0, Minibatch Loss= 1.016463, Training Accuracy= 0.57031\n",
      "Iter 282.0, Minibatch Loss= 0.935465, Training Accuracy= 0.57812\n",
      "Iter 283.0, Minibatch Loss= 0.913830, Training Accuracy= 0.57812\n",
      "Iter 284.0, Minibatch Loss= 0.904810, Training Accuracy= 0.58594\n",
      "Iter 285.0, Minibatch Loss= 0.904891, Training Accuracy= 0.57031\n",
      "Iter 286.0, Minibatch Loss= 0.935587, Training Accuracy= 0.57812\n",
      "Iter 287.0, Minibatch Loss= 0.917455, Training Accuracy= 0.56250\n",
      "Iter 288.0, Minibatch Loss= 0.972371, Training Accuracy= 0.57031\n",
      "Iter 289.0, Minibatch Loss= 0.931856, Training Accuracy= 0.58594\n",
      "Iter 290.0, Minibatch Loss= 0.958462, Training Accuracy= 0.58594\n",
      "Iter 291.0, Minibatch Loss= 0.933495, Training Accuracy= 0.57812\n",
      "Iter 292.0, Minibatch Loss= 0.923638, Training Accuracy= 0.58594\n",
      "Iter 293.0, Minibatch Loss= 0.919675, Training Accuracy= 0.58594\n",
      "Iter 294.0, Minibatch Loss= 0.929156, Training Accuracy= 0.58594\n",
      "Iter 295.0, Minibatch Loss= 0.916155, Training Accuracy= 0.58594\n",
      "Iter 296.0, Minibatch Loss= 0.929009, Training Accuracy= 0.58594\n",
      "Iter 297.0, Minibatch Loss= 0.901823, Training Accuracy= 0.59375\n",
      "Iter 298.0, Minibatch Loss= 0.897204, Training Accuracy= 0.58594\n",
      "Iter 299.0, Minibatch Loss= 0.893282, Training Accuracy= 0.58594\n",
      "Iter 300.0, Minibatch Loss= 0.938880, Training Accuracy= 0.56250\n",
      "Iter 301.0, Minibatch Loss= 1.023086, Training Accuracy= 0.56250\n",
      "Iter 302.0, Minibatch Loss= 0.974439, Training Accuracy= 0.54688\n",
      "Iter 303.0, Minibatch Loss= 0.950124, Training Accuracy= 0.56250\n",
      "Iter 304.0, Minibatch Loss= 0.935381, Training Accuracy= 0.57031\n",
      "Iter 305.0, Minibatch Loss= 0.907407, Training Accuracy= 0.57812\n",
      "Iter 306.0, Minibatch Loss= 0.897774, Training Accuracy= 0.58594\n",
      "Iter 307.0, Minibatch Loss= 0.885790, Training Accuracy= 0.59375\n",
      "Iter 308.0, Minibatch Loss= 0.897929, Training Accuracy= 0.59375\n",
      "Iter 309.0, Minibatch Loss= 0.892322, Training Accuracy= 0.59375\n",
      "Iter 310.0, Minibatch Loss= 0.915210, Training Accuracy= 0.58594\n",
      "Iter 311.0, Minibatch Loss= 0.884605, Training Accuracy= 0.60156\n",
      "Iter 312.0, Minibatch Loss= 0.933941, Training Accuracy= 0.60156\n",
      "Iter 313.0, Minibatch Loss= 1.072048, Training Accuracy= 0.52344\n",
      "Iter 314.0, Minibatch Loss= 0.926310, Training Accuracy= 0.58594\n",
      "Iter 315.0, Minibatch Loss= 0.889187, Training Accuracy= 0.59375\n",
      "Iter 316.0, Minibatch Loss= 0.884082, Training Accuracy= 0.59375\n",
      "Iter 317.0, Minibatch Loss= 0.886139, Training Accuracy= 0.60156\n",
      "Iter 318.0, Minibatch Loss= 0.900126, Training Accuracy= 0.59375\n",
      "Iter 319.0, Minibatch Loss= 0.922750, Training Accuracy= 0.59375\n",
      "Iter 320.0, Minibatch Loss= 0.907474, Training Accuracy= 0.57812\n",
      "Iter 321.0, Minibatch Loss= 0.914986, Training Accuracy= 0.59375\n",
      "Iter 322.0, Minibatch Loss= 0.888146, Training Accuracy= 0.60156\n",
      "Iter 323.0, Minibatch Loss= 0.892815, Training Accuracy= 0.62500\n",
      "Iter 324.0, Minibatch Loss= 0.881887, Training Accuracy= 0.60156\n",
      "Iter 325.0, Minibatch Loss= 0.894732, Training Accuracy= 0.60156\n",
      "Iter 326.0, Minibatch Loss= 0.885591, Training Accuracy= 0.60156\n",
      "Iter 327.0, Minibatch Loss= 0.903459, Training Accuracy= 0.60938\n",
      "Iter 328.0, Minibatch Loss= 0.887530, Training Accuracy= 0.59375\n",
      "Iter 329.0, Minibatch Loss= 0.901618, Training Accuracy= 0.60938\n",
      "Iter 330.0, Minibatch Loss= 0.885196, Training Accuracy= 0.59375\n",
      "Iter 331.0, Minibatch Loss= 0.891809, Training Accuracy= 0.60938\n",
      "Iter 332.0, Minibatch Loss= 0.879867, Training Accuracy= 0.59375\n",
      "Iter 333.0, Minibatch Loss= 0.884193, Training Accuracy= 0.60938\n",
      "Iter 334.0, Minibatch Loss= 0.891827, Training Accuracy= 0.60938\n",
      "Iter 335.0, Minibatch Loss= 0.892124, Training Accuracy= 0.58594\n",
      "Iter 336.0, Minibatch Loss= 0.901354, Training Accuracy= 0.57812\n",
      "Iter 337.0, Minibatch Loss= 0.922433, Training Accuracy= 0.53906\n",
      "Iter 338.0, Minibatch Loss= 0.884641, Training Accuracy= 0.63281\n",
      "Iter 339.0, Minibatch Loss= 0.889831, Training Accuracy= 0.60156\n",
      "Iter 340.0, Minibatch Loss= 0.841583, Training Accuracy= 0.62500\n",
      "Iter 341.0, Minibatch Loss= 0.839284, Training Accuracy= 0.60156\n",
      "Iter 342.0, Minibatch Loss= 0.844020, Training Accuracy= 0.61719\n",
      "Iter 343.0, Minibatch Loss= 0.862443, Training Accuracy= 0.60156\n",
      "Iter 344.0, Minibatch Loss= 0.862609, Training Accuracy= 0.62500\n",
      "Iter 345.0, Minibatch Loss= 0.870283, Training Accuracy= 0.58594\n",
      "Iter 346.0, Minibatch Loss= 0.850826, Training Accuracy= 0.63281\n",
      "Iter 347.0, Minibatch Loss= 0.868828, Training Accuracy= 0.58594\n",
      "Iter 348.0, Minibatch Loss= 0.913104, Training Accuracy= 0.56250\n",
      "Iter 349.0, Minibatch Loss= 0.881782, Training Accuracy= 0.59375\n",
      "Iter 350.0, Minibatch Loss= 0.867700, Training Accuracy= 0.60156\n",
      "Iter 351.0, Minibatch Loss= 0.822447, Training Accuracy= 0.60156\n",
      "Iter 352.0, Minibatch Loss= 0.842665, Training Accuracy= 0.58594\n",
      "Iter 353.0, Minibatch Loss= 0.906340, Training Accuracy= 0.60156\n",
      "Iter 354.0, Minibatch Loss= 0.911158, Training Accuracy= 0.58594\n",
      "Iter 355.0, Minibatch Loss= 0.865003, Training Accuracy= 0.60938\n",
      "Iter 356.0, Minibatch Loss= 0.843777, Training Accuracy= 0.61719\n",
      "Iter 357.0, Minibatch Loss= 0.843965, Training Accuracy= 0.61719\n",
      "Iter 358.0, Minibatch Loss= 0.880927, Training Accuracy= 0.58594\n",
      "Iter 359.0, Minibatch Loss= 0.872201, Training Accuracy= 0.57812\n",
      "Iter 360.0, Minibatch Loss= 0.821319, Training Accuracy= 0.59375\n",
      "Iter 361.0, Minibatch Loss= 0.825791, Training Accuracy= 0.62500\n",
      "Iter 362.0, Minibatch Loss= 0.844572, Training Accuracy= 0.62500\n",
      "Iter 363.0, Minibatch Loss= 0.913223, Training Accuracy= 0.56250\n",
      "Iter 364.0, Minibatch Loss= 0.833858, Training Accuracy= 0.57812\n",
      "Iter 365.0, Minibatch Loss= 0.850370, Training Accuracy= 0.60938\n",
      "Iter 366.0, Minibatch Loss= 0.833341, Training Accuracy= 0.61719\n",
      "Iter 367.0, Minibatch Loss= 0.830310, Training Accuracy= 0.61719\n",
      "Iter 368.0, Minibatch Loss= 0.801198, Training Accuracy= 0.64062\n",
      "Iter 369.0, Minibatch Loss= 0.864684, Training Accuracy= 0.57031\n",
      "Iter 370.0, Minibatch Loss= 0.836004, Training Accuracy= 0.62500\n",
      "Iter 371.0, Minibatch Loss= 0.867434, Training Accuracy= 0.60156\n",
      "Iter 372.0, Minibatch Loss= 0.808882, Training Accuracy= 0.58594\n",
      "Iter 373.0, Minibatch Loss= 0.762346, Training Accuracy= 0.66406\n",
      "Iter 374.0, Minibatch Loss= 0.739503, Training Accuracy= 0.62500\n",
      "Iter 375.0, Minibatch Loss= 1.097437, Training Accuracy= 0.40625\n",
      "Iter 376.0, Minibatch Loss= 1.008142, Training Accuracy= 0.46094\n",
      "Iter 377.0, Minibatch Loss= 0.961406, Training Accuracy= 0.54688\n",
      "Iter 378.0, Minibatch Loss= 0.909341, Training Accuracy= 0.59375\n"
     ]
    },
    {
     "name": "stdout",
     "output_type": "stream",
     "text": [
      "Iter 379.0, Minibatch Loss= 0.889180, Training Accuracy= 0.58594\n",
      "Iter 380.0, Minibatch Loss= 0.887924, Training Accuracy= 0.56250\n",
      "Iter 381.0, Minibatch Loss= 0.898520, Training Accuracy= 0.57031\n",
      "Iter 382.0, Minibatch Loss= 0.924037, Training Accuracy= 0.52344\n",
      "Iter 383.0, Minibatch Loss= 0.904000, Training Accuracy= 0.57031\n",
      "Iter 384.0, Minibatch Loss= 0.905979, Training Accuracy= 0.56250\n",
      "Iter 385.0, Minibatch Loss= 0.871655, Training Accuracy= 0.60156\n",
      "Iter 386.0, Minibatch Loss= 0.851122, Training Accuracy= 0.61719\n",
      "Iter 387.0, Minibatch Loss= 0.850756, Training Accuracy= 0.60156\n",
      "Iter 388.0, Minibatch Loss= 0.885386, Training Accuracy= 0.58594\n",
      "Iter 389.0, Minibatch Loss= 0.878409, Training Accuracy= 0.60156\n",
      "Iter 390.0, Minibatch Loss= 0.886629, Training Accuracy= 0.57031\n",
      "Iter 391.0, Minibatch Loss= 0.833139, Training Accuracy= 0.60156\n",
      "Iter 392.0, Minibatch Loss= 0.809159, Training Accuracy= 0.59375\n",
      "Iter 393.0, Minibatch Loss= 0.803524, Training Accuracy= 0.61719\n",
      "Iter 394.0, Minibatch Loss= 0.820541, Training Accuracy= 0.60156\n",
      "Iter 395.0, Minibatch Loss= 0.885241, Training Accuracy= 0.51562\n",
      "Iter 396.0, Minibatch Loss= 0.954433, Training Accuracy= 0.53906\n",
      "Iter 397.0, Minibatch Loss= 0.981989, Training Accuracy= 0.46094\n",
      "Iter 398.0, Minibatch Loss= 0.881059, Training Accuracy= 0.60156\n",
      "Iter 399.0, Minibatch Loss= 0.879820, Training Accuracy= 0.54688\n",
      "Iter 400.0, Minibatch Loss= 0.800118, Training Accuracy= 0.60156\n",
      "Iter 401.0, Minibatch Loss= 0.784506, Training Accuracy= 0.60938\n",
      "Iter 402.0, Minibatch Loss= 0.798395, Training Accuracy= 0.63281\n",
      "Iter 403.0, Minibatch Loss= 0.863255, Training Accuracy= 0.55469\n",
      "Iter 404.0, Minibatch Loss= 0.868731, Training Accuracy= 0.56250\n",
      "Iter 405.0, Minibatch Loss= 0.966676, Training Accuracy= 0.54688\n",
      "Iter 406.0, Minibatch Loss= 0.837366, Training Accuracy= 0.57812\n",
      "Iter 407.0, Minibatch Loss= 0.808708, Training Accuracy= 0.57031\n",
      "Iter 408.0, Minibatch Loss= 0.853049, Training Accuracy= 0.57031\n",
      "Iter 409.0, Minibatch Loss= 0.805883, Training Accuracy= 0.58594\n",
      "Iter 410.0, Minibatch Loss= 0.802821, Training Accuracy= 0.63281\n",
      "Iter 411.0, Minibatch Loss= 0.857445, Training Accuracy= 0.54688\n",
      "Iter 412.0, Minibatch Loss= 0.858892, Training Accuracy= 0.60156\n",
      "Iter 413.0, Minibatch Loss= 0.972419, Training Accuracy= 0.50000\n",
      "Iter 414.0, Minibatch Loss= 0.803266, Training Accuracy= 0.60156\n",
      "Iter 415.0, Minibatch Loss= 0.798277, Training Accuracy= 0.62500\n",
      "Iter 416.0, Minibatch Loss= 0.801883, Training Accuracy= 0.63281\n",
      "Iter 417.0, Minibatch Loss= 0.792218, Training Accuracy= 0.61719\n",
      "Iter 418.0, Minibatch Loss= 0.774565, Training Accuracy= 0.63281\n",
      "Iter 419.0, Minibatch Loss= 0.846210, Training Accuracy= 0.53906\n",
      "Iter 420.0, Minibatch Loss= 0.761342, Training Accuracy= 0.64062\n",
      "Iter 421.0, Minibatch Loss= 0.794419, Training Accuracy= 0.64844\n",
      "Iter 422.0, Minibatch Loss= 0.752416, Training Accuracy= 0.66406\n",
      "Iter 423.0, Minibatch Loss= 0.780165, Training Accuracy= 0.60938\n",
      "Iter 424.0, Minibatch Loss= 0.715598, Training Accuracy= 0.62500\n",
      "Iter 425.0, Minibatch Loss= 0.863820, Training Accuracy= 0.57031\n",
      "Iter 426.0, Minibatch Loss= 1.001172, Training Accuracy= 0.50000\n",
      "Iter 427.0, Minibatch Loss= 0.888257, Training Accuracy= 0.56250\n",
      "Iter 428.0, Minibatch Loss= 0.995209, Training Accuracy= 0.44531\n",
      "Iter 429.0, Minibatch Loss= 1.010900, Training Accuracy= 0.47656\n",
      "Iter 430.0, Minibatch Loss= 1.068049, Training Accuracy= 0.42188\n",
      "Iter 431.0, Minibatch Loss= 0.836447, Training Accuracy= 0.56250\n",
      "Iter 432.0, Minibatch Loss= 0.775649, Training Accuracy= 0.68750\n",
      "Iter 433.0, Minibatch Loss= 0.856902, Training Accuracy= 0.60156\n",
      "Iter 434.0, Minibatch Loss= 0.908246, Training Accuracy= 0.54688\n",
      "Iter 435.0, Minibatch Loss= 0.812802, Training Accuracy= 0.64062\n",
      "Iter 436.0, Minibatch Loss= 0.783315, Training Accuracy= 0.64844\n",
      "Iter 437.0, Minibatch Loss= 0.799304, Training Accuracy= 0.61719\n",
      "Iter 438.0, Minibatch Loss= 0.833315, Training Accuracy= 0.58594\n",
      "Iter 439.0, Minibatch Loss= 0.762742, Training Accuracy= 0.64062\n",
      "Iter 440.0, Minibatch Loss= 0.745617, Training Accuracy= 0.67188\n",
      "Iter 441.0, Minibatch Loss= 0.709845, Training Accuracy= 0.68750\n",
      "Iter 442.0, Minibatch Loss= 0.706163, Training Accuracy= 0.67969\n",
      "Iter 443.0, Minibatch Loss= 0.702422, Training Accuracy= 0.70312\n",
      "Iter 444.0, Minibatch Loss= 0.764884, Training Accuracy= 0.63281\n",
      "Iter 445.0, Minibatch Loss= 0.735298, Training Accuracy= 0.62500\n",
      "Iter 446.0, Minibatch Loss= 0.920211, Training Accuracy= 0.56250\n",
      "Iter 447.0, Minibatch Loss= 0.926266, Training Accuracy= 0.49219\n",
      "Iter 448.0, Minibatch Loss= 0.968620, Training Accuracy= 0.42188\n",
      "Iter 449.0, Minibatch Loss= 0.948341, Training Accuracy= 0.57812\n",
      "Iter 450.0, Minibatch Loss= 0.847904, Training Accuracy= 0.61719\n",
      "Iter 451.0, Minibatch Loss= 0.791189, Training Accuracy= 0.62500\n",
      "Iter 452.0, Minibatch Loss= 0.714202, Training Accuracy= 0.70312\n",
      "Iter 453.0, Minibatch Loss= 0.704859, Training Accuracy= 0.64844\n",
      "Iter 454.0, Minibatch Loss= 0.680170, Training Accuracy= 0.70312\n",
      "Iter 455.0, Minibatch Loss= 0.669032, Training Accuracy= 0.69531\n",
      "Iter 456.0, Minibatch Loss= 0.706779, Training Accuracy= 0.67188\n",
      "Iter 457.0, Minibatch Loss= 0.820922, Training Accuracy= 0.58594\n",
      "Iter 458.0, Minibatch Loss= 0.863089, Training Accuracy= 0.60156\n",
      "Iter 459.0, Minibatch Loss= 0.702039, Training Accuracy= 0.67969\n",
      "Iter 460.0, Minibatch Loss= 0.706036, Training Accuracy= 0.64844\n",
      "Iter 461.0, Minibatch Loss= 0.952577, Training Accuracy= 0.54688\n",
      "Iter 462.0, Minibatch Loss= 1.064790, Training Accuracy= 0.46875\n",
      "Iter 463.0, Minibatch Loss= 1.201770, Training Accuracy= 0.45312\n",
      "Iter 464.0, Minibatch Loss= 1.035052, Training Accuracy= 0.53125\n",
      "Iter 465.0, Minibatch Loss= 0.921103, Training Accuracy= 0.57812\n",
      "Iter 466.0, Minibatch Loss= 0.980665, Training Accuracy= 0.48438\n",
      "Iter 467.0, Minibatch Loss= 0.879374, Training Accuracy= 0.57812\n",
      "Iter 468.0, Minibatch Loss= 0.900705, Training Accuracy= 0.53125\n",
      "Iter 469.0, Minibatch Loss= 0.880413, Training Accuracy= 0.57031\n",
      "Iter 470.0, Minibatch Loss= 0.896433, Training Accuracy= 0.55469\n",
      "Iter 471.0, Minibatch Loss= 0.765403, Training Accuracy= 0.64844\n",
      "Iter 472.0, Minibatch Loss= 0.801764, Training Accuracy= 0.63281\n",
      "Iter 473.0, Minibatch Loss= 0.958400, Training Accuracy= 0.54688\n",
      "Iter 474.0, Minibatch Loss= 1.027822, Training Accuracy= 0.50000\n",
      "Iter 475.0, Minibatch Loss= 0.882233, Training Accuracy= 0.57812\n",
      "Iter 476.0, Minibatch Loss= 0.788949, Training Accuracy= 0.64844\n",
      "Iter 477.0, Minibatch Loss= 0.736609, Training Accuracy= 0.69531\n",
      "Iter 478.0, Minibatch Loss= 0.693217, Training Accuracy= 0.70312\n",
      "Iter 479.0, Minibatch Loss= 0.683144, Training Accuracy= 0.67969\n",
      "Iter 480.0, Minibatch Loss= 0.746620, Training Accuracy= 0.65625\n",
      "Iter 481.0, Minibatch Loss= 0.673149, Training Accuracy= 0.67188\n",
      "Iter 482.0, Minibatch Loss= 0.798467, Training Accuracy= 0.64844\n",
      "Iter 483.0, Minibatch Loss= 1.084578, Training Accuracy= 0.50781\n",
      "Iter 484.0, Minibatch Loss= 0.956652, Training Accuracy= 0.56250\n",
      "Iter 485.0, Minibatch Loss= 0.785451, Training Accuracy= 0.62500\n",
      "Iter 486.0, Minibatch Loss= 0.715398, Training Accuracy= 0.66406\n",
      "Iter 487.0, Minibatch Loss= 0.689361, Training Accuracy= 0.67969\n",
      "Iter 488.0, Minibatch Loss= 0.722775, Training Accuracy= 0.69531\n",
      "Iter 489.0, Minibatch Loss= 0.950803, Training Accuracy= 0.55469\n",
      "Iter 490.0, Minibatch Loss= 0.948517, Training Accuracy= 0.49219\n",
      "Iter 491.0, Minibatch Loss= 1.113814, Training Accuracy= 0.46094\n",
      "Iter 492.0, Minibatch Loss= 1.015295, Training Accuracy= 0.53125\n",
      "Iter 493.0, Minibatch Loss= 0.835369, Training Accuracy= 0.60156\n",
      "Iter 494.0, Minibatch Loss= 0.752623, Training Accuracy= 0.67969\n",
      "Iter 495.0, Minibatch Loss= 0.694249, Training Accuracy= 0.69531\n",
      "Iter 496.0, Minibatch Loss= 0.665401, Training Accuracy= 0.69531\n",
      "Iter 497.0, Minibatch Loss= 0.644007, Training Accuracy= 0.70312\n",
      "Iter 498.0, Minibatch Loss= 0.745702, Training Accuracy= 0.64062\n",
      "Iter 499.0, Minibatch Loss= 0.931677, Training Accuracy= 0.52344\n",
      "Iter 500.0, Minibatch Loss= 0.951088, Training Accuracy= 0.49219\n",
      "Iter 501.0, Minibatch Loss= 0.910039, Training Accuracy= 0.58594\n",
      "Iter 502.0, Minibatch Loss= 0.868115, Training Accuracy= 0.58594\n",
      "Iter 503.0, Minibatch Loss= 0.848774, Training Accuracy= 0.60938\n",
      "Iter 504.0, Minibatch Loss= 0.842933, Training Accuracy= 0.60156\n"
     ]
    },
    {
     "name": "stdout",
     "output_type": "stream",
     "text": [
      "Iter 505.0, Minibatch Loss= 0.851614, Training Accuracy= 0.57812\n",
      "Iter 506.0, Minibatch Loss= 0.820522, Training Accuracy= 0.60938\n",
      "Iter 507.0, Minibatch Loss= 0.855735, Training Accuracy= 0.51562\n",
      "Iter 508.0, Minibatch Loss= 0.856953, Training Accuracy= 0.54688\n",
      "Iter 509.0, Minibatch Loss= 0.809030, Training Accuracy= 0.63281\n",
      "Iter 510.0, Minibatch Loss= 0.801813, Training Accuracy= 0.60938\n",
      "Iter 511.0, Minibatch Loss= 0.826148, Training Accuracy= 0.57812\n",
      "Iter 512.0, Minibatch Loss= 0.839442, Training Accuracy= 0.58594\n",
      "Iter 513.0, Minibatch Loss= 0.855465, Training Accuracy= 0.57812\n",
      "Iter 514.0, Minibatch Loss= 0.825581, Training Accuracy= 0.58594\n",
      "Iter 515.0, Minibatch Loss= 0.806172, Training Accuracy= 0.59375\n",
      "Iter 516.0, Minibatch Loss= 0.811119, Training Accuracy= 0.56250\n",
      "Iter 517.0, Minibatch Loss= 0.971247, Training Accuracy= 0.54688\n",
      "Iter 518.0, Minibatch Loss= 0.820447, Training Accuracy= 0.61719\n",
      "Iter 519.0, Minibatch Loss= 0.771817, Training Accuracy= 0.64062\n",
      "Iter 520.0, Minibatch Loss= 0.790771, Training Accuracy= 0.62500\n",
      "Iter 521.0, Minibatch Loss= 0.725245, Training Accuracy= 0.68750\n",
      "Iter 522.0, Minibatch Loss= 0.718580, Training Accuracy= 0.67969\n",
      "Iter 523.0, Minibatch Loss= 0.724050, Training Accuracy= 0.66406\n",
      "Iter 524.0, Minibatch Loss= 0.700680, Training Accuracy= 0.68750\n",
      "Iter 525.0, Minibatch Loss= 0.855678, Training Accuracy= 0.57031\n",
      "Iter 526.0, Minibatch Loss= 1.002648, Training Accuracy= 0.46094\n",
      "Iter 527.0, Minibatch Loss= 0.875676, Training Accuracy= 0.57031\n",
      "Iter 528.0, Minibatch Loss= 0.782716, Training Accuracy= 0.59375\n",
      "Iter 529.0, Minibatch Loss= 0.781718, Training Accuracy= 0.64062\n",
      "Iter 530.0, Minibatch Loss= 0.729462, Training Accuracy= 0.65625\n",
      "Iter 531.0, Minibatch Loss= 0.953480, Training Accuracy= 0.52344\n",
      "Iter 532.0, Minibatch Loss= 0.966946, Training Accuracy= 0.50000\n",
      "Iter 533.0, Minibatch Loss= 0.868010, Training Accuracy= 0.58594\n",
      "Iter 534.0, Minibatch Loss= 0.836741, Training Accuracy= 0.57031\n",
      "Iter 535.0, Minibatch Loss= 0.880386, Training Accuracy= 0.52344\n",
      "Iter 536.0, Minibatch Loss= 0.955478, Training Accuracy= 0.55469\n",
      "Iter 537.0, Minibatch Loss= 0.811405, Training Accuracy= 0.60156\n",
      "Iter 538.0, Minibatch Loss= 0.746766, Training Accuracy= 0.64844\n",
      "Iter 539.0, Minibatch Loss= 0.713994, Training Accuracy= 0.69531\n",
      "Iter 540.0, Minibatch Loss= 0.757649, Training Accuracy= 0.64844\n",
      "Iter 541.0, Minibatch Loss= 0.744297, Training Accuracy= 0.64844\n",
      "Iter 542.0, Minibatch Loss= 0.787791, Training Accuracy= 0.63281\n",
      "Iter 543.0, Minibatch Loss= 0.693079, Training Accuracy= 0.68750\n",
      "Iter 544.0, Minibatch Loss= 0.767105, Training Accuracy= 0.65625\n",
      "Iter 545.0, Minibatch Loss= 0.749793, Training Accuracy= 0.66406\n",
      "Iter 546.0, Minibatch Loss= 0.827418, Training Accuracy= 0.60938\n",
      "Iter 547.0, Minibatch Loss= 0.757937, Training Accuracy= 0.58594\n",
      "Iter 548.0, Minibatch Loss= 0.780860, Training Accuracy= 0.58594\n",
      "Iter 549.0, Minibatch Loss= 0.689191, Training Accuracy= 0.71094\n",
      "Iter 550.0, Minibatch Loss= 0.652553, Training Accuracy= 0.69531\n",
      "Iter 551.0, Minibatch Loss= 0.735822, Training Accuracy= 0.67969\n",
      "Iter 552.0, Minibatch Loss= 0.619381, Training Accuracy= 0.72656\n",
      "Iter 553.0, Minibatch Loss= 0.808013, Training Accuracy= 0.62500\n",
      "Iter 554.0, Minibatch Loss= 0.852695, Training Accuracy= 0.60156\n",
      "Iter 555.0, Minibatch Loss= 0.722473, Training Accuracy= 0.68750\n",
      "Iter 556.0, Minibatch Loss= 0.735193, Training Accuracy= 0.66406\n",
      "Iter 557.0, Minibatch Loss= 0.786831, Training Accuracy= 0.60156\n",
      "Iter 558.0, Minibatch Loss= 0.721438, Training Accuracy= 0.66406\n",
      "Iter 559.0, Minibatch Loss= 0.785252, Training Accuracy= 0.64062\n",
      "Iter 560.0, Minibatch Loss= 0.912216, Training Accuracy= 0.55469\n",
      "Iter 561.0, Minibatch Loss= 0.754465, Training Accuracy= 0.65625\n",
      "Iter 562.0, Minibatch Loss= 0.652487, Training Accuracy= 0.70312\n",
      "Iter 563.0, Minibatch Loss= 0.583009, Training Accuracy= 0.75781\n",
      "Iter 564.0, Minibatch Loss= 0.611910, Training Accuracy= 0.76562\n",
      "Iter 565.0, Minibatch Loss= 0.836164, Training Accuracy= 0.55469\n",
      "Iter 566.0, Minibatch Loss= 0.934610, Training Accuracy= 0.54688\n",
      "Iter 567.0, Minibatch Loss= 0.672808, Training Accuracy= 0.71875\n",
      "Iter 568.0, Minibatch Loss= 0.798707, Training Accuracy= 0.60938\n",
      "Iter 569.0, Minibatch Loss= 0.870355, Training Accuracy= 0.59375\n",
      "Iter 570.0, Minibatch Loss= 0.741199, Training Accuracy= 0.67969\n",
      "Iter 571.0, Minibatch Loss= 0.649977, Training Accuracy= 0.71094\n",
      "Iter 572.0, Minibatch Loss= 0.716834, Training Accuracy= 0.65625\n",
      "Iter 573.0, Minibatch Loss= 0.973238, Training Accuracy= 0.55469\n",
      "Iter 574.0, Minibatch Loss= 0.802599, Training Accuracy= 0.60938\n",
      "Iter 575.0, Minibatch Loss= 0.683413, Training Accuracy= 0.67188\n",
      "Iter 576.0, Minibatch Loss= 0.776127, Training Accuracy= 0.67188\n",
      "Iter 577.0, Minibatch Loss= 0.822565, Training Accuracy= 0.59375\n",
      "Iter 578.0, Minibatch Loss= 0.751364, Training Accuracy= 0.63281\n",
      "Iter 579.0, Minibatch Loss= 0.884755, Training Accuracy= 0.60156\n",
      "Iter 580.0, Minibatch Loss= 0.675636, Training Accuracy= 0.70312\n",
      "Iter 581.0, Minibatch Loss= 0.589638, Training Accuracy= 0.77344\n",
      "Iter 582.0, Minibatch Loss= 0.658240, Training Accuracy= 0.69531\n",
      "Iter 583.0, Minibatch Loss= 0.620359, Training Accuracy= 0.74219\n",
      "Iter 584.0, Minibatch Loss= 0.739527, Training Accuracy= 0.65625\n",
      "Iter 585.0, Minibatch Loss= 0.584845, Training Accuracy= 0.75781\n",
      "Iter 586.0, Minibatch Loss= 0.591353, Training Accuracy= 0.73438\n",
      "Iter 587.0, Minibatch Loss= 0.644249, Training Accuracy= 0.71875\n",
      "Iter 588.0, Minibatch Loss= 0.628940, Training Accuracy= 0.73438\n",
      "Iter 589.0, Minibatch Loss= 0.775127, Training Accuracy= 0.64062\n",
      "Iter 590.0, Minibatch Loss= 0.729524, Training Accuracy= 0.64062\n",
      "Iter 591.0, Minibatch Loss= 0.841199, Training Accuracy= 0.63281\n",
      "Iter 592.0, Minibatch Loss= 0.726770, Training Accuracy= 0.66406\n",
      "Iter 593.0, Minibatch Loss= 0.564756, Training Accuracy= 0.75781\n",
      "Iter 594.0, Minibatch Loss= 0.561546, Training Accuracy= 0.79688\n",
      "Iter 595.0, Minibatch Loss= 0.708733, Training Accuracy= 0.70312\n",
      "Iter 596.0, Minibatch Loss= 0.579755, Training Accuracy= 0.78125\n",
      "Iter 597.0, Minibatch Loss= 0.498599, Training Accuracy= 0.82031\n",
      "Iter 598.0, Minibatch Loss= 0.486232, Training Accuracy= 0.83594\n",
      "Iter 599.0, Minibatch Loss= 0.579894, Training Accuracy= 0.73438\n",
      "Iter 600.0, Minibatch Loss= 0.562840, Training Accuracy= 0.71875\n",
      "Iter 601.0, Minibatch Loss= 0.662681, Training Accuracy= 0.72656\n",
      "Iter 602.0, Minibatch Loss= 0.823399, Training Accuracy= 0.64062\n",
      "Iter 603.0, Minibatch Loss= 0.470413, Training Accuracy= 0.84375\n",
      "Iter 604.0, Minibatch Loss= 0.442447, Training Accuracy= 0.84375\n",
      "Iter 605.0, Minibatch Loss= 0.396587, Training Accuracy= 0.85156\n",
      "Iter 606.0, Minibatch Loss= 0.422969, Training Accuracy= 0.85156\n",
      "Iter 607.0, Minibatch Loss= 0.482189, Training Accuracy= 0.77344\n",
      "Iter 608.0, Minibatch Loss= 0.955067, Training Accuracy= 0.60938\n",
      "Iter 609.0, Minibatch Loss= 1.014157, Training Accuracy= 0.56250\n",
      "Iter 610.0, Minibatch Loss= 1.152692, Training Accuracy= 0.51562\n",
      "Iter 611.0, Minibatch Loss= 0.724686, Training Accuracy= 0.66406\n",
      "Iter 612.0, Minibatch Loss= 0.758688, Training Accuracy= 0.64062\n",
      "Iter 613.0, Minibatch Loss= 0.528866, Training Accuracy= 0.77344\n",
      "Iter 614.0, Minibatch Loss= 0.481011, Training Accuracy= 0.82031\n",
      "Iter 615.0, Minibatch Loss= 0.750481, Training Accuracy= 0.69531\n",
      "Iter 616.0, Minibatch Loss= 0.908500, Training Accuracy= 0.57812\n",
      "Iter 617.0, Minibatch Loss= 0.594864, Training Accuracy= 0.75781\n",
      "Iter 618.0, Minibatch Loss= 0.460482, Training Accuracy= 0.85156\n",
      "Iter 619.0, Minibatch Loss= 0.521958, Training Accuracy= 0.78906\n",
      "Iter 620.0, Minibatch Loss= 0.718981, Training Accuracy= 0.66406\n",
      "Iter 621.0, Minibatch Loss= 0.771639, Training Accuracy= 0.63281\n",
      "Iter 622.0, Minibatch Loss= 0.720740, Training Accuracy= 0.63281\n",
      "Iter 623.0, Minibatch Loss= 0.618912, Training Accuracy= 0.71875\n",
      "Iter 624.0, Minibatch Loss= 0.507885, Training Accuracy= 0.81250\n",
      "Iter 625.0, Minibatch Loss= 1.016483, Training Accuracy= 0.59375\n",
      "Iter 626.0, Minibatch Loss= 0.876887, Training Accuracy= 0.57812\n",
      "Iter 627.0, Minibatch Loss= 0.858846, Training Accuracy= 0.63281\n",
      "Iter 628.0, Minibatch Loss= 0.781377, Training Accuracy= 0.65625\n",
      "Iter 629.0, Minibatch Loss= 0.798814, Training Accuracy= 0.60938\n",
      "Iter 630.0, Minibatch Loss= 0.723595, Training Accuracy= 0.64844\n"
     ]
    },
    {
     "name": "stdout",
     "output_type": "stream",
     "text": [
      "Iter 631.0, Minibatch Loss= 0.750758, Training Accuracy= 0.65625\n",
      "Iter 632.0, Minibatch Loss= 0.790077, Training Accuracy= 0.57812\n",
      "Iter 633.0, Minibatch Loss= 0.713049, Training Accuracy= 0.67969\n",
      "Iter 634.0, Minibatch Loss= 0.706872, Training Accuracy= 0.65625\n",
      "Iter 635.0, Minibatch Loss= 0.708455, Training Accuracy= 0.68750\n",
      "Iter 636.0, Minibatch Loss= 0.673829, Training Accuracy= 0.65625\n",
      "Iter 637.0, Minibatch Loss= 0.681362, Training Accuracy= 0.68750\n",
      "Iter 638.0, Minibatch Loss= 0.645356, Training Accuracy= 0.71094\n",
      "Iter 639.0, Minibatch Loss= 0.735993, Training Accuracy= 0.67969\n",
      "Iter 640.0, Minibatch Loss= 0.730518, Training Accuracy= 0.61719\n",
      "Iter 641.0, Minibatch Loss= 0.767863, Training Accuracy= 0.67969\n",
      "Iter 642.0, Minibatch Loss= 0.864935, Training Accuracy= 0.55469\n",
      "Iter 643.0, Minibatch Loss= 0.713938, Training Accuracy= 0.67969\n",
      "Iter 644.0, Minibatch Loss= 0.627138, Training Accuracy= 0.75000\n",
      "Iter 645.0, Minibatch Loss= 0.593488, Training Accuracy= 0.75000\n",
      "Iter 646.0, Minibatch Loss= 0.577764, Training Accuracy= 0.73438\n",
      "Iter 647.0, Minibatch Loss= 0.680535, Training Accuracy= 0.71094\n",
      "Iter 648.0, Minibatch Loss= 0.724388, Training Accuracy= 0.64062\n",
      "Iter 649.0, Minibatch Loss= 0.674358, Training Accuracy= 0.69531\n",
      "Iter 650.0, Minibatch Loss= 0.604206, Training Accuracy= 0.69531\n",
      "Iter 651.0, Minibatch Loss= 0.626462, Training Accuracy= 0.72656\n",
      "Iter 652.0, Minibatch Loss= 0.694316, Training Accuracy= 0.66406\n",
      "Iter 653.0, Minibatch Loss= 0.795711, Training Accuracy= 0.70312\n",
      "Iter 654.0, Minibatch Loss= 0.826627, Training Accuracy= 0.62500\n",
      "Iter 655.0, Minibatch Loss= 0.673685, Training Accuracy= 0.67188\n",
      "Iter 656.0, Minibatch Loss= 0.622292, Training Accuracy= 0.71094\n",
      "Iter 657.0, Minibatch Loss= 0.823590, Training Accuracy= 0.64062\n",
      "Iter 658.0, Minibatch Loss= 1.024338, Training Accuracy= 0.52344\n",
      "Iter 659.0, Minibatch Loss= 0.867600, Training Accuracy= 0.65625\n",
      "Iter 660.0, Minibatch Loss= 0.719864, Training Accuracy= 0.69531\n",
      "Iter 661.0, Minibatch Loss= 0.679342, Training Accuracy= 0.68750\n",
      "Iter 662.0, Minibatch Loss= 0.833066, Training Accuracy= 0.63281\n",
      "Iter 663.0, Minibatch Loss= 0.612079, Training Accuracy= 0.72656\n",
      "Iter 664.0, Minibatch Loss= 0.539927, Training Accuracy= 0.75000\n",
      "Iter 665.0, Minibatch Loss= 0.526143, Training Accuracy= 0.75000\n",
      "Iter 666.0, Minibatch Loss= 0.549788, Training Accuracy= 0.75781\n",
      "Iter 667.0, Minibatch Loss= 0.600650, Training Accuracy= 0.70312\n",
      "Iter 668.0, Minibatch Loss= 0.698062, Training Accuracy= 0.70312\n",
      "Iter 669.0, Minibatch Loss= 0.528880, Training Accuracy= 0.78125\n",
      "Iter 670.0, Minibatch Loss= 0.537815, Training Accuracy= 0.73438\n",
      "Iter 671.0, Minibatch Loss= 0.653205, Training Accuracy= 0.68750\n",
      "Iter 672.0, Minibatch Loss= 0.543360, Training Accuracy= 0.77344\n",
      "Iter 673.0, Minibatch Loss= 0.500911, Training Accuracy= 0.79688\n",
      "Iter 674.0, Minibatch Loss= 0.500898, Training Accuracy= 0.76562\n",
      "Iter 675.0, Minibatch Loss= 0.800312, Training Accuracy= 0.64062\n",
      "Iter 676.0, Minibatch Loss= 0.664443, Training Accuracy= 0.68750\n",
      "Iter 677.0, Minibatch Loss= 0.639922, Training Accuracy= 0.69531\n",
      "Iter 678.0, Minibatch Loss= 0.659670, Training Accuracy= 0.66406\n",
      "Iter 679.0, Minibatch Loss= 0.866502, Training Accuracy= 0.57812\n",
      "Iter 680.0, Minibatch Loss= 0.769325, Training Accuracy= 0.64844\n",
      "Iter 681.0, Minibatch Loss= 0.608933, Training Accuracy= 0.70312\n",
      "Iter 682.0, Minibatch Loss= 0.547610, Training Accuracy= 0.77344\n",
      "Iter 683.0, Minibatch Loss= 0.530351, Training Accuracy= 0.78906\n",
      "Iter 684.0, Minibatch Loss= 0.674451, Training Accuracy= 0.74219\n",
      "Iter 685.0, Minibatch Loss= 0.707384, Training Accuracy= 0.68750\n",
      "Iter 686.0, Minibatch Loss= 0.845382, Training Accuracy= 0.64062\n",
      "Iter 687.0, Minibatch Loss= 0.558823, Training Accuracy= 0.75781\n",
      "Iter 688.0, Minibatch Loss= 0.532791, Training Accuracy= 0.77344\n",
      "Iter 689.0, Minibatch Loss= 0.538085, Training Accuracy= 0.73438\n",
      "Iter 690.0, Minibatch Loss= 0.521906, Training Accuracy= 0.72656\n",
      "Iter 691.0, Minibatch Loss= 0.469747, Training Accuracy= 0.81250\n",
      "Iter 692.0, Minibatch Loss= 0.579791, Training Accuracy= 0.75781\n",
      "Iter 693.0, Minibatch Loss= 0.804554, Training Accuracy= 0.60938\n",
      "Iter 694.0, Minibatch Loss= 0.602649, Training Accuracy= 0.74219\n",
      "Iter 695.0, Minibatch Loss= 0.557274, Training Accuracy= 0.77344\n",
      "Iter 696.0, Minibatch Loss= 0.834052, Training Accuracy= 0.64844\n",
      "Iter 697.0, Minibatch Loss= 0.724188, Training Accuracy= 0.66406\n",
      "Iter 698.0, Minibatch Loss= 0.625155, Training Accuracy= 0.75781\n",
      "Iter 699.0, Minibatch Loss= 0.587439, Training Accuracy= 0.73438\n",
      "Iter 700.0, Minibatch Loss= 0.604779, Training Accuracy= 0.76562\n",
      "Iter 701.0, Minibatch Loss= 0.542969, Training Accuracy= 0.79688\n",
      "Iter 702.0, Minibatch Loss= 0.464270, Training Accuracy= 0.80469\n",
      "Iter 703.0, Minibatch Loss= 0.420791, Training Accuracy= 0.83594\n",
      "Iter 704.0, Minibatch Loss= 0.398918, Training Accuracy= 0.82812\n",
      "Iter 705.0, Minibatch Loss= 0.484127, Training Accuracy= 0.81250\n",
      "Iter 706.0, Minibatch Loss= 0.558840, Training Accuracy= 0.75781\n",
      "Iter 707.0, Minibatch Loss= 0.695647, Training Accuracy= 0.67188\n",
      "Iter 708.0, Minibatch Loss= 0.562084, Training Accuracy= 0.73438\n",
      "Iter 709.0, Minibatch Loss= 0.525231, Training Accuracy= 0.79688\n",
      "Iter 710.0, Minibatch Loss= 0.561707, Training Accuracy= 0.74219\n",
      "Iter 711.0, Minibatch Loss= 0.614197, Training Accuracy= 0.71094\n",
      "Iter 712.0, Minibatch Loss= 0.583598, Training Accuracy= 0.72656\n",
      "Iter 713.0, Minibatch Loss= 0.512345, Training Accuracy= 0.78125\n",
      "Iter 714.0, Minibatch Loss= 0.460259, Training Accuracy= 0.83594\n",
      "Iter 715.0, Minibatch Loss= 0.374264, Training Accuracy= 0.84375\n",
      "Iter 716.0, Minibatch Loss= 0.326433, Training Accuracy= 0.89062\n",
      "Iter 717.0, Minibatch Loss= 0.345841, Training Accuracy= 0.90625\n",
      "Iter 718.0, Minibatch Loss= 0.390434, Training Accuracy= 0.83594\n",
      "Iter 719.0, Minibatch Loss= 0.385024, Training Accuracy= 0.81250\n",
      "Iter 720.0, Minibatch Loss= 0.423105, Training Accuracy= 0.82031\n",
      "Iter 721.0, Minibatch Loss= 0.627783, Training Accuracy= 0.71094\n",
      "Iter 722.0, Minibatch Loss= 0.676887, Training Accuracy= 0.70312\n",
      "Iter 723.0, Minibatch Loss= 0.657229, Training Accuracy= 0.76562\n",
      "Iter 724.0, Minibatch Loss= 0.641996, Training Accuracy= 0.75000\n",
      "Iter 725.0, Minibatch Loss= 0.488547, Training Accuracy= 0.80469\n",
      "Iter 726.0, Minibatch Loss= 0.627272, Training Accuracy= 0.74219\n",
      "Iter 727.0, Minibatch Loss= 0.595528, Training Accuracy= 0.75781\n",
      "Iter 728.0, Minibatch Loss= 0.642719, Training Accuracy= 0.75781\n",
      "Iter 729.0, Minibatch Loss= 0.739021, Training Accuracy= 0.70312\n",
      "Iter 730.0, Minibatch Loss= 0.491462, Training Accuracy= 0.81250\n",
      "Iter 731.0, Minibatch Loss= 0.468881, Training Accuracy= 0.80469\n",
      "Iter 732.0, Minibatch Loss= 0.497593, Training Accuracy= 0.81250\n",
      "Iter 733.0, Minibatch Loss= 0.444127, Training Accuracy= 0.81250\n",
      "Iter 734.0, Minibatch Loss= 0.377159, Training Accuracy= 0.82031\n",
      "Iter 735.0, Minibatch Loss= 0.321216, Training Accuracy= 0.88281\n",
      "Iter 736.0, Minibatch Loss= 0.502976, Training Accuracy= 0.75781\n",
      "Iter 737.0, Minibatch Loss= 0.503669, Training Accuracy= 0.75000\n",
      "Iter 738.0, Minibatch Loss= 0.331502, Training Accuracy= 0.85938\n",
      "Iter 739.0, Minibatch Loss= 1.320326, Training Accuracy= 0.67969\n",
      "Iter 740.0, Minibatch Loss= 1.274894, Training Accuracy= 0.50000\n",
      "Iter 741.0, Minibatch Loss= 1.358692, Training Accuracy= 0.48438\n",
      "Iter 742.0, Minibatch Loss= 0.974610, Training Accuracy= 0.64062\n",
      "Iter 743.0, Minibatch Loss= 0.794746, Training Accuracy= 0.58594\n",
      "Iter 744.0, Minibatch Loss= 0.786389, Training Accuracy= 0.64062\n",
      "Iter 745.0, Minibatch Loss= 0.714086, Training Accuracy= 0.67969\n",
      "Iter 746.0, Minibatch Loss= 0.843067, Training Accuracy= 0.64844\n",
      "Iter 747.0, Minibatch Loss= 0.796576, Training Accuracy= 0.63281\n",
      "Iter 748.0, Minibatch Loss= 0.617100, Training Accuracy= 0.70312\n",
      "Iter 749.0, Minibatch Loss= 0.529038, Training Accuracy= 0.75781\n",
      "Iter 750.0, Minibatch Loss= 1.065955, Training Accuracy= 0.46094\n",
      "Iter 751.0, Minibatch Loss= 1.025004, Training Accuracy= 0.52344\n",
      "Iter 752.0, Minibatch Loss= 0.864112, Training Accuracy= 0.53906\n",
      "Iter 753.0, Minibatch Loss= 0.882484, Training Accuracy= 0.57031\n",
      "Iter 754.0, Minibatch Loss= 0.836423, Training Accuracy= 0.53906\n",
      "Iter 755.0, Minibatch Loss= 0.836913, Training Accuracy= 0.55469\n",
      "Iter 756.0, Minibatch Loss= 0.771769, Training Accuracy= 0.62500\n"
     ]
    },
    {
     "name": "stdout",
     "output_type": "stream",
     "text": [
      "Iter 757.0, Minibatch Loss= 0.906079, Training Accuracy= 0.53906\n",
      "Iter 758.0, Minibatch Loss= 0.808171, Training Accuracy= 0.54688\n",
      "Iter 759.0, Minibatch Loss= 0.690227, Training Accuracy= 0.72656\n",
      "Iter 760.0, Minibatch Loss= 0.762894, Training Accuracy= 0.62500\n",
      "Iter 761.0, Minibatch Loss= 1.052269, Training Accuracy= 0.46875\n",
      "Iter 762.0, Minibatch Loss= 0.939218, Training Accuracy= 0.53906\n",
      "Iter 763.0, Minibatch Loss= 0.872500, Training Accuracy= 0.53125\n",
      "Iter 764.0, Minibatch Loss= 0.855548, Training Accuracy= 0.57031\n",
      "Iter 765.0, Minibatch Loss= 0.785335, Training Accuracy= 0.62500\n",
      "Iter 766.0, Minibatch Loss= 0.847261, Training Accuracy= 0.64062\n",
      "Iter 767.0, Minibatch Loss= 0.752982, Training Accuracy= 0.67969\n",
      "Iter 768.0, Minibatch Loss= 0.716298, Training Accuracy= 0.71875\n",
      "Iter 769.0, Minibatch Loss= 0.786572, Training Accuracy= 0.64844\n",
      "Iter 770.0, Minibatch Loss= 0.826678, Training Accuracy= 0.60938\n",
      "Iter 771.0, Minibatch Loss= 0.956352, Training Accuracy= 0.44531\n",
      "Iter 772.0, Minibatch Loss= 0.925058, Training Accuracy= 0.54688\n",
      "Iter 773.0, Minibatch Loss= 0.892317, Training Accuracy= 0.51562\n",
      "Iter 774.0, Minibatch Loss= 0.788400, Training Accuracy= 0.60938\n",
      "Iter 775.0, Minibatch Loss= 0.718399, Training Accuracy= 0.62500\n",
      "Iter 776.0, Minibatch Loss= 0.689493, Training Accuracy= 0.68750\n",
      "Iter 777.0, Minibatch Loss= 0.816709, Training Accuracy= 0.59375\n",
      "Iter 778.0, Minibatch Loss= 0.891334, Training Accuracy= 0.54688\n",
      "Iter 779.0, Minibatch Loss= 0.724952, Training Accuracy= 0.66406\n",
      "Iter 780.0, Minibatch Loss= 0.808078, Training Accuracy= 0.59375\n",
      "Iter 781.0, Minibatch Loss= 0.808982, Training Accuracy= 0.58594\n",
      "Iter 0.0, Minibatch Loss= 0.850132, Training Accuracy= 0.60938\n",
      "Iter 1.0, Minibatch Loss= 0.771383, Training Accuracy= 0.65625\n",
      "Iter 2.0, Minibatch Loss= 0.843780, Training Accuracy= 0.64844\n",
      "Iter 3.0, Minibatch Loss= 0.844799, Training Accuracy= 0.65625\n",
      "Iter 4.0, Minibatch Loss= 0.793221, Training Accuracy= 0.64062\n",
      "Iter 5.0, Minibatch Loss= 0.731891, Training Accuracy= 0.67969\n",
      "Iter 6.0, Minibatch Loss= 0.705922, Training Accuracy= 0.72656\n",
      "Iter 7.0, Minibatch Loss= 0.682108, Training Accuracy= 0.74219\n",
      "Iter 8.0, Minibatch Loss= 0.916153, Training Accuracy= 0.57812\n",
      "Iter 9.0, Minibatch Loss= 0.869480, Training Accuracy= 0.57812\n",
      "Iter 10.0, Minibatch Loss= 0.714780, Training Accuracy= 0.67188\n",
      "Iter 11.0, Minibatch Loss= 0.633549, Training Accuracy= 0.75000\n",
      "Iter 12.0, Minibatch Loss= 0.595103, Training Accuracy= 0.75000\n",
      "Iter 13.0, Minibatch Loss= 0.605068, Training Accuracy= 0.76562\n",
      "Iter 14.0, Minibatch Loss= 0.707108, Training Accuracy= 0.67188\n",
      "Iter 15.0, Minibatch Loss= 0.822959, Training Accuracy= 0.65625\n",
      "Iter 16.0, Minibatch Loss= 0.695059, Training Accuracy= 0.70312\n",
      "Iter 17.0, Minibatch Loss= 0.574806, Training Accuracy= 0.80469\n",
      "Iter 18.0, Minibatch Loss= 0.492928, Training Accuracy= 0.82812\n",
      "Iter 19.0, Minibatch Loss= 0.464979, Training Accuracy= 0.82812\n",
      "Iter 20.0, Minibatch Loss= 0.533193, Training Accuracy= 0.77344\n",
      "Iter 21.0, Minibatch Loss= 0.634091, Training Accuracy= 0.74219\n",
      "Iter 22.0, Minibatch Loss= 0.956082, Training Accuracy= 0.58594\n",
      "Iter 23.0, Minibatch Loss= 1.137933, Training Accuracy= 0.54688\n",
      "Iter 24.0, Minibatch Loss= 0.841719, Training Accuracy= 0.61719\n",
      "Iter 25.0, Minibatch Loss= 0.729245, Training Accuracy= 0.71094\n",
      "Iter 26.0, Minibatch Loss= 0.581791, Training Accuracy= 0.78906\n",
      "Iter 27.0, Minibatch Loss= 0.510790, Training Accuracy= 0.81250\n",
      "Iter 28.0, Minibatch Loss= 0.458472, Training Accuracy= 0.84375\n",
      "Iter 29.0, Minibatch Loss= 0.412940, Training Accuracy= 0.84375\n",
      "Iter 30.0, Minibatch Loss= 0.387381, Training Accuracy= 0.85156\n",
      "Iter 31.0, Minibatch Loss= 0.427074, Training Accuracy= 0.83594\n",
      "Iter 32.0, Minibatch Loss= 0.481761, Training Accuracy= 0.78125\n",
      "Iter 33.0, Minibatch Loss= 0.664348, Training Accuracy= 0.69531\n",
      "Iter 34.0, Minibatch Loss= 0.973801, Training Accuracy= 0.59375\n",
      "Iter 35.0, Minibatch Loss= 0.881049, Training Accuracy= 0.57812\n",
      "Iter 36.0, Minibatch Loss= 1.145312, Training Accuracy= 0.50781\n",
      "Iter 37.0, Minibatch Loss= 0.761852, Training Accuracy= 0.60938\n",
      "Iter 38.0, Minibatch Loss= 0.623790, Training Accuracy= 0.74219\n",
      "Iter 39.0, Minibatch Loss= 0.544151, Training Accuracy= 0.75781\n",
      "Iter 40.0, Minibatch Loss= 0.477633, Training Accuracy= 0.80469\n",
      "Iter 41.0, Minibatch Loss= 0.457542, Training Accuracy= 0.79688\n",
      "Iter 42.0, Minibatch Loss= 0.457081, Training Accuracy= 0.81250\n",
      "Iter 43.0, Minibatch Loss= 0.514328, Training Accuracy= 0.79688\n",
      "Iter 44.0, Minibatch Loss= 0.483958, Training Accuracy= 0.80469\n",
      "Iter 45.0, Minibatch Loss= 0.653547, Training Accuracy= 0.73438\n",
      "Iter 46.0, Minibatch Loss= 0.805601, Training Accuracy= 0.64062\n",
      "Iter 47.0, Minibatch Loss= 0.823885, Training Accuracy= 0.63281\n",
      "Iter 48.0, Minibatch Loss= 0.731025, Training Accuracy= 0.64844\n",
      "Iter 49.0, Minibatch Loss= 0.550698, Training Accuracy= 0.75000\n",
      "Iter 50.0, Minibatch Loss= 0.568775, Training Accuracy= 0.76562\n",
      "Iter 51.0, Minibatch Loss= 0.381225, Training Accuracy= 0.88281\n",
      "Iter 52.0, Minibatch Loss= 0.347563, Training Accuracy= 0.85938\n",
      "Iter 53.0, Minibatch Loss= 0.403660, Training Accuracy= 0.85938\n",
      "Iter 54.0, Minibatch Loss= 0.505955, Training Accuracy= 0.78906\n",
      "Iter 55.0, Minibatch Loss= 0.340852, Training Accuracy= 0.88281\n",
      "Iter 56.0, Minibatch Loss= 0.278285, Training Accuracy= 0.89844\n",
      "Iter 57.0, Minibatch Loss= 0.226076, Training Accuracy= 0.95312\n",
      "Iter 58.0, Minibatch Loss= 0.199428, Training Accuracy= 0.93750\n",
      "Iter 59.0, Minibatch Loss= 0.185663, Training Accuracy= 0.94531\n",
      "Iter 60.0, Minibatch Loss= 0.183164, Training Accuracy= 0.95312\n",
      "Iter 61.0, Minibatch Loss= 0.194172, Training Accuracy= 0.92969\n",
      "Iter 62.0, Minibatch Loss= 0.495680, Training Accuracy= 0.80469\n",
      "Iter 63.0, Minibatch Loss= 1.285237, Training Accuracy= 0.56250\n",
      "Iter 64.0, Minibatch Loss= 1.342000, Training Accuracy= 0.53125\n",
      "Iter 65.0, Minibatch Loss= 1.156366, Training Accuracy= 0.48438\n",
      "Iter 66.0, Minibatch Loss= 1.025972, Training Accuracy= 0.46875\n",
      "Iter 67.0, Minibatch Loss= 0.832382, Training Accuracy= 0.57812\n",
      "Iter 68.0, Minibatch Loss= 0.796429, Training Accuracy= 0.60156\n",
      "Iter 69.0, Minibatch Loss= 0.952711, Training Accuracy= 0.52344\n",
      "Iter 70.0, Minibatch Loss= 1.006967, Training Accuracy= 0.54688\n",
      "Iter 71.0, Minibatch Loss= 1.134715, Training Accuracy= 0.52344\n",
      "Iter 72.0, Minibatch Loss= 1.266660, Training Accuracy= 0.39844\n",
      "Iter 73.0, Minibatch Loss= 1.048082, Training Accuracy= 0.53125\n",
      "Iter 74.0, Minibatch Loss= 0.996998, Training Accuracy= 0.48438\n",
      "Iter 75.0, Minibatch Loss= 0.899494, Training Accuracy= 0.53125\n",
      "Iter 76.0, Minibatch Loss= 0.804420, Training Accuracy= 0.60938\n",
      "Iter 77.0, Minibatch Loss= 0.747117, Training Accuracy= 0.64844\n",
      "Iter 78.0, Minibatch Loss= 0.760921, Training Accuracy= 0.67188\n",
      "Iter 79.0, Minibatch Loss= 0.804657, Training Accuracy= 0.59375\n",
      "Iter 80.0, Minibatch Loss= 0.764956, Training Accuracy= 0.60938\n",
      "Iter 81.0, Minibatch Loss= 0.689726, Training Accuracy= 0.68750\n",
      "Iter 82.0, Minibatch Loss= 0.700354, Training Accuracy= 0.66406\n",
      "Iter 83.0, Minibatch Loss= 0.748162, Training Accuracy= 0.67969\n",
      "Iter 84.0, Minibatch Loss= 0.667421, Training Accuracy= 0.63281\n",
      "Iter 85.0, Minibatch Loss= 0.769819, Training Accuracy= 0.62500\n",
      "Iter 86.0, Minibatch Loss= 0.706365, Training Accuracy= 0.68750\n",
      "Iter 87.0, Minibatch Loss= 0.696917, Training Accuracy= 0.64844\n",
      "Iter 88.0, Minibatch Loss= 0.661122, Training Accuracy= 0.72656\n",
      "Iter 89.0, Minibatch Loss= 0.608683, Training Accuracy= 0.72656\n",
      "Iter 90.0, Minibatch Loss= 0.576374, Training Accuracy= 0.77344\n",
      "Iter 91.0, Minibatch Loss= 0.559070, Training Accuracy= 0.77344\n",
      "Iter 92.0, Minibatch Loss= 0.644682, Training Accuracy= 0.72656\n",
      "Iter 93.0, Minibatch Loss= 0.769414, Training Accuracy= 0.64062\n",
      "Iter 94.0, Minibatch Loss= 0.802346, Training Accuracy= 0.68750\n",
      "Iter 95.0, Minibatch Loss= 0.728901, Training Accuracy= 0.65625\n",
      "Iter 96.0, Minibatch Loss= 0.721371, Training Accuracy= 0.68750\n",
      "Iter 97.0, Minibatch Loss= 0.891580, Training Accuracy= 0.59375\n",
      "Iter 98.0, Minibatch Loss= 0.690180, Training Accuracy= 0.67188\n",
      "Iter 99.0, Minibatch Loss= 0.578457, Training Accuracy= 0.74219\n",
      "Iter 100.0, Minibatch Loss= 0.524644, Training Accuracy= 0.78906\n",
      "Iter 101.0, Minibatch Loss= 0.609776, Training Accuracy= 0.73438\n"
     ]
    },
    {
     "name": "stdout",
     "output_type": "stream",
     "text": [
      "Iter 102.0, Minibatch Loss= 0.863691, Training Accuracy= 0.54688\n",
      "Iter 103.0, Minibatch Loss= 0.689754, Training Accuracy= 0.66406\n",
      "Iter 104.0, Minibatch Loss= 0.551138, Training Accuracy= 0.73438\n",
      "Iter 105.0, Minibatch Loss= 0.525222, Training Accuracy= 0.80469\n",
      "Iter 106.0, Minibatch Loss= 0.533901, Training Accuracy= 0.76562\n",
      "Iter 107.0, Minibatch Loss= 0.641196, Training Accuracy= 0.77344\n",
      "Iter 108.0, Minibatch Loss= 0.622623, Training Accuracy= 0.75000\n",
      "Iter 109.0, Minibatch Loss= 0.778973, Training Accuracy= 0.64844\n",
      "Iter 110.0, Minibatch Loss= 0.848506, Training Accuracy= 0.55469\n",
      "Iter 111.0, Minibatch Loss= 0.754497, Training Accuracy= 0.65625\n",
      "Iter 112.0, Minibatch Loss= 0.789867, Training Accuracy= 0.70312\n",
      "Iter 113.0, Minibatch Loss= 0.785745, Training Accuracy= 0.67969\n",
      "Iter 114.0, Minibatch Loss= 0.828806, Training Accuracy= 0.68750\n",
      "Iter 115.0, Minibatch Loss= 0.836599, Training Accuracy= 0.62500\n",
      "Iter 116.0, Minibatch Loss= 0.808418, Training Accuracy= 0.73438\n",
      "Iter 117.0, Minibatch Loss= 0.626699, Training Accuracy= 0.79688\n",
      "Iter 118.0, Minibatch Loss= 0.542177, Training Accuracy= 0.79688\n",
      "Iter 119.0, Minibatch Loss= 0.511606, Training Accuracy= 0.79688\n",
      "Iter 120.0, Minibatch Loss= 0.492912, Training Accuracy= 0.82031\n",
      "Iter 121.0, Minibatch Loss= 0.497730, Training Accuracy= 0.79688\n",
      "Iter 122.0, Minibatch Loss= 0.438053, Training Accuracy= 0.82812\n",
      "Iter 123.0, Minibatch Loss= 0.372553, Training Accuracy= 0.85938\n",
      "Iter 124.0, Minibatch Loss= 0.337885, Training Accuracy= 0.89844\n",
      "Iter 125.0, Minibatch Loss= 0.891946, Training Accuracy= 0.63281\n",
      "Iter 126.0, Minibatch Loss= 0.763714, Training Accuracy= 0.67188\n",
      "Iter 127.0, Minibatch Loss= 0.707643, Training Accuracy= 0.72656\n",
      "Iter 128.0, Minibatch Loss= 0.695205, Training Accuracy= 0.68750\n",
      "Iter 129.0, Minibatch Loss= 0.703386, Training Accuracy= 0.70312\n",
      "Iter 130.0, Minibatch Loss= 0.722455, Training Accuracy= 0.63281\n",
      "Iter 131.0, Minibatch Loss= 0.735921, Training Accuracy= 0.66406\n",
      "Iter 132.0, Minibatch Loss= 0.674785, Training Accuracy= 0.69531\n",
      "Iter 133.0, Minibatch Loss= 0.650855, Training Accuracy= 0.68750\n",
      "Iter 134.0, Minibatch Loss= 0.614480, Training Accuracy= 0.75781\n",
      "Iter 135.0, Minibatch Loss= 0.616195, Training Accuracy= 0.71875\n",
      "Iter 136.0, Minibatch Loss= 0.638505, Training Accuracy= 0.75000\n",
      "Iter 137.0, Minibatch Loss= 0.671505, Training Accuracy= 0.68750\n",
      "Iter 138.0, Minibatch Loss= 0.619484, Training Accuracy= 0.76562\n",
      "Iter 139.0, Minibatch Loss= 0.594178, Training Accuracy= 0.69531\n",
      "Iter 140.0, Minibatch Loss= 0.679710, Training Accuracy= 0.68750\n",
      "Iter 141.0, Minibatch Loss= 0.894458, Training Accuracy= 0.56250\n",
      "Iter 142.0, Minibatch Loss= 0.684604, Training Accuracy= 0.69531\n",
      "Iter 143.0, Minibatch Loss= 0.533869, Training Accuracy= 0.80469\n",
      "Iter 144.0, Minibatch Loss= 0.500390, Training Accuracy= 0.78906\n",
      "Iter 145.0, Minibatch Loss= 0.471578, Training Accuracy= 0.81250\n",
      "Iter 146.0, Minibatch Loss= 0.528300, Training Accuracy= 0.77344\n",
      "Iter 147.0, Minibatch Loss= 0.495792, Training Accuracy= 0.80469\n",
      "Iter 148.0, Minibatch Loss= 0.531567, Training Accuracy= 0.78906\n",
      "Iter 149.0, Minibatch Loss= 0.531748, Training Accuracy= 0.74219\n",
      "Iter 150.0, Minibatch Loss= 0.612191, Training Accuracy= 0.74219\n",
      "Iter 151.0, Minibatch Loss= 0.575630, Training Accuracy= 0.75781\n",
      "Iter 152.0, Minibatch Loss= 0.426148, Training Accuracy= 0.82031\n",
      "Iter 153.0, Minibatch Loss= 0.418459, Training Accuracy= 0.85938\n",
      "Iter 154.0, Minibatch Loss= 0.551782, Training Accuracy= 0.74219\n",
      "Iter 155.0, Minibatch Loss= 0.750797, Training Accuracy= 0.67188\n",
      "Iter 156.0, Minibatch Loss= 0.639248, Training Accuracy= 0.71875\n",
      "Iter 157.0, Minibatch Loss= 0.782806, Training Accuracy= 0.61719\n",
      "Iter 158.0, Minibatch Loss= 0.986639, Training Accuracy= 0.63281\n",
      "Iter 159.0, Minibatch Loss= 0.662633, Training Accuracy= 0.67969\n",
      "Iter 160.0, Minibatch Loss= 0.619646, Training Accuracy= 0.72656\n",
      "Iter 161.0, Minibatch Loss= 0.510540, Training Accuracy= 0.81250\n",
      "Iter 162.0, Minibatch Loss= 0.449851, Training Accuracy= 0.80469\n",
      "Iter 163.0, Minibatch Loss= 0.413492, Training Accuracy= 0.85156\n",
      "Iter 164.0, Minibatch Loss= 0.407221, Training Accuracy= 0.82812\n",
      "Iter 165.0, Minibatch Loss= 0.534950, Training Accuracy= 0.75000\n",
      "Iter 166.0, Minibatch Loss= 0.611393, Training Accuracy= 0.69531\n",
      "Iter 167.0, Minibatch Loss= 0.517977, Training Accuracy= 0.76562\n",
      "Iter 168.0, Minibatch Loss= 0.459020, Training Accuracy= 0.80469\n",
      "Iter 169.0, Minibatch Loss= 0.397373, Training Accuracy= 0.81250\n",
      "Iter 170.0, Minibatch Loss= 0.348385, Training Accuracy= 0.86719\n",
      "Iter 171.0, Minibatch Loss= 0.323790, Training Accuracy= 0.85938\n",
      "Iter 172.0, Minibatch Loss= 0.309355, Training Accuracy= 0.87500\n",
      "Iter 173.0, Minibatch Loss= 0.317530, Training Accuracy= 0.85938\n",
      "Iter 174.0, Minibatch Loss= 0.343851, Training Accuracy= 0.87500\n",
      "Iter 175.0, Minibatch Loss= 0.462258, Training Accuracy= 0.78906\n",
      "Iter 176.0, Minibatch Loss= 0.401311, Training Accuracy= 0.83594\n",
      "Iter 177.0, Minibatch Loss= 0.356894, Training Accuracy= 0.85938\n",
      "Iter 178.0, Minibatch Loss= 0.318274, Training Accuracy= 0.85156\n",
      "Iter 179.0, Minibatch Loss= 0.298046, Training Accuracy= 0.87500\n",
      "Iter 180.0, Minibatch Loss= 0.272890, Training Accuracy= 0.88281\n",
      "Iter 181.0, Minibatch Loss= 0.258783, Training Accuracy= 0.89062\n",
      "Iter 182.0, Minibatch Loss= 0.268937, Training Accuracy= 0.88281\n",
      "Iter 183.0, Minibatch Loss= 0.320045, Training Accuracy= 0.86719\n",
      "Iter 184.0, Minibatch Loss= 0.347709, Training Accuracy= 0.83594\n",
      "Iter 185.0, Minibatch Loss= 0.394540, Training Accuracy= 0.85156\n",
      "Iter 186.0, Minibatch Loss= 0.579611, Training Accuracy= 0.78906\n",
      "Iter 187.0, Minibatch Loss= 1.068833, Training Accuracy= 0.63281\n",
      "Iter 188.0, Minibatch Loss= 0.791837, Training Accuracy= 0.67969\n",
      "Iter 189.0, Minibatch Loss= 0.766308, Training Accuracy= 0.66406\n",
      "Iter 190.0, Minibatch Loss= 0.709783, Training Accuracy= 0.68750\n",
      "Iter 191.0, Minibatch Loss= 0.533202, Training Accuracy= 0.79688\n",
      "Iter 192.0, Minibatch Loss= 0.440647, Training Accuracy= 0.78906\n",
      "Iter 193.0, Minibatch Loss= 0.345717, Training Accuracy= 0.88281\n",
      "Iter 194.0, Minibatch Loss= 0.266248, Training Accuracy= 0.92188\n",
      "Iter 195.0, Minibatch Loss= 0.248143, Training Accuracy= 0.92188\n",
      "Iter 196.0, Minibatch Loss= 0.219628, Training Accuracy= 0.92188\n",
      "Iter 197.0, Minibatch Loss= 0.211699, Training Accuracy= 0.93750\n",
      "Iter 198.0, Minibatch Loss= 0.182849, Training Accuracy= 0.94531\n",
      "Iter 199.0, Minibatch Loss= 0.185074, Training Accuracy= 0.93750\n",
      "Iter 200.0, Minibatch Loss= 0.154923, Training Accuracy= 0.94531\n",
      "Iter 201.0, Minibatch Loss= 0.155489, Training Accuracy= 0.95312\n",
      "Iter 202.0, Minibatch Loss= 0.137616, Training Accuracy= 0.96875\n",
      "Iter 203.0, Minibatch Loss= 0.162000, Training Accuracy= 0.94531\n",
      "Iter 204.0, Minibatch Loss= 0.131103, Training Accuracy= 0.98438\n",
      "Iter 205.0, Minibatch Loss= 0.240726, Training Accuracy= 0.91406\n",
      "Iter 206.0, Minibatch Loss= 0.478579, Training Accuracy= 0.81250\n",
      "Iter 207.0, Minibatch Loss= 1.389159, Training Accuracy= 0.50781\n",
      "Iter 208.0, Minibatch Loss= 0.961488, Training Accuracy= 0.57812\n",
      "Iter 209.0, Minibatch Loss= 1.068012, Training Accuracy= 0.67188\n",
      "Iter 210.0, Minibatch Loss= 0.997779, Training Accuracy= 0.63281\n",
      "Iter 211.0, Minibatch Loss= 0.849110, Training Accuracy= 0.71094\n",
      "Iter 212.0, Minibatch Loss= 0.549707, Training Accuracy= 0.77344\n",
      "Iter 213.0, Minibatch Loss= 0.587920, Training Accuracy= 0.76562\n",
      "Iter 214.0, Minibatch Loss= 0.417054, Training Accuracy= 0.85156\n",
      "Iter 215.0, Minibatch Loss= 0.335174, Training Accuracy= 0.89844\n",
      "Iter 216.0, Minibatch Loss= 0.265625, Training Accuracy= 0.91406\n",
      "Iter 217.0, Minibatch Loss= 0.249663, Training Accuracy= 0.92188\n",
      "Iter 218.0, Minibatch Loss= 0.240168, Training Accuracy= 0.90625\n",
      "Iter 219.0, Minibatch Loss= 0.197231, Training Accuracy= 0.94531\n",
      "Iter 220.0, Minibatch Loss= 0.162490, Training Accuracy= 0.94531\n",
      "Iter 221.0, Minibatch Loss= 0.147243, Training Accuracy= 0.96094\n",
      "Iter 222.0, Minibatch Loss= 0.133177, Training Accuracy= 0.96875\n",
      "Iter 223.0, Minibatch Loss= 0.121433, Training Accuracy= 0.97656\n",
      "Iter 224.0, Minibatch Loss= 0.112220, Training Accuracy= 0.97656\n",
      "Iter 225.0, Minibatch Loss= 0.103209, Training Accuracy= 0.98438\n",
      "Iter 226.0, Minibatch Loss= 0.089917, Training Accuracy= 0.98438\n",
      "Iter 227.0, Minibatch Loss= 0.075424, Training Accuracy= 0.99219\n"
     ]
    },
    {
     "name": "stdout",
     "output_type": "stream",
     "text": [
      "Iter 228.0, Minibatch Loss= 0.067442, Training Accuracy= 0.99219\n",
      "Iter 229.0, Minibatch Loss= 0.060960, Training Accuracy= 0.99219\n",
      "Iter 230.0, Minibatch Loss= 0.056558, Training Accuracy= 0.99219\n",
      "Iter 231.0, Minibatch Loss= 0.052922, Training Accuracy= 0.99219\n",
      "Iter 232.0, Minibatch Loss= 0.049785, Training Accuracy= 0.99219\n",
      "Iter 233.0, Minibatch Loss= 0.046909, Training Accuracy= 0.99219\n",
      "Iter 234.0, Minibatch Loss= 0.044161, Training Accuracy= 0.99219\n",
      "Iter 235.0, Minibatch Loss= 0.041413, Training Accuracy= 0.99219\n",
      "Iter 236.0, Minibatch Loss= 0.038497, Training Accuracy= 0.99219\n",
      "Iter 237.0, Minibatch Loss= 0.035181, Training Accuracy= 0.99219\n",
      "Iter 238.0, Minibatch Loss= 0.031335, Training Accuracy= 0.99219\n",
      "Iter 239.0, Minibatch Loss= 0.027438, Training Accuracy= 1.00000\n",
      "Iter 240.0, Minibatch Loss= 0.024088, Training Accuracy= 1.00000\n",
      "Iter 241.0, Minibatch Loss= 0.021374, Training Accuracy= 1.00000\n",
      "Iter 242.0, Minibatch Loss= 0.019246, Training Accuracy= 1.00000\n",
      "Iter 243.0, Minibatch Loss= 0.017567, Training Accuracy= 1.00000\n",
      "Iter 244.0, Minibatch Loss= 0.016194, Training Accuracy= 1.00000\n",
      "Iter 245.0, Minibatch Loss= 0.015041, Training Accuracy= 1.00000\n",
      "Iter 246.0, Minibatch Loss= 0.014055, Training Accuracy= 1.00000\n",
      "Iter 247.0, Minibatch Loss= 0.013200, Training Accuracy= 1.00000\n",
      "Iter 248.0, Minibatch Loss= 0.012448, Training Accuracy= 1.00000\n",
      "Iter 249.0, Minibatch Loss= 0.011782, Training Accuracy= 1.00000\n",
      "Iter 250.0, Minibatch Loss= 1.605714, Training Accuracy= 0.50781\n",
      "Iter 251.0, Minibatch Loss= 1.466629, Training Accuracy= 0.57031\n",
      "Iter 252.0, Minibatch Loss= 1.545497, Training Accuracy= 0.57812\n",
      "Iter 253.0, Minibatch Loss= 1.147981, Training Accuracy= 0.46094\n",
      "Iter 254.0, Minibatch Loss= 1.249131, Training Accuracy= 0.56250\n",
      "Iter 255.0, Minibatch Loss= 1.075075, Training Accuracy= 0.58594\n",
      "Iter 256.0, Minibatch Loss= 3.551518, Training Accuracy= 0.16406\n",
      "Iter 257.0, Minibatch Loss= 9.912794, Training Accuracy= 0.58594\n",
      "Iter 258.0, Minibatch Loss= 6.048563, Training Accuracy= 0.25781\n",
      "Iter 259.0, Minibatch Loss= 5.547337, Training Accuracy= 0.15625\n",
      "Iter 260.0, Minibatch Loss= 10.824806, Training Accuracy= 0.37500\n",
      "Iter 261.0, Minibatch Loss= 4.631302, Training Accuracy= 0.58594\n",
      "Iter 262.0, Minibatch Loss= 1.272599, Training Accuracy= 0.55469\n",
      "Iter 263.0, Minibatch Loss= 6.289263, Training Accuracy= 0.25781\n",
      "Iter 264.0, Minibatch Loss= 11.476166, Training Accuracy= 0.58594\n",
      "Iter 265.0, Minibatch Loss= 7.156426, Training Accuracy= 0.15625\n",
      "Iter 266.0, Minibatch Loss= 3.235169, Training Accuracy= 0.58594\n",
      "Iter 267.0, Minibatch Loss= 8.488977, Training Accuracy= 0.24219\n",
      "Iter 268.0, Minibatch Loss= 8.284761, Training Accuracy= 0.58594\n",
      "Iter 269.0, Minibatch Loss= 1.656786, Training Accuracy= 0.33594\n",
      "Iter 270.0, Minibatch Loss= 3.268563, Training Accuracy= 0.58594\n",
      "Iter 271.0, Minibatch Loss= 4.373075, Training Accuracy= 0.15625\n",
      "Iter 272.0, Minibatch Loss= 4.029844, Training Accuracy= 0.58594\n",
      "Iter 273.0, Minibatch Loss= 4.675826, Training Accuracy= 0.25781\n",
      "Iter 274.0, Minibatch Loss= 4.846340, Training Accuracy= 0.58594\n",
      "Iter 275.0, Minibatch Loss= 1.348574, Training Accuracy= 0.58594\n",
      "Iter 276.0, Minibatch Loss= 2.565855, Training Accuracy= 0.25781\n",
      "Iter 277.0, Minibatch Loss= 3.768572, Training Accuracy= 0.58594\n",
      "Iter 278.0, Minibatch Loss= 1.489974, Training Accuracy= 0.58594\n",
      "Iter 279.0, Minibatch Loss= 0.988075, Training Accuracy= 0.58594\n",
      "Iter 280.0, Minibatch Loss= 1.142631, Training Accuracy= 0.58594\n",
      "Iter 281.0, Minibatch Loss= 1.443315, Training Accuracy= 0.25781\n",
      "Iter 282.0, Minibatch Loss= 2.219774, Training Accuracy= 0.58594\n",
      "Iter 283.0, Minibatch Loss= 1.979854, Training Accuracy= 0.15625\n",
      "Iter 284.0, Minibatch Loss= 2.754555, Training Accuracy= 0.58594\n",
      "Iter 285.0, Minibatch Loss= 2.592351, Training Accuracy= 0.25781\n",
      "Iter 286.0, Minibatch Loss= 2.939283, Training Accuracy= 0.58594\n",
      "Iter 287.0, Minibatch Loss= 1.350287, Training Accuracy= 0.58594\n",
      "Iter 288.0, Minibatch Loss= 1.099306, Training Accuracy= 0.25781\n",
      "Iter 289.0, Minibatch Loss= 1.304053, Training Accuracy= 0.58594\n",
      "Iter 290.0, Minibatch Loss= 1.133851, Training Accuracy= 0.25781\n",
      "Iter 291.0, Minibatch Loss= 1.378494, Training Accuracy= 0.58594\n",
      "Iter 292.0, Minibatch Loss= 1.237559, Training Accuracy= 0.25781\n",
      "Iter 293.0, Minibatch Loss= 1.463523, Training Accuracy= 0.58594\n",
      "Iter 294.0, Minibatch Loss= 1.177491, Training Accuracy= 0.25781\n",
      "Iter 295.0, Minibatch Loss= 1.362540, Training Accuracy= 0.58594\n",
      "Iter 296.0, Minibatch Loss= 1.114941, Training Accuracy= 0.28906\n",
      "Iter 297.0, Minibatch Loss= 1.242419, Training Accuracy= 0.58594\n",
      "Iter 298.0, Minibatch Loss= 1.121835, Training Accuracy= 0.25781\n",
      "Iter 299.0, Minibatch Loss= 1.250119, Training Accuracy= 0.58594\n",
      "Iter 300.0, Minibatch Loss= 1.083688, Training Accuracy= 0.35938\n",
      "Iter 301.0, Minibatch Loss= 1.166201, Training Accuracy= 0.58594\n",
      "Iter 302.0, Minibatch Loss= 1.091055, Training Accuracy= 0.25781\n",
      "Iter 303.0, Minibatch Loss= 1.175267, Training Accuracy= 0.58594\n",
      "Iter 304.0, Minibatch Loss= 1.075424, Training Accuracy= 0.25781\n",
      "Iter 305.0, Minibatch Loss= 1.135696, Training Accuracy= 0.58594\n",
      "Iter 306.0, Minibatch Loss= 1.070019, Training Accuracy= 0.25781\n",
      "Iter 307.0, Minibatch Loss= 1.124806, Training Accuracy= 0.58594\n",
      "Iter 308.0, Minibatch Loss= 1.056095, Training Accuracy= 0.28906\n",
      "Iter 309.0, Minibatch Loss= 1.098087, Training Accuracy= 0.58594\n",
      "Iter 310.0, Minibatch Loss= 1.045972, Training Accuracy= 0.28906\n",
      "Iter 311.0, Minibatch Loss= 1.081772, Training Accuracy= 0.58594\n",
      "Iter 312.0, Minibatch Loss= 1.034866, Training Accuracy= 0.39062\n",
      "Iter 313.0, Minibatch Loss= 1.064062, Training Accuracy= 0.58594\n",
      "Iter 314.0, Minibatch Loss= 1.025256, Training Accuracy= 0.41406\n",
      "Iter 315.0, Minibatch Loss= 1.050078, Training Accuracy= 0.58594\n",
      "Iter 316.0, Minibatch Loss= 1.016450, Training Accuracy= 0.42188\n",
      "Iter 317.0, Minibatch Loss= 1.037689, Training Accuracy= 0.58594\n",
      "Iter 318.0, Minibatch Loss= 1.008588, Training Accuracy= 0.46875\n",
      "Iter 319.0, Minibatch Loss= 1.027090, Training Accuracy= 0.58594\n",
      "Iter 320.0, Minibatch Loss= 1.001483, Training Accuracy= 0.49219\n",
      "Iter 321.0, Minibatch Loss= 1.017791, Training Accuracy= 0.58594\n",
      "Iter 322.0, Minibatch Loss= 0.995010, Training Accuracy= 0.51562\n",
      "Iter 323.0, Minibatch Loss= 1.009539, Training Accuracy= 0.58594\n",
      "Iter 324.0, Minibatch Loss= 0.989040, Training Accuracy= 0.51562\n",
      "Iter 325.0, Minibatch Loss= 1.002101, Training Accuracy= 0.58594\n",
      "Iter 326.0, Minibatch Loss= 0.983464, Training Accuracy= 0.53906\n",
      "Iter 327.0, Minibatch Loss= 0.995291, Training Accuracy= 0.58594\n",
      "Iter 328.0, Minibatch Loss= 0.978181, Training Accuracy= 0.55469\n",
      "Iter 329.0, Minibatch Loss= 0.988950, Training Accuracy= 0.58594\n",
      "Iter 330.0, Minibatch Loss= 0.973093, Training Accuracy= 0.53906\n",
      "Iter 331.0, Minibatch Loss= 0.982932, Training Accuracy= 0.58594\n",
      "Iter 332.0, Minibatch Loss= 0.968104, Training Accuracy= 0.54688\n",
      "Iter 333.0, Minibatch Loss= 0.977101, Training Accuracy= 0.58594\n",
      "Iter 334.0, Minibatch Loss= 0.963118, Training Accuracy= 0.56250\n",
      "Iter 335.0, Minibatch Loss= 0.971323, Training Accuracy= 0.58594\n",
      "Iter 336.0, Minibatch Loss= 0.958030, Training Accuracy= 0.55469\n",
      "Iter 337.0, Minibatch Loss= 0.965465, Training Accuracy= 0.58594\n",
      "Iter 338.0, Minibatch Loss= 0.952729, Training Accuracy= 0.56250\n",
      "Iter 339.0, Minibatch Loss= 0.959394, Training Accuracy= 0.58594\n",
      "Iter 340.0, Minibatch Loss= 0.947100, Training Accuracy= 0.57031\n",
      "Iter 341.0, Minibatch Loss= 0.953015, Training Accuracy= 0.58594\n",
      "Iter 342.0, Minibatch Loss= 0.941089, Training Accuracy= 0.57812\n",
      "Iter 343.0, Minibatch Loss= 0.946459, Training Accuracy= 0.58594\n",
      "Iter 344.0, Minibatch Loss= 0.935060, Training Accuracy= 0.58594\n",
      "Iter 345.0, Minibatch Loss= 0.941306, Training Accuracy= 0.58594\n",
      "Iter 346.0, Minibatch Loss= 0.932563, Training Accuracy= 0.58594\n",
      "Iter 347.0, Minibatch Loss= 0.949987, Training Accuracy= 0.58594\n",
      "Iter 348.0, Minibatch Loss= 0.957699, Training Accuracy= 0.51562\n",
      "Iter 349.0, Minibatch Loss= 1.013515, Training Accuracy= 0.58594\n",
      "Iter 350.0, Minibatch Loss= 0.983197, Training Accuracy= 0.46094\n",
      "Iter 351.0, Minibatch Loss= 0.984602, Training Accuracy= 0.58594\n",
      "Iter 352.0, Minibatch Loss= 0.947535, Training Accuracy= 0.53906\n",
      "Iter 353.0, Minibatch Loss= 0.951020, Training Accuracy= 0.58594\n"
     ]
    },
    {
     "name": "stdout",
     "output_type": "stream",
     "text": [
      "Iter 354.0, Minibatch Loss= 0.930155, Training Accuracy= 0.57812\n",
      "Iter 355.0, Minibatch Loss= 0.935706, Training Accuracy= 0.58594\n",
      "Iter 356.0, Minibatch Loss= 0.923116, Training Accuracy= 0.57031\n",
      "Iter 357.0, Minibatch Loss= 0.942102, Training Accuracy= 0.58594\n",
      "Iter 358.0, Minibatch Loss= 0.941677, Training Accuracy= 0.52344\n",
      "Iter 359.0, Minibatch Loss= 0.969321, Training Accuracy= 0.58594\n",
      "Iter 360.0, Minibatch Loss= 0.943069, Training Accuracy= 0.54688\n",
      "Iter 361.0, Minibatch Loss= 0.931666, Training Accuracy= 0.58594\n",
      "Iter 362.0, Minibatch Loss= 0.907328, Training Accuracy= 0.57031\n",
      "Iter 363.0, Minibatch Loss= 0.911445, Training Accuracy= 0.58594\n",
      "Iter 364.0, Minibatch Loss= 0.900997, Training Accuracy= 0.57812\n",
      "Iter 365.0, Minibatch Loss= 0.918441, Training Accuracy= 0.58594\n",
      "Iter 366.0, Minibatch Loss= 0.917092, Training Accuracy= 0.53906\n",
      "Iter 367.0, Minibatch Loss= 0.961588, Training Accuracy= 0.58594\n",
      "Iter 368.0, Minibatch Loss= 0.949750, Training Accuracy= 0.56250\n",
      "Iter 369.0, Minibatch Loss= 0.909615, Training Accuracy= 0.58594\n",
      "Iter 370.0, Minibatch Loss= 0.883047, Training Accuracy= 0.60938\n",
      "Iter 371.0, Minibatch Loss= 0.886312, Training Accuracy= 0.58594\n",
      "Iter 372.0, Minibatch Loss= 0.881313, Training Accuracy= 0.58594\n",
      "Iter 373.0, Minibatch Loss= 0.909811, Training Accuracy= 0.58594\n",
      "Iter 374.0, Minibatch Loss= 0.910164, Training Accuracy= 0.59375\n",
      "Iter 375.0, Minibatch Loss= 1.003158, Training Accuracy= 0.53125\n",
      "Iter 376.0, Minibatch Loss= 0.992572, Training Accuracy= 0.42969\n",
      "Iter 377.0, Minibatch Loss= 0.990305, Training Accuracy= 0.53125\n",
      "Iter 378.0, Minibatch Loss= 0.994321, Training Accuracy= 0.37500\n",
      "Iter 379.0, Minibatch Loss= 0.989230, Training Accuracy= 0.53125\n",
      "Iter 380.0, Minibatch Loss= 0.991736, Training Accuracy= 0.39062\n",
      "Iter 381.0, Minibatch Loss= 0.987552, Training Accuracy= 0.53125\n",
      "Iter 382.0, Minibatch Loss= 0.993801, Training Accuracy= 0.37500\n",
      "Iter 383.0, Minibatch Loss= 0.977259, Training Accuracy= 0.53125\n",
      "Iter 384.0, Minibatch Loss= 0.955867, Training Accuracy= 0.43750\n",
      "Iter 385.0, Minibatch Loss= 0.967986, Training Accuracy= 0.53125\n",
      "Iter 386.0, Minibatch Loss= 0.970654, Training Accuracy= 0.37500\n",
      "Iter 387.0, Minibatch Loss= 0.955652, Training Accuracy= 0.53125\n",
      "Iter 388.0, Minibatch Loss= 0.929958, Training Accuracy= 0.51562\n",
      "Iter 389.0, Minibatch Loss= 0.978924, Training Accuracy= 0.52344\n",
      "Iter 390.0, Minibatch Loss= 0.972174, Training Accuracy= 0.42969\n",
      "Iter 391.0, Minibatch Loss= 1.077190, Training Accuracy= 0.52344\n",
      "Iter 392.0, Minibatch Loss= 0.962425, Training Accuracy= 0.48438\n",
      "Iter 393.0, Minibatch Loss= 0.954496, Training Accuracy= 0.54688\n",
      "Iter 394.0, Minibatch Loss= 0.944920, Training Accuracy= 0.51562\n",
      "Iter 395.0, Minibatch Loss= 0.931082, Training Accuracy= 0.53125\n",
      "Iter 396.0, Minibatch Loss= 0.917237, Training Accuracy= 0.50781\n",
      "Iter 397.0, Minibatch Loss= 0.917901, Training Accuracy= 0.55469\n",
      "Iter 398.0, Minibatch Loss= 0.955805, Training Accuracy= 0.42969\n",
      "Iter 399.0, Minibatch Loss= 0.995339, Training Accuracy= 0.53125\n",
      "Iter 400.0, Minibatch Loss= 1.076165, Training Accuracy= 0.42969\n",
      "Iter 401.0, Minibatch Loss= 0.991941, Training Accuracy= 0.53125\n",
      "Iter 402.0, Minibatch Loss= 0.918192, Training Accuracy= 0.55469\n",
      "Iter 403.0, Minibatch Loss= 0.899637, Training Accuracy= 0.54688\n",
      "Iter 404.0, Minibatch Loss= 0.899575, Training Accuracy= 0.53125\n",
      "Iter 405.0, Minibatch Loss= 0.980444, Training Accuracy= 0.53125\n",
      "Iter 406.0, Minibatch Loss= 0.974424, Training Accuracy= 0.50000\n",
      "Iter 407.0, Minibatch Loss= 0.999640, Training Accuracy= 0.53125\n",
      "Iter 408.0, Minibatch Loss= 0.988160, Training Accuracy= 0.50781\n",
      "Iter 409.0, Minibatch Loss= 0.937340, Training Accuracy= 0.53125\n",
      "Iter 410.0, Minibatch Loss= 0.931256, Training Accuracy= 0.52344\n",
      "Iter 411.0, Minibatch Loss= 0.919975, Training Accuracy= 0.54688\n",
      "Iter 412.0, Minibatch Loss= 0.992323, Training Accuracy= 0.45312\n",
      "Iter 413.0, Minibatch Loss= 0.877617, Training Accuracy= 0.54688\n",
      "Iter 414.0, Minibatch Loss= 0.881809, Training Accuracy= 0.53906\n",
      "Iter 415.0, Minibatch Loss= 0.931861, Training Accuracy= 0.54688\n",
      "Iter 416.0, Minibatch Loss= 0.849941, Training Accuracy= 0.55469\n",
      "Iter 417.0, Minibatch Loss= 0.856962, Training Accuracy= 0.55469\n",
      "Iter 418.0, Minibatch Loss= 1.380037, Training Accuracy= 0.35938\n",
      "Iter 419.0, Minibatch Loss= 1.115302, Training Accuracy= 0.54688\n",
      "Iter 420.0, Minibatch Loss= 1.001819, Training Accuracy= 0.54688\n",
      "Iter 421.0, Minibatch Loss= 0.984322, Training Accuracy= 0.54688\n",
      "Iter 422.0, Minibatch Loss= 0.976561, Training Accuracy= 0.54688\n",
      "Iter 423.0, Minibatch Loss= 0.971680, Training Accuracy= 0.54688\n",
      "Iter 424.0, Minibatch Loss= 0.967241, Training Accuracy= 0.54688\n",
      "Iter 425.0, Minibatch Loss= 0.962844, Training Accuracy= 0.54688\n",
      "Iter 426.0, Minibatch Loss= 0.958001, Training Accuracy= 0.54688\n",
      "Iter 427.0, Minibatch Loss= 0.952991, Training Accuracy= 0.54688\n",
      "Iter 428.0, Minibatch Loss= 0.948431, Training Accuracy= 0.54688\n",
      "Iter 429.0, Minibatch Loss= 0.947787, Training Accuracy= 0.54688\n",
      "Iter 430.0, Minibatch Loss= 0.942172, Training Accuracy= 0.55469\n",
      "Iter 431.0, Minibatch Loss= 0.935680, Training Accuracy= 0.55469\n",
      "Iter 432.0, Minibatch Loss= 0.937120, Training Accuracy= 0.54688\n",
      "Iter 433.0, Minibatch Loss= 0.926332, Training Accuracy= 0.55469\n",
      "Iter 434.0, Minibatch Loss= 0.938725, Training Accuracy= 0.55469\n",
      "Iter 435.0, Minibatch Loss= 0.924042, Training Accuracy= 0.55469\n",
      "Iter 436.0, Minibatch Loss= 0.916747, Training Accuracy= 0.57812\n",
      "Iter 437.0, Minibatch Loss= 0.911450, Training Accuracy= 0.55469\n",
      "Iter 438.0, Minibatch Loss= 0.903257, Training Accuracy= 0.53125\n",
      "Iter 439.0, Minibatch Loss= 0.898126, Training Accuracy= 0.54688\n",
      "Iter 440.0, Minibatch Loss= 0.910495, Training Accuracy= 0.50781\n",
      "Iter 441.0, Minibatch Loss= 0.921024, Training Accuracy= 0.54688\n",
      "Iter 442.0, Minibatch Loss= 0.935961, Training Accuracy= 0.47656\n",
      "Iter 443.0, Minibatch Loss= 0.942372, Training Accuracy= 0.54688\n",
      "Iter 444.0, Minibatch Loss= 1.129937, Training Accuracy= 0.28125\n",
      "Iter 445.0, Minibatch Loss= 1.196072, Training Accuracy= 0.52344\n",
      "Iter 446.0, Minibatch Loss= 1.032956, Training Accuracy= 0.38281\n",
      "Iter 447.0, Minibatch Loss= 1.122761, Training Accuracy= 0.54688\n",
      "Iter 448.0, Minibatch Loss= 0.976734, Training Accuracy= 0.40625\n",
      "Iter 449.0, Minibatch Loss= 0.997593, Training Accuracy= 0.54688\n",
      "Iter 450.0, Minibatch Loss= 0.955688, Training Accuracy= 0.43750\n",
      "Iter 451.0, Minibatch Loss= 0.936593, Training Accuracy= 0.53125\n",
      "Iter 452.0, Minibatch Loss= 0.901997, Training Accuracy= 0.53125\n",
      "Iter 453.0, Minibatch Loss= 0.930117, Training Accuracy= 0.55469\n",
      "Iter 454.0, Minibatch Loss= 1.042877, Training Accuracy= 0.36719\n",
      "Iter 455.0, Minibatch Loss= 1.173465, Training Accuracy= 0.50781\n",
      "Iter 456.0, Minibatch Loss= 0.949330, Training Accuracy= 0.55469\n",
      "Iter 457.0, Minibatch Loss= 0.894244, Training Accuracy= 0.55469\n",
      "Iter 458.0, Minibatch Loss= 0.854379, Training Accuracy= 0.57812\n",
      "Iter 459.0, Minibatch Loss= 0.923420, Training Accuracy= 0.53906\n",
      "Iter 460.0, Minibatch Loss= 0.963408, Training Accuracy= 0.50000\n",
      "Iter 461.0, Minibatch Loss= 0.939560, Training Accuracy= 0.53125\n",
      "Iter 462.0, Minibatch Loss= 0.901182, Training Accuracy= 0.53125\n",
      "Iter 463.0, Minibatch Loss= 0.879860, Training Accuracy= 0.53125\n",
      "Iter 464.0, Minibatch Loss= 0.958993, Training Accuracy= 0.49219\n",
      "Iter 465.0, Minibatch Loss= 1.132455, Training Accuracy= 0.52344\n",
      "Iter 466.0, Minibatch Loss= 0.947314, Training Accuracy= 0.55469\n",
      "Iter 467.0, Minibatch Loss= 0.905520, Training Accuracy= 0.53906\n",
      "Iter 468.0, Minibatch Loss= 0.877358, Training Accuracy= 0.50000\n",
      "Iter 469.0, Minibatch Loss= 0.855208, Training Accuracy= 0.55469\n",
      "Iter 470.0, Minibatch Loss= 0.836026, Training Accuracy= 0.51562\n",
      "Iter 471.0, Minibatch Loss= 0.823443, Training Accuracy= 0.54688\n",
      "Iter 472.0, Minibatch Loss= 0.873814, Training Accuracy= 0.54688\n",
      "Iter 473.0, Minibatch Loss= 1.142888, Training Accuracy= 0.54688\n",
      "Iter 474.0, Minibatch Loss= 1.122421, Training Accuracy= 0.44531\n",
      "Iter 475.0, Minibatch Loss= 0.967846, Training Accuracy= 0.54688\n",
      "Iter 476.0, Minibatch Loss= 0.935643, Training Accuracy= 0.54688\n",
      "Iter 477.0, Minibatch Loss= 0.906307, Training Accuracy= 0.55469\n",
      "Iter 478.0, Minibatch Loss= 0.871571, Training Accuracy= 0.53125\n",
      "Iter 479.0, Minibatch Loss= 0.825037, Training Accuracy= 0.55469\n"
     ]
    },
    {
     "name": "stdout",
     "output_type": "stream",
     "text": [
      "Iter 480.0, Minibatch Loss= 0.803023, Training Accuracy= 0.58594\n",
      "Iter 481.0, Minibatch Loss= 0.826462, Training Accuracy= 0.54688\n",
      "Iter 482.0, Minibatch Loss= 0.919301, Training Accuracy= 0.57031\n",
      "Iter 483.0, Minibatch Loss= 1.304534, Training Accuracy= 0.45312\n",
      "Iter 484.0, Minibatch Loss= 0.903109, Training Accuracy= 0.52344\n",
      "Iter 485.0, Minibatch Loss= 0.859716, Training Accuracy= 0.54688\n",
      "Iter 486.0, Minibatch Loss= 0.818197, Training Accuracy= 0.54688\n",
      "Iter 487.0, Minibatch Loss= 0.784455, Training Accuracy= 0.55469\n",
      "Iter 488.0, Minibatch Loss= 0.776278, Training Accuracy= 0.55469\n",
      "Iter 489.0, Minibatch Loss= 0.837015, Training Accuracy= 0.54688\n",
      "Iter 490.0, Minibatch Loss= 1.052018, Training Accuracy= 0.53125\n",
      "Iter 491.0, Minibatch Loss= 1.022600, Training Accuracy= 0.50781\n",
      "Iter 492.0, Minibatch Loss= 0.964819, Training Accuracy= 0.57031\n",
      "Iter 493.0, Minibatch Loss= 0.840342, Training Accuracy= 0.48438\n",
      "Iter 494.0, Minibatch Loss= 0.796339, Training Accuracy= 0.57031\n",
      "Iter 495.0, Minibatch Loss= 0.795316, Training Accuracy= 0.55469\n",
      "Iter 496.0, Minibatch Loss= 0.770867, Training Accuracy= 0.59375\n",
      "Iter 497.0, Minibatch Loss= 0.837507, Training Accuracy= 0.50000\n",
      "Iter 498.0, Minibatch Loss= 0.808091, Training Accuracy= 0.57031\n",
      "Iter 499.0, Minibatch Loss= 0.810237, Training Accuracy= 0.54688\n",
      "Iter 500.0, Minibatch Loss= 1.002590, Training Accuracy= 0.55469\n",
      "Iter 501.0, Minibatch Loss= 0.953435, Training Accuracy= 0.50781\n",
      "Iter 502.0, Minibatch Loss= 0.952966, Training Accuracy= 0.54688\n",
      "Iter 503.0, Minibatch Loss= 0.918767, Training Accuracy= 0.55469\n",
      "Iter 504.0, Minibatch Loss= 0.909216, Training Accuracy= 0.55469\n",
      "Iter 505.0, Minibatch Loss= 0.900085, Training Accuracy= 0.57031\n",
      "Iter 506.0, Minibatch Loss= 0.889193, Training Accuracy= 0.56250\n",
      "Iter 507.0, Minibatch Loss= 0.881512, Training Accuracy= 0.58594\n",
      "Iter 508.0, Minibatch Loss= 0.889993, Training Accuracy= 0.56250\n",
      "Iter 509.0, Minibatch Loss= 0.910639, Training Accuracy= 0.59375\n",
      "Iter 510.0, Minibatch Loss= 0.876690, Training Accuracy= 0.55469\n",
      "Iter 511.0, Minibatch Loss= 0.856473, Training Accuracy= 0.58594\n",
      "Iter 512.0, Minibatch Loss= 0.878997, Training Accuracy= 0.56250\n",
      "Iter 513.0, Minibatch Loss= 0.874584, Training Accuracy= 0.56250\n",
      "Iter 514.0, Minibatch Loss= 0.837334, Training Accuracy= 0.56250\n",
      "Iter 515.0, Minibatch Loss= 0.831408, Training Accuracy= 0.57812\n",
      "Iter 516.0, Minibatch Loss= 0.871869, Training Accuracy= 0.57031\n",
      "Iter 517.0, Minibatch Loss= 1.114255, Training Accuracy= 0.50781\n",
      "Iter 518.0, Minibatch Loss= 0.992375, Training Accuracy= 0.55469\n",
      "Iter 519.0, Minibatch Loss= 0.960191, Training Accuracy= 0.50000\n",
      "Iter 520.0, Minibatch Loss= 0.942348, Training Accuracy= 0.54688\n",
      "Iter 521.0, Minibatch Loss= 0.926567, Training Accuracy= 0.56250\n",
      "Iter 522.0, Minibatch Loss= 0.918085, Training Accuracy= 0.54688\n",
      "Iter 523.0, Minibatch Loss= 0.906939, Training Accuracy= 0.60938\n",
      "Iter 524.0, Minibatch Loss= 0.896429, Training Accuracy= 0.54688\n",
      "Iter 525.0, Minibatch Loss= 0.886218, Training Accuracy= 0.60156\n",
      "Iter 526.0, Minibatch Loss= 0.896164, Training Accuracy= 0.55469\n",
      "Iter 527.0, Minibatch Loss= 0.872415, Training Accuracy= 0.55469\n",
      "Iter 528.0, Minibatch Loss= 0.880745, Training Accuracy= 0.55469\n",
      "Iter 529.0, Minibatch Loss= 1.003186, Training Accuracy= 0.48438\n",
      "Iter 530.0, Minibatch Loss= 0.982922, Training Accuracy= 0.55469\n",
      "Iter 531.0, Minibatch Loss= 0.867505, Training Accuracy= 0.56250\n",
      "Iter 532.0, Minibatch Loss= 0.831919, Training Accuracy= 0.57031\n",
      "Iter 533.0, Minibatch Loss= 0.814300, Training Accuracy= 0.59375\n",
      "Iter 534.0, Minibatch Loss= 0.856032, Training Accuracy= 0.54688\n",
      "Iter 535.0, Minibatch Loss= 0.866987, Training Accuracy= 0.53906\n",
      "Iter 536.0, Minibatch Loss= 0.973245, Training Accuracy= 0.56250\n",
      "Iter 537.0, Minibatch Loss= 0.899961, Training Accuracy= 0.56250\n",
      "Iter 538.0, Minibatch Loss= 0.845920, Training Accuracy= 0.56250\n",
      "Iter 539.0, Minibatch Loss= 0.815347, Training Accuracy= 0.59375\n",
      "Iter 540.0, Minibatch Loss= 0.891391, Training Accuracy= 0.56250\n",
      "Iter 541.0, Minibatch Loss= 0.850289, Training Accuracy= 0.57812\n",
      "Iter 542.0, Minibatch Loss= 0.920927, Training Accuracy= 0.54688\n",
      "Iter 543.0, Minibatch Loss= 0.814819, Training Accuracy= 0.57812\n",
      "Iter 544.0, Minibatch Loss= 0.868687, Training Accuracy= 0.55469\n",
      "Iter 545.0, Minibatch Loss= 0.859849, Training Accuracy= 0.52344\n",
      "Iter 546.0, Minibatch Loss= 0.878415, Training Accuracy= 0.57031\n",
      "Iter 547.0, Minibatch Loss= 0.898484, Training Accuracy= 0.52344\n",
      "Iter 548.0, Minibatch Loss= 1.066671, Training Accuracy= 0.54688\n",
      "Iter 549.0, Minibatch Loss= 0.963228, Training Accuracy= 0.46875\n",
      "Iter 550.0, Minibatch Loss= 0.928215, Training Accuracy= 0.54688\n",
      "Iter 551.0, Minibatch Loss= 0.887460, Training Accuracy= 0.52344\n",
      "Iter 552.0, Minibatch Loss= 0.854244, Training Accuracy= 0.55469\n",
      "Iter 553.0, Minibatch Loss= 0.806752, Training Accuracy= 0.54688\n",
      "Iter 554.0, Minibatch Loss= 0.895949, Training Accuracy= 0.56250\n",
      "Iter 555.0, Minibatch Loss= 1.077135, Training Accuracy= 0.36719\n",
      "Iter 556.0, Minibatch Loss= 1.036232, Training Accuracy= 0.54688\n",
      "Iter 557.0, Minibatch Loss= 0.894227, Training Accuracy= 0.50000\n",
      "Iter 558.0, Minibatch Loss= 0.850988, Training Accuracy= 0.57031\n",
      "Iter 559.0, Minibatch Loss= 0.799635, Training Accuracy= 0.57031\n",
      "Iter 560.0, Minibatch Loss= 0.883995, Training Accuracy= 0.56250\n",
      "Iter 561.0, Minibatch Loss= 1.282161, Training Accuracy= 0.24219\n",
      "Iter 562.0, Minibatch Loss= 1.168883, Training Accuracy= 0.54688\n",
      "Iter 563.0, Minibatch Loss= 0.953081, Training Accuracy= 0.45312\n",
      "Iter 564.0, Minibatch Loss= 0.924575, Training Accuracy= 0.54688\n",
      "Iter 565.0, Minibatch Loss= 0.882353, Training Accuracy= 0.48438\n",
      "Iter 566.0, Minibatch Loss= 0.891424, Training Accuracy= 0.54688\n",
      "Iter 567.0, Minibatch Loss= 0.873040, Training Accuracy= 0.46094\n",
      "Iter 568.0, Minibatch Loss= 0.925546, Training Accuracy= 0.54688\n",
      "Iter 569.0, Minibatch Loss= 0.792288, Training Accuracy= 0.57031\n",
      "Iter 570.0, Minibatch Loss= 0.777743, Training Accuracy= 0.59375\n",
      "Iter 571.0, Minibatch Loss= 0.782757, Training Accuracy= 0.56250\n",
      "Iter 572.0, Minibatch Loss= 0.752206, Training Accuracy= 0.61719\n",
      "Iter 573.0, Minibatch Loss= 0.775379, Training Accuracy= 0.56250\n",
      "Iter 574.0, Minibatch Loss= 0.788350, Training Accuracy= 0.60938\n",
      "Iter 575.0, Minibatch Loss= 0.798842, Training Accuracy= 0.52344\n",
      "Iter 576.0, Minibatch Loss= 1.113206, Training Accuracy= 0.50000\n",
      "Iter 577.0, Minibatch Loss= 0.908708, Training Accuracy= 0.50781\n",
      "Iter 578.0, Minibatch Loss= 0.909154, Training Accuracy= 0.54688\n",
      "Iter 579.0, Minibatch Loss= 0.872652, Training Accuracy= 0.46875\n",
      "Iter 580.0, Minibatch Loss= 0.835831, Training Accuracy= 0.57031\n",
      "Iter 581.0, Minibatch Loss= 0.847009, Training Accuracy= 0.56250\n",
      "Iter 582.0, Minibatch Loss= 0.831838, Training Accuracy= 0.58594\n",
      "Iter 583.0, Minibatch Loss= 1.047837, Training Accuracy= 0.48438\n",
      "Iter 584.0, Minibatch Loss= 0.921017, Training Accuracy= 0.55469\n",
      "Iter 585.0, Minibatch Loss= 0.841730, Training Accuracy= 0.60156\n",
      "Iter 586.0, Minibatch Loss= 0.790759, Training Accuracy= 0.59375\n",
      "Iter 587.0, Minibatch Loss= 0.763907, Training Accuracy= 0.64844\n",
      "Iter 588.0, Minibatch Loss= 0.750847, Training Accuracy= 0.60156\n",
      "Iter 589.0, Minibatch Loss= 0.743349, Training Accuracy= 0.69531\n",
      "Iter 590.0, Minibatch Loss= 0.719666, Training Accuracy= 0.57031\n",
      "Iter 591.0, Minibatch Loss= 0.926666, Training Accuracy= 0.49219\n",
      "Iter 592.0, Minibatch Loss= 0.823054, Training Accuracy= 0.57031\n",
      "Iter 593.0, Minibatch Loss= 0.805107, Training Accuracy= 0.60156\n",
      "Iter 594.0, Minibatch Loss= 0.715093, Training Accuracy= 0.64062\n",
      "Iter 595.0, Minibatch Loss= 0.679109, Training Accuracy= 0.62500\n",
      "Iter 596.0, Minibatch Loss= 0.696823, Training Accuracy= 0.66406\n",
      "Iter 597.0, Minibatch Loss= 0.860264, Training Accuracy= 0.53906\n",
      "Iter 598.0, Minibatch Loss= 0.706007, Training Accuracy= 0.62500\n",
      "Iter 599.0, Minibatch Loss= 0.752912, Training Accuracy= 0.59375\n",
      "Iter 600.0, Minibatch Loss= 0.830050, Training Accuracy= 0.53125\n",
      "Iter 601.0, Minibatch Loss= 0.992710, Training Accuracy= 0.51562\n",
      "Iter 602.0, Minibatch Loss= 0.974772, Training Accuracy= 0.44531\n",
      "Iter 603.0, Minibatch Loss= 1.161437, Training Accuracy= 0.55469\n",
      "Iter 604.0, Minibatch Loss= 1.010033, Training Accuracy= 0.49219\n",
      "Iter 605.0, Minibatch Loss= 1.019537, Training Accuracy= 0.54688\n"
     ]
    },
    {
     "name": "stdout",
     "output_type": "stream",
     "text": [
      "Iter 606.0, Minibatch Loss= 0.997203, Training Accuracy= 0.45312\n",
      "Iter 607.0, Minibatch Loss= 1.030998, Training Accuracy= 0.54688\n",
      "Iter 608.0, Minibatch Loss= 0.980409, Training Accuracy= 0.43750\n",
      "Iter 609.0, Minibatch Loss= 0.993240, Training Accuracy= 0.54688\n",
      "Iter 610.0, Minibatch Loss= 0.930692, Training Accuracy= 0.43750\n",
      "Iter 611.0, Minibatch Loss= 0.945407, Training Accuracy= 0.55469\n",
      "Iter 612.0, Minibatch Loss= 0.888636, Training Accuracy= 0.53906\n",
      "Iter 613.0, Minibatch Loss= 0.941746, Training Accuracy= 0.55469\n",
      "Iter 614.0, Minibatch Loss= 0.818176, Training Accuracy= 0.55469\n",
      "Iter 615.0, Minibatch Loss= 0.861705, Training Accuracy= 0.56250\n",
      "Iter 616.0, Minibatch Loss= 0.725093, Training Accuracy= 0.62500\n",
      "Iter 617.0, Minibatch Loss= 0.719015, Training Accuracy= 0.56250\n",
      "Iter 618.0, Minibatch Loss= 0.725397, Training Accuracy= 0.58594\n",
      "Iter 619.0, Minibatch Loss= 0.719792, Training Accuracy= 0.57031\n",
      "Iter 620.0, Minibatch Loss= 0.774898, Training Accuracy= 0.59375\n",
      "Iter 621.0, Minibatch Loss= 0.777625, Training Accuracy= 0.63281\n",
      "Iter 622.0, Minibatch Loss= 0.809032, Training Accuracy= 0.54688\n",
      "Iter 623.0, Minibatch Loss= 0.990596, Training Accuracy= 0.50000\n",
      "Iter 624.0, Minibatch Loss= 0.817433, Training Accuracy= 0.60938\n",
      "Iter 625.0, Minibatch Loss= 1.036505, Training Accuracy= 0.59375\n",
      "Iter 626.0, Minibatch Loss= 0.934746, Training Accuracy= 0.59375\n",
      "Iter 627.0, Minibatch Loss= 0.902685, Training Accuracy= 0.58594\n",
      "Iter 628.0, Minibatch Loss= 0.879521, Training Accuracy= 0.60156\n",
      "Iter 629.0, Minibatch Loss= 0.859808, Training Accuracy= 0.60938\n",
      "Iter 630.0, Minibatch Loss= 0.872789, Training Accuracy= 0.60156\n",
      "Iter 631.0, Minibatch Loss= 0.891195, Training Accuracy= 0.58594\n",
      "Iter 632.0, Minibatch Loss= 0.870007, Training Accuracy= 0.60156\n",
      "Iter 633.0, Minibatch Loss= 0.886948, Training Accuracy= 0.48438\n",
      "Iter 634.0, Minibatch Loss= 0.899254, Training Accuracy= 0.60938\n",
      "Iter 635.0, Minibatch Loss= 0.928650, Training Accuracy= 0.42969\n",
      "Iter 636.0, Minibatch Loss= 0.985210, Training Accuracy= 0.59375\n",
      "Iter 637.0, Minibatch Loss= 0.999553, Training Accuracy= 0.34375\n",
      "Iter 638.0, Minibatch Loss= 1.013091, Training Accuracy= 0.60156\n",
      "Iter 639.0, Minibatch Loss= 0.934471, Training Accuracy= 0.43750\n",
      "Iter 640.0, Minibatch Loss= 0.968804, Training Accuracy= 0.59375\n",
      "Iter 641.0, Minibatch Loss= 0.903877, Training Accuracy= 0.44531\n",
      "Iter 642.0, Minibatch Loss= 0.923272, Training Accuracy= 0.61719\n",
      "Iter 643.0, Minibatch Loss= 0.923208, Training Accuracy= 0.44531\n",
      "Iter 644.0, Minibatch Loss= 0.951643, Training Accuracy= 0.60156\n",
      "Iter 645.0, Minibatch Loss= 0.881428, Training Accuracy= 0.49219\n",
      "Iter 646.0, Minibatch Loss= 0.865893, Training Accuracy= 0.61719\n",
      "Iter 647.0, Minibatch Loss= 0.834017, Training Accuracy= 0.63281\n",
      "Iter 648.0, Minibatch Loss= 0.869552, Training Accuracy= 0.61719\n",
      "Iter 649.0, Minibatch Loss= 0.899599, Training Accuracy= 0.57812\n",
      "Iter 650.0, Minibatch Loss= 0.999259, Training Accuracy= 0.61719\n",
      "Iter 651.0, Minibatch Loss= 0.944049, Training Accuracy= 0.57812\n",
      "Iter 652.0, Minibatch Loss= 0.924880, Training Accuracy= 0.60938\n",
      "Iter 653.0, Minibatch Loss= 0.920781, Training Accuracy= 0.55469\n",
      "Iter 654.0, Minibatch Loss= 0.915828, Training Accuracy= 0.60156\n",
      "Iter 655.0, Minibatch Loss= 0.892056, Training Accuracy= 0.52344\n",
      "Iter 656.0, Minibatch Loss= 0.883213, Training Accuracy= 0.62500\n",
      "Iter 657.0, Minibatch Loss= 0.862034, Training Accuracy= 0.53906\n",
      "Iter 658.0, Minibatch Loss= 0.863029, Training Accuracy= 0.61719\n",
      "Iter 659.0, Minibatch Loss= 0.837626, Training Accuracy= 0.55469\n",
      "Iter 660.0, Minibatch Loss= 0.828757, Training Accuracy= 0.62500\n",
      "Iter 661.0, Minibatch Loss= 0.810673, Training Accuracy= 0.54688\n",
      "Iter 662.0, Minibatch Loss= 0.828579, Training Accuracy= 0.61719\n",
      "Iter 663.0, Minibatch Loss= 0.812333, Training Accuracy= 0.60156\n",
      "Iter 664.0, Minibatch Loss= 0.806651, Training Accuracy= 0.62500\n",
      "Iter 665.0, Minibatch Loss= 0.790357, Training Accuracy= 0.60156\n",
      "Iter 666.0, Minibatch Loss= 0.767597, Training Accuracy= 0.62500\n",
      "Iter 667.0, Minibatch Loss= 0.752677, Training Accuracy= 0.58594\n",
      "Iter 668.0, Minibatch Loss= 0.943569, Training Accuracy= 0.61719\n",
      "Iter 669.0, Minibatch Loss= 0.804818, Training Accuracy= 0.62500\n",
      "Iter 670.0, Minibatch Loss= 0.794116, Training Accuracy= 0.63281\n",
      "Iter 671.0, Minibatch Loss= 0.803734, Training Accuracy= 0.62500\n",
      "Iter 672.0, Minibatch Loss= 0.830039, Training Accuracy= 0.60156\n",
      "Iter 673.0, Minibatch Loss= 0.823417, Training Accuracy= 0.62500\n",
      "Iter 674.0, Minibatch Loss= 0.763291, Training Accuracy= 0.60938\n",
      "Iter 675.0, Minibatch Loss= 0.747278, Training Accuracy= 0.63281\n",
      "Iter 676.0, Minibatch Loss= 0.742657, Training Accuracy= 0.56250\n",
      "Iter 677.0, Minibatch Loss= 0.804844, Training Accuracy= 0.63281\n"
     ]
    }
   ],
   "source": [
    "# Initialize variables\n",
    "init = tf.global_variables_initializer()\n",
    "\n",
    "from tqdm import tqdm\n",
    "import time\n",
    "start = time.time()\n",
    "# Launch the Tensorflow session\n",
    "sess = tf.Session()\n",
    "sess.run(init)\n",
    "\n",
    "# training_iterations_count: The number of data pieces to train on in total\n",
    "# batch_size: The number of data pieces per batch\n",
    "training_iterations = range(0,training_iterations_count,batch_size)\n",
    "print(training_iterations)\n",
    "training_iterations = tqdm(training_iterations)\n",
    "for j in range(10):\n",
    "    for i in training_iterations:\n",
    "        if i % 1000 == 0:\n",
    "        # Select indices for a random data subset\n",
    "            batch = np.random.randint(data_feature_list[0].shape[0], size=batch_size)\n",
    "\n",
    "        # Use the selected subset indices to initialize the graph's \n",
    "        #   placeholder values\n",
    "        hyps, evis, ys = (data_feature_list[0][batch,:],\n",
    "                          data_feature_list[1][batch,:],\n",
    "                          correct_scores[batch])\n",
    "\n",
    "        # Run the optimization with these initialized values\n",
    "        sess.run([opt_op], feed_dict={hyp: hyps, evi: evis, y: ys})\n",
    "        # display_step: how often the accuracy and loss should \n",
    "        #   be tested and displayed.\n",
    "        if (i/batch_size) % display_step == 0:\n",
    "            # Calculate batch accuracy\n",
    "            acc = sess.run(accuracy, feed_dict={hyp: hyps, evi: evis, y: ys})\n",
    "            # Calculate batch loss\n",
    "            tmp_loss = sess.run(loss, feed_dict={hyp: hyps, evi: evis, y: ys})\n",
    "            # Display results\n",
    "            print(\"Iter \" + str(i/batch_size) + \", Minibatch Loss= \" + \\\n",
    "                  \"{:.6f}\".format(tmp_loss) + \", Training Accuracy= \" + \\\n",
    "                  \"{:.5f}\".format(acc))\n",
    "stop = time.time()\n",
    "mins = int((stop-start)/60.0)\n",
    "print(\"Training took %s:%s\" % (str(mins), str(stop - start - mins*60)))"
   ]
  },
  {
   "cell_type": "markdown",
   "metadata": {
    "heading_collapsed": true
   },
   "source": [
    "### Developing"
   ]
  },
  {
   "cell_type": "code",
   "execution_count": 188,
   "metadata": {
    "hidden": true
   },
   "outputs": [],
   "source": [
    "# import numpy as np\n",
    "# accs = [] # 128\n",
    "# batches = [128, 64, 32, 1, 256]\n",
    "# for batch in batches:\n",
    "#     batch_size = batch\n",
    "#     print(\"dev batch %s\" % str(batch))\n",
    "#     accs.append(test(\"data/dev.txt\"))\n",
    "\n",
    "# print(accs)\n",
    "# print(\"Best batch size %s\" % str(batches[np.argmax(accs)]))\n"
   ]
  },
  {
   "cell_type": "markdown",
   "metadata": {},
   "source": [
    "### Testing"
   ]
  },
  {
   "cell_type": "code",
   "execution_count": null,
   "metadata": {},
   "outputs": [],
   "source": [
    "def test(file_test=\"data/test_labeled.txt\"):\n",
    "    data_feature_list, correct_values, correct_scores = split_data_into_scores(file_test)\n",
    "\n",
    "    #hyps, evis, ys \n",
    "    data = (data_feature_list[0],\n",
    "                      data_feature_list[1],\n",
    "                      correct_scores)\n",
    "    # predictions = []\n",
    "    correct_predictions = 0\n",
    "    total_predictions = 0\n",
    "    for i, f1 in enumerate(data_feature_list[0]):\n",
    "        hyps, evis, ys = data_feature_list[0][i], data_feature_list[1][i], correct_scores[i]\n",
    "        prediction = sess.run(classification_scores, feed_dict={hyp: ([hyps] * N), evi: ([evis] * N), y: ([ys] * N)})\n",
    "    #     predictions.append(prediction)\n",
    "        total_predictions += 1\n",
    "        if np.argmax(prediction[0])==np.argmax(ys):\n",
    "            correct_predictions += 1\n",
    "    #     if total_predictions % 500 == 0:\n",
    "    #         print(total_predictions)\n",
    "    #     print([\"Positive\", \"Neutral\", \"Negative\"][np.argmax(prediction[0])]+\n",
    "    #       \" / \" + [\"Positive\", \"Neutral\", \"Negative\"][np.argmax(ys[i])])\n",
    "    print(total_predictions)\n",
    "\n",
    "    # acc = sess.run(accuracy)#, feed_dict={'label': correct_scores})\n",
    "    acc = correct_predictions*100/total_predictions\n",
    "    print(\"Acc: %s\" % str(acc))    \n",
    "# print(\"Acc: %s\" % str(acc))\n",
    "\n",
    "import time\n",
    "start = time.time()\n",
    "test()\n",
    "stop = time.time()\n",
    "mins = int((stop-start)/60.0)\n",
    "print(\"Training took %s:%s\" % (str(mins), str(stop - start - mins*60)))"
   ]
  },
  {
   "cell_type": "code",
   "execution_count": 190,
   "metadata": {},
   "outputs": [],
   "source": [
    "sess.close()\n",
    "#56.52"
   ]
  }
 ],
 "metadata": {
  "kernelspec": {
   "display_name": "Python 3",
   "language": "python",
   "name": "python3"
  },
  "language_info": {
   "codemirror_mode": {
    "name": "ipython",
    "version": 3
   },
   "file_extension": ".py",
   "mimetype": "text/x-python",
   "name": "python",
   "nbconvert_exporter": "python",
   "pygments_lexer": "ipython3",
   "version": "3.6.3"
  },
  "notify_time": "0",
  "widgets": {
   "application/vnd.jupyter.widget-state+json": {
    "state": {},
    "version_major": 2,
    "version_minor": 0
   }
  }
 },
 "nbformat": 4,
 "nbformat_minor": 2
}
