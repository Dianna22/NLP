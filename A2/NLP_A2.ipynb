{
 "cells": [
  {
   "cell_type": "markdown",
   "metadata": {},
   "source": [
    "# Textual entailment"
   ]
  },
  {
   "cell_type": "markdown",
   "metadata": {
    "heading_collapsed": true
   },
   "source": [
    "### Imports"
   ]
  },
  {
   "cell_type": "code",
   "execution_count": 1,
   "metadata": {
    "hidden": true
   },
   "outputs": [],
   "source": [
    "from tqdm import tqdm\n",
    "import tensorflow as tf\n",
    "import numpy as np\n",
    "import sys\n",
    "display_step = 10"
   ]
  },
  {
   "cell_type": "markdown",
   "metadata": {
    "heading_collapsed": true
   },
   "source": [
    "### Embeddings"
   ]
  },
  {
   "cell_type": "markdown",
   "metadata": {
    "hidden": true
   },
   "source": [
    "Download Glove word embeddings"
   ]
  },
  {
   "cell_type": "code",
   "execution_count": 3,
   "metadata": {
    "hidden": true
   },
   "outputs": [],
   "source": [
    "glove_zip_file = \"data/glove.6B.zip\"\n",
    "glove_vectors_file = \"data/glove.6B.50d.txt\"\n",
    "import zipfile, urllib.request, shutil, os\n",
    "    \n",
    "#large file - 862 MB\n",
    "if (not os.path.isfile(glove_zip_file) and\n",
    "    not os.path.isfile(glove_vectors_file)):\n",
    "    with urllib.request.urlopen(\"http://nlp.stanford.edu/data/glove.6B.zip\") as response, open(glove_zip_file, 'wb') as out_file:\n",
    "        shutil.copyfileobj(response, out_file)"
   ]
  },
  {
   "cell_type": "markdown",
   "metadata": {
    "hidden": true
   },
   "source": [
    "Unzip word embeddings"
   ]
  },
  {
   "cell_type": "code",
   "execution_count": 4,
   "metadata": {
    "collapsed": true,
    "hidden": true
   },
   "outputs": [],
   "source": [
    "import zipfile\n",
    "def unzip_single_file(zip_file_name, output_file_name):\n",
    "    \"\"\"\n",
    "        If the outFile is already created, don't recreate\n",
    "        If the outFile does not exist, create it from the zipFile\n",
    "    \"\"\"\n",
    "    if not os.path.isfile(output_file_name):\n",
    "        with open(output_file_name, 'wb') as out_file:\n",
    "            with zipfile.ZipFile(zip_file_name) as zipped:\n",
    "                for info in zipped.infolist():\n",
    "                    if output_file_name in info.filename:\n",
    "                        with zipped.open(info) as requested_file:\n",
    "                            out_file.write(requested_file.read())\n",
    "                            return\n",
    "\n",
    "unzip_single_file(glove_zip_file, glove_vectors_file)"
   ]
  },
  {
   "cell_type": "code",
   "execution_count": 4,
   "metadata": {
    "hidden": true
   },
   "outputs": [],
   "source": [
    "glove_wordmap = {}\n",
    "with open(glove_vectors_file, \"r\", encoding=\"utf8\") as glove:\n",
    "    for line in glove:\n",
    "        name, vector = tuple(line.split(\" \", 1))\n",
    "        glove_wordmap[name] = np.fromstring(vector, sep=\" \")"
   ]
  },
  {
   "cell_type": "markdown",
   "metadata": {},
   "source": [
    "## Model"
   ]
  },
  {
   "cell_type": "markdown",
   "metadata": {
    "heading_collapsed": true
   },
   "source": [
    "### Embed sentences - sentence2sequence"
   ]
  },
  {
   "cell_type": "code",
   "execution_count": 5,
   "metadata": {
    "hidden": true
   },
   "outputs": [],
   "source": [
    "def sentence2sequence(sentence):\n",
    "    \"\"\"\n",
    "    - Turns an input sentence into an (n,d) matrix, \n",
    "        where n is the number of tokens in the sentence\n",
    "        and d is the number of dimensions each word vector has.\n",
    "    \n",
    "      Tensorflow doesn't need to be used here, as simply\n",
    "      turning the sentence into a sequence based off our \n",
    "      mapping does not need the computational power that\n",
    "      Tensorflow provides. Normal Python suffices for this task.\n",
    "    \"\"\"\n",
    "    tokens = sentence.lower().split(\" \")\n",
    "    rows = []\n",
    "    words = []\n",
    "    #Greedy search for tokens\n",
    "    for token in tokens:\n",
    "        i = len(token)\n",
    "        while len(token) > 0 and i > 0:\n",
    "            word = token[:i]\n",
    "            if word in glove_wordmap:\n",
    "                rows.append(glove_wordmap[word])\n",
    "                words.append(word)\n",
    "                token = token[i:]\n",
    "                i = len(token)\n",
    "            else:\n",
    "                i = i-1\n",
    "    return rows, words"
   ]
  },
  {
   "cell_type": "code",
   "execution_count": 7,
   "metadata": {
    "hidden": true
   },
   "outputs": [],
   "source": [
    "display_step = 10\n",
    "# one hot encoding\n",
    "def score_setup(row):\n",
    "    convert_dict = {\n",
    "      'ENTAILMENT': 0,\n",
    "      'NEUTRAL': 1,\n",
    "      'CONTRADICTION': 2\n",
    "    }\n",
    "    score = np.zeros((3,))\n",
    "    tag = row[\"entailment_judgment\"]\n",
    "    score[convert_dict[tag]] += 1\n",
    "    return score\n",
    "\n",
    "def fit_to_size(matrix, shape):\n",
    "    res = np.zeros(shape)\n",
    "    slices = [slice(0,min(dim,shape[e])) for e, dim in enumerate(matrix.shape)]\n",
    "    res[slices] = matrix[slices]\n",
    "    return res"
   ]
  },
  {
   "cell_type": "markdown",
   "metadata": {
    "heading_collapsed": true
   },
   "source": [
    "### Constants"
   ]
  },
  {
   "cell_type": "code",
   "execution_count": 10,
   "metadata": {
    "hidden": true
   },
   "outputs": [],
   "source": [
    "#Constants setup\n",
    "max_hypothesis_length, max_evidence_length = 30, 30\n",
    "batch_size, vector_size, hidden_size = 128, 50, 64\n",
    "\n",
    "training_iterations_count = 100000\n",
    "\n",
    "lstm_size = hidden_size\n",
    "\n",
    "weight_decay = 0.0005\n",
    "\n",
    "learning_rate = 1\n",
    "\n",
    "input_p, output_p = 0.6, 0.3"
   ]
  },
  {
   "cell_type": "markdown",
   "metadata": {},
   "source": [
    "### [Training data](http://www.site.uottawa.ca/~diana/csi5386/A2_2019/SICK_train.txt)"
   ]
  },
  {
   "cell_type": "code",
   "execution_count": 31,
   "metadata": {},
   "outputs": [
    {
     "name": "stderr",
     "output_type": "stream",
     "text": [
      "f:\\python 36 64\\lib\\site-packages\\ipykernel_launcher.py:17: FutureWarning: Using a non-tuple sequence for multidimensional indexing is deprecated; use `arr[tuple(seq)]` instead of `arr[seq]`. In the future this will be interpreted as an array index, `arr[np.array(seq)]`, which will result either in an error or a different result.\n"
     ]
    }
   ],
   "source": [
    "import numpy as np\n",
    "\n",
    "def split_data_into_scores(file_name=\"data/training.txt\"):\n",
    "    import csv\n",
    "    with open(file_name,\"r\") as data:\n",
    "        train = csv.DictReader(data , delimiter='\\t')\n",
    "        evi_sentences = []\n",
    "        hyp_sentences = []\n",
    "        labels = []\n",
    "        scores = []\n",
    "        count = 1\n",
    "        for row in train:\n",
    "            hyp_sentences.append(np.vstack(\n",
    "                    sentence2sequence(row[\"sentence_A\"].lower())[0]))\n",
    "            evi_sentences.append(np.vstack(\n",
    "                    sentence2sequence(row[\"sentence_B\"].lower())[0]))\n",
    "            labels.append(row[\"entailment_judgment\"])\n",
    "            scores.append(score_setup(row))\n",
    "        \n",
    "        hyp_sentences = np.stack([fit_to_size(x, (max_hypothesis_length, vector_size))\n",
    "                          for x in hyp_sentences])\n",
    "        evi_sentences = np.stack([fit_to_size(x, (max_evidence_length, vector_size))\n",
    "                          for x in evi_sentences])\n",
    "                                 \n",
    "        return (hyp_sentences, evi_sentences), labels, np.array(scores)\n",
    "data_feature_list, correct_values, correct_scores = split_data_into_scores()\n",
    "\n",
    "l_h, l_e = max_hypothesis_length, max_evidence_length\n",
    "N, D, H = batch_size, vector_size, hidden_size\n",
    "l_seq = l_h + l_e"
   ]
  },
  {
   "cell_type": "markdown",
   "metadata": {
    "heading_collapsed": true
   },
   "source": [
    "### Cell used for development"
   ]
  },
  {
   "cell_type": "code",
   "execution_count": 86,
   "metadata": {
    "collapsed": true,
    "hidden": true
   },
   "outputs": [],
   "source": [
    "def create_model():\n",
    "    tf.reset_default_graph() \n",
    "    data_feature_list, correct_values, correct_scores = split_data_into_scores()\n",
    "\n",
    "    l_h, l_e = max_hypothesis_length, max_evidence_length\n",
    "    N, D, H = batch_size, vector_size, hidden_size\n",
    "    l_seq = l_h + l_e\n",
    "    lstm = tf.contrib.rnn.BasicLSTMCell(lstm_size)\n",
    "    lstm_drop =  tf.contrib.rnn.DropoutWrapper(lstm, input_p, output_p)\n",
    "    hyp = tf.placeholder(tf.float32, [N, l_h, D], 'hypothesis')\n",
    "    evi = tf.placeholder(tf.float32, [N, l_e, D], 'evidence')\n",
    "    y = tf.placeholder(tf.float32, [N, 3], 'label')\n",
    "    lstm_back = tf.contrib.rnn.BasicLSTMCell(lstm_size)\n",
    "\n",
    "    lstm_drop_back = tf.contrib.rnn.DropoutWrapper(lstm_back, input_p, output_p)\n",
    "\n",
    "    fc_initializer = tf.random_normal_initializer(stddev=0.1) \n",
    "    fc_weight = tf.get_variable('fc_weight', [2*hidden_size, 3], \n",
    "                            initializer = fc_initializer)\n",
    "    fc_bias = tf.get_variable('bias', [3])\n",
    "    tf.add_to_collection(tf.GraphKeys.REGULARIZATION_LOSSES, \n",
    "                     tf.nn.l2_loss(fc_weight)) \n",
    "\n",
    "    x = tf.concat([hyp, evi], 1) # N, (Lh+Le), d\n",
    "    x = tf.transpose(x, [1, 0, 2]) # (Le+Lh), N, d\n",
    "    x = tf.reshape(x, [-1, vector_size]) # (Le+Lh)*N, d\n",
    "    x = tf.split(x, l_seq,)\n",
    "    rnn_outputs, _, _ = tf.contrib.rnn.static_bidirectional_rnn(lstm, lstm_back,\n",
    "                                                            x, dtype=tf.float32)\n",
    "\n",
    "    classification_scores = tf.matmul(rnn_outputs[-1], fc_weight) + fc_bias\n",
    "\n",
    "    with tf.variable_scope('Accuracy'):\n",
    "        predicts = tf.cast(tf.argmax(classification_scores, 1), 'int32')\n",
    "        y_label = tf.cast(tf.argmax(y, 1), 'int32')\n",
    "        corrects = tf.equal(predicts, y_label)\n",
    "        num_corrects = tf.reduce_sum(tf.cast(corrects, tf.float32))\n",
    "        accuracy = tf.reduce_mean(tf.cast(corrects, tf.float32))\n",
    "\n",
    "    with tf.variable_scope(\"loss\"):\n",
    "        cross_entropy = tf.nn.softmax_cross_entropy_with_logits(\n",
    "            logits = classification_scores, labels = y)\n",
    "        loss = tf.reduce_mean(cross_entropy)\n",
    "        total_loss = loss + weight_decay * tf.add_n(\n",
    "            tf.get_collection(tf.GraphKeys.REGULARIZATION_LOSSES))\n",
    "\n",
    "    optimizer = tf.train.GradientDescentOptimizer(learning_rate)\n",
    "\n",
    "    opt_op = optimizer.minimize(total_loss)\n",
    "    # Initialize variables\n",
    "    init = tf.global_variables_initializer()\n",
    "\n",
    "    # Use TQDM if installed\n",
    "    tqdm_installed = False\n",
    "    try:\n",
    "        from tqdm import tqdm\n",
    "        tqdm_installed = True\n",
    "    except:\n",
    "        pass\n",
    "\n",
    "    # Launch the Tensorflow session\n",
    "    sess = tf.Session()\n",
    "    sess.run(init)\n",
    "\n",
    "    # training_iterations_count: The number of data pieces to train on in total\n",
    "    # batch_size: The number of data pieces per batch\n",
    "    training_iterations = range(0,training_iterations_count,batch_size)\n",
    "    if tqdm_installed:\n",
    "        # Add a progress bar if TQDM is installed\n",
    "        training_iterations = tqdm(training_iterations)\n",
    "\n",
    "    for i in training_iterations:\n",
    "        if i % 1000 == 0:\n",
    "        # Select indices for a random data subset\n",
    "            batch = np.random.randint(data_feature_list[0].shape[0], size=batch_size)\n",
    "\n",
    "        # Use the selected subset indices to initialize the graph's \n",
    "        #   placeholder values\n",
    "        hyps, evis, ys = (data_feature_list[0][batch,:],\n",
    "                          data_feature_list[1][batch,:],\n",
    "                          correct_scores[batch])\n",
    "\n",
    "        # Run the optimization with these initialized values\n",
    "        sess.run([opt_op], feed_dict={hyp: hyps, evi: evis, y: ys})\n",
    "        # display_step: how often the accuracy and loss should \n",
    "        #   be tested and displayed.\n",
    "        if (i/batch_size) % display_step == 0:\n",
    "            # Calculate batch accuracy\n",
    "            acc = sess.run(accuracy, feed_dict={hyp: hyps, evi: evis, y: ys})\n",
    "            # Calculate batch loss\n",
    "            tmp_loss = sess.run(loss, feed_dict={hyp: hyps, evi: evis, y: ys})\n",
    "            # Display results\n",
    "            print(\"Iter \" + str(i/batch_size) + \", Minibatch Loss= \" + \\\n",
    "                  \"{:.6f}\".format(tmp_loss) + \", Training Accuracy= \" + \\\n",
    "                  \"{:.5f}\".format(acc))\n",
    "\n",
    "    data_feature_list, correct_values, correct_scores = split_test_data_into_scores(\"data/dev.txt\")\n",
    "\n",
    "\n",
    "    hyps, evis, ys = (data_feature_list[0][:],\n",
    "                      data_feature_list[1][:],\n",
    "                      correct_scores)\n",
    "    predictions = sess.run(classification_scores, feed_dict={hyp: hyps, evi: evis, y: ys})\n",
    "    total = len(predictions)\n",
    "    correct_predictions = 0\n",
    "    for i,prediction in enumerate(predictions):\n",
    "        if np.argmax(prediction[0])==np.argmax(ys[i]):\n",
    "            correct_predictions += 1\n",
    "    #     print([\"Positive\", \"Neutral\", \"Negative\"][np.argmax(prediction[0])]+\n",
    "    #       \" / \" + [\"Positive\", \"Neutral\", \"Negative\"][np.argmax(ys[i])])\n",
    "    acc = correct_predictions*100/total\n",
    "    print(\"Acc: %s\" % str(acc))\n",
    "    return acc"
   ]
  },
  {
   "cell_type": "code",
   "execution_count": 87,
   "metadata": {
    "hidden": true
   },
   "outputs": [
    {
     "name": "stderr",
     "output_type": "stream",
     "text": [
      "\n",
      "\n",
      "\n",
      "  0%|                                                                          | 0/782 [00:00<?, ?it/s]"
     ]
    },
    {
     "name": "stdout",
     "output_type": "stream",
     "text": [
      "Iter 0.0, Minibatch Loss= 1.046311, Training Accuracy= 0.39844\n"
     ]
    },
    {
     "name": "stderr",
     "output_type": "stream",
     "text": [
      "\n",
      "\n",
      "\n",
      "  0%|                                                                  | 1/782 [00:03<39:48,  3.06s/it]\n",
      "\n",
      "\n",
      "  1%|▎                                                                 | 4/782 [00:03<27:53,  2.15s/it]\n",
      "\n",
      "\n",
      "  1%|▋                                                                 | 8/782 [00:03<19:32,  1.51s/it]"
     ]
    },
    {
     "name": "stdout",
     "output_type": "stream",
     "text": [
      "Iter 10.0, Minibatch Loss= 1.006866, Training Accuracy= 0.47656\n"
     ]
    },
    {
     "name": "stderr",
     "output_type": "stream",
     "text": [
      "\n",
      "\n",
      "\n",
      "  1%|▉                                                                | 11/782 [00:03<13:47,  1.07s/it]\n",
      "\n",
      "\n",
      "  2%|█▏                                                               | 15/782 [00:03<09:43,  1.31it/s]\n",
      "\n",
      "\n",
      "  2%|█▌                                                               | 19/782 [00:03<06:52,  1.85it/s]"
     ]
    },
    {
     "name": "stdout",
     "output_type": "stream",
     "text": [
      "Iter 20.0, Minibatch Loss= 1.030495, Training Accuracy= 0.46875\n"
     ]
    },
    {
     "name": "stderr",
     "output_type": "stream",
     "text": [
      "\n",
      "\n",
      "\n",
      "  3%|█▊                                                               | 22/782 [00:03<04:56,  2.56it/s]\n",
      "\n",
      "\n",
      "  3%|██▏                                                              | 26/782 [00:03<03:32,  3.55it/s]\n",
      "\n",
      "\n",
      "  4%|██▍                                                              | 30/782 [00:03<02:34,  4.86it/s]"
     ]
    },
    {
     "name": "stdout",
     "output_type": "stream",
     "text": [
      "Iter 30.0, Minibatch Loss= 0.998613, Training Accuracy= 0.50000\n"
     ]
    },
    {
     "name": "stderr",
     "output_type": "stream",
     "text": [
      "\n",
      "\n",
      "\n",
      "  4%|██▊                                                              | 34/782 [00:04<01:55,  6.46it/s]\n",
      "\n",
      "\n",
      "  5%|███▏                                                             | 38/782 [00:04<01:26,  8.58it/s]"
     ]
    },
    {
     "name": "stdout",
     "output_type": "stream",
     "text": [
      "Iter 40.0, Minibatch Loss= 1.188272, Training Accuracy= 0.47656\n"
     ]
    },
    {
     "name": "stderr",
     "output_type": "stream",
     "text": [
      "\n",
      "\n",
      "\n",
      "  5%|███▍                                                             | 42/782 [00:04<01:08, 10.84it/s]\n",
      "\n",
      "\n",
      "  6%|███▊                                                             | 46/782 [00:04<00:54, 13.58it/s]\n",
      "\n",
      "\n",
      "  6%|████▏                                                            | 50/782 [00:04<00:44, 16.49it/s]"
     ]
    },
    {
     "name": "stdout",
     "output_type": "stream",
     "text": [
      "Iter 50.0, Minibatch Loss= 0.986133, Training Accuracy= 0.55469\n"
     ]
    },
    {
     "name": "stderr",
     "output_type": "stream",
     "text": [
      "\n",
      "\n",
      "\n",
      "  7%|████▍                                                            | 54/782 [00:04<00:41, 17.41it/s]\n",
      "\n",
      "\n",
      "  7%|████▋                                                            | 57/782 [00:04<00:37, 19.57it/s]"
     ]
    },
    {
     "name": "stdout",
     "output_type": "stream",
     "text": [
      "Iter 60.0, Minibatch Loss= 1.038581, Training Accuracy= 0.46875\n"
     ]
    },
    {
     "name": "stderr",
     "output_type": "stream",
     "text": [
      "\n",
      "\n",
      "\n",
      "  8%|█████                                                            | 61/782 [00:05<00:34, 21.16it/s]\n",
      "\n",
      "\n",
      "  8%|█████▍                                                           | 65/782 [00:05<00:30, 23.77it/s]\n",
      "\n",
      "\n",
      "  9%|█████▋                                                           | 68/782 [00:05<00:30, 23.39it/s]"
     ]
    },
    {
     "name": "stdout",
     "output_type": "stream",
     "text": [
      "Iter 70.0, Minibatch Loss= 1.004398, Training Accuracy= 0.48438\n"
     ]
    },
    {
     "name": "stderr",
     "output_type": "stream",
     "text": [
      "\n",
      "\n",
      "\n",
      "  9%|█████▉                                                           | 71/782 [00:05<00:31, 22.76it/s]\n",
      "\n",
      "\n",
      " 10%|██████▏                                                          | 75/782 [00:05<00:28, 25.06it/s]\n",
      "\n",
      "\n",
      " 10%|██████▌                                                          | 79/782 [00:05<00:25, 27.19it/s]"
     ]
    },
    {
     "name": "stdout",
     "output_type": "stream",
     "text": [
      "Iter 80.0, Minibatch Loss= 1.010615, Training Accuracy= 0.46875\n"
     ]
    },
    {
     "name": "stderr",
     "output_type": "stream",
     "text": [
      "\n",
      "\n",
      "\n",
      " 10%|██████▊                                                          | 82/782 [00:05<00:27, 25.68it/s]\n",
      "\n",
      "\n",
      " 11%|███████▏                                                         | 86/782 [00:05<00:25, 27.69it/s]\n",
      "\n",
      "\n",
      " 12%|███████▍                                                         | 90/782 [00:06<00:23, 29.63it/s]"
     ]
    },
    {
     "name": "stdout",
     "output_type": "stream",
     "text": [
      "Iter 90.0, Minibatch Loss= 1.002805, Training Accuracy= 0.46875\n"
     ]
    },
    {
     "name": "stderr",
     "output_type": "stream",
     "text": [
      "\n",
      "\n",
      "\n",
      " 12%|███████▊                                                         | 94/782 [00:06<00:23, 29.63it/s]\n",
      "\n",
      "\n",
      " 13%|████████▏                                                        | 98/782 [00:06<00:21, 31.45it/s]"
     ]
    },
    {
     "name": "stdout",
     "output_type": "stream",
     "text": [
      "Iter 100.0, Minibatch Loss= 0.968036, Training Accuracy= 0.53125\n"
     ]
    },
    {
     "name": "stderr",
     "output_type": "stream",
     "text": [
      "\n",
      "\n",
      "\n",
      " 13%|████████▎                                                       | 102/782 [00:06<00:22, 29.71it/s]\n",
      "\n",
      "\n",
      " 14%|████████▋                                                       | 106/782 [00:06<00:21, 30.78it/s]\n",
      "\n",
      "\n",
      " 14%|█████████                                                       | 110/782 [00:06<00:21, 31.58it/s]"
     ]
    },
    {
     "name": "stdout",
     "output_type": "stream",
     "text": [
      "Iter 110.0, Minibatch Loss= 0.988597, Training Accuracy= 0.52344\n"
     ]
    },
    {
     "name": "stderr",
     "output_type": "stream",
     "text": [
      "\n",
      "\n",
      "\n",
      " 15%|█████████▎                                                      | 114/782 [00:06<00:22, 30.06it/s]\n",
      "\n",
      "\n",
      " 15%|█████████▋                                                      | 118/782 [00:06<00:21, 31.04it/s]"
     ]
    },
    {
     "name": "stdout",
     "output_type": "stream",
     "text": [
      "Iter 120.0, Minibatch Loss= 0.977643, Training Accuracy= 0.52344\n"
     ]
    },
    {
     "name": "stderr",
     "output_type": "stream",
     "text": [
      "\n",
      "\n",
      "\n",
      " 16%|█████████▉                                                      | 122/782 [00:07<00:21, 30.05it/s]\n",
      "\n",
      "\n",
      " 16%|██████████▎                                                     | 126/782 [00:07<00:21, 31.19it/s]\n",
      "\n",
      "\n",
      " 17%|██████████▋                                                     | 130/782 [00:07<00:20, 31.13it/s]"
     ]
    },
    {
     "name": "stdout",
     "output_type": "stream",
     "text": [
      "Iter 130.0, Minibatch Loss= 0.953897, Training Accuracy= 0.57812\n"
     ]
    },
    {
     "name": "stderr",
     "output_type": "stream",
     "text": [
      "\n",
      "\n",
      "\n",
      " 17%|██████████▉                                                     | 134/782 [00:07<00:22, 28.75it/s]\n",
      "\n",
      "\n",
      " 18%|███████████▎                                                    | 138/782 [00:07<00:21, 30.05it/s]"
     ]
    },
    {
     "name": "stdout",
     "output_type": "stream",
     "text": [
      "Iter 140.0, Minibatch Loss= 0.942472, Training Accuracy= 0.58594\n"
     ]
    },
    {
     "name": "stderr",
     "output_type": "stream",
     "text": [
      "\n",
      "\n",
      "\n",
      " 18%|███████████▌                                                    | 142/782 [00:07<00:22, 27.86it/s]\n",
      "\n",
      "\n",
      " 19%|███████████▉                                                    | 146/782 [00:07<00:21, 30.03it/s]\n",
      "\n",
      "\n",
      " 19%|████████████▎                                                   | 150/782 [00:08<00:19, 31.68it/s]"
     ]
    },
    {
     "name": "stdout",
     "output_type": "stream",
     "text": [
      "Iter 150.0, Minibatch Loss= 0.928797, Training Accuracy= 0.59375\n"
     ]
    },
    {
     "name": "stderr",
     "output_type": "stream",
     "text": [
      "\n",
      "\n",
      "\n",
      " 20%|████████████▌                                                   | 154/782 [00:08<00:20, 31.04it/s]\n",
      "\n",
      "\n",
      " 20%|████████████▉                                                   | 158/782 [00:08<00:19, 32.63it/s]"
     ]
    },
    {
     "name": "stdout",
     "output_type": "stream",
     "text": [
      "Iter 160.0, Minibatch Loss= 0.934262, Training Accuracy= 0.58594\n"
     ]
    },
    {
     "name": "stderr",
     "output_type": "stream",
     "text": [
      "\n",
      "\n",
      "\n",
      " 21%|█████████████▎                                                  | 162/782 [00:08<00:19, 31.74it/s]\n",
      "\n",
      "\n",
      " 21%|█████████████▌                                                  | 166/782 [00:08<00:18, 33.00it/s]\n",
      "\n",
      "\n",
      " 22%|█████████████▉                                                  | 170/782 [00:08<00:17, 34.20it/s]"
     ]
    },
    {
     "name": "stdout",
     "output_type": "stream",
     "text": [
      "Iter 170.0, Minibatch Loss= 0.954627, Training Accuracy= 0.57812\n"
     ]
    },
    {
     "name": "stderr",
     "output_type": "stream",
     "text": [
      "\n",
      "\n",
      "\n",
      " 22%|██████████████▏                                                 | 174/782 [00:08<00:19, 31.68it/s]\n",
      "\n",
      "\n",
      " 23%|██████████████▌                                                 | 178/782 [00:08<00:18, 32.79it/s]"
     ]
    },
    {
     "name": "stdout",
     "output_type": "stream",
     "text": [
      "Iter 180.0, Minibatch Loss= 0.894737, Training Accuracy= 0.57812\n"
     ]
    },
    {
     "name": "stderr",
     "output_type": "stream",
     "text": [
      "\n",
      "\n",
      "\n",
      " 23%|██████████████▉                                                 | 182/782 [00:09<00:19, 30.96it/s]\n",
      "\n",
      "\n",
      " 24%|███████████████▏                                                | 186/782 [00:09<00:18, 32.25it/s]\n",
      "\n",
      "\n",
      " 24%|███████████████▌                                                | 190/782 [00:09<00:17, 33.55it/s]"
     ]
    },
    {
     "name": "stdout",
     "output_type": "stream",
     "text": [
      "Iter 190.0, Minibatch Loss= 0.995688, Training Accuracy= 0.57812\n"
     ]
    },
    {
     "name": "stderr",
     "output_type": "stream",
     "text": [
      "\n",
      "\n",
      "\n",
      " 25%|███████████████▉                                                | 194/782 [00:09<00:18, 31.58it/s]\n",
      "\n",
      "\n",
      " 25%|████████████████▏                                               | 198/782 [00:09<00:18, 32.17it/s]"
     ]
    },
    {
     "name": "stdout",
     "output_type": "stream",
     "text": [
      "Iter 200.0, Minibatch Loss= 0.900557, Training Accuracy= 0.58594\n"
     ]
    },
    {
     "name": "stderr",
     "output_type": "stream",
     "text": [
      "\n",
      "\n",
      "\n",
      " 26%|████████████████▌                                               | 202/782 [00:09<00:18, 31.07it/s]\n",
      "\n",
      "\n",
      " 26%|████████████████▊                                               | 206/782 [00:09<00:17, 32.41it/s]\n",
      "\n",
      "\n",
      " 27%|█████████████████▏                                              | 210/782 [00:09<00:17, 32.36it/s]"
     ]
    },
    {
     "name": "stdout",
     "output_type": "stream",
     "text": [
      "Iter 210.0, Minibatch Loss= 1.035089, Training Accuracy= 0.45312\n"
     ]
    },
    {
     "name": "stderr",
     "output_type": "stream",
     "text": [
      "\n",
      "\n",
      "\n",
      " 27%|█████████████████▌                                              | 214/782 [00:10<00:18, 30.84it/s]\n",
      "\n",
      "\n",
      " 28%|█████████████████▊                                              | 218/782 [00:10<00:17, 32.31it/s]"
     ]
    },
    {
     "name": "stdout",
     "output_type": "stream",
     "text": [
      "Iter 220.0, Minibatch Loss= 0.944693, Training Accuracy= 0.57812\n"
     ]
    },
    {
     "name": "stderr",
     "output_type": "stream",
     "text": [
      "\n",
      "\n",
      "\n",
      " 28%|██████████████████▏                                             | 222/782 [00:10<00:17, 31.53it/s]\n",
      "\n",
      "\n",
      " 29%|██████████████████▍                                             | 226/782 [00:10<00:16, 33.17it/s]\n",
      "\n",
      "\n",
      " 29%|██████████████████▊                                             | 230/782 [00:10<00:16, 34.07it/s]"
     ]
    },
    {
     "name": "stdout",
     "output_type": "stream",
     "text": [
      "Iter 230.0, Minibatch Loss= 0.985086, Training Accuracy= 0.57812\n"
     ]
    },
    {
     "name": "stderr",
     "output_type": "stream",
     "text": [
      "\n",
      "\n",
      "\n",
      " 30%|███████████████████▏                                            | 234/782 [00:10<00:17, 32.21it/s]\n",
      "\n",
      "\n",
      " 30%|███████████████████▍                                            | 238/782 [00:10<00:16, 33.52it/s]"
     ]
    },
    {
     "name": "stdout",
     "output_type": "stream",
     "text": [
      "Iter 240.0, Minibatch Loss= 0.949658, Training Accuracy= 0.57812\n"
     ]
    },
    {
     "name": "stderr",
     "output_type": "stream",
     "text": [
      "\n",
      "\n",
      "\n",
      " 31%|███████████████████▊                                            | 242/782 [00:10<00:16, 32.25it/s]\n",
      "\n",
      "\n",
      " 31%|████████████████████▏                                           | 246/782 [00:10<00:15, 33.64it/s]\n",
      "\n",
      "\n",
      " 32%|████████████████████▍                                           | 250/782 [00:11<00:15, 34.50it/s]"
     ]
    },
    {
     "name": "stdout",
     "output_type": "stream",
     "text": [
      "Iter 250.0, Minibatch Loss= 0.934820, Training Accuracy= 0.54688\n"
     ]
    },
    {
     "name": "stderr",
     "output_type": "stream",
     "text": [
      "\n",
      "\n",
      "\n",
      " 32%|████████████████████▊                                           | 254/782 [00:11<00:16, 32.96it/s]\n",
      "\n",
      "\n",
      " 33%|█████████████████████                                           | 258/782 [00:11<00:15, 34.17it/s]"
     ]
    },
    {
     "name": "stdout",
     "output_type": "stream",
     "text": [
      "Iter 260.0, Minibatch Loss= 0.941884, Training Accuracy= 0.53125\n"
     ]
    },
    {
     "name": "stderr",
     "output_type": "stream",
     "text": [
      "\n",
      "\n",
      "\n",
      " 34%|█████████████████████▍                                          | 262/782 [00:11<00:15, 32.83it/s]\n",
      "\n",
      "\n",
      " 34%|█████████████████████▊                                          | 266/782 [00:11<00:15, 34.08it/s]\n",
      "\n",
      "\n",
      " 35%|██████████████████████                                          | 270/782 [00:11<00:14, 34.82it/s]"
     ]
    },
    {
     "name": "stdout",
     "output_type": "stream",
     "text": [
      "Iter 270.0, Minibatch Loss= 0.923028, Training Accuracy= 0.54688\n"
     ]
    },
    {
     "name": "stderr",
     "output_type": "stream",
     "text": [
      "\n",
      "\n",
      "\n",
      " 35%|██████████████████████▍                                         | 274/782 [00:11<00:15, 32.84it/s]\n",
      "\n",
      "\n",
      " 36%|██████████████████████▊                                         | 278/782 [00:11<00:14, 33.99it/s]"
     ]
    },
    {
     "name": "stdout",
     "output_type": "stream",
     "text": [
      "Iter 280.0, Minibatch Loss= 0.916794, Training Accuracy= 0.54688\n"
     ]
    },
    {
     "name": "stderr",
     "output_type": "stream",
     "text": [
      "\n",
      "\n",
      "\n",
      " 36%|███████████████████████                                         | 282/782 [00:12<00:17, 29.20it/s]\n",
      "\n",
      "\n",
      " 37%|███████████████████████▍                                        | 286/782 [00:12<00:16, 29.20it/s]\n",
      "\n",
      "\n",
      " 37%|███████████████████████▋                                        | 290/782 [00:12<00:16, 29.66it/s]"
     ]
    },
    {
     "name": "stdout",
     "output_type": "stream",
     "text": [
      "Iter 290.0, Minibatch Loss= 0.902774, Training Accuracy= 0.54688\n"
     ]
    },
    {
     "name": "stderr",
     "output_type": "stream",
     "text": [
      "\n",
      "\n",
      "\n",
      " 38%|████████████████████████                                        | 294/782 [00:12<00:17, 28.45it/s]\n",
      "\n",
      "\n",
      " 38%|████████████████████████▍                                       | 298/782 [00:12<00:15, 30.43it/s]"
     ]
    },
    {
     "name": "stdout",
     "output_type": "stream",
     "text": [
      "Iter 300.0, Minibatch Loss= 0.984469, Training Accuracy= 0.51562\n"
     ]
    },
    {
     "name": "stderr",
     "output_type": "stream",
     "text": [
      "\n",
      "\n",
      "\n",
      " 39%|████████████████████████▋                                       | 302/782 [00:12<00:16, 29.92it/s]\n",
      "\n",
      "\n",
      " 39%|█████████████████████████                                       | 306/782 [00:12<00:15, 31.22it/s]\n",
      "\n",
      "\n",
      " 40%|█████████████████████████▎                                      | 310/782 [00:13<00:14, 32.52it/s]"
     ]
    },
    {
     "name": "stdout",
     "output_type": "stream",
     "text": [
      "Iter 310.0, Minibatch Loss= 0.923337, Training Accuracy= 0.54688\n"
     ]
    },
    {
     "name": "stderr",
     "output_type": "stream",
     "text": [
      "\n",
      "\n",
      "\n",
      " 40%|█████████████████████████▋                                      | 314/782 [00:13<00:15, 29.43it/s]\n",
      "\n",
      "\n",
      " 41%|██████████████████████████                                      | 318/782 [00:13<00:15, 30.37it/s]"
     ]
    },
    {
     "name": "stdout",
     "output_type": "stream",
     "text": [
      "Iter 320.0, Minibatch Loss= 0.852724, Training Accuracy= 0.54688\n"
     ]
    },
    {
     "name": "stderr",
     "output_type": "stream",
     "text": [
      "\n",
      "\n",
      "\n",
      " 41%|██████████████████████████▎                                     | 322/782 [00:13<00:15, 29.03it/s]\n",
      "\n",
      "\n",
      " 42%|██████████████████████████▋                                     | 326/782 [00:13<00:15, 30.33it/s]\n",
      "\n",
      "\n",
      " 42%|███████████████████████████                                     | 330/782 [00:13<00:14, 31.85it/s]"
     ]
    },
    {
     "name": "stdout",
     "output_type": "stream",
     "text": [
      "Iter 330.0, Minibatch Loss= 0.944286, Training Accuracy= 0.54688\n"
     ]
    },
    {
     "name": "stderr",
     "output_type": "stream",
     "text": [
      "\n",
      "\n",
      "\n",
      " 43%|███████████████████████████▎                                    | 334/782 [00:13<00:14, 31.15it/s]\n",
      "\n",
      "\n",
      " 43%|███████████████████████████▋                                    | 338/782 [00:13<00:13, 32.82it/s]"
     ]
    },
    {
     "name": "stdout",
     "output_type": "stream",
     "text": [
      "Iter 340.0, Minibatch Loss= 0.939195, Training Accuracy= 0.54688\n"
     ]
    },
    {
     "name": "stderr",
     "output_type": "stream",
     "text": [
      "\n",
      "\n",
      "\n",
      " 44%|███████████████████████████▉                                    | 342/782 [00:14<00:13, 31.97it/s]\n",
      "\n",
      "\n",
      " 44%|████████████████████████████▎                                   | 346/782 [00:14<00:12, 33.98it/s]\n",
      "\n",
      "\n",
      " 45%|████████████████████████████▋                                   | 350/782 [00:14<00:12, 34.31it/s]"
     ]
    },
    {
     "name": "stdout",
     "output_type": "stream",
     "text": [
      "Iter 350.0, Minibatch Loss= 0.938104, Training Accuracy= 0.54688\n"
     ]
    },
    {
     "name": "stderr",
     "output_type": "stream",
     "text": [
      "\n",
      "\n",
      "\n",
      " 45%|████████████████████████████▉                                   | 354/782 [00:14<00:13, 31.08it/s]\n",
      "\n",
      "\n",
      " 46%|█████████████████████████████▎                                  | 358/782 [00:14<00:13, 31.27it/s]"
     ]
    },
    {
     "name": "stdout",
     "output_type": "stream",
     "text": [
      "Iter 360.0, Minibatch Loss= 0.937015, Training Accuracy= 0.54688\n"
     ]
    },
    {
     "name": "stderr",
     "output_type": "stream",
     "text": [
      "\n",
      "\n",
      "\n",
      " 46%|█████████████████████████████▋                                  | 362/782 [00:14<00:13, 30.62it/s]\n",
      "\n",
      "\n",
      " 47%|█████████████████████████████▉                                  | 366/782 [00:14<00:13, 31.24it/s]\n",
      "\n",
      "\n",
      " 47%|██████████████████████████████▎                                 | 370/782 [00:14<00:13, 31.32it/s]"
     ]
    },
    {
     "name": "stdout",
     "output_type": "stream",
     "text": [
      "Iter 370.0, Minibatch Loss= 0.935462, Training Accuracy= 0.54688\n"
     ]
    },
    {
     "name": "stderr",
     "output_type": "stream",
     "text": [
      "\n",
      "\n",
      "\n",
      " 48%|██████████████████████████████▌                                 | 374/782 [00:15<00:13, 29.96it/s]\n",
      "\n",
      "\n",
      " 48%|██████████████████████████████▉                                 | 378/782 [00:15<00:12, 31.26it/s]"
     ]
    },
    {
     "name": "stdout",
     "output_type": "stream",
     "text": [
      "Iter 380.0, Minibatch Loss= 0.895507, Training Accuracy= 0.60938\n"
     ]
    },
    {
     "name": "stderr",
     "output_type": "stream",
     "text": [
      "\n",
      "\n",
      "\n",
      " 49%|███████████████████████████████▎                                | 382/782 [00:15<00:13, 29.08it/s]\n",
      "\n",
      "\n",
      " 49%|███████████████████████████████▌                                | 385/782 [00:15<00:14, 28.35it/s]\n",
      "\n",
      "\n",
      " 50%|███████████████████████████████▊                                | 389/782 [00:15<00:13, 28.85it/s]"
     ]
    },
    {
     "name": "stdout",
     "output_type": "stream",
     "text": [
      "Iter 390.0, Minibatch Loss= 0.885587, Training Accuracy= 0.61719\n"
     ]
    },
    {
     "name": "stderr",
     "output_type": "stream",
     "text": [
      "\n",
      "\n",
      "\n",
      " 50%|████████████████████████████████                                | 392/782 [00:15<00:15, 25.20it/s]\n",
      "\n",
      "\n",
      " 51%|████████████████████████████████▎                               | 395/782 [00:15<00:14, 26.40it/s]\n",
      "\n",
      "\n",
      " 51%|████████████████████████████████▌                               | 398/782 [00:15<00:14, 26.59it/s]"
     ]
    },
    {
     "name": "stdout",
     "output_type": "stream",
     "text": [
      "Iter 400.0, Minibatch Loss= 0.872792, Training Accuracy= 0.61719\n"
     ]
    },
    {
     "name": "stderr",
     "output_type": "stream",
     "text": [
      "\n",
      "\n",
      "\n",
      " 51%|████████████████████████████████▊                               | 401/782 [00:16<00:15, 24.61it/s]\n",
      "\n",
      "\n",
      " 52%|█████████████████████████████████                               | 404/782 [00:16<00:15, 25.16it/s]\n",
      "\n",
      "\n",
      " 52%|█████████████████████████████████▎                              | 407/782 [00:16<00:15, 24.44it/s]\n",
      "\n",
      "\n",
      " 52%|█████████████████████████████████▌                              | 410/782 [00:16<00:14, 25.16it/s]"
     ]
    },
    {
     "name": "stdout",
     "output_type": "stream",
     "text": [
      "Iter 410.0, Minibatch Loss= 0.869730, Training Accuracy= 0.60938\n"
     ]
    },
    {
     "name": "stderr",
     "output_type": "stream",
     "text": [
      "\n",
      "\n",
      "\n",
      " 53%|█████████████████████████████████▊                              | 413/782 [00:16<00:16, 22.41it/s]\n",
      "\n",
      "\n",
      " 53%|██████████████████████████████████▏                             | 417/782 [00:16<00:14, 24.76it/s]\n",
      "\n",
      "\n",
      " 54%|██████████████████████████████████▎                             | 420/782 [00:16<00:14, 25.79it/s]"
     ]
    },
    {
     "name": "stdout",
     "output_type": "stream",
     "text": [
      "Iter 420.0, Minibatch Loss= 0.890985, Training Accuracy= 0.60938\n"
     ]
    },
    {
     "name": "stderr",
     "output_type": "stream",
     "text": [
      "\n",
      "\n",
      "\n",
      " 54%|██████████████████████████████████▌                             | 423/782 [00:17<00:14, 24.02it/s]\n",
      "\n",
      "\n",
      " 54%|██████████████████████████████████▊                             | 426/782 [00:17<00:14, 24.19it/s]\n",
      "\n",
      "\n",
      " 55%|███████████████████████████████████                             | 429/782 [00:17<00:14, 25.16it/s]"
     ]
    },
    {
     "name": "stdout",
     "output_type": "stream",
     "text": [
      "Iter 430.0, Minibatch Loss= 0.842923, Training Accuracy= 0.60938\n"
     ]
    },
    {
     "name": "stderr",
     "output_type": "stream",
     "text": [
      "\n",
      "\n",
      "\n",
      " 55%|███████████████████████████████████▎                            | 432/782 [00:17<00:14, 23.80it/s]\n",
      "\n",
      "\n",
      " 56%|███████████████████████████████████▋                            | 436/782 [00:17<00:13, 25.63it/s]\n",
      "\n",
      "\n",
      " 56%|███████████████████████████████████▉                            | 439/782 [00:17<00:13, 25.70it/s]"
     ]
    },
    {
     "name": "stdout",
     "output_type": "stream",
     "text": [
      "Iter 440.0, Minibatch Loss= 0.931465, Training Accuracy= 0.60156\n"
     ]
    },
    {
     "name": "stderr",
     "output_type": "stream",
     "text": [
      "\n",
      "\n",
      "\n",
      " 57%|████████████████████████████████████▏                           | 442/782 [00:17<00:13, 24.49it/s]\n",
      "\n",
      "\n",
      " 57%|████████████████████████████████████▍                           | 445/782 [00:17<00:13, 25.78it/s]\n",
      "\n",
      "\n",
      " 57%|████████████████████████████████████▋                           | 448/782 [00:17<00:12, 26.28it/s]"
     ]
    },
    {
     "name": "stdout",
     "output_type": "stream",
     "text": [
      "Iter 450.0, Minibatch Loss= 1.046192, Training Accuracy= 0.46875\n"
     ]
    },
    {
     "name": "stderr",
     "output_type": "stream",
     "text": [
      "\n",
      "\n",
      "\n",
      " 58%|████████████████████████████████████▉                           | 451/782 [00:18<00:13, 24.73it/s]\n",
      "\n",
      "\n",
      " 58%|█████████████████████████████████████▏                          | 455/782 [00:18<00:12, 27.13it/s]\n",
      "\n",
      "\n",
      " 59%|█████████████████████████████████████▍                          | 458/782 [00:18<00:12, 25.19it/s]"
     ]
    },
    {
     "name": "stdout",
     "output_type": "stream",
     "text": [
      "Iter 460.0, Minibatch Loss= 0.874843, Training Accuracy= 0.60938\n"
     ]
    },
    {
     "name": "stderr",
     "output_type": "stream",
     "text": [
      "\n",
      "\n",
      "\n",
      " 59%|█████████████████████████████████████▋                          | 461/782 [00:18<00:13, 24.45it/s]\n",
      "\n",
      "\n",
      " 59%|██████████████████████████████████████                          | 465/782 [00:18<00:12, 25.65it/s]\n",
      "\n",
      "\n",
      " 60%|██████████████████████████████████████▎                         | 468/782 [00:18<00:12, 25.26it/s]"
     ]
    },
    {
     "name": "stdout",
     "output_type": "stream",
     "text": [
      "Iter 470.0, Minibatch Loss= 0.869888, Training Accuracy= 0.60938\n"
     ]
    },
    {
     "name": "stderr",
     "output_type": "stream",
     "text": [
      "\n",
      "\n",
      "\n",
      " 60%|██████████████████████████████████████▌                         | 471/782 [00:18<00:13, 22.52it/s]\n",
      "\n",
      "\n",
      " 61%|██████████████████████████████████████▊                         | 474/782 [00:19<00:12, 23.70it/s]\n",
      "\n",
      "\n",
      " 61%|███████████████████████████████████████                         | 477/782 [00:19<00:12, 24.02it/s]\n",
      "\n",
      "\n",
      " 61%|███████████████████████████████████████▎                        | 480/782 [00:19<00:12, 25.04it/s]"
     ]
    },
    {
     "name": "stdout",
     "output_type": "stream",
     "text": [
      "Iter 480.0, Minibatch Loss= 0.860514, Training Accuracy= 0.60938\n"
     ]
    },
    {
     "name": "stderr",
     "output_type": "stream",
     "text": [
      "\n",
      "\n",
      "\n",
      " 62%|███████████████████████████████████████▌                        | 483/782 [00:19<00:11, 25.47it/s]\n",
      "\n",
      "\n",
      " 62%|███████████████████████████████████████▊                        | 487/782 [00:19<00:10, 27.92it/s]"
     ]
    },
    {
     "name": "stdout",
     "output_type": "stream",
     "text": [
      "Iter 490.0, Minibatch Loss= 0.846826, Training Accuracy= 0.60938\n"
     ]
    },
    {
     "name": "stderr",
     "output_type": "stream",
     "text": [
      "\n",
      "\n",
      "\n",
      " 63%|████████████████████████████████████████▏                       | 491/782 [00:19<00:10, 28.52it/s]\n",
      "\n",
      "\n",
      " 63%|████████████████████████████████████████▌                       | 495/782 [00:19<00:09, 30.70it/s]\n",
      "\n",
      "\n",
      " 64%|████████████████████████████████████████▊                       | 499/782 [00:19<00:08, 31.98it/s]"
     ]
    },
    {
     "name": "stdout",
     "output_type": "stream",
     "text": [
      "Iter 500.0, Minibatch Loss= 0.980472, Training Accuracy= 0.57031\n"
     ]
    },
    {
     "name": "stderr",
     "output_type": "stream",
     "text": [
      "\n",
      "\n",
      "\n",
      " 64%|█████████████████████████████████████████▏                      | 503/782 [00:19<00:08, 31.31it/s]\n",
      "\n",
      "\n",
      " 65%|█████████████████████████████████████████▍                      | 507/782 [00:20<00:08, 32.67it/s]"
     ]
    },
    {
     "name": "stdout",
     "output_type": "stream",
     "text": [
      "Iter 510.0, Minibatch Loss= 0.946563, Training Accuracy= 0.57031\n"
     ]
    },
    {
     "name": "stderr",
     "output_type": "stream",
     "text": [
      "\n",
      "\n",
      "\n",
      " 65%|█████████████████████████████████████████▊                      | 511/782 [00:20<00:08, 31.77it/s]\n",
      "\n",
      "\n",
      " 66%|██████████████████████████████████████████▏                     | 515/782 [00:20<00:08, 33.08it/s]\n",
      "\n",
      "\n",
      " 66%|██████████████████████████████████████████▍                     | 519/782 [00:20<00:07, 33.08it/s]"
     ]
    },
    {
     "name": "stdout",
     "output_type": "stream",
     "text": [
      "Iter 520.0, Minibatch Loss= 0.915981, Training Accuracy= 0.57031\n"
     ]
    },
    {
     "name": "stderr",
     "output_type": "stream",
     "text": [
      "\n",
      "\n",
      "\n",
      " 67%|██████████████████████████████████████████▊                     | 523/782 [00:20<00:09, 27.26it/s]\n",
      "\n",
      "\n",
      " 67%|███████████████████████████████████████████▏                    | 527/782 [00:20<00:09, 27.87it/s]\n",
      "\n",
      "\n",
      " 68%|███████████████████████████████████████████▍                    | 530/782 [00:20<00:09, 27.01it/s]"
     ]
    },
    {
     "name": "stdout",
     "output_type": "stream",
     "text": [
      "Iter 530.0, Minibatch Loss= 0.889920, Training Accuracy= 0.57031\n"
     ]
    },
    {
     "name": "stderr",
     "output_type": "stream",
     "text": [
      "\n",
      "\n",
      "\n",
      " 68%|███████████████████████████████████████████▌                    | 533/782 [00:21<00:10, 24.87it/s]\n",
      "\n",
      "\n",
      " 69%|███████████████████████████████████████████▉                    | 537/782 [00:21<00:09, 26.39it/s]"
     ]
    },
    {
     "name": "stdout",
     "output_type": "stream",
     "text": [
      "Iter 540.0, Minibatch Loss= 0.884960, Training Accuracy= 0.57031\n"
     ]
    },
    {
     "name": "stderr",
     "output_type": "stream",
     "text": [
      "\n",
      "\n",
      "\n",
      " 69%|████████████████████████████████████████████▎                   | 541/782 [00:21<00:08, 27.06it/s]\n",
      "\n",
      "\n",
      " 70%|████████████████████████████████████████████▌                   | 545/782 [00:21<00:08, 28.80it/s]\n",
      "\n",
      "\n",
      " 70%|████████████████████████████████████████████▉                   | 549/782 [00:21<00:07, 30.72it/s]"
     ]
    },
    {
     "name": "stdout",
     "output_type": "stream",
     "text": [
      "Iter 550.0, Minibatch Loss= 1.042768, Training Accuracy= 0.56250\n"
     ]
    },
    {
     "name": "stderr",
     "output_type": "stream",
     "text": [
      "\n",
      "\n",
      "\n",
      " 71%|█████████████████████████████████████████████▎                  | 553/782 [00:21<00:09, 23.00it/s]\n",
      "\n",
      "\n",
      " 71%|█████████████████████████████████████████████▌                  | 556/782 [00:21<00:09, 23.56it/s]\n",
      "\n",
      "\n",
      " 72%|█████████████████████████████████████████████▊                  | 560/782 [00:22<00:08, 25.49it/s]"
     ]
    },
    {
     "name": "stdout",
     "output_type": "stream",
     "text": [
      "Iter 560.0, Minibatch Loss= 0.976678, Training Accuracy= 0.57031\n"
     ]
    },
    {
     "name": "stderr",
     "output_type": "stream",
     "text": [
      "\n",
      "\n",
      "\n",
      " 72%|██████████████████████████████████████████████                  | 563/782 [00:22<00:08, 25.60it/s]\n",
      "\n",
      "\n",
      " 73%|██████████████████████████████████████████████▍                 | 567/782 [00:22<00:07, 27.86it/s]"
     ]
    },
    {
     "name": "stdout",
     "output_type": "stream",
     "text": [
      "Iter 570.0, Minibatch Loss= 0.891604, Training Accuracy= 0.60156\n"
     ]
    },
    {
     "name": "stderr",
     "output_type": "stream",
     "text": [
      "\n",
      "\n",
      "\n",
      " 73%|██████████████████████████████████████████████▋                 | 571/782 [00:22<00:07, 28.37it/s]\n",
      "\n",
      "\n",
      " 74%|███████████████████████████████████████████████                 | 575/782 [00:22<00:06, 29.69it/s]\n",
      "\n",
      "\n",
      " 74%|███████████████████████████████████████████████▍                | 579/782 [00:22<00:06, 31.06it/s]"
     ]
    },
    {
     "name": "stdout",
     "output_type": "stream",
     "text": [
      "Iter 580.0, Minibatch Loss= 0.820257, Training Accuracy= 0.62500\n"
     ]
    },
    {
     "name": "stderr",
     "output_type": "stream",
     "text": [
      "\n",
      "\n",
      "\n",
      " 75%|███████████████████████████████████████████████▋                | 583/782 [00:22<00:07, 27.41it/s]\n",
      "\n",
      "\n",
      " 75%|███████████████████████████████████████████████▉                | 586/782 [00:22<00:07, 26.71it/s]\n",
      "\n",
      "\n",
      " 75%|████████████████████████████████████████████████▎               | 590/782 [00:23<00:06, 28.16it/s]"
     ]
    },
    {
     "name": "stdout",
     "output_type": "stream",
     "text": [
      "Iter 590.0, Minibatch Loss= 0.842359, Training Accuracy= 0.57812\n"
     ]
    },
    {
     "name": "stderr",
     "output_type": "stream",
     "text": [
      "\n",
      "\n",
      "\n",
      " 76%|████████████████████████████████████████████████▌               | 593/782 [00:23<00:07, 26.77it/s]\n",
      "\n",
      "\n",
      " 76%|████████████████████████████████████████████████▊               | 597/782 [00:23<00:06, 28.94it/s]"
     ]
    },
    {
     "name": "stdout",
     "output_type": "stream",
     "text": [
      "Iter 600.0, Minibatch Loss= 0.850100, Training Accuracy= 0.58594\n"
     ]
    },
    {
     "name": "stderr",
     "output_type": "stream",
     "text": [
      "\n",
      "\n",
      "\n",
      " 77%|█████████████████████████████████████████████████▏              | 601/782 [00:23<00:06, 28.10it/s]\n",
      "\n",
      "\n",
      " 77%|█████████████████████████████████████████████████▍              | 604/782 [00:23<00:06, 27.93it/s]\n",
      "\n",
      "\n",
      " 78%|█████████████████████████████████████████████████▊              | 608/782 [00:23<00:05, 29.88it/s]"
     ]
    },
    {
     "name": "stdout",
     "output_type": "stream",
     "text": [
      "Iter 610.0, Minibatch Loss= 0.885810, Training Accuracy= 0.59375\n"
     ]
    },
    {
     "name": "stderr",
     "output_type": "stream",
     "text": [
      "\n",
      "\n",
      "\n",
      " 78%|██████████████████████████████████████████████████              | 612/782 [00:23<00:06, 27.81it/s]\n",
      "\n",
      "\n",
      " 79%|██████████████████████████████████████████████████▍             | 616/782 [00:24<00:05, 29.53it/s]\n",
      "\n",
      "\n",
      " 79%|██████████████████████████████████████████████████▋             | 620/782 [00:24<00:05, 31.00it/s]"
     ]
    },
    {
     "name": "stdout",
     "output_type": "stream",
     "text": [
      "Iter 620.0, Minibatch Loss= 0.991399, Training Accuracy= 0.51562\n"
     ]
    },
    {
     "name": "stderr",
     "output_type": "stream",
     "text": [
      "\n",
      "\n",
      "\n",
      " 80%|███████████████████████████████████████████████████             | 624/782 [00:24<00:05, 28.13it/s]\n",
      "\n",
      "\n",
      " 80%|███████████████████████████████████████████████████▍            | 628/782 [00:24<00:05, 29.51it/s]"
     ]
    },
    {
     "name": "stdout",
     "output_type": "stream",
     "text": [
      "Iter 630.0, Minibatch Loss= 0.862071, Training Accuracy= 0.61719\n"
     ]
    },
    {
     "name": "stderr",
     "output_type": "stream",
     "text": [
      "\n",
      "\n",
      "\n",
      " 81%|███████████████████████████████████████████████████▋            | 632/782 [00:24<00:05, 28.66it/s]\n",
      "\n",
      "\n",
      " 81%|████████████████████████████████████████████████████            | 636/782 [00:24<00:04, 29.92it/s]\n",
      "\n",
      "\n",
      " 82%|████████████████████████████████████████████████████▍           | 640/782 [00:24<00:04, 31.60it/s]"
     ]
    },
    {
     "name": "stdout",
     "output_type": "stream",
     "text": [
      "Iter 640.0, Minibatch Loss= 0.781889, Training Accuracy= 0.66406\n"
     ]
    },
    {
     "name": "stderr",
     "output_type": "stream",
     "text": [
      "\n",
      "\n",
      "\n",
      " 82%|████████████████████████████████████████████████████▋           | 644/782 [00:24<00:04, 29.41it/s]\n",
      "\n",
      "\n",
      " 83%|█████████████████████████████████████████████████████           | 648/782 [00:25<00:04, 30.77it/s]"
     ]
    },
    {
     "name": "stdout",
     "output_type": "stream",
     "text": [
      "Iter 650.0, Minibatch Loss= 0.808945, Training Accuracy= 0.62500\n"
     ]
    },
    {
     "name": "stderr",
     "output_type": "stream",
     "text": [
      "\n",
      "\n",
      "\n",
      " 83%|█████████████████████████████████████████████████████▎          | 652/782 [00:25<00:05, 25.62it/s]\n",
      "\n",
      "\n",
      " 84%|█████████████████████████████████████████████████████▌          | 655/782 [00:25<00:04, 26.72it/s]\n",
      "\n",
      "\n",
      " 84%|█████████████████████████████████████████████████████▊          | 658/782 [00:25<00:05, 21.69it/s]"
     ]
    },
    {
     "name": "stdout",
     "output_type": "stream",
     "text": [
      "Iter 660.0, Minibatch Loss= 1.031931, Training Accuracy= 0.60938\n"
     ]
    },
    {
     "name": "stderr",
     "output_type": "stream",
     "text": [
      "\n",
      "\n",
      "\n",
      " 85%|██████████████████████████████████████████████████████          | 661/782 [00:25<00:06, 19.10it/s]\n",
      "\n",
      "\n",
      " 85%|██████████████████████████████████████████████████████▍         | 665/782 [00:25<00:05, 21.76it/s]\n",
      "\n",
      "\n",
      " 86%|██████████████████████████████████████████████████████▊         | 669/782 [00:26<00:04, 24.95it/s]"
     ]
    },
    {
     "name": "stdout",
     "output_type": "stream",
     "text": [
      "Iter 670.0, Minibatch Loss= 0.879860, Training Accuracy= 0.60938\n"
     ]
    },
    {
     "name": "stderr",
     "output_type": "stream",
     "text": [
      "\n",
      "\n",
      "\n",
      " 86%|██████████████████████████████████████████████████████▉         | 672/782 [00:26<00:04, 25.06it/s]\n",
      "\n",
      "\n",
      " 86%|███████████████████████████████████████████████████████▎        | 676/782 [00:26<00:03, 27.52it/s]\n",
      "\n",
      "\n",
      " 87%|███████████████████████████████████████████████████████▋        | 680/782 [00:26<00:03, 29.75it/s]"
     ]
    },
    {
     "name": "stdout",
     "output_type": "stream",
     "text": [
      "Iter 680.0, Minibatch Loss= 0.837508, Training Accuracy= 0.61719\n"
     ]
    },
    {
     "name": "stderr",
     "output_type": "stream",
     "text": [
      "\n",
      "\n",
      "\n",
      " 87%|███████████████████████████████████████████████████████▉        | 684/782 [00:26<00:03, 30.54it/s]\n",
      "\n",
      "\n",
      " 88%|████████████████████████████████████████████████████████▎       | 688/782 [00:26<00:02, 32.15it/s]"
     ]
    },
    {
     "name": "stdout",
     "output_type": "stream",
     "text": [
      "Iter 690.0, Minibatch Loss= 0.895742, Training Accuracy= 0.60156\n"
     ]
    },
    {
     "name": "stderr",
     "output_type": "stream",
     "text": [
      "\n",
      "\n",
      "\n",
      " 88%|████████████████████████████████████████████████████████▋       | 692/782 [00:26<00:02, 30.43it/s]\n",
      "\n",
      "\n",
      " 89%|████████████████████████████████████████████████████████▉       | 696/782 [00:26<00:02, 30.81it/s]\n",
      "\n",
      "\n",
      " 90%|█████████████████████████████████████████████████████████▎      | 700/782 [00:26<00:02, 32.29it/s]"
     ]
    },
    {
     "name": "stdout",
     "output_type": "stream",
     "text": [
      "Iter 700.0, Minibatch Loss= 0.754296, Training Accuracy= 0.67188\n"
     ]
    },
    {
     "name": "stderr",
     "output_type": "stream",
     "text": [
      "\n",
      "\n",
      "\n",
      " 90%|█████████████████████████████████████████████████████████▌      | 704/782 [00:27<00:02, 31.08it/s]\n",
      "\n",
      "\n",
      " 91%|█████████████████████████████████████████████████████████▉      | 708/782 [00:27<00:02, 32.49it/s]"
     ]
    },
    {
     "name": "stdout",
     "output_type": "stream",
     "text": [
      "Iter 710.0, Minibatch Loss= 0.775030, Training Accuracy= 0.64062\n"
     ]
    },
    {
     "name": "stderr",
     "output_type": "stream",
     "text": [
      "\n",
      "\n",
      "\n",
      " 91%|██████████████████████████████████████████████████████████▎     | 712/782 [00:27<00:02, 31.28it/s]\n",
      "\n",
      "\n",
      " 92%|██████████████████████████████████████████████████████████▌     | 716/782 [00:27<00:02, 32.41it/s]\n",
      "\n",
      "\n",
      " 92%|██████████████████████████████████████████████████████████▉     | 720/782 [00:27<00:01, 33.76it/s]"
     ]
    },
    {
     "name": "stdout",
     "output_type": "stream",
     "text": [
      "Iter 720.0, Minibatch Loss= 0.641636, Training Accuracy= 0.70312\n"
     ]
    },
    {
     "name": "stderr",
     "output_type": "stream",
     "text": [
      "\n",
      "\n",
      "\n",
      " 93%|███████████████████████████████████████████████████████████▎    | 724/782 [00:27<00:01, 32.56it/s]\n",
      "\n",
      "\n",
      " 93%|███████████████████████████████████████████████████████████▋    | 729/782 [00:27<00:01, 34.03it/s]"
     ]
    },
    {
     "name": "stdout",
     "output_type": "stream",
     "text": [
      "Iter 730.0, Minibatch Loss= 0.678659, Training Accuracy= 0.71875\n"
     ]
    },
    {
     "name": "stderr",
     "output_type": "stream",
     "text": [
      "\n",
      "\n",
      "\n",
      " 94%|███████████████████████████████████████████████████████████▉    | 733/782 [00:27<00:01, 32.60it/s]\n",
      "\n",
      "\n",
      " 94%|████████████████████████████████████████████████████████████▍   | 738/782 [00:28<00:01, 33.88it/s]"
     ]
    },
    {
     "name": "stdout",
     "output_type": "stream",
     "text": [
      "Iter 740.0, Minibatch Loss= 0.881326, Training Accuracy= 0.62500\n"
     ]
    },
    {
     "name": "stderr",
     "output_type": "stream",
     "text": [
      "\n",
      "\n",
      "\n",
      " 95%|████████████████████████████████████████████████████████████▋   | 742/782 [00:28<00:01, 32.27it/s]\n",
      "\n",
      "\n",
      " 95%|█████████████████████████████████████████████████████████████   | 746/782 [00:28<00:01, 33.48it/s]\n",
      "\n",
      "\n",
      " 96%|█████████████████████████████████████████████████████████████▍  | 750/782 [00:28<00:00, 34.21it/s]"
     ]
    },
    {
     "name": "stdout",
     "output_type": "stream",
     "text": [
      "Iter 750.0, Minibatch Loss= 1.009959, Training Accuracy= 0.55469\n"
     ]
    },
    {
     "name": "stderr",
     "output_type": "stream",
     "text": [
      "\n",
      "\n",
      "\n",
      " 96%|█████████████████████████████████████████████████████████████▋  | 754/782 [00:28<00:00, 33.61it/s]\n",
      "\n",
      "\n",
      " 97%|██████████████████████████████████████████████████████████████  | 758/782 [00:28<00:00, 32.99it/s]"
     ]
    },
    {
     "name": "stdout",
     "output_type": "stream",
     "text": [
      "Iter 760.0, Minibatch Loss= 0.902957, Training Accuracy= 0.60156\n"
     ]
    },
    {
     "name": "stderr",
     "output_type": "stream",
     "text": [
      "\n",
      "\n",
      "\n",
      " 97%|██████████████████████████████████████████████████████████████▎ | 762/782 [00:28<00:00, 31.83it/s]\n",
      "\n",
      "\n",
      " 98%|██████████████████████████████████████████████████████████████▋ | 766/782 [00:28<00:00, 33.21it/s]\n",
      "\n",
      "\n",
      " 98%|███████████████████████████████████████████████████████████████ | 770/782 [00:29<00:00, 32.68it/s]"
     ]
    },
    {
     "name": "stdout",
     "output_type": "stream",
     "text": [
      "Iter 770.0, Minibatch Loss= 0.971054, Training Accuracy= 0.55469\n"
     ]
    },
    {
     "name": "stderr",
     "output_type": "stream",
     "text": [
      "\n",
      "\n",
      "\n",
      " 99%|███████████████████████████████████████████████████████████████▎| 774/782 [00:29<00:00, 32.03it/s]\n",
      "\n",
      "\n",
      " 99%|███████████████████████████████████████████████████████████████▋| 778/782 [00:29<00:00, 32.23it/s]"
     ]
    },
    {
     "name": "stdout",
     "output_type": "stream",
     "text": [
      "Iter 780.0, Minibatch Loss= 0.936251, Training Accuracy= 0.55469\n"
     ]
    },
    {
     "name": "stderr",
     "output_type": "stream",
     "text": [
      "\n",
      "\n",
      "\n",
      "100%|████████████████████████████████████████████████████████████████| 782/782 [00:29<00:00, 31.56it/s]"
     ]
    },
    {
     "ename": "ValueError",
     "evalue": "Cannot feed value of shape (500, 30, 50) for Tensor 'hypothesis:0', which has shape '(128, 30, 50)'",
     "output_type": "error",
     "traceback": [
      "\u001b[1;31m---------------------------------------------------------------------------\u001b[0m",
      "\u001b[1;31mValueError\u001b[0m                                Traceback (most recent call last)",
      "\u001b[1;32m<ipython-input-87-142cefee1729>\u001b[0m in \u001b[0;36m<module>\u001b[1;34m()\u001b[0m\n\u001b[0;32m      4\u001b[0m \u001b[1;32mfor\u001b[0m \u001b[0mbatch\u001b[0m \u001b[1;32min\u001b[0m \u001b[0mbatches\u001b[0m\u001b[1;33m:\u001b[0m\u001b[1;33m\u001b[0m\u001b[0m\n\u001b[0;32m      5\u001b[0m     \u001b[0mbatch_size\u001b[0m \u001b[1;33m=\u001b[0m \u001b[0mbatch\u001b[0m\u001b[1;33m\u001b[0m\u001b[0m\n\u001b[1;32m----> 6\u001b[1;33m     \u001b[0maccs\u001b[0m\u001b[1;33m.\u001b[0m\u001b[0mappend\u001b[0m\u001b[1;33m(\u001b[0m\u001b[0mcreate_model\u001b[0m\u001b[1;33m(\u001b[0m\u001b[1;33m)\u001b[0m\u001b[1;33m)\u001b[0m\u001b[1;33m\u001b[0m\u001b[0m\n\u001b[0m\u001b[0;32m      7\u001b[0m \u001b[1;33m\u001b[0m\u001b[0m\n\u001b[0;32m      8\u001b[0m \u001b[0mprint\u001b[0m\u001b[1;33m(\u001b[0m\u001b[0maccs\u001b[0m\u001b[1;33m)\u001b[0m\u001b[1;33m\u001b[0m\u001b[0m\n",
      "\u001b[1;32m<ipython-input-86-abf16be0eb5d>\u001b[0m in \u001b[0;36mcreate_model\u001b[1;34m()\u001b[0m\n\u001b[0;32m     99\u001b[0m                       \u001b[0mdata_feature_list\u001b[0m\u001b[1;33m[\u001b[0m\u001b[1;36m1\u001b[0m\u001b[1;33m]\u001b[0m\u001b[1;33m[\u001b[0m\u001b[1;33m:\u001b[0m\u001b[1;33m]\u001b[0m\u001b[1;33m,\u001b[0m\u001b[1;33m\u001b[0m\u001b[0m\n\u001b[0;32m    100\u001b[0m                       correct_scores)\n\u001b[1;32m--> 101\u001b[1;33m     \u001b[0mpredictions\u001b[0m \u001b[1;33m=\u001b[0m \u001b[0msess\u001b[0m\u001b[1;33m.\u001b[0m\u001b[0mrun\u001b[0m\u001b[1;33m(\u001b[0m\u001b[0mclassification_scores\u001b[0m\u001b[1;33m,\u001b[0m \u001b[0mfeed_dict\u001b[0m\u001b[1;33m=\u001b[0m\u001b[1;33m{\u001b[0m\u001b[0mhyp\u001b[0m\u001b[1;33m:\u001b[0m \u001b[0mhyps\u001b[0m\u001b[1;33m,\u001b[0m \u001b[0mevi\u001b[0m\u001b[1;33m:\u001b[0m \u001b[0mevis\u001b[0m\u001b[1;33m,\u001b[0m \u001b[0my\u001b[0m\u001b[1;33m:\u001b[0m \u001b[0mys\u001b[0m\u001b[1;33m}\u001b[0m\u001b[1;33m)\u001b[0m\u001b[1;33m\u001b[0m\u001b[0m\n\u001b[0m\u001b[0;32m    102\u001b[0m     \u001b[0mtotal\u001b[0m \u001b[1;33m=\u001b[0m \u001b[0mlen\u001b[0m\u001b[1;33m(\u001b[0m\u001b[0mpredictions\u001b[0m\u001b[1;33m)\u001b[0m\u001b[1;33m\u001b[0m\u001b[0m\n\u001b[0;32m    103\u001b[0m     \u001b[0mcorrect_predictions\u001b[0m \u001b[1;33m=\u001b[0m \u001b[1;36m0\u001b[0m\u001b[1;33m\u001b[0m\u001b[0m\n",
      "\u001b[1;32mF:\\Anaconda3\\lib\\site-packages\\tensorflow\\python\\client\\session.py\u001b[0m in \u001b[0;36mrun\u001b[1;34m(self, fetches, feed_dict, options, run_metadata)\u001b[0m\n\u001b[0;32m    927\u001b[0m     \u001b[1;32mtry\u001b[0m\u001b[1;33m:\u001b[0m\u001b[1;33m\u001b[0m\u001b[0m\n\u001b[0;32m    928\u001b[0m       result = self._run(None, fetches, feed_dict, options_ptr,\n\u001b[1;32m--> 929\u001b[1;33m                          run_metadata_ptr)\n\u001b[0m\u001b[0;32m    930\u001b[0m       \u001b[1;32mif\u001b[0m \u001b[0mrun_metadata\u001b[0m\u001b[1;33m:\u001b[0m\u001b[1;33m\u001b[0m\u001b[0m\n\u001b[0;32m    931\u001b[0m         \u001b[0mproto_data\u001b[0m \u001b[1;33m=\u001b[0m \u001b[0mtf_session\u001b[0m\u001b[1;33m.\u001b[0m\u001b[0mTF_GetBuffer\u001b[0m\u001b[1;33m(\u001b[0m\u001b[0mrun_metadata_ptr\u001b[0m\u001b[1;33m)\u001b[0m\u001b[1;33m\u001b[0m\u001b[0m\n",
      "\u001b[1;32mF:\\Anaconda3\\lib\\site-packages\\tensorflow\\python\\client\\session.py\u001b[0m in \u001b[0;36m_run\u001b[1;34m(self, handle, fetches, feed_dict, options, run_metadata)\u001b[0m\n\u001b[0;32m   1126\u001b[0m                              \u001b[1;34m'which has shape %r'\u001b[0m \u001b[1;33m%\u001b[0m\u001b[1;33m\u001b[0m\u001b[0m\n\u001b[0;32m   1127\u001b[0m                              (np_val.shape, subfeed_t.name,\n\u001b[1;32m-> 1128\u001b[1;33m                               str(subfeed_t.get_shape())))\n\u001b[0m\u001b[0;32m   1129\u001b[0m           \u001b[1;32mif\u001b[0m \u001b[1;32mnot\u001b[0m \u001b[0mself\u001b[0m\u001b[1;33m.\u001b[0m\u001b[0mgraph\u001b[0m\u001b[1;33m.\u001b[0m\u001b[0mis_feedable\u001b[0m\u001b[1;33m(\u001b[0m\u001b[0msubfeed_t\u001b[0m\u001b[1;33m)\u001b[0m\u001b[1;33m:\u001b[0m\u001b[1;33m\u001b[0m\u001b[0m\n\u001b[0;32m   1130\u001b[0m             \u001b[1;32mraise\u001b[0m \u001b[0mValueError\u001b[0m\u001b[1;33m(\u001b[0m\u001b[1;34m'Tensor %s may not be fed.'\u001b[0m \u001b[1;33m%\u001b[0m \u001b[0msubfeed_t\u001b[0m\u001b[1;33m)\u001b[0m\u001b[1;33m\u001b[0m\u001b[0m\n",
      "\u001b[1;31mValueError\u001b[0m: Cannot feed value of shape (500, 30, 50) for Tensor 'hypothesis:0', which has shape '(128, 30, 50)'"
     ]
    }
   ],
   "source": [
    "import numpy as np\n",
    "accs = [] # 128\n",
    "batches = [128, 64, 32, 1, 256]\n",
    "for batch in batches:\n",
    "    batch_size = batch\n",
    "    accs.append(create_model())\n",
    "\n",
    "print(accs)\n",
    "print(\"Best batch size %s\" % str(batches[np.argmax(accs)]))\n"
   ]
  },
  {
   "cell_type": "markdown",
   "metadata": {},
   "source": [
    "### TRAINING"
   ]
  },
  {
   "cell_type": "code",
   "execution_count": 32,
   "metadata": {},
   "outputs": [],
   "source": [
    "tf.reset_default_graph()"
   ]
  },
  {
   "cell_type": "code",
   "execution_count": 33,
   "metadata": {},
   "outputs": [],
   "source": [
    "lstm = tf.contrib.rnn.BasicLSTMCell(lstm_size)\n",
    "lstm_drop =  tf.contrib.rnn.DropoutWrapper(lstm, input_p, output_p)"
   ]
  },
  {
   "cell_type": "code",
   "execution_count": 34,
   "metadata": {},
   "outputs": [],
   "source": [
    "# N: The number of elements in each of our batches, \n",
    "#   which we use to train subsets of data for efficiency's sake.\n",
    "# l_h: The maximum length of a hypothesis, or the second sentence.  This is\n",
    "#   used because training an RNN is extraordinarily difficult without \n",
    "#   rolling it out to a fixed length.\n",
    "# l_e: The maximum length of evidence, the first sentence.  This is used\n",
    "#   because training an RNN is extraordinarily difficult without \n",
    "#   rolling it out to a fixed length.\n",
    "# D: The size of our used GloVe or other vectors.\n",
    "hyp = tf.placeholder(tf.float32, [N, l_h, D], 'hypothesis')\n",
    "evi = tf.placeholder(tf.float32, [N, l_e, D], 'evidence')\n",
    "y = tf.placeholder(tf.float32, [N, 3], 'label')\n",
    "# hyp: Where the hypotheses will be stored during training.\n",
    "# evi: Where the evidences will be stored during training.\n",
    "# y: Where correct scores will be stored during training.\n",
    "\n",
    "# lstm_size: the size of the gates in the LSTM, \n",
    "#    as in the first LSTM layer's initialization.\n",
    "# lstm_back = tf.contrib.rnn.BasicLSTMCell(lstm_size)\n",
    "lstm_back = tf.contrib.rnn.BasicLSTMCell(lstm_size)\n",
    "\n",
    "# lstm_back:  The LSTM used for looking backwards \n",
    "#   through the sentences, similar to lstm.\n",
    "\n",
    "# input_p: the probability that inputs to the LSTM will be retained at each\n",
    "#   iteration of dropout.\n",
    "# output_p: the probability that outputs from the LSTM will be retained at \n",
    "#   each iteration of dropout.\n",
    "lstm_drop_back = tf.contrib.rnn.DropoutWrapper(lstm_back, input_p, output_p)\n",
    "# lstm_drop_back:  A dropout wrapper for lstm_back, like lstm_drop.\n",
    "\n",
    "\n",
    "fc_initializer = tf.random_normal_initializer(stddev=0.1) \n",
    "# fc_initializer: initial values for the fully connected layer's weights.\n",
    "# hidden_size: the size of the outputs from each lstm layer.  \n",
    "#   Multiplied by 2 to account for the two LSTMs.\n",
    "fc_weight = tf.get_variable('fc_weight', [2*hidden_size, 3], \n",
    "                            initializer = fc_initializer)\n",
    "# fc_weight: Storage for the fully connected layer's weights.\n",
    "fc_bias = tf.get_variable('bias', [3])\n",
    "# fc_bias: Storage for the fully connected layer's bias.\n",
    "\n",
    "# tf.GraphKeys.REGULARIZATION_LOSSES:  A key to a collection in the graph\n",
    "#   designated for losses due to regularization.\n",
    "#   In this case, this portion of loss is regularization on the weights\n",
    "#   for the fully connected layer.\n",
    "tf.add_to_collection(tf.GraphKeys.REGULARIZATION_LOSSES, \n",
    "                     tf.nn.l2_loss(fc_weight)) \n",
    "\n",
    "x = tf.concat([hyp, evi], 1) # N, (Lh+Le), d\n",
    "# Permuting batch_size and n_steps\n",
    "x = tf.transpose(x, [1, 0, 2]) # (Le+Lh), N, d\n",
    "# Reshaping to (n_steps*batch_size, n_input)\n",
    "x = tf.reshape(x, [-1, vector_size]) # (Le+Lh)*N, d\n",
    "# Split to get a list of 'n_steps' tensors of shape (batch_size, n_input)\n",
    "x = tf.split(x, l_seq,)\n",
    "\n",
    "# x: the inputs to the bidirectional_rnn\n",
    "\n",
    "\n",
    "# tf.contrib.rnn.static_bidirectional_rnn: Runs the input through\n",
    "#   two recurrent networks, one that runs the inputs forward and one\n",
    "#   that runs the inputs in reversed order, combining the outputs.\n",
    "rnn_outputs, _, _ = tf.contrib.rnn.static_bidirectional_rnn(lstm, lstm_back,\n",
    "                                                            x, dtype=tf.float32)\n",
    "# rnn_outputs: the list of LSTM outputs, as a list. \n",
    "#   What we want is the latest output, rnn_outputs[-1]\n",
    "\n",
    "classification_scores = tf.matmul(rnn_outputs[-1], fc_weight) + fc_bias\n",
    "# The scores are relative certainties for how likely the output matches\n",
    "#   a certain entailment: \n",
    "#     0: Positive entailment\n",
    "#     1: Neutral entailment\n",
    "#     2: Negative entailment"
   ]
  },
  {
   "cell_type": "code",
   "execution_count": 35,
   "metadata": {},
   "outputs": [],
   "source": [
    "with tf.variable_scope('Accuracy'):\n",
    "    predicts = tf.cast(tf.argmax(classification_scores, 1), 'int32')\n",
    "    y_label = tf.cast(tf.argmax(y, 1), 'int32')\n",
    "    corrects = tf.equal(predicts, y_label)\n",
    "    num_corrects = tf.reduce_sum(tf.cast(corrects, tf.float32))\n",
    "    accuracy = tf.reduce_mean(tf.cast(corrects, tf.float32))\n",
    "\n",
    "with tf.variable_scope(\"loss\"):\n",
    "    cross_entropy = tf.nn.softmax_cross_entropy_with_logits(\n",
    "        logits = classification_scores, labels = y)\n",
    "    loss = tf.reduce_mean(cross_entropy)\n",
    "    total_loss = loss + weight_decay * tf.add_n(\n",
    "        tf.get_collection(tf.GraphKeys.REGULARIZATION_LOSSES))\n",
    "\n",
    "optimizer = tf.train.GradientDescentOptimizer(learning_rate)\n",
    "\n",
    "opt_op = optimizer.minimize(total_loss)"
   ]
  },
  {
   "cell_type": "code",
   "execution_count": 36,
   "metadata": {},
   "outputs": [
    {
     "name": "stderr",
     "output_type": "stream",
     "text": [
      "\n",
      "\n",
      "\n",
      "\n",
      "  0%|                                                                                                                                                                                   | 0/782 [00:00<?, ?it/s]"
     ]
    },
    {
     "name": "stdout",
     "output_type": "stream",
     "text": [
      "Iter 0.0, Minibatch Loss= 0.946429, Training Accuracy= 0.58594\n"
     ]
    },
    {
     "name": "stderr",
     "output_type": "stream",
     "text": [
      "\n",
      "\n",
      "\n",
      "\n",
      "  0%|▏                                                                                                                                                                          | 1/782 [00:01<14:18,  1.10s/it]\n",
      "\n",
      "\n",
      "\n",
      "  0%|▍                                                                                                                                                                          | 2/782 [00:01<10:33,  1.23it/s]\n",
      "\n",
      "\n",
      "\n",
      "  0%|▋                                                                                                                                                                          | 3/782 [00:01<07:55,  1.64it/s]\n",
      "\n",
      "\n",
      "\n",
      "  1%|▊                                                                                                                                                                          | 4/782 [00:01<05:55,  2.19it/s]\n",
      "\n",
      "\n",
      "\n",
      "  1%|█                                                                                                                                                                          | 5/782 [00:01<04:32,  2.85it/s]\n",
      "\n",
      "\n",
      "\n",
      "  1%|█▎                                                                                                                                                                         | 6/782 [00:01<03:34,  3.62it/s]\n",
      "\n",
      "\n",
      "\n",
      "  1%|█▋                                                                                                                                                                         | 8/782 [00:01<02:50,  4.54it/s]\n",
      "\n",
      "\n",
      "\n",
      "  1%|█▉                                                                                                                                                                         | 9/782 [00:01<02:23,  5.38it/s]\n",
      "\n",
      "\n",
      "\n",
      "  1%|██▏                                                                                                                                                                       | 10/782 [00:02<02:08,  6.01it/s]"
     ]
    },
    {
     "name": "stdout",
     "output_type": "stream",
     "text": [
      "Iter 10.0, Minibatch Loss= 0.934780, Training Accuracy= 0.58594\n"
     ]
    },
    {
     "name": "stderr",
     "output_type": "stream",
     "text": [
      "\n",
      "\n",
      "\n",
      "\n",
      "  1%|██▍                                                                                                                                                                       | 11/782 [00:02<03:03,  4.21it/s]\n",
      "\n",
      "\n",
      "\n",
      "  2%|██▌                                                                                                                                                                       | 12/782 [00:02<03:04,  4.17it/s]\n",
      "\n",
      "\n",
      "\n",
      "  2%|██▊                                                                                                                                                                       | 13/782 [00:03<03:13,  3.97it/s]\n",
      "\n",
      "\n",
      "\n",
      "  2%|███                                                                                                                                                                       | 14/782 [00:03<03:16,  3.92it/s]\n",
      "\n",
      "\n",
      "\n",
      "  2%|███▎                                                                                                                                                                      | 15/782 [00:03<03:04,  4.17it/s]\n",
      "\n",
      "\n",
      "\n",
      "  2%|███▍                                                                                                                                                                      | 16/782 [00:03<02:46,  4.59it/s]\n",
      "\n",
      "\n",
      "\n",
      "  2%|███▋                                                                                                                                                                      | 17/782 [00:03<02:32,  5.01it/s]\n",
      "\n",
      "\n",
      "\n",
      "  2%|███▉                                                                                                                                                                      | 18/782 [00:03<02:22,  5.34it/s]\n",
      "\n",
      "\n",
      "\n",
      "  2%|████▏                                                                                                                                                                     | 19/782 [00:04<02:21,  5.40it/s]\n",
      "\n",
      "\n",
      "\n",
      "  3%|████▎                                                                                                                                                                     | 20/782 [00:04<02:11,  5.77it/s]"
     ]
    },
    {
     "name": "stdout",
     "output_type": "stream",
     "text": [
      "Iter 20.0, Minibatch Loss= 0.923602, Training Accuracy= 0.58594\n"
     ]
    },
    {
     "name": "stderr",
     "output_type": "stream",
     "text": [
      "\n",
      "\n",
      "\n",
      "\n",
      "  3%|████▌                                                                                                                                                                     | 21/782 [00:04<02:32,  5.00it/s]\n",
      "\n",
      "\n",
      "\n",
      "  3%|████▊                                                                                                                                                                     | 22/782 [00:04<02:23,  5.29it/s]\n",
      "\n",
      "\n",
      "\n",
      "  3%|█████                                                                                                                                                                     | 23/782 [00:04<02:19,  5.42it/s]\n",
      "\n",
      "\n",
      "\n",
      "  3%|█████▏                                                                                                                                                                    | 24/782 [00:05<02:11,  5.76it/s]\n",
      "\n",
      "\n",
      "\n",
      "  3%|█████▍                                                                                                                                                                    | 25/782 [00:05<02:06,  5.97it/s]\n",
      "\n",
      "\n",
      "\n",
      "  3%|█████▋                                                                                                                                                                    | 26/782 [00:05<02:07,  5.95it/s]\n",
      "\n",
      "\n",
      "\n",
      "  3%|█████▊                                                                                                                                                                    | 27/782 [00:05<02:06,  5.97it/s]\n",
      "\n",
      "\n",
      "\n",
      "  4%|██████                                                                                                                                                                    | 28/782 [00:05<02:05,  6.03it/s]\n",
      "\n",
      "\n",
      "\n",
      "  4%|██████▎                                                                                                                                                                   | 29/782 [00:05<01:56,  6.48it/s]\n",
      "\n",
      "\n",
      "\n",
      "  4%|██████▌                                                                                                                                                                   | 30/782 [00:05<01:48,  6.93it/s]"
     ]
    },
    {
     "name": "stdout",
     "output_type": "stream",
     "text": [
      "Iter 30.0, Minibatch Loss= 0.939573, Training Accuracy= 0.58594\n"
     ]
    },
    {
     "name": "stderr",
     "output_type": "stream",
     "text": [
      "\n",
      "\n",
      "\n",
      "\n",
      "  4%|██████▋                                                                                                                                                                   | 31/782 [00:06<02:11,  5.71it/s]\n",
      "\n",
      "\n",
      "\n",
      "  4%|██████▉                                                                                                                                                                   | 32/782 [00:06<02:03,  6.07it/s]\n",
      "\n",
      "\n",
      "\n",
      "  4%|███████▏                                                                                                                                                                  | 33/782 [00:06<01:58,  6.30it/s]\n",
      "\n",
      "\n",
      "\n",
      "  4%|███████▍                                                                                                                                                                  | 34/782 [00:06<01:52,  6.64it/s]\n",
      "\n",
      "\n",
      "\n",
      "  4%|███████▌                                                                                                                                                                  | 35/782 [00:06<01:54,  6.52it/s]\n",
      "\n",
      "\n",
      "\n",
      "  5%|███████▊                                                                                                                                                                  | 36/782 [00:06<01:52,  6.61it/s]\n",
      "\n",
      "\n",
      "\n",
      "  5%|████████                                                                                                                                                                  | 37/782 [00:07<01:48,  6.89it/s]\n",
      "\n",
      "\n",
      "\n",
      "  5%|████████▎                                                                                                                                                                 | 38/782 [00:07<02:06,  5.88it/s]\n",
      "\n",
      "\n",
      "\n",
      "  5%|████████▍                                                                                                                                                                 | 39/782 [00:07<02:30,  4.94it/s]\n",
      "\n",
      "\n",
      "\n",
      "  5%|████████▋                                                                                                                                                                 | 40/782 [00:07<02:30,  4.93it/s]"
     ]
    },
    {
     "name": "stdout",
     "output_type": "stream",
     "text": [
      "Iter 40.0, Minibatch Loss= 0.935904, Training Accuracy= 0.58594\n"
     ]
    },
    {
     "name": "stderr",
     "output_type": "stream",
     "text": [
      "\n",
      "\n",
      "\n",
      "\n",
      "  5%|████████▉                                                                                                                                                                 | 41/782 [00:08<02:42,  4.55it/s]\n",
      "\n",
      "\n",
      "\n",
      "  5%|█████████▏                                                                                                                                                                | 42/782 [00:08<02:26,  5.06it/s]\n",
      "\n",
      "\n",
      "\n",
      "  5%|█████████▎                                                                                                                                                                | 43/782 [00:08<02:14,  5.48it/s]\n",
      "\n",
      "\n",
      "\n",
      "  6%|█████████▌                                                                                                                                                                | 44/782 [00:08<02:11,  5.60it/s]\n",
      "\n",
      "\n",
      "\n",
      "  6%|█████████▊                                                                                                                                                                | 45/782 [00:08<02:06,  5.82it/s]\n",
      "\n",
      "\n",
      "\n",
      "  6%|██████████                                                                                                                                                                | 46/782 [00:08<02:00,  6.08it/s]\n",
      "\n",
      "\n",
      "\n",
      "  6%|██████████▏                                                                                                                                                               | 47/782 [00:08<01:58,  6.20it/s]\n",
      "\n",
      "\n",
      "\n",
      "  6%|██████████▍                                                                                                                                                               | 48/782 [00:09<01:55,  6.37it/s]\n",
      "\n",
      "\n",
      "\n",
      "  6%|██████████▋                                                                                                                                                               | 49/782 [00:09<01:54,  6.41it/s]\n",
      "\n",
      "\n",
      "\n",
      "  6%|██████████▊                                                                                                                                                               | 50/782 [00:09<01:55,  6.33it/s]"
     ]
    },
    {
     "name": "stdout",
     "output_type": "stream",
     "text": [
      "Iter 50.0, Minibatch Loss= 0.930309, Training Accuracy= 0.58594\n"
     ]
    },
    {
     "name": "stderr",
     "output_type": "stream",
     "text": [
      "\n",
      "\n",
      "\n",
      "\n",
      "  7%|███████████                                                                                                                                                               | 51/782 [00:09<02:16,  5.36it/s]\n",
      "\n",
      "\n",
      "\n",
      "  7%|███████████▎                                                                                                                                                              | 52/782 [00:09<02:12,  5.52it/s]\n",
      "\n",
      "\n",
      "\n",
      "  7%|███████████▌                                                                                                                                                              | 53/782 [00:09<02:06,  5.77it/s]\n",
      "\n",
      "\n",
      "\n",
      "  7%|███████████▋                                                                                                                                                              | 54/782 [00:10<02:00,  6.05it/s]\n",
      "\n",
      "\n",
      "\n",
      "  7%|███████████▉                                                                                                                                                              | 55/782 [00:10<02:03,  5.90it/s]\n",
      "\n",
      "\n",
      "\n",
      "  7%|████████████▏                                                                                                                                                             | 56/782 [00:10<02:10,  5.58it/s]\n",
      "\n",
      "\n",
      "\n",
      "  7%|████████████▍                                                                                                                                                             | 57/782 [00:10<02:02,  5.92it/s]\n",
      "\n",
      "\n",
      "\n",
      "  7%|████████████▌                                                                                                                                                             | 58/782 [00:10<02:08,  5.61it/s]\n",
      "\n",
      "\n",
      "\n",
      "  8%|████████████▊                                                                                                                                                             | 59/782 [00:11<02:30,  4.79it/s]\n",
      "\n",
      "\n",
      "\n",
      "  8%|█████████████                                                                                                                                                             | 60/782 [00:11<02:23,  5.04it/s]"
     ]
    },
    {
     "name": "stdout",
     "output_type": "stream",
     "text": [
      "Iter 60.0, Minibatch Loss= 0.909945, Training Accuracy= 0.58594\n"
     ]
    },
    {
     "name": "stderr",
     "output_type": "stream",
     "text": [
      "\n",
      "\n",
      "\n",
      "\n",
      "  8%|█████████████▎                                                                                                                                                            | 61/782 [00:11<02:38,  4.55it/s]\n",
      "\n",
      "\n",
      "\n",
      "  8%|█████████████▍                                                                                                                                                            | 62/782 [00:11<02:20,  5.12it/s]\n",
      "\n",
      "\n",
      "\n",
      "  8%|█████████████▋                                                                                                                                                            | 63/782 [00:11<02:10,  5.50it/s]\n",
      "\n",
      "\n",
      "\n",
      "  8%|█████████████▉                                                                                                                                                            | 64/782 [00:12<02:05,  5.70it/s]\n",
      "\n",
      "\n",
      "\n",
      "  8%|██████████████▏                                                                                                                                                           | 65/782 [00:12<01:58,  6.07it/s]\n",
      "\n",
      "\n",
      "\n",
      "  8%|██████████████▎                                                                                                                                                           | 66/782 [00:12<01:50,  6.46it/s]\n",
      "\n",
      "\n",
      "\n",
      "  9%|██████████████▌                                                                                                                                                           | 67/782 [00:12<01:45,  6.76it/s]\n",
      "\n",
      "\n",
      "\n",
      "  9%|██████████████▊                                                                                                                                                           | 68/782 [00:12<01:44,  6.81it/s]\n",
      "\n",
      "\n",
      "\n",
      "  9%|███████████████                                                                                                                                                           | 69/782 [00:12<01:44,  6.85it/s]\n",
      "\n",
      "\n",
      "\n",
      "  9%|███████████████▏                                                                                                                                                          | 70/782 [00:12<01:39,  7.13it/s]"
     ]
    },
    {
     "name": "stdout",
     "output_type": "stream",
     "text": [
      "Iter 70.0, Minibatch Loss= 0.952184, Training Accuracy= 0.58594\n"
     ]
    },
    {
     "name": "stderr",
     "output_type": "stream",
     "text": [
      "\n",
      "\n",
      "\n",
      "\n",
      "  9%|███████████████▍                                                                                                                                                          | 71/782 [00:13<01:55,  6.13it/s]\n",
      "\n",
      "\n",
      "\n",
      "  9%|███████████████▋                                                                                                                                                          | 72/782 [00:13<01:52,  6.31it/s]\n",
      "\n",
      "\n",
      "\n",
      "  9%|███████████████▊                                                                                                                                                          | 73/782 [00:13<01:43,  6.85it/s]\n",
      "\n",
      "\n",
      "\n",
      "  9%|████████████████                                                                                                                                                          | 74/782 [00:13<01:45,  6.74it/s]\n",
      "\n",
      "\n",
      "\n",
      " 10%|████████████████▎                                                                                                                                                         | 75/782 [00:13<01:41,  6.97it/s]\n",
      "\n",
      "\n",
      "\n",
      " 10%|████████████████▌                                                                                                                                                         | 76/782 [00:13<01:37,  7.21it/s]\n",
      "\n",
      "\n",
      "\n",
      " 10%|████████████████▋                                                                                                                                                         | 77/782 [00:13<01:38,  7.16it/s]\n",
      "\n",
      "\n",
      "\n",
      " 10%|████████████████▉                                                                                                                                                         | 78/782 [00:14<01:38,  7.16it/s]\n",
      "\n",
      "\n",
      "\n",
      " 10%|█████████████████▏                                                                                                                                                        | 79/782 [00:14<01:39,  7.04it/s]\n",
      "\n",
      "\n",
      "\n",
      " 10%|█████████████████▍                                                                                                                                                        | 80/782 [00:14<01:35,  7.38it/s]"
     ]
    },
    {
     "name": "stdout",
     "output_type": "stream",
     "text": [
      "Iter 80.0, Minibatch Loss= 0.938658, Training Accuracy= 0.58594\n"
     ]
    },
    {
     "name": "stderr",
     "output_type": "stream",
     "text": [
      "\n",
      "\n",
      "\n",
      "\n",
      " 10%|█████████████████▌                                                                                                                                                        | 81/782 [00:14<01:52,  6.21it/s]\n",
      "\n",
      "\n",
      "\n",
      " 10%|█████████████████▊                                                                                                                                                        | 82/782 [00:14<01:45,  6.61it/s]\n",
      "\n",
      "\n",
      "\n",
      " 11%|██████████████████                                                                                                                                                        | 83/782 [00:14<01:41,  6.86it/s]\n",
      "\n",
      "\n",
      "\n",
      " 11%|██████████████████▎                                                                                                                                                       | 84/782 [00:14<01:42,  6.84it/s]\n",
      "\n",
      "\n",
      "\n",
      " 11%|██████████████████▍                                                                                                                                                       | 85/782 [00:15<01:40,  6.95it/s]\n",
      "\n",
      "\n",
      "\n",
      " 11%|██████████████████▋                                                                                                                                                       | 86/782 [00:15<01:38,  7.05it/s]\n",
      "\n",
      "\n",
      "\n",
      " 11%|██████████████████▉                                                                                                                                                       | 87/782 [00:15<01:41,  6.85it/s]\n",
      "\n",
      "\n",
      "\n",
      " 11%|███████████████████▏                                                                                                                                                      | 88/782 [00:15<01:46,  6.50it/s]\n",
      "\n",
      "\n",
      "\n",
      " 11%|███████████████████▎                                                                                                                                                      | 89/782 [00:15<01:41,  6.81it/s]\n",
      "\n",
      "\n",
      "\n",
      " 12%|███████████████████▌                                                                                                                                                      | 90/782 [00:15<01:41,  6.85it/s]"
     ]
    },
    {
     "name": "stdout",
     "output_type": "stream",
     "text": [
      "Iter 90.0, Minibatch Loss= 0.922176, Training Accuracy= 0.58594\n"
     ]
    },
    {
     "name": "stderr",
     "output_type": "stream",
     "text": [
      "\n",
      "\n",
      "\n",
      "\n",
      " 12%|███████████████████▊                                                                                                                                                      | 91/782 [00:15<01:52,  6.12it/s]\n",
      "\n",
      "\n",
      "\n",
      " 12%|████████████████████                                                                                                                                                      | 92/782 [00:16<01:47,  6.44it/s]\n",
      "\n",
      "\n",
      "\n",
      " 12%|████████████████████▏                                                                                                                                                     | 93/782 [00:16<01:46,  6.49it/s]\n",
      "\n",
      "\n",
      "\n",
      " 12%|████████████████████▍                                                                                                                                                     | 94/782 [00:16<01:41,  6.79it/s]\n",
      "\n",
      "\n",
      "\n",
      " 12%|████████████████████▋                                                                                                                                                     | 95/782 [00:16<01:37,  7.04it/s]\n",
      "\n",
      "\n",
      "\n",
      " 12%|████████████████████▊                                                                                                                                                     | 96/782 [00:16<01:36,  7.08it/s]\n",
      "\n",
      "\n",
      "\n",
      " 12%|█████████████████████                                                                                                                                                     | 97/782 [00:16<01:33,  7.31it/s]\n",
      "\n",
      "\n",
      "\n",
      " 13%|█████████████████████▎                                                                                                                                                    | 98/782 [00:16<01:35,  7.18it/s]\n",
      "\n",
      "\n",
      "\n",
      " 13%|█████████████████████▌                                                                                                                                                    | 99/782 [00:17<01:34,  7.25it/s]\n",
      "\n",
      "\n",
      "\n",
      " 13%|█████████████████████▌                                                                                                                                                   | 100/782 [00:17<01:33,  7.28it/s]"
     ]
    },
    {
     "name": "stdout",
     "output_type": "stream",
     "text": [
      "Iter 100.0, Minibatch Loss= 0.905492, Training Accuracy= 0.58594\n"
     ]
    },
    {
     "name": "stderr",
     "output_type": "stream",
     "text": [
      "\n",
      "\n",
      "\n",
      "\n",
      " 13%|█████████████████████▊                                                                                                                                                   | 101/782 [00:17<01:47,  6.34it/s]\n",
      "\n",
      "\n",
      "\n",
      " 13%|██████████████████████                                                                                                                                                   | 102/782 [00:17<01:41,  6.67it/s]\n",
      "\n",
      "\n",
      "\n",
      " 13%|██████████████████████▎                                                                                                                                                  | 103/782 [00:17<01:36,  7.01it/s]\n",
      "\n",
      "\n",
      "\n",
      " 13%|██████████████████████▍                                                                                                                                                  | 104/782 [00:17<01:34,  7.20it/s]\n",
      "\n",
      "\n",
      "\n",
      " 13%|██████████████████████▋                                                                                                                                                  | 105/782 [00:17<01:35,  7.06it/s]\n",
      "\n",
      "\n",
      "\n",
      " 14%|██████████████████████▉                                                                                                                                                  | 106/782 [00:18<01:33,  7.24it/s]\n",
      "\n",
      "\n",
      "\n",
      " 14%|███████████████████████                                                                                                                                                  | 107/782 [00:18<01:32,  7.28it/s]\n",
      "\n",
      "\n",
      "\n",
      " 14%|███████████████████████▎                                                                                                                                                 | 108/782 [00:18<01:32,  7.30it/s]\n",
      "\n",
      "\n",
      "\n",
      " 14%|███████████████████████▌                                                                                                                                                 | 109/782 [00:18<01:35,  7.07it/s]\n",
      "\n",
      "\n",
      "\n",
      " 14%|███████████████████████▊                                                                                                                                                 | 110/782 [00:18<01:33,  7.22it/s]"
     ]
    },
    {
     "name": "stdout",
     "output_type": "stream",
     "text": [
      "Iter 110.0, Minibatch Loss= 0.933959, Training Accuracy= 0.58594\n"
     ]
    },
    {
     "name": "stderr",
     "output_type": "stream",
     "text": [
      "\n",
      "\n",
      "\n",
      "\n",
      " 14%|███████████████████████▉                                                                                                                                                 | 111/782 [00:18<01:42,  6.54it/s]\n",
      "\n",
      "\n",
      "\n",
      " 14%|████████████████████████▏                                                                                                                                                | 112/782 [00:18<01:44,  6.41it/s]\n",
      "\n",
      "\n",
      "\n",
      " 14%|████████████████████████▍                                                                                                                                                | 113/782 [00:19<01:38,  6.80it/s]\n",
      "\n",
      "\n",
      "\n",
      " 15%|████████████████████████▋                                                                                                                                                | 114/782 [00:19<01:35,  7.03it/s]\n",
      "\n",
      "\n",
      "\n",
      " 15%|████████████████████████▊                                                                                                                                                | 115/782 [00:19<01:33,  7.15it/s]\n",
      "\n",
      "\n",
      "\n",
      " 15%|█████████████████████████                                                                                                                                                | 116/782 [00:19<01:33,  7.15it/s]\n",
      "\n",
      "\n",
      "\n",
      " 15%|█████████████████████████▎                                                                                                                                               | 117/782 [00:19<01:32,  7.21it/s]\n",
      "\n",
      "\n",
      "\n",
      " 15%|█████████████████████████▌                                                                                                                                               | 118/782 [00:19<01:34,  7.03it/s]\n",
      "\n",
      "\n",
      "\n",
      " 15%|█████████████████████████▋                                                                                                                                               | 119/782 [00:19<01:38,  6.73it/s]\n",
      "\n",
      "\n",
      "\n",
      " 15%|█████████████████████████▉                                                                                                                                               | 120/782 [00:20<01:35,  6.94it/s]"
     ]
    },
    {
     "name": "stdout",
     "output_type": "stream",
     "text": [
      "Iter 120.0, Minibatch Loss= 0.890788, Training Accuracy= 0.58594\n"
     ]
    },
    {
     "name": "stderr",
     "output_type": "stream",
     "text": [
      "\n",
      "\n",
      "\n",
      "\n",
      " 15%|██████████████████████████▏                                                                                                                                              | 121/782 [00:20<01:53,  5.83it/s]\n",
      "\n",
      "\n",
      "\n",
      " 16%|██████████████████████████▎                                                                                                                                              | 122/782 [00:20<01:49,  6.01it/s]\n",
      "\n",
      "\n",
      "\n",
      " 16%|██████████████████████████▌                                                                                                                                              | 123/782 [00:20<01:42,  6.41it/s]\n",
      "\n",
      "\n",
      "\n",
      " 16%|██████████████████████████▊                                                                                                                                              | 124/782 [00:20<01:37,  6.73it/s]\n",
      "\n",
      "\n",
      "\n",
      " 16%|███████████████████████████                                                                                                                                              | 125/782 [00:20<01:35,  6.90it/s]\n",
      "\n",
      "\n",
      "\n",
      " 16%|███████████████████████████▏                                                                                                                                             | 126/782 [00:21<01:34,  6.97it/s]\n",
      "\n",
      "\n",
      "\n",
      " 16%|███████████████████████████▍                                                                                                                                             | 127/782 [00:21<01:31,  7.15it/s]\n",
      "\n",
      "\n",
      "\n",
      " 16%|███████████████████████████▋                                                                                                                                             | 128/782 [00:21<01:32,  7.04it/s]\n",
      "\n",
      "\n",
      "\n",
      " 16%|███████████████████████████▉                                                                                                                                             | 129/782 [00:21<01:32,  7.04it/s]\n",
      "\n",
      "\n",
      "\n",
      " 17%|████████████████████████████                                                                                                                                             | 130/782 [00:21<01:31,  7.09it/s]"
     ]
    },
    {
     "name": "stdout",
     "output_type": "stream",
     "text": [
      "Iter 130.0, Minibatch Loss= 0.904897, Training Accuracy= 0.60938\n"
     ]
    },
    {
     "name": "stderr",
     "output_type": "stream",
     "text": [
      "\n",
      "\n",
      "\n",
      "\n",
      " 17%|████████████████████████████▎                                                                                                                                            | 131/782 [00:21<01:45,  6.19it/s]\n",
      "\n",
      "\n",
      "\n",
      " 17%|████████████████████████████▌                                                                                                                                            | 132/782 [00:21<01:42,  6.35it/s]\n",
      "\n",
      "\n",
      "\n",
      " 17%|████████████████████████████▋                                                                                                                                            | 133/782 [00:22<01:35,  6.76it/s]\n",
      "\n",
      "\n",
      "\n",
      " 17%|████████████████████████████▉                                                                                                                                            | 134/782 [00:22<01:33,  6.94it/s]\n",
      "\n",
      "\n",
      "\n",
      " 17%|█████████████████████████████▏                                                                                                                                           | 135/782 [00:22<01:30,  7.13it/s]\n",
      "\n",
      "\n",
      "\n",
      " 17%|█████████████████████████████▍                                                                                                                                           | 136/782 [00:22<01:31,  7.03it/s]\n",
      "\n",
      "\n",
      "\n",
      " 18%|█████████████████████████████▌                                                                                                                                           | 137/782 [00:22<01:29,  7.18it/s]\n",
      "\n",
      "\n",
      "\n",
      " 18%|█████████████████████████████▊                                                                                                                                           | 138/782 [00:22<01:40,  6.40it/s]\n",
      "\n",
      "\n",
      "\n",
      " 18%|██████████████████████████████                                                                                                                                           | 139/782 [00:23<01:44,  6.17it/s]\n",
      "\n",
      "\n",
      "\n",
      " 18%|██████████████████████████████▎                                                                                                                                          | 140/782 [00:23<01:53,  5.65it/s]"
     ]
    },
    {
     "name": "stdout",
     "output_type": "stream",
     "text": [
      "Iter 140.0, Minibatch Loss= 0.896502, Training Accuracy= 0.60938\n"
     ]
    },
    {
     "name": "stderr",
     "output_type": "stream",
     "text": [
      "\n",
      "\n",
      "\n",
      "\n",
      " 18%|██████████████████████████████▍                                                                                                                                          | 141/782 [00:23<02:07,  5.04it/s]\n",
      "\n",
      "\n",
      "\n",
      " 18%|██████████████████████████████▋                                                                                                                                          | 142/782 [00:23<01:55,  5.56it/s]\n",
      "\n",
      "\n",
      "\n",
      " 18%|██████████████████████████████▉                                                                                                                                          | 143/782 [00:23<01:47,  5.97it/s]\n",
      "\n",
      "\n",
      "\n",
      " 18%|███████████████████████████████                                                                                                                                          | 144/782 [00:23<01:39,  6.42it/s]\n",
      "\n",
      "\n",
      "\n",
      " 19%|███████████████████████████████▎                                                                                                                                         | 145/782 [00:23<01:34,  6.74it/s]\n",
      "\n",
      "\n",
      "\n",
      " 19%|███████████████████████████████▌                                                                                                                                         | 146/782 [00:24<01:31,  6.98it/s]\n",
      "\n",
      "\n",
      "\n",
      " 19%|███████████████████████████████▊                                                                                                                                         | 147/782 [00:24<01:31,  6.97it/s]\n",
      "\n",
      "\n",
      "\n",
      " 19%|███████████████████████████████▉                                                                                                                                         | 148/782 [00:24<01:28,  7.15it/s]\n",
      "\n",
      "\n",
      "\n",
      " 19%|████████████████████████████████▏                                                                                                                                        | 149/782 [00:24<01:30,  6.97it/s]\n",
      "\n",
      "\n",
      "\n",
      " 19%|████████████████████████████████▍                                                                                                                                        | 150/782 [00:24<01:28,  7.12it/s]"
     ]
    },
    {
     "name": "stdout",
     "output_type": "stream",
     "text": [
      "Iter 150.0, Minibatch Loss= 0.890190, Training Accuracy= 0.60938\n"
     ]
    },
    {
     "name": "stderr",
     "output_type": "stream",
     "text": [
      "\n",
      "\n",
      "\n",
      "\n",
      " 19%|████████████████████████████████▋                                                                                                                                        | 151/782 [00:24<01:45,  5.96it/s]\n",
      "\n",
      "\n",
      "\n",
      " 19%|████████████████████████████████▊                                                                                                                                        | 152/782 [00:25<01:39,  6.32it/s]\n",
      "\n",
      "\n",
      "\n",
      " 20%|█████████████████████████████████                                                                                                                                        | 153/782 [00:25<01:37,  6.44it/s]\n",
      "\n",
      "\n",
      "\n",
      " 20%|█████████████████████████████████▎                                                                                                                                       | 154/782 [00:25<01:36,  6.53it/s]\n",
      "\n",
      "\n",
      "\n",
      " 20%|█████████████████████████████████▍                                                                                                                                       | 155/782 [00:25<01:40,  6.25it/s]\n",
      "\n",
      "\n",
      "\n",
      " 20%|█████████████████████████████████▋                                                                                                                                       | 156/782 [00:25<01:38,  6.35it/s]\n",
      "\n",
      "\n",
      "\n",
      " 20%|█████████████████████████████████▉                                                                                                                                       | 157/782 [00:25<01:34,  6.62it/s]\n",
      "\n",
      "\n",
      "\n",
      " 20%|██████████████████████████████████▏                                                                                                                                      | 158/782 [00:25<01:33,  6.66it/s]\n",
      "\n",
      "\n",
      "\n",
      " 20%|██████████████████████████████████▎                                                                                                                                      | 159/782 [00:26<01:35,  6.55it/s]\n",
      "\n",
      "\n",
      "\n",
      " 20%|██████████████████████████████████▌                                                                                                                                      | 160/782 [00:26<01:36,  6.46it/s]"
     ]
    },
    {
     "name": "stdout",
     "output_type": "stream",
     "text": [
      "Iter 160.0, Minibatch Loss= 0.897904, Training Accuracy= 0.60938\n"
     ]
    },
    {
     "name": "stderr",
     "output_type": "stream",
     "text": [
      "\n",
      "\n",
      "\n",
      "\n",
      " 21%|██████████████████████████████████▊                                                                                                                                      | 161/782 [00:26<01:55,  5.37it/s]\n",
      "\n",
      "\n",
      "\n",
      " 21%|███████████████████████████████████                                                                                                                                      | 162/782 [00:26<01:49,  5.65it/s]\n",
      "\n",
      "\n",
      "\n",
      " 21%|███████████████████████████████████▏                                                                                                                                     | 163/782 [00:26<01:47,  5.78it/s]\n",
      "\n",
      "\n",
      "\n",
      " 21%|███████████████████████████████████▍                                                                                                                                     | 164/782 [00:27<01:45,  5.88it/s]\n",
      "\n",
      "\n",
      "\n",
      " 21%|███████████████████████████████████▋                                                                                                                                     | 165/782 [00:27<01:44,  5.89it/s]\n",
      "\n",
      "\n",
      "\n",
      " 21%|███████████████████████████████████▊                                                                                                                                     | 166/782 [00:27<01:40,  6.14it/s]\n",
      "\n",
      "\n",
      "\n",
      " 21%|████████████████████████████████████                                                                                                                                     | 167/782 [00:27<01:44,  5.86it/s]\n",
      "\n",
      "\n",
      "\n",
      " 21%|████████████████████████████████████▎                                                                                                                                    | 168/782 [00:27<01:41,  6.03it/s]\n",
      "\n",
      "\n",
      "\n",
      " 22%|████████████████████████████████████▌                                                                                                                                    | 169/782 [00:27<01:38,  6.23it/s]\n",
      "\n",
      "\n",
      "\n",
      " 22%|████████████████████████████████████▋                                                                                                                                    | 170/782 [00:28<01:41,  6.05it/s]"
     ]
    },
    {
     "name": "stdout",
     "output_type": "stream",
     "text": [
      "Iter 170.0, Minibatch Loss= 0.897819, Training Accuracy= 0.60938\n"
     ]
    },
    {
     "name": "stderr",
     "output_type": "stream",
     "text": [
      "\n",
      "\n",
      "\n",
      "\n",
      " 22%|████████████████████████████████████▉                                                                                                                                    | 171/782 [00:28<01:52,  5.43it/s]\n",
      "\n",
      "\n",
      "\n",
      " 22%|█████████████████████████████████████▏                                                                                                                                   | 172/782 [00:28<01:48,  5.60it/s]\n",
      "\n",
      "\n",
      "\n",
      " 22%|█████████████████████████████████████▍                                                                                                                                   | 173/782 [00:28<01:47,  5.66it/s]\n",
      "\n",
      "\n",
      "\n",
      " 22%|█████████████████████████████████████▌                                                                                                                                   | 174/782 [00:28<01:44,  5.82it/s]\n",
      "\n",
      "\n",
      "\n",
      " 22%|█████████████████████████████████████▊                                                                                                                                   | 175/782 [00:28<01:42,  5.90it/s]\n",
      "\n",
      "\n",
      "\n",
      " 23%|██████████████████████████████████████                                                                                                                                   | 176/782 [00:29<01:39,  6.07it/s]\n",
      "\n",
      "\n",
      "\n",
      " 23%|██████████████████████████████████████▎                                                                                                                                  | 177/782 [00:29<01:34,  6.43it/s]\n",
      "\n",
      "\n",
      "\n",
      " 23%|██████████████████████████████████████▍                                                                                                                                  | 178/782 [00:29<01:32,  6.52it/s]\n",
      "\n",
      "\n",
      "\n",
      " 23%|██████████████████████████████████████▋                                                                                                                                  | 179/782 [00:29<01:29,  6.77it/s]\n",
      "\n",
      "\n",
      "\n",
      " 23%|██████████████████████████████████████▉                                                                                                                                  | 180/782 [00:29<01:27,  6.85it/s]"
     ]
    },
    {
     "name": "stdout",
     "output_type": "stream",
     "text": [
      "Iter 180.0, Minibatch Loss= 0.894594, Training Accuracy= 0.60938\n"
     ]
    },
    {
     "name": "stderr",
     "output_type": "stream",
     "text": [
      "\n",
      "\n",
      "\n",
      "\n",
      " 23%|███████████████████████████████████████                                                                                                                                  | 181/782 [00:29<01:41,  5.92it/s]\n",
      "\n",
      "\n",
      "\n",
      " 23%|███████████████████████████████████████▎                                                                                                                                 | 182/782 [00:29<01:38,  6.08it/s]\n",
      "\n",
      "\n",
      "\n",
      " 23%|███████████████████████████████████████▌                                                                                                                                 | 183/782 [00:30<01:32,  6.50it/s]\n",
      "\n",
      "\n",
      "\n",
      " 24%|███████████████████████████████████████▊                                                                                                                                 | 184/782 [00:30<01:34,  6.35it/s]\n",
      "\n",
      "\n",
      "\n",
      " 24%|███████████████████████████████████████▉                                                                                                                                 | 185/782 [00:30<01:32,  6.47it/s]\n",
      "\n",
      "\n",
      "\n",
      " 24%|████████████████████████████████████████▏                                                                                                                                | 186/782 [00:30<01:34,  6.34it/s]\n",
      "\n",
      "\n",
      "\n",
      " 24%|████████████████████████████████████████▍                                                                                                                                | 187/782 [00:30<01:28,  6.70it/s]\n",
      "\n",
      "\n",
      "\n",
      " 24%|████████████████████████████████████████▋                                                                                                                                | 188/782 [00:30<01:25,  6.95it/s]\n",
      "\n",
      "\n",
      "\n",
      " 24%|████████████████████████████████████████▊                                                                                                                                | 189/782 [00:30<01:24,  7.00it/s]\n",
      "\n",
      "\n",
      "\n",
      " 24%|█████████████████████████████████████████                                                                                                                                | 190/782 [00:31<01:27,  6.76it/s]"
     ]
    },
    {
     "name": "stdout",
     "output_type": "stream",
     "text": [
      "Iter 190.0, Minibatch Loss= 0.891710, Training Accuracy= 0.60938\n"
     ]
    },
    {
     "name": "stderr",
     "output_type": "stream",
     "text": [
      "\n",
      "\n",
      "\n",
      "\n",
      " 24%|█████████████████████████████████████████▎                                                                                                                               | 191/782 [00:31<01:33,  6.29it/s]\n",
      "\n",
      "\n",
      "\n",
      " 25%|█████████████████████████████████████████▍                                                                                                                               | 192/782 [00:31<01:34,  6.23it/s]\n",
      "\n",
      "\n",
      "\n",
      " 25%|█████████████████████████████████████████▋                                                                                                                               | 193/782 [00:31<01:28,  6.69it/s]\n",
      "\n",
      "\n",
      "\n",
      " 25%|█████████████████████████████████████████▉                                                                                                                               | 194/782 [00:31<01:24,  6.93it/s]\n",
      "\n",
      "\n",
      "\n",
      " 25%|██████████████████████████████████████████▏                                                                                                                              | 195/782 [00:31<01:22,  7.12it/s]\n",
      "\n",
      "\n",
      "\n",
      " 25%|██████████████████████████████████████████▎                                                                                                                              | 196/782 [00:32<01:23,  7.03it/s]\n",
      "\n",
      "\n",
      "\n",
      " 25%|██████████████████████████████████████████▌                                                                                                                              | 197/782 [00:32<01:21,  7.19it/s]\n",
      "\n",
      "\n",
      "\n",
      " 25%|██████████████████████████████████████████▊                                                                                                                              | 198/782 [00:32<01:20,  7.22it/s]\n",
      "\n",
      "\n",
      "\n",
      " 25%|███████████████████████████████████████████                                                                                                                              | 199/782 [00:32<01:21,  7.18it/s]\n",
      "\n",
      "\n",
      "\n",
      " 26%|███████████████████████████████████████████▏                                                                                                                             | 200/782 [00:32<01:19,  7.30it/s]"
     ]
    },
    {
     "name": "stdout",
     "output_type": "stream",
     "text": [
      "Iter 200.0, Minibatch Loss= 0.888848, Training Accuracy= 0.60938\n"
     ]
    },
    {
     "name": "stderr",
     "output_type": "stream",
     "text": [
      "\n",
      "\n",
      "\n",
      "\n",
      " 26%|███████████████████████████████████████████▍                                                                                                                             | 201/782 [00:32<01:35,  6.09it/s]\n",
      "\n",
      "\n",
      "\n",
      " 26%|███████████████████████████████████████████▋                                                                                                                             | 202/782 [00:32<01:34,  6.13it/s]\n",
      "\n",
      "\n",
      "\n",
      " 26%|███████████████████████████████████████████▊                                                                                                                             | 203/782 [00:33<01:28,  6.55it/s]\n",
      "\n",
      "\n",
      "\n",
      " 26%|████████████████████████████████████████████                                                                                                                             | 204/782 [00:33<01:23,  6.89it/s]\n",
      "\n",
      "\n",
      "\n",
      " 26%|████████████████████████████████████████████▎                                                                                                                            | 205/782 [00:33<01:20,  7.15it/s]\n",
      "\n",
      "\n",
      "\n",
      " 26%|████████████████████████████████████████████▌                                                                                                                            | 206/782 [00:33<01:17,  7.44it/s]\n",
      "\n",
      "\n",
      "\n",
      " 26%|████████████████████████████████████████████▋                                                                                                                            | 207/782 [00:33<01:22,  6.93it/s]\n",
      "\n",
      "\n",
      "\n",
      " 27%|████████████████████████████████████████████▉                                                                                                                            | 208/782 [00:33<01:23,  6.89it/s]\n",
      "\n",
      "\n",
      "\n",
      " 27%|█████████████████████████████████████████████▏                                                                                                                           | 209/782 [00:33<01:21,  7.03it/s]\n",
      "\n",
      "\n",
      "\n",
      " 27%|█████████████████████████████████████████████▍                                                                                                                           | 210/782 [00:34<01:22,  6.94it/s]"
     ]
    },
    {
     "name": "stdout",
     "output_type": "stream",
     "text": [
      "Iter 210.0, Minibatch Loss= 0.885097, Training Accuracy= 0.60938\n"
     ]
    },
    {
     "name": "stderr",
     "output_type": "stream",
     "text": [
      "\n",
      "\n",
      "\n",
      "\n",
      " 27%|█████████████████████████████████████████████▌                                                                                                                           | 211/782 [00:34<01:32,  6.18it/s]\n",
      "\n",
      "\n",
      "\n",
      " 27%|█████████████████████████████████████████████▊                                                                                                                           | 212/782 [00:34<01:29,  6.36it/s]\n",
      "\n",
      "\n",
      "\n",
      " 27%|██████████████████████████████████████████████                                                                                                                           | 213/782 [00:34<01:25,  6.63it/s]\n",
      "\n",
      "\n",
      "\n",
      " 27%|██████████████████████████████████████████████▏                                                                                                                          | 214/782 [00:34<01:21,  6.96it/s]\n",
      "\n",
      "\n",
      "\n",
      " 27%|██████████████████████████████████████████████▍                                                                                                                          | 215/782 [00:34<01:20,  7.08it/s]\n",
      "\n",
      "\n",
      "\n",
      " 28%|██████████████████████████████████████████████▋                                                                                                                          | 216/782 [00:34<01:23,  6.75it/s]\n",
      "\n",
      "\n",
      "\n",
      " 28%|██████████████████████████████████████████████▉                                                                                                                          | 217/782 [00:35<01:27,  6.46it/s]\n",
      "\n",
      "\n",
      "\n",
      " 28%|███████████████████████████████████████████████                                                                                                                          | 218/782 [00:35<01:28,  6.35it/s]\n",
      "\n",
      "\n",
      "\n",
      " 28%|███████████████████████████████████████████████▎                                                                                                                         | 219/782 [00:35<01:28,  6.36it/s]\n",
      "\n",
      "\n",
      "\n",
      " 28%|███████████████████████████████████████████████▌                                                                                                                         | 220/782 [00:35<01:24,  6.68it/s]"
     ]
    },
    {
     "name": "stdout",
     "output_type": "stream",
     "text": [
      "Iter 220.0, Minibatch Loss= 0.880490, Training Accuracy= 0.61719\n"
     ]
    },
    {
     "name": "stderr",
     "output_type": "stream",
     "text": [
      "\n",
      "\n",
      "\n",
      "\n",
      " 28%|███████████████████████████████████████████████▊                                                                                                                         | 221/782 [00:35<01:32,  6.10it/s]\n",
      "\n",
      "\n",
      "\n",
      " 28%|███████████████████████████████████████████████▉                                                                                                                         | 222/782 [00:35<01:27,  6.44it/s]\n",
      "\n",
      "\n",
      "\n",
      " 29%|████████████████████████████████████████████████▏                                                                                                                        | 223/782 [00:36<01:23,  6.70it/s]\n",
      "\n",
      "\n",
      "\n",
      " 29%|████████████████████████████████████████████████▍                                                                                                                        | 224/782 [00:36<01:22,  6.73it/s]\n",
      "\n",
      "\n",
      "\n",
      " 29%|████████████████████████████████████████████████▋                                                                                                                        | 225/782 [00:36<01:19,  6.97it/s]\n",
      "\n",
      "\n",
      "\n",
      " 29%|████████████████████████████████████████████████▊                                                                                                                        | 226/782 [00:36<01:21,  6.81it/s]\n",
      "\n",
      "\n",
      "\n",
      " 29%|█████████████████████████████████████████████████                                                                                                                        | 227/782 [00:36<01:20,  6.89it/s]\n",
      "\n",
      "\n",
      "\n",
      " 29%|█████████████████████████████████████████████████▎                                                                                                                       | 228/782 [00:36<01:17,  7.14it/s]\n",
      "\n",
      "\n",
      "\n",
      " 29%|█████████████████████████████████████████████████▍                                                                                                                       | 229/782 [00:36<01:15,  7.28it/s]\n",
      "\n",
      "\n",
      "\n",
      " 29%|█████████████████████████████████████████████████▋                                                                                                                       | 230/782 [00:37<01:16,  7.23it/s]"
     ]
    },
    {
     "name": "stdout",
     "output_type": "stream",
     "text": [
      "Iter 230.0, Minibatch Loss= 0.875556, Training Accuracy= 0.61719\n"
     ]
    },
    {
     "name": "stderr",
     "output_type": "stream",
     "text": [
      "\n",
      "\n",
      "\n",
      "\n",
      " 30%|█████████████████████████████████████████████████▉                                                                                                                       | 231/782 [00:37<01:25,  6.42it/s]\n",
      "\n",
      "\n",
      "\n",
      " 30%|██████████████████████████████████████████████████▏                                                                                                                      | 232/782 [00:37<01:27,  6.26it/s]\n",
      "\n",
      "\n",
      "\n",
      " 30%|██████████████████████████████████████████████████▎                                                                                                                      | 233/782 [00:37<01:34,  5.79it/s]\n",
      "\n",
      "\n",
      "\n",
      " 30%|██████████████████████████████████████████████████▌                                                                                                                      | 234/782 [00:37<01:33,  5.87it/s]\n",
      "\n",
      "\n",
      "\n",
      " 30%|██████████████████████████████████████████████████▊                                                                                                                      | 235/782 [00:37<01:33,  5.83it/s]\n",
      "\n",
      "\n",
      "\n",
      " 30%|███████████████████████████████████████████████████                                                                                                                      | 236/782 [00:38<01:33,  5.84it/s]\n",
      "\n",
      "\n",
      "\n",
      " 30%|███████████████████████████████████████████████████▏                                                                                                                     | 237/782 [00:38<01:31,  5.94it/s]\n",
      "\n",
      "\n",
      "\n",
      " 30%|███████████████████████████████████████████████████▍                                                                                                                     | 238/782 [00:38<01:33,  5.82it/s]\n",
      "\n",
      "\n",
      "\n",
      " 31%|███████████████████████████████████████████████████▋                                                                                                                     | 239/782 [00:38<01:30,  5.97it/s]\n",
      "\n",
      "\n",
      "\n",
      " 31%|███████████████████████████████████████████████████▊                                                                                                                     | 240/782 [00:38<01:34,  5.76it/s]"
     ]
    },
    {
     "name": "stdout",
     "output_type": "stream",
     "text": [
      "Iter 240.0, Minibatch Loss= 0.870799, Training Accuracy= 0.61719\n"
     ]
    },
    {
     "name": "stderr",
     "output_type": "stream",
     "text": [
      "\n",
      "\n",
      "\n",
      "\n",
      " 31%|████████████████████████████████████████████████████                                                                                                                     | 241/782 [00:39<01:42,  5.29it/s]\n",
      "\n",
      "\n",
      "\n",
      " 31%|████████████████████████████████████████████████████▎                                                                                                                    | 242/782 [00:39<01:33,  5.76it/s]\n",
      "\n",
      "\n",
      "\n",
      " 31%|████████████████████████████████████████████████████▌                                                                                                                    | 243/782 [00:39<01:26,  6.24it/s]\n",
      "\n",
      "\n",
      "\n",
      " 31%|████████████████████████████████████████████████████▋                                                                                                                    | 244/782 [00:39<01:20,  6.70it/s]\n",
      "\n",
      "\n",
      "\n",
      " 31%|████████████████████████████████████████████████████▉                                                                                                                    | 245/782 [00:39<01:19,  6.75it/s]\n",
      "\n",
      "\n",
      "\n",
      " 31%|█████████████████████████████████████████████████████▏                                                                                                                   | 246/782 [00:39<01:19,  6.74it/s]\n",
      "\n",
      "\n",
      "\n",
      " 32%|█████████████████████████████████████████████████████▍                                                                                                                   | 247/782 [00:39<01:16,  6.96it/s]\n",
      "\n",
      "\n",
      "\n",
      " 32%|█████████████████████████████████████████████████████▌                                                                                                                   | 248/782 [00:40<01:16,  6.96it/s]\n",
      "\n",
      "\n",
      "\n",
      " 32%|█████████████████████████████████████████████████████▊                                                                                                                   | 249/782 [00:40<01:12,  7.39it/s]\n",
      "\n",
      "\n",
      "\n",
      " 32%|██████████████████████████████████████████████████████                                                                                                                   | 250/782 [00:40<01:17,  6.83it/s]"
     ]
    },
    {
     "name": "stdout",
     "output_type": "stream",
     "text": [
      "Iter 250.0, Minibatch Loss= 0.914108, Training Accuracy= 0.60156\n"
     ]
    },
    {
     "name": "stderr",
     "output_type": "stream",
     "text": [
      "\n",
      "\n",
      "\n",
      "\n",
      " 32%|██████████████████████████████████████████████████████▏                                                                                                                  | 251/782 [00:40<01:36,  5.50it/s]\n",
      "\n",
      "\n",
      "\n",
      " 32%|██████████████████████████████████████████████████████▍                                                                                                                  | 252/782 [00:40<01:33,  5.67it/s]\n",
      "\n",
      "\n",
      "\n",
      " 32%|██████████████████████████████████████████████████████▋                                                                                                                  | 253/782 [00:40<01:31,  5.79it/s]\n",
      "\n",
      "\n",
      "\n",
      " 32%|██████████████████████████████████████████████████████▉                                                                                                                  | 254/782 [00:41<01:28,  5.94it/s]\n",
      "\n",
      "\n",
      "\n",
      " 33%|███████████████████████████████████████████████████████                                                                                                                  | 255/782 [00:41<01:24,  6.20it/s]\n",
      "\n",
      "\n",
      "\n",
      " 33%|███████████████████████████████████████████████████████▎                                                                                                                 | 256/782 [00:41<01:29,  5.90it/s]\n",
      "\n",
      "\n",
      "\n",
      " 33%|███████████████████████████████████████████████████████▌                                                                                                                 | 257/782 [00:41<01:26,  6.06it/s]\n",
      "\n",
      "\n",
      "\n",
      " 33%|███████████████████████████████████████████████████████▊                                                                                                                 | 258/782 [00:41<01:23,  6.30it/s]\n",
      "\n",
      "\n",
      "\n",
      " 33%|███████████████████████████████████████████████████████▉                                                                                                                 | 259/782 [00:41<01:18,  6.63it/s]\n",
      "\n",
      "\n",
      "\n",
      " 33%|████████████████████████████████████████████████████████▏                                                                                                                | 260/782 [00:41<01:15,  6.93it/s]"
     ]
    },
    {
     "name": "stdout",
     "output_type": "stream",
     "text": [
      "Iter 260.0, Minibatch Loss= 0.881986, Training Accuracy= 0.60156\n"
     ]
    },
    {
     "name": "stderr",
     "output_type": "stream",
     "text": [
      "\n",
      "\n",
      "\n",
      "\n",
      " 33%|████████████████████████████████████████████████████████▍                                                                                                                | 261/782 [00:42<01:23,  6.27it/s]\n",
      "\n",
      "\n",
      "\n",
      " 34%|████████████████████████████████████████████████████████▌                                                                                                                | 262/782 [00:42<01:18,  6.62it/s]\n",
      "\n",
      "\n",
      "\n",
      " 34%|████████████████████████████████████████████████████████▊                                                                                                                | 263/782 [00:42<01:16,  6.77it/s]\n",
      "\n",
      "\n",
      "\n",
      " 34%|█████████████████████████████████████████████████████████                                                                                                                | 264/782 [00:42<01:19,  6.52it/s]\n",
      "\n",
      "\n",
      "\n",
      " 34%|█████████████████████████████████████████████████████████▎                                                                                                               | 265/782 [00:42<01:16,  6.79it/s]\n",
      "\n",
      "\n",
      "\n",
      " 34%|█████████████████████████████████████████████████████████▍                                                                                                               | 266/782 [00:42<01:16,  6.78it/s]\n",
      "\n",
      "\n",
      "\n",
      " 34%|█████████████████████████████████████████████████████████▋                                                                                                               | 267/782 [00:42<01:14,  6.87it/s]\n",
      "\n",
      "\n",
      "\n",
      " 34%|█████████████████████████████████████████████████████████▉                                                                                                               | 268/782 [00:43<01:12,  7.13it/s]\n",
      "\n",
      "\n",
      "\n",
      " 34%|██████████████████████████████████████████████████████████▏                                                                                                              | 269/782 [00:43<01:12,  7.04it/s]\n",
      "\n",
      "\n",
      "\n",
      " 35%|██████████████████████████████████████████████████████████▎                                                                                                              | 270/782 [00:43<01:13,  7.01it/s]"
     ]
    },
    {
     "name": "stdout",
     "output_type": "stream",
     "text": [
      "Iter 270.0, Minibatch Loss= 0.870487, Training Accuracy= 0.60156\n"
     ]
    },
    {
     "name": "stderr",
     "output_type": "stream",
     "text": [
      "\n",
      "\n",
      "\n",
      "\n",
      " 35%|██████████████████████████████████████████████████████████▌                                                                                                              | 271/782 [00:43<01:27,  5.85it/s]\n",
      "\n",
      "\n",
      "\n",
      " 35%|██████████████████████████████████████████████████████████▊                                                                                                              | 272/782 [00:43<01:20,  6.34it/s]\n",
      "\n",
      "\n",
      "\n",
      " 35%|██████████████████████████████████████████████████████████▉                                                                                                              | 273/782 [00:43<01:16,  6.69it/s]\n",
      "\n",
      "\n",
      "\n",
      " 35%|███████████████████████████████████████████████████████████▏                                                                                                             | 274/782 [00:44<01:15,  6.72it/s]\n",
      "\n",
      "\n",
      "\n",
      " 35%|███████████████████████████████████████████████████████████▍                                                                                                             | 275/782 [00:44<01:11,  7.09it/s]\n",
      "\n",
      "\n",
      "\n",
      " 35%|███████████████████████████████████████████████████████████▋                                                                                                             | 276/782 [00:44<01:15,  6.69it/s]\n",
      "\n",
      "\n",
      "\n",
      " 35%|███████████████████████████████████████████████████████████▊                                                                                                             | 277/782 [00:44<01:15,  6.72it/s]\n",
      "\n",
      "\n",
      "\n",
      " 36%|████████████████████████████████████████████████████████████                                                                                                             | 278/782 [00:44<01:13,  6.81it/s]\n",
      "\n",
      "\n",
      "\n",
      " 36%|████████████████████████████████████████████████████████████▎                                                                                                            | 279/782 [00:44<01:11,  7.03it/s]\n",
      "\n",
      "\n",
      "\n",
      " 36%|████████████████████████████████████████████████████████████▌                                                                                                            | 280/782 [00:44<01:14,  6.73it/s]"
     ]
    },
    {
     "name": "stdout",
     "output_type": "stream",
     "text": [
      "Iter 280.0, Minibatch Loss= 0.859226, Training Accuracy= 0.60156\n"
     ]
    },
    {
     "name": "stderr",
     "output_type": "stream",
     "text": [
      "\n",
      "\n",
      "\n",
      "\n",
      " 36%|████████████████████████████████████████████████████████████▋                                                                                                            | 281/782 [00:45<01:24,  5.95it/s]\n",
      "\n",
      "\n",
      "\n",
      " 36%|████████████████████████████████████████████████████████████▉                                                                                                            | 282/782 [00:45<01:23,  6.01it/s]\n",
      "\n",
      "\n",
      "\n",
      " 36%|█████████████████████████████████████████████████████████████▏                                                                                                           | 283/782 [00:45<01:24,  5.91it/s]\n",
      "\n",
      "\n",
      "\n",
      " 36%|█████████████████████████████████████████████████████████████▍                                                                                                           | 284/782 [00:45<01:23,  6.00it/s]\n",
      "\n",
      "\n",
      "\n",
      " 36%|█████████████████████████████████████████████████████████████▌                                                                                                           | 285/782 [00:45<01:17,  6.40it/s]\n",
      "\n",
      "\n",
      "\n",
      " 37%|█████████████████████████████████████████████████████████████▊                                                                                                           | 286/782 [00:45<01:13,  6.72it/s]\n",
      "\n",
      "\n",
      "\n",
      " 37%|██████████████████████████████████████████████████████████████                                                                                                           | 287/782 [00:46<01:12,  6.84it/s]\n",
      "\n",
      "\n",
      "\n",
      " 37%|██████████████████████████████████████████████████████████████▏                                                                                                          | 288/782 [00:46<01:11,  6.92it/s]\n",
      "\n",
      "\n",
      "\n",
      " 37%|██████████████████████████████████████████████████████████████▍                                                                                                          | 289/782 [00:46<01:13,  6.70it/s]\n",
      "\n",
      "\n",
      "\n",
      " 37%|██████████████████████████████████████████████████████████████▋                                                                                                          | 290/782 [00:46<01:12,  6.75it/s]"
     ]
    },
    {
     "name": "stdout",
     "output_type": "stream",
     "text": [
      "Iter 290.0, Minibatch Loss= 0.842014, Training Accuracy= 0.60156\n"
     ]
    },
    {
     "name": "stderr",
     "output_type": "stream",
     "text": [
      "\n",
      "\n",
      "\n",
      "\n",
      " 37%|██████████████████████████████████████████████████████████████▉                                                                                                          | 291/782 [00:46<01:29,  5.50it/s]\n",
      "\n",
      "\n",
      "\n",
      " 37%|███████████████████████████████████████████████████████████████                                                                                                          | 292/782 [00:46<01:21,  6.05it/s]\n",
      "\n",
      "\n",
      "\n",
      " 37%|███████████████████████████████████████████████████████████████▎                                                                                                         | 293/782 [00:47<01:18,  6.26it/s]\n",
      "\n",
      "\n",
      "\n",
      " 38%|███████████████████████████████████████████████████████████████▌                                                                                                         | 294/782 [00:47<01:12,  6.69it/s]\n",
      "\n",
      "\n",
      "\n",
      " 38%|███████████████████████████████████████████████████████████████▊                                                                                                         | 295/782 [00:47<01:10,  6.94it/s]\n",
      "\n",
      "\n",
      "\n",
      " 38%|███████████████████████████████████████████████████████████████▉                                                                                                         | 296/782 [00:47<01:08,  7.13it/s]\n",
      "\n",
      "\n",
      "\n",
      " 38%|████████████████████████████████████████████████████████████████▏                                                                                                        | 297/782 [00:47<01:07,  7.16it/s]\n",
      "\n",
      "\n",
      "\n",
      " 38%|████████████████████████████████████████████████████████████████▍                                                                                                        | 298/782 [00:47<01:07,  7.18it/s]\n",
      "\n",
      "\n",
      "\n",
      " 38%|████████████████████████████████████████████████████████████████▌                                                                                                        | 299/782 [00:47<01:05,  7.41it/s]\n",
      "\n",
      "\n",
      "\n",
      " 38%|████████████████████████████████████████████████████████████████▊                                                                                                        | 300/782 [00:47<01:06,  7.28it/s]"
     ]
    },
    {
     "name": "stdout",
     "output_type": "stream",
     "text": [
      "Iter 300.0, Minibatch Loss= 0.879232, Training Accuracy= 0.60156\n"
     ]
    },
    {
     "name": "stderr",
     "output_type": "stream",
     "text": [
      "\n",
      "\n",
      "\n",
      "\n",
      " 38%|█████████████████████████████████████████████████████████████████                                                                                                        | 301/782 [00:48<01:18,  6.17it/s]\n",
      "\n",
      "\n",
      "\n",
      " 39%|█████████████████████████████████████████████████████████████████▎                                                                                                       | 302/782 [00:48<01:13,  6.55it/s]\n",
      "\n",
      "\n",
      "\n",
      " 39%|█████████████████████████████████████████████████████████████████▍                                                                                                       | 303/782 [00:48<01:10,  6.84it/s]\n",
      "\n",
      "\n",
      "\n",
      " 39%|█████████████████████████████████████████████████████████████████▋                                                                                                       | 304/782 [00:48<01:10,  6.73it/s]\n",
      "\n",
      "\n",
      "\n",
      " 39%|█████████████████████████████████████████████████████████████████▉                                                                                                       | 305/782 [00:48<01:11,  6.64it/s]\n",
      "\n",
      "\n",
      "\n",
      " 39%|██████████████████████████████████████████████████████████████████▏                                                                                                      | 306/782 [00:48<01:09,  6.85it/s]\n",
      "\n",
      "\n",
      "\n",
      " 39%|██████████████████████████████████████████████████████████████████▎                                                                                                      | 307/782 [00:49<01:07,  7.07it/s]\n",
      "\n",
      "\n",
      "\n",
      " 39%|██████████████████████████████████████████████████████████████████▌                                                                                                      | 308/782 [00:49<01:06,  7.15it/s]\n",
      "\n",
      "\n",
      "\n",
      " 40%|██████████████████████████████████████████████████████████████████▊                                                                                                      | 309/782 [00:49<01:03,  7.43it/s]\n",
      "\n",
      "\n",
      "\n",
      " 40%|██████████████████████████████████████████████████████████████████▉                                                                                                      | 310/782 [00:49<01:03,  7.48it/s]"
     ]
    },
    {
     "name": "stdout",
     "output_type": "stream",
     "text": [
      "Iter 310.0, Minibatch Loss= 0.866970, Training Accuracy= 0.60156\n"
     ]
    },
    {
     "name": "stderr",
     "output_type": "stream",
     "text": [
      "\n",
      "\n",
      "\n",
      "\n",
      " 40%|███████████████████████████████████████████████████████████████████▏                                                                                                     | 311/782 [00:49<01:12,  6.51it/s]\n",
      "\n",
      "\n",
      "\n",
      " 40%|███████████████████████████████████████████████████████████████████▍                                                                                                     | 312/782 [00:49<01:10,  6.63it/s]\n",
      "\n",
      "\n",
      "\n",
      " 40%|███████████████████████████████████████████████████████████████████▋                                                                                                     | 313/782 [00:49<01:07,  7.00it/s]\n",
      "\n",
      "\n",
      "\n",
      " 40%|███████████████████████████████████████████████████████████████████▊                                                                                                     | 314/782 [00:49<01:05,  7.17it/s]\n",
      "\n",
      "\n",
      "\n",
      " 40%|████████████████████████████████████████████████████████████████████                                                                                                     | 315/782 [00:50<01:04,  7.25it/s]\n",
      "\n",
      "\n",
      "\n",
      " 40%|████████████████████████████████████████████████████████████████████▎                                                                                                    | 316/782 [00:50<01:07,  6.86it/s]\n",
      "\n",
      "\n",
      "\n",
      " 41%|████████████████████████████████████████████████████████████████████▌                                                                                                    | 317/782 [00:50<01:09,  6.66it/s]\n",
      "\n",
      "\n",
      "\n",
      " 41%|████████████████████████████████████████████████████████████████████▋                                                                                                    | 318/782 [00:50<01:08,  6.75it/s]\n",
      "\n",
      "\n",
      "\n",
      " 41%|████████████████████████████████████████████████████████████████████▉                                                                                                    | 319/782 [00:50<01:08,  6.78it/s]\n",
      "\n",
      "\n",
      "\n",
      " 41%|█████████████████████████████████████████████████████████████████████▏                                                                                                   | 320/782 [00:50<01:04,  7.12it/s]"
     ]
    },
    {
     "name": "stdout",
     "output_type": "stream",
     "text": [
      "Iter 320.0, Minibatch Loss= 0.864884, Training Accuracy= 0.60156\n"
     ]
    },
    {
     "name": "stderr",
     "output_type": "stream",
     "text": [
      "\n",
      "\n",
      "\n",
      "\n",
      " 41%|█████████████████████████████████████████████████████████████████████▎                                                                                                   | 321/782 [00:51<01:13,  6.31it/s]\n",
      "\n",
      "\n",
      "\n",
      " 41%|█████████████████████████████████████████████████████████████████████▌                                                                                                   | 322/782 [00:51<01:09,  6.65it/s]\n",
      "\n",
      "\n",
      "\n",
      " 41%|█████████████████████████████████████████████████████████████████████▊                                                                                                   | 323/782 [00:51<01:07,  6.84it/s]\n",
      "\n",
      "\n",
      "\n",
      " 41%|██████████████████████████████████████████████████████████████████████                                                                                                   | 324/782 [00:51<01:08,  6.65it/s]\n",
      "\n",
      "\n",
      "\n",
      " 42%|██████████████████████████████████████████████████████████████████████▏                                                                                                  | 325/782 [00:51<01:06,  6.90it/s]\n",
      "\n",
      "\n",
      "\n",
      " 42%|██████████████████████████████████████████████████████████████████████▍                                                                                                  | 326/782 [00:51<01:04,  7.08it/s]\n",
      "\n",
      "\n",
      "\n",
      " 42%|██████████████████████████████████████████████████████████████████████▋                                                                                                  | 327/782 [00:51<01:03,  7.17it/s]\n",
      "\n",
      "\n",
      "\n",
      " 42%|██████████████████████████████████████████████████████████████████████▉                                                                                                  | 328/782 [00:52<01:04,  7.07it/s]\n",
      "\n",
      "\n",
      "\n",
      " 42%|███████████████████████████████████████████████████████████████████████                                                                                                  | 329/782 [00:52<01:01,  7.41it/s]\n",
      "\n",
      "\n",
      "\n",
      " 42%|███████████████████████████████████████████████████████████████████████▎                                                                                                 | 330/782 [00:52<01:00,  7.45it/s]"
     ]
    },
    {
     "name": "stdout",
     "output_type": "stream",
     "text": [
      "Iter 330.0, Minibatch Loss= 0.858355, Training Accuracy= 0.60156\n"
     ]
    },
    {
     "name": "stderr",
     "output_type": "stream",
     "text": [
      "\n",
      "\n",
      "\n",
      "\n",
      " 42%|███████████████████████████████████████████████████████████████████████▌                                                                                                 | 331/782 [00:52<01:11,  6.32it/s]\n",
      "\n",
      "\n",
      "\n",
      " 42%|███████████████████████████████████████████████████████████████████████▋                                                                                                 | 332/782 [00:52<01:07,  6.69it/s]\n",
      "\n",
      "\n",
      "\n",
      " 43%|███████████████████████████████████████████████████████████████████████▉                                                                                                 | 333/782 [00:52<01:06,  6.71it/s]\n",
      "\n",
      "\n",
      "\n",
      " 43%|████████████████████████████████████████████████████████████████████████▏                                                                                                | 334/782 [00:52<01:05,  6.88it/s]\n",
      "\n",
      "\n",
      "\n",
      " 43%|████████████████████████████████████████████████████████████████████████▍                                                                                                | 335/782 [00:53<01:08,  6.57it/s]\n",
      "\n",
      "\n",
      "\n",
      " 43%|████████████████████████████████████████████████████████████████████████▌                                                                                                | 336/782 [00:53<01:06,  6.69it/s]\n",
      "\n",
      "\n",
      "\n",
      " 43%|████████████████████████████████████████████████████████████████████████▊                                                                                                | 337/782 [00:53<01:04,  6.94it/s]\n",
      "\n",
      "\n",
      "\n",
      " 43%|█████████████████████████████████████████████████████████████████████████                                                                                                | 338/782 [00:53<01:07,  6.57it/s]\n",
      "\n",
      "\n",
      "\n",
      " 43%|█████████████████████████████████████████████████████████████████████████▎                                                                                               | 339/782 [00:53<01:04,  6.84it/s]\n",
      "\n",
      "\n",
      "\n",
      " 43%|█████████████████████████████████████████████████████████████████████████▍                                                                                               | 340/782 [00:53<01:07,  6.51it/s]"
     ]
    },
    {
     "name": "stdout",
     "output_type": "stream",
     "text": [
      "Iter 340.0, Minibatch Loss= 0.842174, Training Accuracy= 0.60156\n"
     ]
    },
    {
     "name": "stderr",
     "output_type": "stream",
     "text": [
      "\n",
      "\n",
      "\n",
      "\n",
      " 44%|█████████████████████████████████████████████████████████████████████████▋                                                                                               | 341/782 [00:54<01:15,  5.86it/s]\n",
      "\n",
      "\n",
      "\n",
      " 44%|█████████████████████████████████████████████████████████████████████████▉                                                                                               | 342/782 [00:54<01:09,  6.35it/s]\n",
      "\n",
      "\n",
      "\n",
      " 44%|██████████████████████████████████████████████████████████████████████████▏                                                                                              | 343/782 [00:54<01:04,  6.83it/s]\n",
      "\n",
      "\n",
      "\n",
      " 44%|██████████████████████████████████████████████████████████████████████████▎                                                                                              | 344/782 [00:54<01:02,  7.05it/s]\n",
      "\n",
      "\n",
      "\n",
      " 44%|██████████████████████████████████████████████████████████████████████████▌                                                                                              | 345/782 [00:54<01:02,  6.95it/s]\n",
      "\n",
      "\n",
      "\n",
      " 44%|██████████████████████████████████████████████████████████████████████████▊                                                                                              | 346/782 [00:54<01:03,  6.91it/s]\n",
      "\n",
      "\n",
      "\n",
      " 44%|██████████████████████████████████████████████████████████████████████████▉                                                                                              | 347/782 [00:54<01:08,  6.32it/s]\n",
      "\n",
      "\n",
      "\n",
      " 45%|███████████████████████████████████████████████████████████████████████████▏                                                                                             | 348/782 [00:55<01:11,  6.07it/s]\n",
      "\n",
      "\n",
      "\n",
      " 45%|███████████████████████████████████████████████████████████████████████████▍                                                                                             | 349/782 [00:55<01:06,  6.47it/s]\n",
      "\n",
      "\n",
      "\n",
      " 45%|███████████████████████████████████████████████████████████████████████████▋                                                                                             | 350/782 [00:55<01:06,  6.48it/s]"
     ]
    },
    {
     "name": "stdout",
     "output_type": "stream",
     "text": [
      "Iter 350.0, Minibatch Loss= 0.854658, Training Accuracy= 0.60156\n"
     ]
    },
    {
     "name": "stderr",
     "output_type": "stream",
     "text": [
      "\n",
      "\n",
      "\n",
      "\n",
      " 45%|███████████████████████████████████████████████████████████████████████████▊                                                                                             | 351/782 [00:55<01:15,  5.70it/s]\n",
      "\n",
      "\n",
      "\n",
      " 45%|████████████████████████████████████████████████████████████████████████████                                                                                             | 352/782 [00:55<01:10,  6.08it/s]\n",
      "\n",
      "\n",
      "\n",
      " 45%|████████████████████████████████████████████████████████████████████████████▎                                                                                            | 353/782 [00:55<01:05,  6.55it/s]\n",
      "\n",
      "\n",
      "\n",
      " 45%|████████████████████████████████████████████████████████████████████████████▌                                                                                            | 354/782 [00:56<01:02,  6.84it/s]\n",
      "\n",
      "\n",
      "\n",
      " 45%|████████████████████████████████████████████████████████████████████████████▋                                                                                            | 355/782 [00:56<01:02,  6.81it/s]\n",
      "\n",
      "\n",
      "\n",
      " 46%|████████████████████████████████████████████████████████████████████████████▉                                                                                            | 356/782 [00:56<01:01,  6.89it/s]\n",
      "\n",
      "\n",
      "\n",
      " 46%|█████████████████████████████████████████████████████████████████████████████▏                                                                                           | 357/782 [00:56<01:06,  6.36it/s]\n",
      "\n",
      "\n",
      "\n",
      " 46%|█████████████████████████████████████████████████████████████████████████████▎                                                                                           | 358/782 [00:56<01:08,  6.19it/s]\n",
      "\n",
      "\n",
      "\n",
      " 46%|█████████████████████████████████████████████████████████████████████████████▌                                                                                           | 359/782 [00:56<01:08,  6.19it/s]\n",
      "\n",
      "\n",
      "\n",
      " 46%|█████████████████████████████████████████████████████████████████████████████▊                                                                                           | 360/782 [00:56<01:05,  6.39it/s]"
     ]
    },
    {
     "name": "stdout",
     "output_type": "stream",
     "text": [
      "Iter 360.0, Minibatch Loss= 1.081075, Training Accuracy= 0.53906\n"
     ]
    },
    {
     "name": "stderr",
     "output_type": "stream",
     "text": [
      "\n",
      "\n",
      "\n",
      "\n",
      " 46%|██████████████████████████████████████████████████████████████████████████████                                                                                           | 361/782 [00:57<01:19,  5.31it/s]\n",
      "\n",
      "\n",
      "\n",
      " 46%|██████████████████████████████████████████████████████████████████████████████▏                                                                                          | 362/782 [00:57<01:16,  5.48it/s]\n",
      "\n",
      "\n",
      "\n",
      " 46%|██████████████████████████████████████████████████████████████████████████████▍                                                                                          | 363/782 [00:57<01:12,  5.75it/s]\n",
      "\n",
      "\n",
      "\n",
      " 47%|██████████████████████████████████████████████████████████████████████████████▋                                                                                          | 364/782 [00:57<01:14,  5.65it/s]\n",
      "\n",
      "\n",
      "\n",
      " 47%|██████████████████████████████████████████████████████████████████████████████▉                                                                                          | 365/782 [00:57<01:10,  5.90it/s]\n",
      "\n",
      "\n",
      "\n",
      " 47%|███████████████████████████████████████████████████████████████████████████████                                                                                          | 366/782 [00:58<01:11,  5.79it/s]\n",
      "\n",
      "\n",
      "\n",
      " 47%|███████████████████████████████████████████████████████████████████████████████▎                                                                                         | 367/782 [00:58<01:10,  5.88it/s]\n",
      "\n",
      "\n",
      "\n",
      " 47%|███████████████████████████████████████████████████████████████████████████████▌                                                                                         | 368/782 [00:58<01:10,  5.89it/s]\n",
      "\n",
      "\n",
      "\n",
      " 47%|███████████████████████████████████████████████████████████████████████████████▋                                                                                         | 369/782 [00:58<01:09,  5.93it/s]\n",
      "\n",
      "\n",
      "\n",
      " 47%|███████████████████████████████████████████████████████████████████████████████▉                                                                                         | 370/782 [00:58<01:08,  6.05it/s]"
     ]
    },
    {
     "name": "stdout",
     "output_type": "stream",
     "text": [
      "Iter 370.0, Minibatch Loss= 0.760929, Training Accuracy= 0.60156\n"
     ]
    },
    {
     "name": "stderr",
     "output_type": "stream",
     "text": [
      "\n",
      "\n",
      "\n",
      "\n",
      " 47%|████████████████████████████████████████████████████████████████████████████████▏                                                                                        | 371/782 [00:58<01:21,  5.06it/s]\n",
      "\n",
      "\n",
      "\n",
      " 48%|████████████████████████████████████████████████████████████████████████████████▍                                                                                        | 372/782 [00:59<01:13,  5.59it/s]\n",
      "\n",
      "\n",
      "\n",
      " 48%|████████████████████████████████████████████████████████████████████████████████▌                                                                                        | 373/782 [00:59<01:07,  6.09it/s]\n",
      "\n",
      "\n",
      "\n",
      " 48%|████████████████████████████████████████████████████████████████████████████████▊                                                                                        | 374/782 [00:59<01:03,  6.43it/s]\n",
      "\n",
      "\n",
      "\n",
      " 48%|█████████████████████████████████████████████████████████████████████████████████                                                                                        | 375/782 [00:59<01:01,  6.63it/s]\n",
      "\n",
      "\n",
      "\n",
      " 48%|█████████████████████████████████████████████████████████████████████████████████▎                                                                                       | 376/782 [00:59<00:58,  6.99it/s]\n",
      "\n",
      "\n",
      "\n",
      " 48%|█████████████████████████████████████████████████████████████████████████████████▍                                                                                       | 377/782 [00:59<00:57,  7.06it/s]\n",
      "\n",
      "\n",
      "\n",
      " 48%|█████████████████████████████████████████████████████████████████████████████████▋                                                                                       | 378/782 [00:59<00:57,  6.97it/s]\n",
      "\n",
      "\n",
      "\n",
      " 48%|█████████████████████████████████████████████████████████████████████████████████▉                                                                                       | 379/782 [01:00<00:59,  6.73it/s]\n",
      "\n",
      "\n",
      "\n",
      " 49%|██████████████████████████████████████████████████████████████████████████████████                                                                                       | 380/782 [01:00<00:58,  6.85it/s]"
     ]
    },
    {
     "name": "stdout",
     "output_type": "stream",
     "text": [
      "Iter 380.0, Minibatch Loss= 0.933688, Training Accuracy= 0.53906\n"
     ]
    },
    {
     "name": "stderr",
     "output_type": "stream",
     "text": [
      "\n",
      "\n",
      "\n",
      "\n",
      " 49%|██████████████████████████████████████████████████████████████████████████████████▎                                                                                      | 381/782 [01:00<01:12,  5.54it/s]\n",
      "\n",
      "\n",
      "\n",
      " 49%|██████████████████████████████████████████████████████████████████████████████████▌                                                                                      | 382/782 [01:00<01:08,  5.85it/s]\n",
      "\n",
      "\n",
      "\n",
      " 49%|██████████████████████████████████████████████████████████████████████████████████▊                                                                                      | 383/782 [01:00<01:02,  6.34it/s]\n",
      "\n",
      "\n",
      "\n",
      " 49%|██████████████████████████████████████████████████████████████████████████████████▉                                                                                      | 384/782 [01:00<00:59,  6.70it/s]\n",
      "\n",
      "\n",
      "\n",
      " 49%|███████████████████████████████████████████████████████████████████████████████████▏                                                                                     | 385/782 [01:01<00:56,  7.00it/s]\n",
      "\n",
      "\n",
      "\n",
      " 49%|███████████████████████████████████████████████████████████████████████████████████▍                                                                                     | 386/782 [01:01<00:57,  6.94it/s]\n",
      "\n",
      "\n",
      "\n",
      " 49%|███████████████████████████████████████████████████████████████████████████████████▋                                                                                     | 387/782 [01:01<00:58,  6.80it/s]\n",
      "\n",
      "\n",
      "\n",
      " 50%|███████████████████████████████████████████████████████████████████████████████████▊                                                                                     | 388/782 [01:01<00:58,  6.79it/s]\n",
      "\n",
      "\n",
      "\n",
      " 50%|████████████████████████████████████████████████████████████████████████████████████                                                                                     | 389/782 [01:01<00:59,  6.61it/s]\n",
      "\n",
      "\n",
      "\n",
      " 50%|████████████████████████████████████████████████████████████████████████████████████▎                                                                                    | 390/782 [01:01<00:57,  6.78it/s]"
     ]
    },
    {
     "name": "stdout",
     "output_type": "stream",
     "text": [
      "Iter 390.0, Minibatch Loss= 0.940042, Training Accuracy= 0.50000\n"
     ]
    },
    {
     "name": "stderr",
     "output_type": "stream",
     "text": [
      "\n",
      "\n",
      "\n",
      "\n",
      " 50%|████████████████████████████████████████████████████████████████████████████████████▌                                                                                    | 391/782 [01:01<01:06,  5.91it/s]\n",
      "\n",
      "\n",
      "\n",
      " 50%|████████████████████████████████████████████████████████████████████████████████████▋                                                                                    | 392/782 [01:02<01:03,  6.18it/s]\n",
      "\n",
      "\n",
      "\n",
      " 50%|████████████████████████████████████████████████████████████████████████████████████▉                                                                                    | 393/782 [01:02<00:59,  6.55it/s]\n",
      "\n",
      "\n",
      "\n",
      " 50%|█████████████████████████████████████████████████████████████████████████████████████▏                                                                                   | 394/782 [01:02<00:55,  7.02it/s]\n",
      "\n",
      "\n",
      "\n",
      " 51%|█████████████████████████████████████████████████████████████████████████████████████▎                                                                                   | 395/782 [01:02<00:55,  6.99it/s]\n",
      "\n",
      "\n",
      "\n",
      " 51%|█████████████████████████████████████████████████████████████████████████████████████▌                                                                                   | 396/782 [01:02<00:55,  6.95it/s]\n",
      "\n",
      "\n",
      "\n",
      " 51%|█████████████████████████████████████████████████████████████████████████████████████▊                                                                                   | 397/782 [01:02<00:52,  7.37it/s]\n",
      "\n",
      "\n",
      "\n",
      " 51%|██████████████████████████████████████████████████████████████████████████████████████                                                                                   | 398/782 [01:02<00:51,  7.39it/s]\n",
      "\n",
      "\n",
      "\n",
      " 51%|██████████████████████████████████████████████████████████████████████████████████████▏                                                                                  | 399/782 [01:03<00:53,  7.10it/s]\n",
      "\n",
      "\n",
      "\n",
      " 51%|██████████████████████████████████████████████████████████████████████████████████████▍                                                                                  | 400/782 [01:03<00:51,  7.39it/s]"
     ]
    },
    {
     "name": "stdout",
     "output_type": "stream",
     "text": [
      "Iter 400.0, Minibatch Loss= 0.891899, Training Accuracy= 0.60156\n"
     ]
    },
    {
     "name": "stderr",
     "output_type": "stream",
     "text": [
      "\n",
      "\n",
      "\n",
      "\n",
      " 51%|██████████████████████████████████████████████████████████████████████████████████████▋                                                                                  | 401/782 [01:03<01:03,  5.97it/s]\n",
      "\n",
      "\n",
      "\n",
      " 51%|██████████████████████████████████████████████████████████████████████████████████████▉                                                                                  | 402/782 [01:03<01:02,  6.06it/s]\n",
      "\n",
      "\n",
      "\n",
      " 52%|███████████████████████████████████████████████████████████████████████████████████████                                                                                  | 403/782 [01:03<00:58,  6.49it/s]\n",
      "\n",
      "\n",
      "\n",
      " 52%|███████████████████████████████████████████████████████████████████████████████████████▎                                                                                 | 404/782 [01:03<00:55,  6.79it/s]\n",
      "\n",
      "\n",
      "\n",
      " 52%|███████████████████████████████████████████████████████████████████████████████████████▌                                                                                 | 405/782 [01:04<00:56,  6.72it/s]\n",
      "\n",
      "\n",
      "\n",
      " 52%|███████████████████████████████████████████████████████████████████████████████████████▋                                                                                 | 406/782 [01:04<00:55,  6.72it/s]\n",
      "\n",
      "\n",
      "\n",
      " 52%|███████████████████████████████████████████████████████████████████████████████████████▉                                                                                 | 407/782 [01:04<00:53,  6.97it/s]\n",
      "\n",
      "\n",
      "\n",
      " 52%|████████████████████████████████████████████████████████████████████████████████████████▏                                                                                | 408/782 [01:04<00:51,  7.32it/s]\n",
      "\n",
      "\n",
      "\n",
      " 52%|████████████████████████████████████████████████████████████████████████████████████████▍                                                                                | 409/782 [01:04<00:52,  7.05it/s]\n",
      "\n",
      "\n",
      "\n",
      " 52%|████████████████████████████████████████████████████████████████████████████████████████▌                                                                                | 410/782 [01:04<00:50,  7.39it/s]"
     ]
    },
    {
     "name": "stdout",
     "output_type": "stream",
     "text": [
      "Iter 410.0, Minibatch Loss= 1.017620, Training Accuracy= 0.48438\n"
     ]
    },
    {
     "name": "stderr",
     "output_type": "stream",
     "text": [
      "\n",
      "\n",
      "\n",
      "\n",
      " 53%|████████████████████████████████████████████████████████████████████████████████████████▊                                                                                | 411/782 [01:04<00:56,  6.56it/s]\n",
      "\n",
      "\n",
      "\n",
      " 53%|█████████████████████████████████████████████████████████████████████████████████████████                                                                                | 412/782 [01:05<00:54,  6.79it/s]\n",
      "\n",
      "\n",
      "\n",
      " 53%|█████████████████████████████████████████████████████████████████████████████████████████▎                                                                               | 413/782 [01:05<00:53,  6.94it/s]\n",
      "\n",
      "\n",
      "\n",
      " 53%|█████████████████████████████████████████████████████████████████████████████████████████▍                                                                               | 414/782 [01:05<00:55,  6.62it/s]\n",
      "\n",
      "\n",
      "\n",
      " 53%|█████████████████████████████████████████████████████████████████████████████████████████▋                                                                               | 415/782 [01:05<00:55,  6.56it/s]\n",
      "\n",
      "\n",
      "\n",
      " 53%|█████████████████████████████████████████████████████████████████████████████████████████▉                                                                               | 416/782 [01:05<00:54,  6.78it/s]\n",
      "\n",
      "\n",
      "\n",
      " 53%|██████████████████████████████████████████████████████████████████████████████████████████                                                                               | 417/782 [01:05<00:51,  7.04it/s]\n",
      "\n",
      "\n",
      "\n",
      " 53%|██████████████████████████████████████████████████████████████████████████████████████████▎                                                                              | 418/782 [01:05<00:50,  7.20it/s]\n",
      "\n",
      "\n",
      "\n",
      " 54%|██████████████████████████████████████████████████████████████████████████████████████████▌                                                                              | 419/782 [01:06<00:49,  7.32it/s]\n",
      "\n",
      "\n",
      "\n",
      " 54%|██████████████████████████████████████████████████████████████████████████████████████████▊                                                                              | 420/782 [01:06<00:51,  7.07it/s]"
     ]
    },
    {
     "name": "stdout",
     "output_type": "stream",
     "text": [
      "Iter 420.0, Minibatch Loss= 0.906517, Training Accuracy= 0.55469\n"
     ]
    },
    {
     "name": "stderr",
     "output_type": "stream",
     "text": [
      "\n",
      "\n",
      "\n",
      "\n",
      " 54%|██████████████████████████████████████████████████████████████████████████████████████████▉                                                                              | 421/782 [01:06<00:55,  6.46it/s]\n",
      "\n",
      "\n",
      "\n",
      " 54%|███████████████████████████████████████████████████████████████████████████████████████████▏                                                                             | 422/782 [01:06<00:55,  6.45it/s]\n",
      "\n",
      "\n",
      "\n",
      " 54%|███████████████████████████████████████████████████████████████████████████████████████████▍                                                                             | 423/782 [01:06<00:54,  6.54it/s]\n",
      "\n",
      "\n",
      "\n",
      " 54%|███████████████████████████████████████████████████████████████████████████████████████████▋                                                                             | 424/782 [01:06<00:52,  6.86it/s]\n",
      "\n",
      "\n",
      "\n",
      " 54%|███████████████████████████████████████████████████████████████████████████████████████████▊                                                                             | 425/782 [01:06<00:49,  7.15it/s]\n",
      "\n",
      "\n",
      "\n",
      " 54%|████████████████████████████████████████████████████████████████████████████████████████████                                                                             | 426/782 [01:07<00:51,  6.97it/s]\n",
      "\n",
      "\n",
      "\n",
      " 55%|████████████████████████████████████████████████████████████████████████████████████████████▎                                                                            | 427/782 [01:07<00:48,  7.33it/s]\n",
      "\n",
      "\n",
      "\n",
      " 55%|████████████████████████████████████████████████████████████████████████████████████████████▍                                                                            | 428/782 [01:07<00:49,  7.21it/s]\n",
      "\n",
      "\n",
      "\n",
      " 55%|████████████████████████████████████████████████████████████████████████████████████████████▋                                                                            | 429/782 [01:07<00:49,  7.16it/s]\n",
      "\n",
      "\n",
      "\n",
      " 55%|████████████████████████████████████████████████████████████████████████████████████████████▉                                                                            | 430/782 [01:07<00:51,  6.82it/s]"
     ]
    },
    {
     "name": "stdout",
     "output_type": "stream",
     "text": [
      "Iter 430.0, Minibatch Loss= 0.979632, Training Accuracy= 0.48438\n"
     ]
    },
    {
     "name": "stderr",
     "output_type": "stream",
     "text": [
      "\n",
      "\n",
      "\n",
      "\n",
      " 55%|█████████████████████████████████████████████████████████████████████████████████████████████▏                                                                           | 431/782 [01:07<00:56,  6.19it/s]\n",
      "\n",
      "\n",
      "\n",
      " 55%|█████████████████████████████████████████████████████████████████████████████████████████████▎                                                                           | 432/782 [01:07<00:53,  6.55it/s]\n",
      "\n",
      "\n",
      "\n",
      " 55%|█████████████████████████████████████████████████████████████████████████████████████████████▌                                                                           | 433/782 [01:08<00:51,  6.75it/s]\n",
      "\n",
      "\n",
      "\n",
      " 55%|█████████████████████████████████████████████████████████████████████████████████████████████▊                                                                           | 434/782 [01:08<00:48,  7.12it/s]\n",
      "\n",
      "\n",
      "\n",
      " 56%|██████████████████████████████████████████████████████████████████████████████████████████████                                                                           | 435/782 [01:08<00:50,  6.92it/s]\n",
      "\n",
      "\n",
      "\n",
      " 56%|██████████████████████████████████████████████████████████████████████████████████████████████▏                                                                          | 436/782 [01:08<00:53,  6.44it/s]\n",
      "\n",
      "\n",
      "\n",
      " 56%|██████████████████████████████████████████████████████████████████████████████████████████████▍                                                                          | 437/782 [01:08<00:51,  6.68it/s]\n",
      "\n",
      "\n",
      "\n",
      " 56%|██████████████████████████████████████████████████████████████████████████████████████████████▋                                                                          | 438/782 [01:08<00:51,  6.67it/s]\n",
      "\n",
      "\n",
      "\n",
      " 56%|██████████████████████████████████████████████████████████████████████████████████████████████▊                                                                          | 439/782 [01:08<00:49,  6.86it/s]\n",
      "\n",
      "\n",
      "\n",
      " 56%|███████████████████████████████████████████████████████████████████████████████████████████████                                                                          | 440/782 [01:09<00:48,  7.07it/s]"
     ]
    },
    {
     "name": "stdout",
     "output_type": "stream",
     "text": [
      "Iter 440.0, Minibatch Loss= 1.028106, Training Accuracy= 0.46094\n"
     ]
    },
    {
     "name": "stderr",
     "output_type": "stream",
     "text": [
      "\n",
      "\n",
      "\n",
      "\n",
      " 56%|███████████████████████████████████████████████████████████████████████████████████████████████▎                                                                         | 441/782 [01:09<00:54,  6.27it/s]\n",
      "\n",
      "\n",
      "\n",
      " 57%|███████████████████████████████████████████████████████████████████████████████████████████████▌                                                                         | 442/782 [01:09<00:52,  6.50it/s]\n",
      "\n",
      "\n",
      "\n",
      " 57%|███████████████████████████████████████████████████████████████████████████████████████████████▋                                                                         | 443/782 [01:09<00:50,  6.77it/s]\n",
      "\n",
      "\n",
      "\n",
      " 57%|███████████████████████████████████████████████████████████████████████████████████████████████▉                                                                         | 444/782 [01:09<00:49,  6.78it/s]\n",
      "\n",
      "\n",
      "\n",
      " 57%|████████████████████████████████████████████████████████████████████████████████████████████████▏                                                                        | 445/782 [01:09<00:47,  7.08it/s]\n",
      "\n",
      "\n",
      "\n",
      " 57%|████████████████████████████████████████████████████████████████████████████████████████████████▍                                                                        | 446/782 [01:09<00:46,  7.26it/s]\n",
      "\n",
      "\n",
      "\n",
      " 57%|████████████████████████████████████████████████████████████████████████████████████████████████▌                                                                        | 447/782 [01:10<00:46,  7.24it/s]\n",
      "\n",
      "\n",
      "\n",
      " 57%|████████████████████████████████████████████████████████████████████████████████████████████████▊                                                                        | 448/782 [01:10<00:47,  6.96it/s]\n",
      "\n",
      "\n",
      "\n",
      " 57%|█████████████████████████████████████████████████████████████████████████████████████████████████                                                                        | 449/782 [01:10<00:49,  6.72it/s]\n",
      "\n",
      "\n",
      "\n",
      " 58%|█████████████████████████████████████████████████████████████████████████████████████████████████▎                                                                       | 450/782 [01:10<00:50,  6.64it/s]"
     ]
    },
    {
     "name": "stdout",
     "output_type": "stream",
     "text": [
      "Iter 450.0, Minibatch Loss= 0.835143, Training Accuracy= 0.58594\n"
     ]
    },
    {
     "name": "stderr",
     "output_type": "stream",
     "text": [
      "\n",
      "\n",
      "\n",
      "\n",
      " 58%|█████████████████████████████████████████████████████████████████████████████████████████████████▍                                                                       | 451/782 [01:10<00:53,  6.17it/s]\n",
      "\n",
      "\n",
      "\n",
      " 58%|█████████████████████████████████████████████████████████████████████████████████████████████████▋                                                                       | 452/782 [01:10<00:48,  6.74it/s]\n",
      "\n",
      "\n",
      "\n",
      " 58%|█████████████████████████████████████████████████████████████████████████████████████████████████▉                                                                       | 453/782 [01:11<00:49,  6.63it/s]\n",
      "\n",
      "\n",
      "\n",
      " 58%|██████████████████████████████████████████████████████████████████████████████████████████████████                                                                       | 454/782 [01:11<00:47,  6.92it/s]\n",
      "\n",
      "\n",
      "\n",
      " 58%|██████████████████████████████████████████████████████████████████████████████████████████████████▎                                                                      | 455/782 [01:11<00:46,  7.08it/s]\n",
      "\n",
      "\n",
      "\n",
      " 58%|██████████████████████████████████████████████████████████████████████████████████████████████████▌                                                                      | 456/782 [01:11<00:44,  7.28it/s]\n",
      "\n",
      "\n",
      "\n",
      " 58%|██████████████████████████████████████████████████████████████████████████████████████████████████▊                                                                      | 457/782 [01:11<00:46,  6.99it/s]\n",
      "\n",
      "\n",
      "\n",
      " 59%|██████████████████████████████████████████████████████████████████████████████████████████████████▉                                                                      | 458/782 [01:11<00:45,  7.16it/s]\n",
      "\n",
      "\n",
      "\n",
      " 59%|███████████████████████████████████████████████████████████████████████████████████████████████████▏                                                                     | 459/782 [01:11<00:44,  7.22it/s]\n",
      "\n",
      "\n",
      "\n",
      " 59%|███████████████████████████████████████████████████████████████████████████████████████████████████▍                                                                     | 460/782 [01:12<00:44,  7.17it/s]"
     ]
    },
    {
     "name": "stdout",
     "output_type": "stream",
     "text": [
      "Iter 460.0, Minibatch Loss= 0.812400, Training Accuracy= 0.60938\n"
     ]
    },
    {
     "name": "stderr",
     "output_type": "stream",
     "text": [
      "\n",
      "\n",
      "\n",
      "\n",
      " 59%|███████████████████████████████████████████████████████████████████████████████████████████████████▋                                                                     | 461/782 [01:12<00:49,  6.44it/s]\n",
      "\n",
      "\n",
      "\n",
      " 59%|███████████████████████████████████████████████████████████████████████████████████████████████████▊                                                                     | 462/782 [01:12<00:48,  6.54it/s]\n",
      "\n",
      "\n",
      "\n",
      " 59%|████████████████████████████████████████████████████████████████████████████████████████████████████                                                                     | 463/782 [01:12<00:46,  6.84it/s]\n",
      "\n",
      "\n",
      "\n",
      " 59%|████████████████████████████████████████████████████████████████████████████████████████████████████▎                                                                    | 464/782 [01:12<00:46,  6.91it/s]\n",
      "\n",
      "\n",
      "\n",
      " 59%|████████████████████████████████████████████████████████████████████████████████████████████████████▍                                                                    | 465/782 [01:12<00:46,  6.88it/s]\n",
      "\n",
      "\n",
      "\n",
      " 60%|████████████████████████████████████████████████████████████████████████████████████████████████████▋                                                                    | 466/782 [01:12<00:44,  7.04it/s]\n",
      "\n",
      "\n",
      "\n",
      " 60%|████████████████████████████████████████████████████████████████████████████████████████████████████▉                                                                    | 467/782 [01:13<00:43,  7.17it/s]\n",
      "\n",
      "\n",
      "\n",
      " 60%|█████████████████████████████████████████████████████████████████████████████████████████████████████▏                                                                   | 468/782 [01:13<00:43,  7.25it/s]\n",
      "\n",
      "\n",
      "\n",
      " 60%|█████████████████████████████████████████████████████████████████████████████████████████████████████▎                                                                   | 469/782 [01:13<00:43,  7.24it/s]\n",
      "\n",
      "\n",
      "\n",
      " 60%|█████████████████████████████████████████████████████████████████████████████████████████████████████▌                                                                   | 470/782 [01:13<00:42,  7.35it/s]"
     ]
    },
    {
     "name": "stdout",
     "output_type": "stream",
     "text": [
      "Iter 470.0, Minibatch Loss= 0.883614, Training Accuracy= 0.53906\n"
     ]
    },
    {
     "name": "stderr",
     "output_type": "stream",
     "text": [
      "\n",
      "\n",
      "\n",
      "\n",
      " 60%|█████████████████████████████████████████████████████████████████████████████████████████████████████▊                                                                   | 471/782 [01:13<00:47,  6.51it/s]\n",
      "\n",
      "\n",
      "\n",
      " 60%|██████████████████████████████████████████████████████████████████████████████████████████████████████                                                                   | 472/782 [01:13<00:47,  6.49it/s]\n",
      "\n",
      "\n",
      "\n",
      " 60%|██████████████████████████████████████████████████████████████████████████████████████████████████████▏                                                                  | 473/782 [01:13<00:45,  6.78it/s]\n",
      "\n",
      "\n",
      "\n",
      " 61%|██████████████████████████████████████████████████████████████████████████████████████████████████████▍                                                                  | 474/782 [01:14<00:44,  6.92it/s]\n",
      "\n",
      "\n",
      "\n",
      " 61%|██████████████████████████████████████████████████████████████████████████████████████████████████████▋                                                                  | 475/782 [01:14<00:42,  7.20it/s]\n",
      "\n",
      "\n",
      "\n",
      " 61%|██████████████████████████████████████████████████████████████████████████████████████████████████████▊                                                                  | 476/782 [01:14<00:41,  7.29it/s]\n",
      "\n",
      "\n",
      "\n",
      " 61%|███████████████████████████████████████████████████████████████████████████████████████████████████████                                                                  | 477/782 [01:14<00:42,  7.24it/s]\n",
      "\n",
      "\n",
      "\n",
      " 61%|███████████████████████████████████████████████████████████████████████████████████████████████████████▎                                                                 | 478/782 [01:14<00:41,  7.40it/s]\n",
      "\n",
      "\n",
      "\n",
      " 61%|███████████████████████████████████████████████████████████████████████████████████████████████████████▌                                                                 | 479/782 [01:14<00:40,  7.41it/s]\n",
      "\n",
      "\n",
      "\n",
      " 61%|███████████████████████████████████████████████████████████████████████████████████████████████████████▋                                                                 | 480/782 [01:14<00:40,  7.47it/s]"
     ]
    },
    {
     "name": "stdout",
     "output_type": "stream",
     "text": [
      "Iter 480.0, Minibatch Loss= 0.941012, Training Accuracy= 0.46875\n"
     ]
    },
    {
     "name": "stderr",
     "output_type": "stream",
     "text": [
      "\n",
      "\n",
      "\n",
      "\n",
      " 62%|███████████████████████████████████████████████████████████████████████████████████████████████████████▉                                                                 | 481/782 [01:15<00:46,  6.42it/s]\n",
      "\n",
      "\n",
      "\n",
      " 62%|████████████████████████████████████████████████████████████████████████████████████████████████████████▏                                                                | 482/782 [01:15<00:45,  6.62it/s]\n",
      "\n",
      "\n",
      "\n",
      " 62%|████████████████████████████████████████████████████████████████████████████████████████████████████████▍                                                                | 483/782 [01:15<00:45,  6.56it/s]\n",
      "\n",
      "\n",
      "\n",
      " 62%|████████████████████████████████████████████████████████████████████████████████████████████████████████▌                                                                | 484/782 [01:15<00:45,  6.56it/s]\n",
      "\n",
      "\n",
      "\n",
      " 62%|████████████████████████████████████████████████████████████████████████████████████████████████████████▊                                                                | 485/782 [01:15<00:44,  6.72it/s]\n",
      "\n",
      "\n",
      "\n",
      " 62%|█████████████████████████████████████████████████████████████████████████████████████████████████████████                                                                | 486/782 [01:15<00:42,  6.89it/s]\n",
      "\n",
      "\n",
      "\n",
      " 62%|█████████████████████████████████████████████████████████████████████████████████████████████████████████▏                                                               | 487/782 [01:15<00:41,  7.16it/s]\n",
      "\n",
      "\n",
      "\n",
      " 62%|█████████████████████████████████████████████████████████████████████████████████████████████████████████▍                                                               | 488/782 [01:16<00:42,  6.94it/s]\n",
      "\n",
      "\n",
      "\n",
      " 63%|█████████████████████████████████████████████████████████████████████████████████████████████████████████▋                                                               | 489/782 [01:16<00:43,  6.81it/s]\n",
      "\n",
      "\n",
      "\n",
      " 63%|█████████████████████████████████████████████████████████████████████████████████████████████████████████▉                                                               | 490/782 [01:16<00:40,  7.17it/s]"
     ]
    },
    {
     "name": "stdout",
     "output_type": "stream",
     "text": [
      "Iter 490.0, Minibatch Loss= 0.848268, Training Accuracy= 0.59375\n"
     ]
    },
    {
     "name": "stderr",
     "output_type": "stream",
     "text": [
      "\n",
      "\n",
      "\n",
      "\n",
      " 63%|██████████████████████████████████████████████████████████████████████████████████████████████████████████                                                               | 491/782 [01:16<00:50,  5.78it/s]\n",
      "\n",
      "\n",
      "\n",
      " 63%|██████████████████████████████████████████████████████████████████████████████████████████████████████████▎                                                              | 492/782 [01:16<00:46,  6.20it/s]\n",
      "\n",
      "\n",
      "\n",
      " 63%|██████████████████████████████████████████████████████████████████████████████████████████████████████████▌                                                              | 493/782 [01:16<00:44,  6.56it/s]\n",
      "\n",
      "\n",
      "\n",
      " 63%|██████████████████████████████████████████████████████████████████████████████████████████████████████████▊                                                              | 494/782 [01:17<00:42,  6.81it/s]\n",
      "\n",
      "\n",
      "\n",
      " 63%|██████████████████████████████████████████████████████████████████████████████████████████████████████████▉                                                              | 495/782 [01:17<00:43,  6.67it/s]\n",
      "\n",
      "\n",
      "\n",
      " 63%|███████████████████████████████████████████████████████████████████████████████████████████████████████████▏                                                             | 496/782 [01:17<00:41,  6.92it/s]\n",
      "\n",
      "\n",
      "\n",
      " 64%|███████████████████████████████████████████████████████████████████████████████████████████████████████████▍                                                             | 497/782 [01:17<00:40,  7.11it/s]\n",
      "\n",
      "\n",
      "\n",
      " 64%|███████████████████████████████████████████████████████████████████████████████████████████████████████████▌                                                             | 498/782 [01:17<00:41,  6.87it/s]\n",
      "\n",
      "\n",
      "\n",
      " 64%|███████████████████████████████████████████████████████████████████████████████████████████████████████████▊                                                             | 499/782 [01:17<00:40,  7.02it/s]\n",
      "\n",
      "\n",
      "\n",
      " 64%|████████████████████████████████████████████████████████████████████████████████████████████████████████████                                                             | 500/782 [01:17<00:39,  7.13it/s]"
     ]
    },
    {
     "name": "stdout",
     "output_type": "stream",
     "text": [
      "Iter 500.0, Minibatch Loss= 0.898701, Training Accuracy= 0.59375\n"
     ]
    },
    {
     "name": "stderr",
     "output_type": "stream",
     "text": [
      "\n",
      "\n",
      "\n",
      "\n",
      " 64%|████████████████████████████████████████████████████████████████████████████████████████████████████████████▎                                                            | 501/782 [01:18<00:42,  6.54it/s]\n",
      "\n",
      "\n",
      "\n",
      " 64%|████████████████████████████████████████████████████████████████████████████████████████████████████████████▍                                                            | 502/782 [01:18<00:41,  6.70it/s]\n",
      "\n",
      "\n",
      "\n",
      " 64%|████████████████████████████████████████████████████████████████████████████████████████████████████████████▋                                                            | 503/782 [01:18<00:40,  6.94it/s]\n",
      "\n",
      "\n",
      "\n",
      " 64%|████████████████████████████████████████████████████████████████████████████████████████████████████████████▉                                                            | 504/782 [01:18<00:39,  7.05it/s]\n",
      "\n",
      "\n",
      "\n",
      " 65%|█████████████████████████████████████████████████████████████████████████████████████████████████████████████▏                                                           | 505/782 [01:18<00:38,  7.20it/s]\n",
      "\n",
      "\n",
      "\n",
      " 65%|█████████████████████████████████████████████████████████████████████████████████████████████████████████████▎                                                           | 506/782 [01:18<00:38,  7.10it/s]\n",
      "\n",
      "\n",
      "\n",
      " 65%|█████████████████████████████████████████████████████████████████████████████████████████████████████████████▌                                                           | 507/782 [01:18<00:37,  7.25it/s]\n",
      "\n",
      "\n",
      "\n",
      " 65%|█████████████████████████████████████████████████████████████████████████████████████████████████████████████▊                                                           | 508/782 [01:19<00:39,  6.97it/s]\n",
      "\n",
      "\n",
      "\n",
      " 65%|██████████████████████████████████████████████████████████████████████████████████████████████████████████████                                                           | 509/782 [01:19<00:40,  6.82it/s]\n",
      "\n",
      "\n",
      "\n",
      " 65%|██████████████████████████████████████████████████████████████████████████████████████████████████████████████▏                                                          | 510/782 [01:19<00:38,  7.04it/s]"
     ]
    },
    {
     "name": "stdout",
     "output_type": "stream",
     "text": [
      "Iter 510.0, Minibatch Loss= 0.830089, Training Accuracy= 0.63281\n"
     ]
    },
    {
     "name": "stderr",
     "output_type": "stream",
     "text": [
      "\n",
      "\n",
      "\n",
      "\n",
      " 65%|██████████████████████████████████████████████████████████████████████████████████████████████████████████████▍                                                          | 511/782 [01:19<00:43,  6.26it/s]\n",
      "\n",
      "\n",
      "\n",
      " 65%|██████████████████████████████████████████████████████████████████████████████████████████████████████████████▋                                                          | 512/782 [01:19<00:41,  6.45it/s]\n",
      "\n",
      "\n",
      "\n",
      " 66%|██████████████████████████████████████████████████████████████████████████████████████████████████████████████▊                                                          | 513/782 [01:19<00:39,  6.81it/s]\n",
      "\n",
      "\n",
      "\n",
      " 66%|███████████████████████████████████████████████████████████████████████████████████████████████████████████████                                                          | 514/782 [01:19<00:38,  7.03it/s]\n",
      "\n",
      "\n",
      "\n",
      " 66%|███████████████████████████████████████████████████████████████████████████████████████████████████████████████▎                                                         | 515/782 [01:20<00:38,  7.01it/s]\n",
      "\n",
      "\n",
      "\n",
      " 66%|███████████████████████████████████████████████████████████████████████████████████████████████████████████████▌                                                         | 516/782 [01:20<00:38,  7.00it/s]\n",
      "\n",
      "\n",
      "\n",
      " 66%|███████████████████████████████████████████████████████████████████████████████████████████████████████████████▋                                                         | 517/782 [01:20<00:39,  6.72it/s]\n",
      "\n",
      "\n",
      "\n",
      " 66%|███████████████████████████████████████████████████████████████████████████████████████████████████████████████▉                                                         | 518/782 [01:20<00:40,  6.56it/s]\n",
      "\n",
      "\n",
      "\n",
      " 66%|████████████████████████████████████████████████████████████████████████████████████████████████████████████████▏                                                        | 519/782 [01:20<00:41,  6.39it/s]\n",
      "\n",
      "\n",
      "\n",
      " 66%|████████████████████████████████████████████████████████████████████████████████████████████████████████████████▍                                                        | 520/782 [01:20<00:38,  6.75it/s]"
     ]
    },
    {
     "name": "stdout",
     "output_type": "stream",
     "text": [
      "Iter 520.0, Minibatch Loss= 0.777563, Training Accuracy= 0.67188\n"
     ]
    },
    {
     "name": "stderr",
     "output_type": "stream",
     "text": [
      "\n",
      "\n",
      "\n",
      "\n",
      " 67%|████████████████████████████████████████████████████████████████████████████████████████████████████████████████▌                                                        | 521/782 [01:21<00:43,  6.06it/s]\n",
      "\n",
      "\n",
      "\n",
      " 67%|████████████████████████████████████████████████████████████████████████████████████████████████████████████████▊                                                        | 522/782 [01:21<00:41,  6.21it/s]\n",
      "\n",
      "\n",
      "\n",
      " 67%|█████████████████████████████████████████████████████████████████████████████████████████████████████████████████                                                        | 523/782 [01:21<00:39,  6.50it/s]\n",
      "\n",
      "\n",
      "\n",
      " 67%|█████████████████████████████████████████████████████████████████████████████████████████████████████████████████▏                                                       | 524/782 [01:21<00:37,  6.80it/s]\n",
      "\n",
      "\n",
      "\n",
      " 67%|█████████████████████████████████████████████████████████████████████████████████████████████████████████████████▍                                                       | 525/782 [01:21<00:38,  6.64it/s]\n",
      "\n",
      "\n",
      "\n",
      " 67%|█████████████████████████████████████████████████████████████████████████████████████████████████████████████████▋                                                       | 526/782 [01:21<00:38,  6.69it/s]\n",
      "\n",
      "\n",
      "\n",
      " 67%|█████████████████████████████████████████████████████████████████████████████████████████████████████████████████▉                                                       | 527/782 [01:21<00:37,  6.81it/s]\n",
      "\n",
      "\n",
      "\n",
      " 68%|██████████████████████████████████████████████████████████████████████████████████████████████████████████████████                                                       | 528/782 [01:22<00:35,  7.08it/s]\n",
      "\n",
      "\n",
      "\n",
      " 68%|██████████████████████████████████████████████████████████████████████████████████████████████████████████████████▎                                                      | 529/782 [01:22<00:36,  6.87it/s]\n",
      "\n",
      "\n",
      "\n",
      " 68%|██████████████████████████████████████████████████████████████████████████████████████████████████████████████████▌                                                      | 530/782 [01:22<00:35,  7.04it/s]"
     ]
    },
    {
     "name": "stdout",
     "output_type": "stream",
     "text": [
      "Iter 530.0, Minibatch Loss= 0.783202, Training Accuracy= 0.67969\n"
     ]
    },
    {
     "name": "stderr",
     "output_type": "stream",
     "text": [
      "\n",
      "\n",
      "\n",
      "\n",
      " 68%|██████████████████████████████████████████████████████████████████████████████████████████████████████████████████▊                                                      | 531/782 [01:22<00:46,  5.43it/s]\n",
      "\n",
      "\n",
      "\n",
      " 68%|██████████████████████████████████████████████████████████████████████████████████████████████████████████████████▉                                                      | 532/782 [01:22<00:43,  5.76it/s]\n",
      "\n",
      "\n",
      "\n",
      " 68%|███████████████████████████████████████████████████████████████████████████████████████████████████████████████████▏                                                     | 533/782 [01:22<00:40,  6.19it/s]\n",
      "\n",
      "\n",
      "\n",
      " 68%|███████████████████████████████████████████████████████████████████████████████████████████████████████████████████▍                                                     | 534/782 [01:22<00:38,  6.43it/s]\n",
      "\n",
      "\n",
      "\n",
      " 68%|███████████████████████████████████████████████████████████████████████████████████████████████████████████████████▌                                                     | 535/782 [01:23<00:39,  6.18it/s]\n",
      "\n",
      "\n",
      "\n",
      " 69%|███████████████████████████████████████████████████████████████████████████████████████████████████████████████████▊                                                     | 536/782 [01:23<00:37,  6.64it/s]\n",
      "\n",
      "\n",
      "\n",
      " 69%|████████████████████████████████████████████████████████████████████████████████████████████████████████████████████                                                     | 537/782 [01:23<00:35,  6.90it/s]\n",
      "\n",
      "\n",
      "\n",
      " 69%|████████████████████████████████████████████████████████████████████████████████████████████████████████████████████▎                                                    | 538/782 [01:23<00:35,  6.95it/s]\n",
      "\n",
      "\n",
      "\n",
      " 69%|████████████████████████████████████████████████████████████████████████████████████████████████████████████████████▍                                                    | 539/782 [01:23<00:35,  6.83it/s]\n",
      "\n",
      "\n",
      "\n",
      " 69%|████████████████████████████████████████████████████████████████████████████████████████████████████████████████████▋                                                    | 540/782 [01:23<00:33,  7.18it/s]"
     ]
    },
    {
     "name": "stdout",
     "output_type": "stream",
     "text": [
      "Iter 540.0, Minibatch Loss= 0.731016, Training Accuracy= 0.69531\n"
     ]
    },
    {
     "name": "stderr",
     "output_type": "stream",
     "text": [
      "\n",
      "\n",
      "\n",
      "\n",
      " 69%|████████████████████████████████████████████████████████████████████████████████████████████████████████████████████▉                                                    | 541/782 [01:24<00:38,  6.31it/s]\n",
      "\n",
      "\n",
      "\n",
      " 69%|█████████████████████████████████████████████████████████████████████████████████████████████████████████████████████▏                                                   | 542/782 [01:24<00:37,  6.44it/s]\n",
      "\n",
      "\n",
      "\n",
      " 69%|█████████████████████████████████████████████████████████████████████████████████████████████████████████████████████▎                                                   | 543/782 [01:24<00:35,  6.80it/s]\n",
      "\n",
      "\n",
      "\n",
      " 70%|█████████████████████████████████████████████████████████████████████████████████████████████████████████████████████▌                                                   | 544/782 [01:24<00:33,  7.03it/s]\n",
      "\n",
      "\n",
      "\n",
      " 70%|█████████████████████████████████████████████████████████████████████████████████████████████████████████████████████▊                                                   | 545/782 [01:24<00:33,  7.02it/s]\n",
      "\n",
      "\n",
      "\n",
      " 70%|█████████████████████████████████████████████████████████████████████████████████████████████████████████████████████▉                                                   | 546/782 [01:24<00:33,  7.02it/s]\n",
      "\n",
      "\n",
      "\n",
      " 70%|██████████████████████████████████████████████████████████████████████████████████████████████████████████████████████▏                                                  | 547/782 [01:24<00:32,  7.19it/s]\n",
      "\n",
      "\n",
      "\n",
      " 70%|██████████████████████████████████████████████████████████████████████████████████████████████████████████████████████▍                                                  | 548/782 [01:25<00:35,  6.60it/s]\n",
      "\n",
      "\n",
      "\n",
      " 70%|██████████████████████████████████████████████████████████████████████████████████████████████████████████████████████▋                                                  | 549/782 [01:25<00:38,  6.12it/s]\n",
      "\n",
      "\n",
      "\n",
      " 70%|██████████████████████████████████████████████████████████████████████████████████████████████████████████████████████▊                                                  | 550/782 [01:25<00:42,  5.44it/s]"
     ]
    },
    {
     "name": "stdout",
     "output_type": "stream",
     "text": [
      "Iter 550.0, Minibatch Loss= 0.767478, Training Accuracy= 0.62500\n"
     ]
    },
    {
     "name": "stderr",
     "output_type": "stream",
     "text": [
      "\n",
      "\n",
      "\n",
      "\n",
      " 70%|███████████████████████████████████████████████████████████████████████████████████████████████████████████████████████                                                  | 551/782 [01:25<00:50,  4.57it/s]\n",
      "\n",
      "\n",
      "\n",
      " 71%|███████████████████████████████████████████████████████████████████████████████████████████████████████████████████████▎                                                 | 552/782 [01:25<00:47,  4.82it/s]\n",
      "\n",
      "\n",
      "\n",
      " 71%|███████████████████████████████████████████████████████████████████████████████████████████████████████████████████████▌                                                 | 553/782 [01:26<00:46,  4.90it/s]\n",
      "\n",
      "\n",
      "\n",
      " 71%|███████████████████████████████████████████████████████████████████████████████████████████████████████████████████████▋                                                 | 554/782 [01:26<00:45,  5.00it/s]\n",
      "\n",
      "\n",
      "\n",
      " 71%|███████████████████████████████████████████████████████████████████████████████████████████████████████████████████████▉                                                 | 555/782 [01:26<00:44,  5.07it/s]\n",
      "\n",
      "\n",
      "\n",
      " 71%|████████████████████████████████████████████████████████████████████████████████████████████████████████████████████████▏                                                | 556/782 [01:26<00:44,  5.08it/s]\n",
      "\n",
      "\n",
      "\n",
      " 71%|████████████████████████████████████████████████████████████████████████████████████████████████████████████████████████▎                                                | 557/782 [01:26<00:44,  5.09it/s]\n",
      "\n",
      "\n",
      "\n",
      " 71%|████████████████████████████████████████████████████████████████████████████████████████████████████████████████████████▌                                                | 558/782 [01:27<00:44,  5.03it/s]\n",
      "\n",
      "\n",
      "\n",
      " 71%|████████████████████████████████████████████████████████████████████████████████████████████████████████████████████████▊                                                | 559/782 [01:27<00:43,  5.11it/s]\n",
      "\n",
      "\n",
      "\n",
      " 72%|█████████████████████████████████████████████████████████████████████████████████████████████████████████████████████████                                                | 560/782 [01:27<00:42,  5.22it/s]"
     ]
    },
    {
     "name": "stdout",
     "output_type": "stream",
     "text": [
      "Iter 560.0, Minibatch Loss= 0.698316, Training Accuracy= 0.70312\n"
     ]
    },
    {
     "name": "stderr",
     "output_type": "stream",
     "text": [
      "\n",
      "\n",
      "\n",
      "\n",
      " 72%|█████████████████████████████████████████████████████████████████████████████████████████████████████████████████████████▏                                               | 561/782 [01:27<00:52,  4.23it/s]\n",
      "\n",
      "\n",
      "\n",
      " 72%|█████████████████████████████████████████████████████████████████████████████████████████████████████████████████████████▍                                               | 562/782 [01:28<00:50,  4.40it/s]\n",
      "\n",
      "\n",
      "\n",
      " 72%|█████████████████████████████████████████████████████████████████████████████████████████████████████████████████████████▋                                               | 563/782 [01:28<00:47,  4.60it/s]\n",
      "\n",
      "\n",
      "\n",
      " 72%|█████████████████████████████████████████████████████████████████████████████████████████████████████████████████████████▉                                               | 564/782 [01:28<00:45,  4.82it/s]\n",
      "\n",
      "\n",
      "\n",
      " 72%|██████████████████████████████████████████████████████████████████████████████████████████████████████████████████████████                                               | 565/782 [01:28<00:44,  4.86it/s]\n",
      "\n",
      "\n",
      "\n",
      " 72%|██████████████████████████████████████████████████████████████████████████████████████████████████████████████████████████▎                                              | 566/782 [01:28<00:45,  4.73it/s]\n",
      "\n",
      "\n",
      "\n",
      " 73%|██████████████████████████████████████████████████████████████████████████████████████████████████████████████████████████▌                                              | 567/782 [01:29<00:45,  4.70it/s]\n",
      "\n",
      "\n",
      "\n",
      " 73%|██████████████████████████████████████████████████████████████████████████████████████████████████████████████████████████▊                                              | 568/782 [01:29<00:44,  4.83it/s]\n",
      "\n",
      "\n",
      "\n",
      " 73%|██████████████████████████████████████████████████████████████████████████████████████████████████████████████████████████▉                                              | 569/782 [01:29<00:43,  4.88it/s]\n",
      "\n",
      "\n",
      "\n",
      " 73%|███████████████████████████████████████████████████████████████████████████████████████████████████████████████████████████▏                                             | 570/782 [01:29<00:43,  4.82it/s]"
     ]
    },
    {
     "name": "stdout",
     "output_type": "stream",
     "text": [
      "Iter 570.0, Minibatch Loss= 0.685787, Training Accuracy= 0.71094\n"
     ]
    },
    {
     "name": "stderr",
     "output_type": "stream",
     "text": [
      "\n",
      "\n",
      "\n",
      "\n",
      " 73%|███████████████████████████████████████████████████████████████████████████████████████████████████████████████████████████▍                                             | 571/782 [01:29<00:49,  4.28it/s]\n",
      "\n",
      "\n",
      "\n",
      " 73%|███████████████████████████████████████████████████████████████████████████████████████████████████████████████████████████▌                                             | 572/782 [01:30<00:48,  4.34it/s]\n",
      "\n",
      "\n",
      "\n",
      " 73%|███████████████████████████████████████████████████████████████████████████████████████████████████████████████████████████▊                                             | 573/782 [01:30<00:47,  4.44it/s]\n",
      "\n",
      "\n",
      "\n",
      " 73%|████████████████████████████████████████████████████████████████████████████████████████████████████████████████████████████                                             | 574/782 [01:30<00:44,  4.67it/s]\n",
      "\n",
      "\n",
      "\n",
      " 74%|████████████████████████████████████████████████████████████████████████████████████████████████████████████████████████████▎                                            | 575/782 [01:30<00:46,  4.46it/s]\n",
      "\n",
      "\n",
      "\n",
      " 74%|████████████████████████████████████████████████████████████████████████████████████████████████████████████████████████████▍                                            | 576/782 [01:31<00:43,  4.70it/s]\n",
      "\n",
      "\n",
      "\n",
      " 74%|████████████████████████████████████████████████████████████████████████████████████████████████████████████████████████████▋                                            | 577/782 [01:31<00:41,  4.99it/s]\n",
      "\n",
      "\n",
      "\n",
      " 74%|████████████████████████████████████████████████████████████████████████████████████████████████████████████████████████████▉                                            | 578/782 [01:31<00:42,  4.85it/s]\n",
      "\n",
      "\n",
      "\n",
      " 74%|█████████████████████████████████████████████████████████████████████████████████████████████████████████████████████████████▏                                           | 579/782 [01:31<00:41,  4.93it/s]\n",
      "\n",
      "\n",
      "\n",
      " 74%|█████████████████████████████████████████████████████████████████████████████████████████████████████████████████████████████▎                                           | 580/782 [01:31<00:40,  5.01it/s]"
     ]
    },
    {
     "name": "stdout",
     "output_type": "stream",
     "text": [
      "Iter 580.0, Minibatch Loss= 0.723446, Training Accuracy= 0.64844\n"
     ]
    },
    {
     "name": "stderr",
     "output_type": "stream",
     "text": [
      "\n",
      "\n",
      "\n",
      "\n",
      " 74%|█████████████████████████████████████████████████████████████████████████████████████████████████████████████████████████████▌                                           | 581/782 [01:32<00:47,  4.25it/s]\n",
      "\n",
      "\n",
      "\n",
      " 74%|█████████████████████████████████████████████████████████████████████████████████████████████████████████████████████████████▊                                           | 582/782 [01:32<00:42,  4.67it/s]\n",
      "\n",
      "\n",
      "\n",
      " 75%|█████████████████████████████████████████████████████████████████████████████████████████████████████████████████████████████▉                                           | 583/782 [01:32<00:39,  4.98it/s]\n",
      "\n",
      "\n",
      "\n",
      " 75%|██████████████████████████████████████████████████████████████████████████████████████████████████████████████████████████████▏                                          | 584/782 [01:32<00:41,  4.74it/s]\n",
      "\n",
      "\n",
      "\n",
      " 75%|██████████████████████████████████████████████████████████████████████████████████████████████████████████████████████████████▍                                          | 585/782 [01:32<00:39,  5.03it/s]\n",
      "\n",
      "\n",
      "\n",
      " 75%|██████████████████████████████████████████████████████████████████████████████████████████████████████████████████████████████▋                                          | 586/782 [01:33<00:37,  5.20it/s]\n",
      "\n",
      "\n",
      "\n",
      " 75%|██████████████████████████████████████████████████████████████████████████████████████████████████████████████████████████████▊                                          | 587/782 [01:33<00:36,  5.28it/s]\n",
      "\n",
      "\n",
      "\n",
      " 75%|███████████████████████████████████████████████████████████████████████████████████████████████████████████████████████████████                                          | 588/782 [01:33<00:35,  5.51it/s]\n",
      "\n",
      "\n",
      "\n",
      " 75%|███████████████████████████████████████████████████████████████████████████████████████████████████████████████████████████████▎                                         | 589/782 [01:33<00:34,  5.63it/s]\n",
      "\n",
      "\n",
      "\n",
      " 75%|███████████████████████████████████████████████████████████████████████████████████████████████████████████████████████████████▌                                         | 590/782 [01:33<00:34,  5.50it/s]"
     ]
    },
    {
     "name": "stdout",
     "output_type": "stream",
     "text": [
      "Iter 590.0, Minibatch Loss= 0.516327, Training Accuracy= 0.75781\n"
     ]
    },
    {
     "name": "stderr",
     "output_type": "stream",
     "text": [
      "\n",
      "\n",
      "\n",
      "\n",
      " 76%|███████████████████████████████████████████████████████████████████████████████████████████████████████████████████████████████▋                                         | 591/782 [01:34<00:40,  4.69it/s]\n",
      "\n",
      "\n",
      "\n",
      " 76%|███████████████████████████████████████████████████████████████████████████████████████████████████████████████████████████████▉                                         | 592/782 [01:34<00:39,  4.82it/s]\n",
      "\n",
      "\n",
      "\n",
      " 76%|████████████████████████████████████████████████████████████████████████████████████████████████████████████████████████████████▏                                        | 593/782 [01:34<00:37,  5.08it/s]\n",
      "\n",
      "\n",
      "\n",
      " 76%|████████████████████████████████████████████████████████████████████████████████████████████████████████████████████████████████▎                                        | 594/782 [01:34<00:36,  5.16it/s]\n",
      "\n",
      "\n",
      "\n",
      " 76%|████████████████████████████████████████████████████████████████████████████████████████████████████████████████████████████████▌                                        | 595/782 [01:34<00:34,  5.37it/s]\n",
      "\n",
      "\n",
      "\n",
      " 76%|████████████████████████████████████████████████████████████████████████████████████████████████████████████████████████████████▊                                        | 596/782 [01:34<00:34,  5.41it/s]\n",
      "\n",
      "\n",
      "\n",
      " 76%|█████████████████████████████████████████████████████████████████████████████████████████████████████████████████████████████████                                        | 597/782 [01:35<00:34,  5.32it/s]\n",
      "\n",
      "\n",
      "\n",
      " 76%|█████████████████████████████████████████████████████████████████████████████████████████████████████████████████████████████████▏                                       | 598/782 [01:35<00:34,  5.40it/s]\n",
      "\n",
      "\n",
      "\n",
      " 77%|█████████████████████████████████████████████████████████████████████████████████████████████████████████████████████████████████▍                                       | 599/782 [01:35<00:37,  4.94it/s]\n",
      "\n",
      "\n",
      "\n",
      " 77%|█████████████████████████████████████████████████████████████████████████████████████████████████████████████████████████████████▋                                       | 600/782 [01:35<00:35,  5.10it/s]"
     ]
    },
    {
     "name": "stdout",
     "output_type": "stream",
     "text": [
      "Iter 600.0, Minibatch Loss= 0.999878, Training Accuracy= 0.61719\n"
     ]
    },
    {
     "name": "stderr",
     "output_type": "stream",
     "text": [
      "\n",
      "\n",
      "\n",
      "\n",
      " 77%|█████████████████████████████████████████████████████████████████████████████████████████████████████████████████████████████████▉                                       | 601/782 [01:36<00:41,  4.41it/s]\n",
      "\n",
      "\n",
      "\n",
      " 77%|██████████████████████████████████████████████████████████████████████████████████████████████████████████████████████████████████                                       | 602/782 [01:36<00:38,  4.72it/s]\n",
      "\n",
      "\n",
      "\n",
      " 77%|██████████████████████████████████████████████████████████████████████████████████████████████████████████████████████████████████▎                                      | 603/782 [01:36<00:32,  5.45it/s]\n",
      "\n",
      "\n",
      "\n",
      " 77%|██████████████████████████████████████████████████████████████████████████████████████████████████████████████████████████████████▌                                      | 604/782 [01:36<00:30,  5.90it/s]\n",
      "\n",
      "\n",
      "\n",
      " 77%|██████████████████████████████████████████████████████████████████████████████████████████████████████████████████████████████████▋                                      | 605/782 [01:36<00:29,  6.00it/s]\n",
      "\n",
      "\n",
      "\n",
      " 77%|██████████████████████████████████████████████████████████████████████████████████████████████████████████████████████████████████▉                                      | 606/782 [01:36<00:28,  6.25it/s]\n",
      "\n",
      "\n",
      "\n",
      " 78%|███████████████████████████████████████████████████████████████████████████████████████████████████████████████████████████████████▏                                     | 607/782 [01:36<00:26,  6.61it/s]\n",
      "\n",
      "\n",
      "\n",
      " 78%|███████████████████████████████████████████████████████████████████████████████████████████████████████████████████████████████████▍                                     | 608/782 [01:37<00:26,  6.59it/s]\n",
      "\n",
      "\n",
      "\n",
      " 78%|███████████████████████████████████████████████████████████████████████████████████████████████████████████████████████████████████▌                                     | 609/782 [01:37<00:25,  6.81it/s]\n",
      "\n",
      "\n",
      "\n",
      " 78%|███████████████████████████████████████████████████████████████████████████████████████████████████████████████████████████████████▊                                     | 610/782 [01:37<00:24,  7.03it/s]"
     ]
    },
    {
     "name": "stdout",
     "output_type": "stream",
     "text": [
      "Iter 610.0, Minibatch Loss= 0.762634, Training Accuracy= 0.67188\n"
     ]
    },
    {
     "name": "stderr",
     "output_type": "stream",
     "text": [
      "\n",
      "\n",
      "\n",
      "\n",
      " 78%|████████████████████████████████████████████████████████████████████████████████████████████████████████████████████████████████████                                     | 611/782 [01:37<00:27,  6.13it/s]\n",
      "\n",
      "\n",
      "\n",
      " 78%|████████████████████████████████████████████████████████████████████████████████████████████████████████████████████████████████████▎                                    | 612/782 [01:37<00:27,  6.26it/s]\n",
      "\n",
      "\n",
      "\n",
      " 78%|████████████████████████████████████████████████████████████████████████████████████████████████████████████████████████████████████▍                                    | 613/782 [01:37<00:25,  6.69it/s]\n",
      "\n",
      "\n",
      "\n",
      " 79%|████████████████████████████████████████████████████████████████████████████████████████████████████████████████████████████████████▋                                    | 614/782 [01:37<00:24,  6.95it/s]\n",
      "\n",
      "\n",
      "\n",
      " 79%|████████████████████████████████████████████████████████████████████████████████████████████████████████████████████████████████████▉                                    | 615/782 [01:38<00:24,  6.76it/s]\n",
      "\n",
      "\n",
      "\n",
      " 79%|█████████████████████████████████████████████████████████████████████████████████████████████████████████████████████████████████████▏                                   | 616/782 [01:38<00:23,  7.08it/s]\n",
      "\n",
      "\n",
      "\n",
      " 79%|█████████████████████████████████████████████████████████████████████████████████████████████████████████████████████████████████████▎                                   | 617/782 [01:38<00:23,  7.04it/s]\n",
      "\n",
      "\n",
      "\n",
      " 79%|█████████████████████████████████████████████████████████████████████████████████████████████████████████████████████████████████████▌                                   | 618/782 [01:38<00:23,  7.10it/s]\n",
      "\n",
      "\n",
      "\n",
      " 79%|█████████████████████████████████████████████████████████████████████████████████████████████████████████████████████████████████████▊                                   | 619/782 [01:38<00:23,  7.06it/s]\n",
      "\n",
      "\n",
      "\n",
      " 79%|█████████████████████████████████████████████████████████████████████████████████████████████████████████████████████████████████████▉                                   | 620/782 [01:38<00:22,  7.24it/s]"
     ]
    },
    {
     "name": "stdout",
     "output_type": "stream",
     "text": [
      "Iter 620.0, Minibatch Loss= 0.793004, Training Accuracy= 0.58594\n"
     ]
    },
    {
     "name": "stderr",
     "output_type": "stream",
     "text": [
      "\n",
      "\n",
      "\n",
      "\n",
      " 79%|██████████████████████████████████████████████████████████████████████████████████████████████████████████████████████████████████████▏                                  | 621/782 [01:38<00:26,  6.15it/s]\n",
      "\n",
      "\n",
      "\n",
      " 80%|██████████████████████████████████████████████████████████████████████████████████████████████████████████████████████████████████████▍                                  | 622/782 [01:39<00:24,  6.48it/s]\n",
      "\n",
      "\n",
      "\n",
      " 80%|██████████████████████████████████████████████████████████████████████████████████████████████████████████████████████████████████████▋                                  | 623/782 [01:39<00:23,  6.75it/s]\n",
      "\n",
      "\n",
      "\n",
      " 80%|██████████████████████████████████████████████████████████████████████████████████████████████████████████████████████████████████████▊                                  | 624/782 [01:39<00:22,  6.88it/s]\n",
      "\n",
      "\n",
      "\n",
      " 80%|███████████████████████████████████████████████████████████████████████████████████████████████████████████████████████████████████████                                  | 625/782 [01:39<00:22,  7.05it/s]\n",
      "\n",
      "\n",
      "\n",
      " 80%|███████████████████████████████████████████████████████████████████████████████████████████████████████████████████████████████████████▎                                 | 626/782 [01:39<00:22,  6.89it/s]\n",
      "\n",
      "\n",
      "\n",
      " 80%|███████████████████████████████████████████████████████████████████████████████████████████████████████████████████████████████████████▌                                 | 627/782 [01:39<00:21,  7.09it/s]\n",
      "\n",
      "\n",
      "\n",
      " 80%|███████████████████████████████████████████████████████████████████████████████████████████████████████████████████████████████████████▋                                 | 628/782 [01:39<00:21,  7.09it/s]\n",
      "\n",
      "\n",
      "\n",
      " 80%|███████████████████████████████████████████████████████████████████████████████████████████████████████████████████████████████████████▉                                 | 629/782 [01:40<00:20,  7.29it/s]\n",
      "\n",
      "\n",
      "\n",
      " 81%|████████████████████████████████████████████████████████████████████████████████████████████████████████████████████████████████████████▏                                | 630/782 [01:40<00:21,  7.14it/s]"
     ]
    },
    {
     "name": "stdout",
     "output_type": "stream",
     "text": [
      "Iter 630.0, Minibatch Loss= 0.881955, Training Accuracy= 0.63281\n"
     ]
    },
    {
     "name": "stderr",
     "output_type": "stream",
     "text": [
      "\n",
      "\n",
      "\n",
      "\n",
      " 81%|████████████████████████████████████████████████████████████████████████████████████████████████████████████████████████████████████████▎                                | 631/782 [01:40<00:26,  5.74it/s]\n",
      "\n",
      "\n",
      "\n",
      " 81%|████████████████████████████████████████████████████████████████████████████████████████████████████████████████████████████████████████▌                                | 632/782 [01:40<00:25,  5.98it/s]\n",
      "\n",
      "\n",
      "\n",
      " 81%|████████████████████████████████████████████████████████████████████████████████████████████████████████████████████████████████████████▊                                | 633/782 [01:40<00:24,  6.15it/s]\n",
      "\n",
      "\n",
      "\n",
      " 81%|█████████████████████████████████████████████████████████████████████████████████████████████████████████████████████████████████████████                                | 634/782 [01:40<00:22,  6.56it/s]\n",
      "\n",
      "\n",
      "\n",
      " 81%|█████████████████████████████████████████████████████████████████████████████████████████████████████████████████████████████████████████▏                               | 635/782 [01:41<00:21,  6.80it/s]\n",
      "\n",
      "\n",
      "\n",
      " 81%|█████████████████████████████████████████████████████████████████████████████████████████████████████████████████████████████████████████▍                               | 636/782 [01:41<00:21,  6.86it/s]\n",
      "\n",
      "\n",
      "\n",
      " 81%|█████████████████████████████████████████████████████████████████████████████████████████████████████████████████████████████████████████▋                               | 637/782 [01:41<00:20,  7.08it/s]\n",
      "\n",
      "\n",
      "\n",
      " 82%|█████████████████████████████████████████████████████████████████████████████████████████████████████████████████████████████████████████▉                               | 638/782 [01:41<00:19,  7.23it/s]\n",
      "\n",
      "\n",
      "\n",
      " 82%|██████████████████████████████████████████████████████████████████████████████████████████████████████████████████████████████████████████                               | 639/782 [01:41<00:19,  7.16it/s]\n",
      "\n",
      "\n",
      "\n",
      " 82%|██████████████████████████████████████████████████████████████████████████████████████████████████████████████████████████████████████████▎                              | 640/782 [01:41<00:20,  6.79it/s]"
     ]
    },
    {
     "name": "stdout",
     "output_type": "stream",
     "text": [
      "Iter 640.0, Minibatch Loss= 0.872970, Training Accuracy= 0.59375\n"
     ]
    },
    {
     "name": "stderr",
     "output_type": "stream",
     "text": [
      "\n",
      "\n",
      "\n",
      "\n",
      " 82%|██████████████████████████████████████████████████████████████████████████████████████████████████████████████████████████████████████████▌                              | 641/782 [01:41<00:22,  6.28it/s]\n",
      "\n",
      "\n",
      "\n",
      " 82%|██████████████████████████████████████████████████████████████████████████████████████████████████████████████████████████████████████████▋                              | 642/782 [01:42<00:21,  6.52it/s]\n",
      "\n",
      "\n",
      "\n",
      " 82%|██████████████████████████████████████████████████████████████████████████████████████████████████████████████████████████████████████████▉                              | 643/782 [01:42<00:21,  6.53it/s]\n",
      "\n",
      "\n",
      "\n",
      " 82%|███████████████████████████████████████████████████████████████████████████████████████████████████████████████████████████████████████████▏                             | 644/782 [01:42<00:20,  6.82it/s]\n",
      "\n",
      "\n",
      "\n",
      " 82%|███████████████████████████████████████████████████████████████████████████████████████████████████████████████████████████████████████████▍                             | 645/782 [01:42<00:19,  6.93it/s]\n",
      "\n",
      "\n",
      "\n",
      " 83%|███████████████████████████████████████████████████████████████████████████████████████████████████████████████████████████████████████████▌                             | 646/782 [01:42<00:20,  6.77it/s]\n",
      "\n",
      "\n",
      "\n",
      " 83%|███████████████████████████████████████████████████████████████████████████████████████████████████████████████████████████████████████████▊                             | 647/782 [01:42<00:19,  6.93it/s]\n",
      "\n",
      "\n",
      "\n",
      " 83%|████████████████████████████████████████████████████████████████████████████████████████████████████████████████████████████████████████████                             | 648/782 [01:42<00:19,  7.05it/s]\n",
      "\n",
      "\n",
      "\n",
      " 83%|████████████████████████████████████████████████████████████████████████████████████████████████████████████████████████████████████████████▎                            | 649/782 [01:43<00:18,  7.19it/s]\n",
      "\n",
      "\n",
      "\n",
      " 83%|████████████████████████████████████████████████████████████████████████████████████████████████████████████████████████████████████████████▍                            | 650/782 [01:43<00:18,  7.28it/s]"
     ]
    },
    {
     "name": "stdout",
     "output_type": "stream",
     "text": [
      "Iter 650.0, Minibatch Loss= 0.741584, Training Accuracy= 0.69531\n"
     ]
    },
    {
     "name": "stderr",
     "output_type": "stream",
     "text": [
      "\n",
      "\n",
      "\n",
      "\n",
      " 83%|████████████████████████████████████████████████████████████████████████████████████████████████████████████████████████████████████████████▋                            | 651/782 [01:43<00:21,  6.19it/s]\n",
      "\n",
      "\n",
      "\n",
      " 83%|████████████████████████████████████████████████████████████████████████████████████████████████████████████████████████████████████████████▉                            | 652/782 [01:43<00:20,  6.23it/s]\n",
      "\n",
      "\n",
      "\n",
      " 84%|█████████████████████████████████████████████████████████████████████████████████████████████████████████████████████████████████████████████                            | 653/782 [01:43<00:20,  6.43it/s]\n",
      "\n",
      "\n",
      "\n",
      " 84%|█████████████████████████████████████████████████████████████████████████████████████████████████████████████████████████████████████████████▎                           | 654/782 [01:43<00:19,  6.69it/s]\n",
      "\n",
      "\n",
      "\n",
      " 84%|█████████████████████████████████████████████████████████████████████████████████████████████████████████████████████████████████████████████▌                           | 655/782 [01:43<00:18,  7.04it/s]\n",
      "\n",
      "\n",
      "\n",
      " 84%|█████████████████████████████████████████████████████████████████████████████████████████████████████████████████████████████████████████████▊                           | 656/782 [01:44<00:17,  7.21it/s]\n",
      "\n",
      "\n",
      "\n",
      " 84%|█████████████████████████████████████████████████████████████████████████████████████████████████████████████████████████████████████████████▉                           | 657/782 [01:44<00:20,  6.05it/s]\n",
      "\n",
      "\n",
      "\n",
      " 84%|██████████████████████████████████████████████████████████████████████████████████████████████████████████████████████████████████████████████▏                          | 658/782 [01:44<00:19,  6.34it/s]\n",
      "\n",
      "\n",
      "\n",
      " 84%|██████████████████████████████████████████████████████████████████████████████████████████████████████████████████████████████████████████████▍                          | 659/782 [01:44<00:18,  6.61it/s]\n",
      "\n",
      "\n",
      "\n",
      " 84%|██████████████████████████████████████████████████████████████████████████████████████████████████████████████████████████████████████████████▋                          | 660/782 [01:44<00:18,  6.67it/s]"
     ]
    },
    {
     "name": "stdout",
     "output_type": "stream",
     "text": [
      "Iter 660.0, Minibatch Loss= 0.835332, Training Accuracy= 0.66406\n"
     ]
    },
    {
     "name": "stderr",
     "output_type": "stream",
     "text": [
      "\n",
      "\n",
      "\n",
      "\n",
      " 85%|██████████████████████████████████████████████████████████████████████████████████████████████████████████████████████████████████████████████▊                          | 661/782 [01:45<00:23,  5.21it/s]\n",
      "\n",
      "\n",
      "\n",
      " 85%|███████████████████████████████████████████████████████████████████████████████████████████████████████████████████████████████████████████████                          | 662/782 [01:45<00:21,  5.62it/s]\n",
      "\n",
      "\n",
      "\n",
      " 85%|███████████████████████████████████████████████████████████████████████████████████████████████████████████████████████████████████████████████▎                         | 663/782 [01:45<00:20,  5.68it/s]\n",
      "\n",
      "\n",
      "\n",
      " 85%|███████████████████████████████████████████████████████████████████████████████████████████████████████████████████████████████████████████████▍                         | 664/782 [01:45<00:20,  5.80it/s]\n",
      "\n",
      "\n",
      "\n",
      " 85%|███████████████████████████████████████████████████████████████████████████████████████████████████████████████████████████████████████████████▋                         | 665/782 [01:45<00:21,  5.40it/s]\n",
      "\n",
      "\n",
      "\n",
      " 85%|███████████████████████████████████████████████████████████████████████████████████████████████████████████████████████████████████████████████▉                         | 666/782 [01:45<00:19,  5.93it/s]\n",
      "\n",
      "\n",
      "\n",
      " 85%|████████████████████████████████████████████████████████████████████████████████████████████████████████████████████████████████████████████████▏                        | 667/782 [01:46<00:18,  6.21it/s]\n",
      "\n",
      "\n",
      "\n",
      " 85%|████████████████████████████████████████████████████████████████████████████████████████████████████████████████████████████████████████████████▎                        | 668/782 [01:46<00:18,  6.19it/s]\n",
      "\n",
      "\n",
      "\n",
      " 86%|████████████████████████████████████████████████████████████████████████████████████████████████████████████████████████████████████████████████▌                        | 669/782 [01:46<00:17,  6.44it/s]\n",
      "\n",
      "\n",
      "\n",
      " 86%|████████████████████████████████████████████████████████████████████████████████████████████████████████████████████████████████████████████████▊                        | 670/782 [01:46<00:17,  6.42it/s]"
     ]
    },
    {
     "name": "stdout",
     "output_type": "stream",
     "text": [
      "Iter 670.0, Minibatch Loss= 0.839975, Training Accuracy= 0.60938\n"
     ]
    },
    {
     "name": "stderr",
     "output_type": "stream",
     "text": [
      "\n",
      "\n",
      "\n",
      "\n",
      " 86%|█████████████████████████████████████████████████████████████████████████████████████████████████████████████████████████████████████████████████                        | 671/782 [01:46<00:20,  5.48it/s]\n",
      "\n",
      "\n",
      "\n",
      " 86%|█████████████████████████████████████████████████████████████████████████████████████████████████████████████████████████████████████████████████▏                       | 672/782 [01:46<00:18,  5.98it/s]\n",
      "\n",
      "\n",
      "\n",
      " 86%|█████████████████████████████████████████████████████████████████████████████████████████████████████████████████████████████████████████████████▍                       | 673/782 [01:47<00:17,  6.33it/s]\n",
      "\n",
      "\n",
      "\n",
      " 86%|█████████████████████████████████████████████████████████████████████████████████████████████████████████████████████████████████████████████████▋                       | 674/782 [01:47<00:16,  6.60it/s]\n",
      "\n",
      "\n",
      "\n",
      " 86%|█████████████████████████████████████████████████████████████████████████████████████████████████████████████████████████████████████████████████▉                       | 675/782 [01:47<00:15,  6.87it/s]\n",
      "\n",
      "\n",
      "\n",
      " 86%|██████████████████████████████████████████████████████████████████████████████████████████████████████████████████████████████████████████████████                       | 676/782 [01:47<00:14,  7.08it/s]\n",
      "\n",
      "\n",
      "\n",
      " 87%|██████████████████████████████████████████████████████████████████████████████████████████████████████████████████████████████████████████████████▎                      | 677/782 [01:47<00:14,  7.13it/s]\n",
      "\n",
      "\n",
      "\n",
      " 87%|██████████████████████████████████████████████████████████████████████████████████████████████████████████████████████████████████████████████████▌                      | 678/782 [01:47<00:14,  7.12it/s]\n",
      "\n",
      "\n",
      "\n",
      " 87%|██████████████████████████████████████████████████████████████████████████████████████████████████████████████████████████████████████████████████▋                      | 679/782 [01:47<00:14,  7.10it/s]\n",
      "\n",
      "\n",
      "\n",
      " 87%|██████████████████████████████████████████████████████████████████████████████████████████████████████████████████████████████████████████████████▉                      | 680/782 [01:47<00:14,  7.19it/s]"
     ]
    },
    {
     "name": "stdout",
     "output_type": "stream",
     "text": [
      "Iter 680.0, Minibatch Loss= 0.802679, Training Accuracy= 0.67969\n"
     ]
    },
    {
     "name": "stderr",
     "output_type": "stream",
     "text": [
      "\n",
      "\n",
      "\n",
      "\n",
      " 87%|███████████████████████████████████████████████████████████████████████████████████████████████████████████████████████████████████████████████████▏                     | 681/782 [01:48<00:16,  6.27it/s]\n",
      "\n",
      "\n",
      "\n",
      " 87%|███████████████████████████████████████████████████████████████████████████████████████████████████████████████████████████████████████████████████▍                     | 682/782 [01:48<00:15,  6.62it/s]\n",
      "\n",
      "\n",
      "\n",
      " 87%|███████████████████████████████████████████████████████████████████████████████████████████████████████████████████████████████████████████████████▌                     | 683/782 [01:48<00:15,  6.54it/s]\n",
      "\n",
      "\n",
      "\n",
      " 87%|███████████████████████████████████████████████████████████████████████████████████████████████████████████████████████████████████████████████████▊                     | 684/782 [01:48<00:14,  6.69it/s]\n",
      "\n",
      "\n",
      "\n",
      " 88%|████████████████████████████████████████████████████████████████████████████████████████████████████████████████████████████████████████████████████                     | 685/782 [01:48<00:13,  6.94it/s]\n",
      "\n",
      "\n",
      "\n",
      " 88%|████████████████████████████████████████████████████████████████████████████████████████████████████████████████████████████████████████████████████▎                    | 686/782 [01:48<00:13,  6.91it/s]\n",
      "\n",
      "\n",
      "\n",
      " 88%|████████████████████████████████████████████████████████████████████████████████████████████████████████████████████████████████████████████████████▍                    | 687/782 [01:49<00:14,  6.60it/s]\n",
      "\n",
      "\n",
      "\n",
      " 88%|████████████████████████████████████████████████████████████████████████████████████████████████████████████████████████████████████████████████████▋                    | 688/782 [01:49<00:13,  6.81it/s]\n",
      "\n",
      "\n",
      "\n",
      " 88%|████████████████████████████████████████████████████████████████████████████████████████████████████████████████████████████████████████████████████▉                    | 689/782 [01:49<00:13,  6.80it/s]\n",
      "\n",
      "\n",
      "\n",
      " 88%|█████████████████████████████████████████████████████████████████████████████████████████████████████████████████████████████████████████████████████                    | 690/782 [01:49<00:13,  6.80it/s]"
     ]
    },
    {
     "name": "stdout",
     "output_type": "stream",
     "text": [
      "Iter 690.0, Minibatch Loss= 0.790880, Training Accuracy= 0.64062\n"
     ]
    },
    {
     "name": "stderr",
     "output_type": "stream",
     "text": [
      "\n",
      "\n",
      "\n",
      "\n",
      " 88%|█████████████████████████████████████████████████████████████████████████████████████████████████████████████████████████████████████████████████████▎                   | 691/782 [01:49<00:16,  5.66it/s]\n",
      "\n",
      "\n",
      "\n",
      " 88%|█████████████████████████████████████████████████████████████████████████████████████████████████████████████████████████████████████████████████████▌                   | 692/782 [01:49<00:14,  6.12it/s]\n",
      "\n",
      "\n",
      "\n",
      " 89%|█████████████████████████████████████████████████████████████████████████████████████████████████████████████████████████████████████████████████████▊                   | 693/782 [01:49<00:13,  6.49it/s]\n",
      "\n",
      "\n",
      "\n",
      " 89%|█████████████████████████████████████████████████████████████████████████████████████████████████████████████████████████████████████████████████████▉                   | 694/782 [01:50<00:12,  6.82it/s]\n",
      "\n",
      "\n",
      "\n",
      " 89%|██████████████████████████████████████████████████████████████████████████████████████████████████████████████████████████████████████████████████████▏                  | 695/782 [01:50<00:12,  6.83it/s]\n",
      "\n",
      "\n",
      "\n",
      " 89%|██████████████████████████████████████████████████████████████████████████████████████████████████████████████████████████████████████████████████████▍                  | 696/782 [01:50<00:12,  6.65it/s]\n",
      "\n",
      "\n",
      "\n",
      " 89%|██████████████████████████████████████████████████████████████████████████████████████████████████████████████████████████████████████████████████████▋                  | 697/782 [01:50<00:12,  6.55it/s]\n",
      "\n",
      "\n",
      "\n",
      " 89%|██████████████████████████████████████████████████████████████████████████████████████████████████████████████████████████████████████████████████████▊                  | 698/782 [01:50<00:12,  6.61it/s]\n",
      "\n",
      "\n",
      "\n",
      " 89%|███████████████████████████████████████████████████████████████████████████████████████████████████████████████████████████████████████████████████████                  | 699/782 [01:50<00:12,  6.84it/s]\n",
      "\n",
      "\n",
      "\n",
      " 90%|███████████████████████████████████████████████████████████████████████████████████████████████████████████████████████████████████████████████████████▎                 | 700/782 [01:51<00:11,  7.08it/s]"
     ]
    },
    {
     "name": "stdout",
     "output_type": "stream",
     "text": [
      "Iter 700.0, Minibatch Loss= 0.880726, Training Accuracy= 0.62500\n"
     ]
    },
    {
     "name": "stderr",
     "output_type": "stream",
     "text": [
      "\n",
      "\n",
      "\n",
      "\n",
      " 90%|███████████████████████████████████████████████████████████████████████████████████████████████████████████████████████████████████████████████████████▍                 | 701/782 [01:51<00:13,  6.11it/s]\n",
      "\n",
      "\n",
      "\n",
      " 90%|███████████████████████████████████████████████████████████████████████████████████████████████████████████████████████████████████████████████████████▋                 | 702/782 [01:51<00:12,  6.43it/s]\n",
      "\n",
      "\n",
      "\n",
      " 90%|███████████████████████████████████████████████████████████████████████████████████████████████████████████████████████████████████████████████████████▉                 | 703/782 [01:51<00:11,  6.71it/s]\n",
      "\n",
      "\n",
      "\n",
      " 90%|████████████████████████████████████████████████████████████████████████████████████████████████████████████████████████████████████████████████████████▏                | 704/782 [01:51<00:11,  6.84it/s]\n",
      "\n",
      "\n",
      "\n",
      " 90%|████████████████████████████████████████████████████████████████████████████████████████████████████████████████████████████████████████████████████████▎                | 705/782 [01:51<00:11,  6.50it/s]\n",
      "\n",
      "\n",
      "\n",
      " 90%|████████████████████████████████████████████████████████████████████████████████████████████████████████████████████████████████████████████████████████▌                | 706/782 [01:51<00:11,  6.85it/s]\n",
      "\n",
      "\n",
      "\n",
      " 90%|████████████████████████████████████████████████████████████████████████████████████████████████████████████████████████████████████████████████████████▊                | 707/782 [01:52<00:10,  6.99it/s]\n",
      "\n",
      "\n",
      "\n",
      " 91%|█████████████████████████████████████████████████████████████████████████████████████████████████████████████████████████████████████████████████████████                | 708/782 [01:52<00:10,  7.09it/s]\n",
      "\n",
      "\n",
      "\n",
      " 91%|█████████████████████████████████████████████████████████████████████████████████████████████████████████████████████████████████████████████████████████▏               | 709/782 [01:52<00:10,  7.14it/s]\n",
      "\n",
      "\n",
      "\n",
      " 91%|█████████████████████████████████████████████████████████████████████████████████████████████████████████████████████████████████████████████████████████▍               | 710/782 [01:52<00:09,  7.24it/s]"
     ]
    },
    {
     "name": "stdout",
     "output_type": "stream",
     "text": [
      "Iter 710.0, Minibatch Loss= 0.628120, Training Accuracy= 0.74219\n"
     ]
    },
    {
     "name": "stderr",
     "output_type": "stream",
     "text": [
      "\n",
      "\n",
      "\n",
      "\n",
      " 91%|█████████████████████████████████████████████████████████████████████████████████████████████████████████████████████████████████████████████████████████▋               | 711/782 [01:52<00:11,  6.28it/s]\n",
      "\n",
      "\n",
      "\n",
      " 91%|█████████████████████████████████████████████████████████████████████████████████████████████████████████████████████████████████████████████████████████▊               | 712/782 [01:52<00:10,  6.57it/s]\n",
      "\n",
      "\n",
      "\n",
      " 91%|██████████████████████████████████████████████████████████████████████████████████████████████████████████████████████████████████████████████████████████               | 713/782 [01:52<00:10,  6.84it/s]\n",
      "\n",
      "\n",
      "\n",
      " 91%|██████████████████████████████████████████████████████████████████████████████████████████████████████████████████████████████████████████████████████████▎              | 714/782 [01:53<00:10,  6.57it/s]\n",
      "\n",
      "\n",
      "\n",
      " 91%|██████████████████████████████████████████████████████████████████████████████████████████████████████████████████████████████████████████████████████████▌              | 715/782 [01:53<00:10,  6.64it/s]\n",
      "\n",
      "\n",
      "\n",
      " 92%|██████████████████████████████████████████████████████████████████████████████████████████████████████████████████████████████████████████████████████████▋              | 716/782 [01:53<00:11,  5.86it/s]\n",
      "\n",
      "\n",
      "\n",
      " 92%|██████████████████████████████████████████████████████████████████████████████████████████████████████████████████████████████████████████████████████████▉              | 717/782 [01:53<00:12,  5.33it/s]\n",
      "\n",
      "\n",
      "\n",
      " 92%|███████████████████████████████████████████████████████████████████████████████████████████████████████████████████████████████████████████████████████████▏             | 718/782 [01:53<00:11,  5.43it/s]\n",
      "\n",
      "\n",
      "\n",
      " 92%|███████████████████████████████████████████████████████████████████████████████████████████████████████████████████████████████████████████████████████████▍             | 719/782 [01:54<00:11,  5.51it/s]\n",
      "\n",
      "\n",
      "\n",
      " 92%|███████████████████████████████████████████████████████████████████████████████████████████████████████████████████████████████████████████████████████████▌             | 720/782 [01:54<00:11,  5.49it/s]"
     ]
    },
    {
     "name": "stdout",
     "output_type": "stream",
     "text": [
      "Iter 720.0, Minibatch Loss= 0.837529, Training Accuracy= 0.60938\n"
     ]
    },
    {
     "name": "stderr",
     "output_type": "stream",
     "text": [
      "\n",
      "\n",
      "\n",
      "\n",
      " 92%|███████████████████████████████████████████████████████████████████████████████████████████████████████████████████████████████████████████████████████████▊             | 721/782 [01:54<00:12,  5.08it/s]\n",
      "\n",
      "\n",
      "\n",
      " 92%|████████████████████████████████████████████████████████████████████████████████████████████████████████████████████████████████████████████████████████████             | 722/782 [01:54<00:10,  5.55it/s]\n",
      "\n",
      "\n",
      "\n",
      " 92%|████████████████████████████████████████████████████████████████████████████████████████████████████████████████████████████████████████████████████████████▏            | 723/782 [01:54<00:09,  5.99it/s]\n",
      "\n",
      "\n",
      "\n",
      " 93%|████████████████████████████████████████████████████████████████████████████████████████████████████████████████████████████████████████████████████████████▍            | 724/782 [01:54<00:09,  6.40it/s]\n",
      "\n",
      "\n",
      "\n",
      " 93%|████████████████████████████████████████████████████████████████████████████████████████████████████████████████████████████████████████████████████████████▋            | 725/782 [01:55<00:08,  6.57it/s]\n",
      "\n",
      "\n",
      "\n",
      " 93%|████████████████████████████████████████████████████████████████████████████████████████████████████████████████████████████████████████████████████████████▉            | 726/782 [01:55<00:08,  6.69it/s]\n",
      "\n",
      "\n",
      "\n",
      " 93%|█████████████████████████████████████████████████████████████████████████████████████████████████████████████████████████████████████████████████████████████            | 727/782 [01:55<00:08,  6.68it/s]\n",
      "\n",
      "\n",
      "\n",
      " 93%|█████████████████████████████████████████████████████████████████████████████████████████████████████████████████████████████████████████████████████████████▎           | 728/782 [01:55<00:08,  6.62it/s]\n",
      "\n",
      "\n",
      "\n",
      " 93%|█████████████████████████████████████████████████████████████████████████████████████████████████████████████████████████████████████████████████████████████▌           | 729/782 [01:55<00:08,  6.43it/s]\n",
      "\n",
      "\n",
      "\n",
      " 93%|█████████████████████████████████████████████████████████████████████████████████████████████████████████████████████████████████████████████████████████████▊           | 730/782 [01:55<00:07,  6.69it/s]"
     ]
    },
    {
     "name": "stdout",
     "output_type": "stream",
     "text": [
      "Iter 730.0, Minibatch Loss= 0.782699, Training Accuracy= 0.72656\n"
     ]
    },
    {
     "name": "stderr",
     "output_type": "stream",
     "text": [
      "\n",
      "\n",
      "\n",
      "\n",
      " 93%|█████████████████████████████████████████████████████████████████████████████████████████████████████████████████████████████████████████████████████████████▉           | 731/782 [01:55<00:08,  6.17it/s]\n",
      "\n",
      "\n",
      "\n",
      " 94%|██████████████████████████████████████████████████████████████████████████████████████████████████████████████████████████████████████████████████████████████▏          | 732/782 [01:56<00:08,  6.23it/s]\n",
      "\n",
      "\n",
      "\n",
      " 94%|██████████████████████████████████████████████████████████████████████████████████████████████████████████████████████████████████████████████████████████████▍          | 733/782 [01:56<00:07,  6.25it/s]\n",
      "\n",
      "\n",
      "\n",
      " 94%|██████████████████████████████████████████████████████████████████████████████████████████████████████████████████████████████████████████████████████████████▋          | 734/782 [01:56<00:07,  6.40it/s]\n",
      "\n",
      "\n",
      "\n",
      " 94%|██████████████████████████████████████████████████████████████████████████████████████████████████████████████████████████████████████████████████████████████▊          | 735/782 [01:56<00:07,  6.52it/s]\n",
      "\n",
      "\n",
      "\n",
      " 94%|███████████████████████████████████████████████████████████████████████████████████████████████████████████████████████████████████████████████████████████████          | 736/782 [01:56<00:07,  6.22it/s]\n",
      "\n",
      "\n",
      "\n",
      " 94%|███████████████████████████████████████████████████████████████████████████████████████████████████████████████████████████████████████████████████████████████▎         | 737/782 [01:56<00:07,  6.09it/s]\n",
      "\n",
      "\n",
      "\n",
      " 94%|███████████████████████████████████████████████████████████████████████████████████████████████████████████████████████████████████████████████████████████████▍         | 738/782 [01:57<00:07,  5.92it/s]\n",
      "\n",
      "\n",
      "\n",
      " 95%|███████████████████████████████████████████████████████████████████████████████████████████████████████████████████████████████████████████████████████████████▋         | 739/782 [01:57<00:07,  5.77it/s]\n",
      "\n",
      "\n",
      "\n",
      " 95%|███████████████████████████████████████████████████████████████████████████████████████████████████████████████████████████████████████████████████████████████▉         | 740/782 [01:57<00:07,  5.80it/s]"
     ]
    },
    {
     "name": "stdout",
     "output_type": "stream",
     "text": [
      "Iter 740.0, Minibatch Loss= 1.380069, Training Accuracy= 0.54688\n"
     ]
    },
    {
     "name": "stderr",
     "output_type": "stream",
     "text": [
      "\n",
      "\n",
      "\n",
      "\n",
      " 95%|████████████████████████████████████████████████████████████████████████████████████████████████████████████████████████████████████████████████████████████████▏        | 741/782 [01:57<00:08,  4.86it/s]\n",
      "\n",
      "\n",
      "\n",
      " 95%|████████████████████████████████████████████████████████████████████████████████████████████████████████████████████████████████████████████████████████████████▎        | 742/782 [01:57<00:07,  5.12it/s]\n",
      "\n",
      "\n",
      "\n",
      " 95%|████████████████████████████████████████████████████████████████████████████████████████████████████████████████████████████████████████████████████████████████▌        | 743/782 [01:58<00:07,  5.51it/s]\n",
      "\n",
      "\n",
      "\n",
      " 95%|████████████████████████████████████████████████████████████████████████████████████████████████████████████████████████████████████████████████████████████████▊        | 744/782 [01:58<00:07,  5.43it/s]\n",
      "\n",
      "\n",
      "\n",
      " 95%|█████████████████████████████████████████████████████████████████████████████████████████████████████████████████████████████████████████████████████████████████        | 745/782 [01:58<00:06,  5.81it/s]\n",
      "\n",
      "\n",
      "\n",
      " 95%|█████████████████████████████████████████████████████████████████████████████████████████████████████████████████████████████████████████████████████████████████▏       | 746/782 [01:58<00:06,  5.85it/s]\n",
      "\n",
      "\n",
      "\n",
      " 96%|█████████████████████████████████████████████████████████████████████████████████████████████████████████████████████████████████████████████████████████████████▍       | 747/782 [01:58<00:06,  5.81it/s]\n",
      "\n",
      "\n",
      "\n",
      " 96%|█████████████████████████████████████████████████████████████████████████████████████████████████████████████████████████████████████████████████████████████████▋       | 748/782 [01:58<00:05,  5.72it/s]\n",
      "\n",
      "\n",
      "\n",
      " 96%|█████████████████████████████████████████████████████████████████████████████████████████████████████████████████████████████████████████████████████████████████▊       | 749/782 [01:59<00:05,  5.90it/s]\n",
      "\n",
      "\n",
      "\n",
      " 96%|██████████████████████████████████████████████████████████████████████████████████████████████████████████████████████████████████████████████████████████████████       | 750/782 [01:59<00:05,  6.04it/s]"
     ]
    },
    {
     "name": "stdout",
     "output_type": "stream",
     "text": [
      "Iter 750.0, Minibatch Loss= 1.000833, Training Accuracy= 0.60938\n"
     ]
    },
    {
     "name": "stderr",
     "output_type": "stream",
     "text": [
      "\n",
      "\n",
      "\n",
      "\n",
      " 96%|██████████████████████████████████████████████████████████████████████████████████████████████████████████████████████████████████████████████████████████████████▎      | 751/782 [01:59<00:05,  5.85it/s]\n",
      "\n",
      "\n",
      "\n",
      " 96%|██████████████████████████████████████████████████████████████████████████████████████████████████████████████████████████████████████████████████████████████████▌      | 752/782 [01:59<00:04,  6.08it/s]\n",
      "\n",
      "\n",
      "\n",
      " 96%|██████████████████████████████████████████████████████████████████████████████████████████████████████████████████████████████████████████████████████████████████▋      | 753/782 [01:59<00:04,  6.37it/s]\n",
      "\n",
      "\n",
      "\n",
      " 96%|██████████████████████████████████████████████████████████████████████████████████████████████████████████████████████████████████████████████████████████████████▉      | 754/782 [01:59<00:04,  6.64it/s]\n",
      "\n",
      "\n",
      "\n",
      " 97%|███████████████████████████████████████████████████████████████████████████████████████████████████████████████████████████████████████████████████████████████████▏     | 755/782 [01:59<00:03,  6.89it/s]\n",
      "\n",
      "\n",
      "\n",
      " 97%|███████████████████████████████████████████████████████████████████████████████████████████████████████████████████████████████████████████████████████████████████▍     | 756/782 [02:00<00:03,  7.01it/s]\n",
      "\n",
      "\n",
      "\n",
      " 97%|███████████████████████████████████████████████████████████████████████████████████████████████████████████████████████████████████████████████████████████████████▌     | 757/782 [02:00<00:03,  6.90it/s]\n",
      "\n",
      "\n",
      "\n",
      " 97%|███████████████████████████████████████████████████████████████████████████████████████████████████████████████████████████████████████████████████████████████████▊     | 758/782 [02:00<00:03,  6.58it/s]\n",
      "\n",
      "\n",
      "\n",
      " 97%|████████████████████████████████████████████████████████████████████████████████████████████████████████████████████████████████████████████████████████████████████     | 759/782 [02:00<00:03,  6.53it/s]\n",
      "\n",
      "\n",
      "\n",
      " 97%|████████████████████████████████████████████████████████████████████████████████████████████████████████████████████████████████████████████████████████████████████▏    | 760/782 [02:00<00:03,  6.51it/s]"
     ]
    },
    {
     "name": "stdout",
     "output_type": "stream",
     "text": [
      "Iter 760.0, Minibatch Loss= 0.836468, Training Accuracy= 0.61719\n"
     ]
    },
    {
     "name": "stderr",
     "output_type": "stream",
     "text": [
      "\n",
      "\n",
      "\n",
      "\n",
      " 97%|████████████████████████████████████████████████████████████████████████████████████████████████████████████████████████████████████████████████████████████████████▍    | 761/782 [02:00<00:03,  5.87it/s]\n",
      "\n",
      "\n",
      "\n",
      " 97%|████████████████████████████████████████████████████████████████████████████████████████████████████████████████████████████████████████████████████████████████████▋    | 762/782 [02:01<00:03,  6.32it/s]\n",
      "\n",
      "\n",
      "\n",
      " 98%|████████████████████████████████████████████████████████████████████████████████████████████████████████████████████████████████████████████████████████████████████▉    | 763/782 [02:01<00:02,  6.46it/s]\n",
      "\n",
      "\n",
      "\n",
      " 98%|█████████████████████████████████████████████████████████████████████████████████████████████████████████████████████████████████████████████████████████████████████    | 764/782 [02:01<00:02,  6.58it/s]\n",
      "\n",
      "\n",
      "\n",
      " 98%|█████████████████████████████████████████████████████████████████████████████████████████████████████████████████████████████████████████████████████████████████████▎   | 765/782 [02:01<00:02,  6.97it/s]\n",
      "\n",
      "\n",
      "\n",
      " 98%|█████████████████████████████████████████████████████████████████████████████████████████████████████████████████████████████████████████████████████████████████████▌   | 766/782 [02:01<00:02,  7.12it/s]\n",
      "\n",
      "\n",
      "\n",
      " 98%|█████████████████████████████████████████████████████████████████████████████████████████████████████████████████████████████████████████████████████████████████████▊   | 767/782 [02:01<00:02,  6.95it/s]\n",
      "\n",
      "\n",
      "\n",
      " 98%|█████████████████████████████████████████████████████████████████████████████████████████████████████████████████████████████████████████████████████████████████████▉   | 768/782 [02:01<00:02,  6.86it/s]\n",
      "\n",
      "\n",
      "\n",
      " 98%|██████████████████████████████████████████████████████████████████████████████████████████████████████████████████████████████████████████████████████████████████████▏  | 769/782 [02:02<00:01,  6.95it/s]\n",
      "\n",
      "\n",
      "\n",
      " 98%|██████████████████████████████████████████████████████████████████████████████████████████████████████████████████████████████████████████████████████████████████████▍  | 770/782 [02:02<00:01,  6.90it/s]"
     ]
    },
    {
     "name": "stdout",
     "output_type": "stream",
     "text": [
      "Iter 770.0, Minibatch Loss= 1.093636, Training Accuracy= 0.56250\n"
     ]
    },
    {
     "name": "stderr",
     "output_type": "stream",
     "text": [
      "\n",
      "\n",
      "\n",
      "\n",
      " 99%|██████████████████████████████████████████████████████████████████████████████████████████████████████████████████████████████████████████████████████████████████████▌  | 771/782 [02:02<00:01,  6.00it/s]\n",
      "\n",
      "\n",
      "\n",
      " 99%|██████████████████████████████████████████████████████████████████████████████████████████████████████████████████████████████████████████████████████████████████████▊  | 772/782 [02:02<00:01,  6.21it/s]\n",
      "\n",
      "\n",
      "\n",
      " 99%|███████████████████████████████████████████████████████████████████████████████████████████████████████████████████████████████████████████████████████████████████████  | 773/782 [02:02<00:01,  6.42it/s]\n",
      "\n",
      "\n",
      "\n",
      " 99%|███████████████████████████████████████████████████████████████████████████████████████████████████████████████████████████████████████████████████████████████████████▎ | 774/782 [02:02<00:01,  6.71it/s]\n",
      "\n",
      "\n",
      "\n",
      " 99%|███████████████████████████████████████████████████████████████████████████████████████████████████████████████████████████████████████████████████████████████████████▍ | 775/782 [02:02<00:01,  6.83it/s]\n",
      "\n",
      "\n",
      "\n",
      " 99%|███████████████████████████████████████████████████████████████████████████████████████████████████████████████████████████████████████████████████████████████████████▋ | 776/782 [02:03<00:00,  7.03it/s]\n",
      "\n",
      "\n",
      "\n",
      " 99%|███████████████████████████████████████████████████████████████████████████████████████████████████████████████████████████████████████████████████████████████████████▉ | 777/782 [02:03<00:00,  7.15it/s]\n",
      "\n",
      "\n",
      "\n",
      " 99%|████████████████████████████████████████████████████████████████████████████████████████████████████████████████████████████████████████████████████████████████████████▏| 778/782 [02:03<00:00,  7.16it/s]\n",
      "\n",
      "\n",
      "\n",
      "100%|████████████████████████████████████████████████████████████████████████████████████████████████████████████████████████████████████████████████████████████████████████▎| 779/782 [02:03<00:00,  6.86it/s]\n",
      "\n",
      "\n",
      "\n",
      "100%|████████████████████████████████████████████████████████████████████████████████████████████████████████████████████████████████████████████████████████████████████████▌| 780/782 [02:03<00:00,  6.94it/s]"
     ]
    },
    {
     "name": "stdout",
     "output_type": "stream",
     "text": [
      "Iter 780.0, Minibatch Loss= 0.789685, Training Accuracy= 0.64062\n"
     ]
    },
    {
     "name": "stderr",
     "output_type": "stream",
     "text": [
      "\n",
      "\n",
      "\n",
      "\n",
      "100%|████████████████████████████████████████████████████████████████████████████████████████████████████████████████████████████████████████████████████████████████████████▊| 781/782 [02:03<00:00,  6.33it/s]\n",
      "\n",
      "\n",
      "\n",
      "100%|█████████████████████████████████████████████████████████████████████████████████████████████████████████████████████████████████████████████████████████████████████████| 782/782 [02:04<00:00,  6.43it/s]"
     ]
    }
   ],
   "source": [
    "# Initialize variables\n",
    "init = tf.global_variables_initializer()\n",
    "\n",
    "from tqdm import tqdm\n",
    "\n",
    "# Launch the Tensorflow session\n",
    "sess = tf.Session()\n",
    "sess.run(init)\n",
    "\n",
    "# training_iterations_count: The number of data pieces to train on in total\n",
    "# batch_size: The number of data pieces per batch\n",
    "training_iterations = range(0,training_iterations_count,batch_size)\n",
    "training_iterations = tqdm(training_iterations)\n",
    "\n",
    "for i in training_iterations:\n",
    "    if i % 1000 == 0:\n",
    "    # Select indices for a random data subset\n",
    "        batch = np.random.randint(data_feature_list[0].shape[0], size=batch_size)\n",
    "    \n",
    "    # Use the selected subset indices to initialize the graph's \n",
    "    #   placeholder values\n",
    "    hyps, evis, ys = (data_feature_list[0][batch,:],\n",
    "                      data_feature_list[1][batch,:],\n",
    "                      correct_scores[batch])\n",
    "    \n",
    "    # Run the optimization with these initialized values\n",
    "    sess.run([opt_op], feed_dict={hyp: hyps, evi: evis, y: ys})\n",
    "    # display_step: how often the accuracy and loss should \n",
    "    #   be tested and displayed.\n",
    "    if (i/batch_size) % display_step == 0:\n",
    "        # Calculate batch accuracy\n",
    "        acc = sess.run(accuracy, feed_dict={hyp: hyps, evi: evis, y: ys})\n",
    "        # Calculate batch loss\n",
    "        tmp_loss = sess.run(loss, feed_dict={hyp: hyps, evi: evis, y: ys})\n",
    "        # Display results\n",
    "        print(\"Iter \" + str(i/batch_size) + \", Minibatch Loss= \" + \\\n",
    "              \"{:.6f}\".format(tmp_loss) + \", Training Accuracy= \" + \\\n",
    "              \"{:.5f}\".format(acc))"
   ]
  },
  {
   "cell_type": "code",
   "execution_count": 50,
   "metadata": {},
   "outputs": [
    {
     "name": "stderr",
     "output_type": "stream",
     "text": [
      "f:\\python 36 64\\lib\\site-packages\\ipykernel_launcher.py:17: FutureWarning: Using a non-tuple sequence for multidimensional indexing is deprecated; use `arr[tuple(seq)]` instead of `arr[seq]`. In the future this will be interpreted as an array index, `arr[np.array(seq)]`, which will result either in an error or a different result.\n"
     ]
    },
    {
     "name": "stdout",
     "output_type": "stream",
     "text": [
      "Acc: 48.487923685812866\n"
     ]
    }
   ],
   "source": [
    "data_feature_list, correct_values, correct_scores = split_data_into_scores(\"data/test_labeled.txt\")\n",
    "\n",
    "#hyps, evis, ys \n",
    "data = (data_feature_list[0],\n",
    "                  data_feature_list[1],\n",
    "                  correct_scores)\n",
    "# predictions = []\n",
    "correct_predictions = 0\n",
    "total_predictions = 0\n",
    "for i, f1 in enumerate(data_feature_list[0]):\n",
    "    hyps, evis, ys = data_feature_list[0][i], data_feature_list[1][i], correct_scores[i]\n",
    "    prediction = sess.run(classification_scores, feed_dict={hyp: ([hyps] * N), evi: ([evis] * N), y: ([ys] * N)})\n",
    "#     predictions.append(prediction)\n",
    "    total_predictions += 1\n",
    "    if np.argmax(prediction[0])==np.argmax(ys):\n",
    "        correct_predictions += 1\n",
    "#     print([\"Positive\", \"Neutral\", \"Negative\"][np.argmax(prediction[0])]+\n",
    "#       \" / \" + [\"Positive\", \"Neutral\", \"Negative\"][np.argmax(ys[i])])\n",
    "\n",
    "\n",
    "# acc = sess.run(accuracy)#, feed_dict={'label': correct_scores})\n",
    "\n",
    "print(\"Acc: %s\" % str(correct_predictions*100/total_predictions))    \n",
    "# print(\"Acc: %s\" % str(acc))"
   ]
  },
  {
   "cell_type": "code",
   "execution_count": 16,
   "metadata": {
    "collapsed": true
   },
   "outputs": [],
   "source": [
    "sess.close()"
   ]
  }
 ],
 "metadata": {
  "kernelspec": {
   "display_name": "Python 3",
   "language": "python",
   "name": "python3"
  },
  "language_info": {
   "codemirror_mode": {
    "name": "ipython",
    "version": 3
   },
   "file_extension": ".py",
   "mimetype": "text/x-python",
   "name": "python",
   "nbconvert_exporter": "python",
   "pygments_lexer": "ipython3",
   "version": "3.6.3"
  },
  "widgets": {
   "application/vnd.jupyter.widget-state+json": {
    "state": {},
    "version_major": 2,
    "version_minor": 0
   }
  }
 },
 "nbformat": 4,
 "nbformat_minor": 2
}
