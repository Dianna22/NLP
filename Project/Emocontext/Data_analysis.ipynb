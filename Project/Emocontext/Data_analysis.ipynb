{
 "cells": [
  {
   "cell_type": "code",
   "execution_count": 16,
   "metadata": {},
   "outputs": [
    {
     "name": "stdout",
     "output_type": "stream",
     "text": [
      ":face_blowing_a_kiss:\n",
      ":smiling_face_with_heart-eyes:\n",
      ":thumbs_up:\n",
      ":slightly_smiling_face:\n",
      ":face_with_tears_of_joy:\n",
      ":smiling_cat_face_with_heart-eyes:\n"
     ]
    }
   ],
   "source": [
    "import csv\n",
    "import emoji\n",
    "from nltk.tokenize import TweetTokenizer\n",
    "import numpy as np\n",
    "import pandas as pd\n",
    "import re\n",
    "from sklearn.metrics import confusion_matrix, f1_score, precision_score, recall_score\n",
    "import time\n",
    "\n",
    "print(emoji.demojize(\"😘\"))\n",
    "print(emoji.demojize(\"😍\"))\n",
    "print(emoji.demojize(\"👍\"))\n",
    "print(emoji.demojize(\"🙂\"))\n",
    "print(emoji.demojize(\"😂\"))\n",
    "print(emoji.demojize(\"😻\"))"
   ]
  },
  {
   "cell_type": "code",
   "execution_count": 5,
   "metadata": {},
   "outputs": [],
   "source": [
    "TRAIN_FILE = 'data/train.txt'\n",
    "DEV_FILE = 'data/dev.txt'\n",
    "TEST_FILE = 'data/test.txt'\n",
    "\n",
    "TURNS_NAMES = [\"turn1\", \"turn2\", \"turn3\"]\n",
    "LABEL = [\"label\"]\n",
    "CONCATENATED_TURNS = \"turns\""
   ]
  },
  {
   "cell_type": "code",
   "execution_count": 6,
   "metadata": {},
   "outputs": [],
   "source": [
    "def parse_file(file_path):\n",
    "    output_dict = dict()\n",
    "    with open(file_path, newline='\\n', encoding='utf8') as csvfile:\n",
    "        return pd.read_csv(csvfile, sep=\"\\t\")"
   ]
  },
  {
   "cell_type": "code",
   "execution_count": 7,
   "metadata": {},
   "outputs": [],
   "source": [
    "train_data = parse_file(TRAIN_FILE)\n",
    "dev_data = parse_file(DEV_FILE)\n",
    "test_data = parse_file(TEST_FILE)"
   ]
  },
  {
   "cell_type": "code",
   "execution_count": 29,
   "metadata": {},
   "outputs": [
    {
     "data": {
      "text/html": [
       "<div>\n",
       "<style scoped>\n",
       "    .dataframe tbody tr th:only-of-type {\n",
       "        vertical-align: middle;\n",
       "    }\n",
       "\n",
       "    .dataframe tbody tr th {\n",
       "        vertical-align: top;\n",
       "    }\n",
       "\n",
       "    .dataframe thead th {\n",
       "        text-align: right;\n",
       "    }\n",
       "</style>\n",
       "<table border=\"1\" class=\"dataframe\">\n",
       "  <thead>\n",
       "    <tr style=\"text-align: right;\">\n",
       "      <th></th>\n",
       "      <th>id</th>\n",
       "      <th>turn1</th>\n",
       "      <th>turn2</th>\n",
       "      <th>turn3</th>\n",
       "      <th>label</th>\n",
       "    </tr>\n",
       "  </thead>\n",
       "  <tbody>\n",
       "    <tr>\n",
       "      <th>21</th>\n",
       "      <td>21</td>\n",
       "      <td>Do you dance?</td>\n",
       "      <td>Yes I love to dance 😻</td>\n",
       "      <td>😂😂😂 so you have legs too</td>\n",
       "      <td>happy</td>\n",
       "    </tr>\n",
       "    <tr>\n",
       "      <th>39</th>\n",
       "      <td>39</td>\n",
       "      <td>yes :)</td>\n",
       "      <td>Now happy? :))</td>\n",
       "      <td>haha yes ofcorse ;)</td>\n",
       "      <td>happy</td>\n",
       "    </tr>\n",
       "    <tr>\n",
       "      <th>13</th>\n",
       "      <td>13</td>\n",
       "      <td>Bad</td>\n",
       "      <td>Bad bad! That's the bad kind of bad.</td>\n",
       "      <td>I have no gf</td>\n",
       "      <td>sad</td>\n",
       "    </tr>\n",
       "    <tr>\n",
       "      <th>16</th>\n",
       "      <td>16</td>\n",
       "      <td>My gf left ne</td>\n",
       "      <td>Get over it. Go out with someone else.</td>\n",
       "      <td>Me*</td>\n",
       "      <td>sad</td>\n",
       "    </tr>\n",
       "    <tr>\n",
       "      <th>10</th>\n",
       "      <td>10</td>\n",
       "      <td>I hate my boyfriend</td>\n",
       "      <td>you got a boyfriend?</td>\n",
       "      <td>Yes</td>\n",
       "      <td>angry</td>\n",
       "    </tr>\n",
       "    <tr>\n",
       "      <th>17</th>\n",
       "      <td>17</td>\n",
       "      <td>get lost</td>\n",
       "      <td>I know you guys want to loose to me always.</td>\n",
       "      <td>I don't want to talk u any more</td>\n",
       "      <td>angry</td>\n",
       "    </tr>\n",
       "    <tr>\n",
       "      <th>7</th>\n",
       "      <td>7</td>\n",
       "      <td>Ok</td>\n",
       "      <td>ok im back!!</td>\n",
       "      <td>So, how are u</td>\n",
       "      <td>others</td>\n",
       "    </tr>\n",
       "    <tr>\n",
       "      <th>8</th>\n",
       "      <td>8</td>\n",
       "      <td>Really?</td>\n",
       "      <td>really really really really really</td>\n",
       "      <td>Y saying so many times...i can hear you</td>\n",
       "      <td>others</td>\n",
       "    </tr>\n",
       "  </tbody>\n",
       "</table>\n",
       "</div>"
      ],
      "text/plain": [
       "    id                turn1                                        turn2  \\\n",
       "21  21        Do you dance?                        Yes I love to dance 😻   \n",
       "39  39               yes :)                               Now happy? :))   \n",
       "13  13                  Bad         Bad bad! That's the bad kind of bad.   \n",
       "16  16        My gf left ne       Get over it. Go out with someone else.   \n",
       "10  10  I hate my boyfriend                         you got a boyfriend?   \n",
       "17  17             get lost  I know you guys want to loose to me always.   \n",
       "7    7                   Ok                                 ok im back!!   \n",
       "8    8              Really?           really really really really really   \n",
       "\n",
       "                                      turn3   label  \n",
       "21                 😂😂😂 so you have legs too   happy  \n",
       "39                      haha yes ofcorse ;)   happy  \n",
       "13                             I have no gf     sad  \n",
       "16                                      Me*     sad  \n",
       "10                                      Yes   angry  \n",
       "17          I don't want to talk u any more   angry  \n",
       "7                             So, how are u  others  \n",
       "8   Y saying so many times...i can hear you  others  "
      ]
     },
     "execution_count": 29,
     "metadata": {},
     "output_type": "execute_result"
    }
   ],
   "source": [
    "df = [\n",
    "train_data.loc[train_data['label'] == 'happy'].iloc[[1,4]],\n",
    "train_data.loc[train_data['label'] == 'sad'].head(2),\n",
    "train_data.loc[train_data['label'] == 'angry'].iloc[[2,3]],\n",
    "train_data.loc[train_data['label'] == 'others'].iloc[[5,6]],\n",
    "]\n",
    "pd.concat(df)"
   ]
  },
  {
   "cell_type": "code",
   "execution_count": 10,
   "metadata": {},
   "outputs": [
    {
     "name": "stdout",
     "output_type": "stream",
     "text": [
      "(30160, 5)\n",
      "(2755, 5)\n",
      "(5509, 5)\n"
     ]
    }
   ],
   "source": [
    "print(train_data.shape)\n",
    "print(dev_data.shape)\n",
    "print(test_data.shape)"
   ]
  },
  {
   "cell_type": "code",
   "execution_count": 31,
   "metadata": {},
   "outputs": [
    {
     "data": {
      "text/plain": [
       "others    4677\n",
       "angry      298\n",
       "happy      284\n",
       "sad        250\n",
       "Name: label, dtype: int64"
      ]
     },
     "execution_count": 31,
     "metadata": {},
     "output_type": "execute_result"
    }
   ],
   "source": [
    "pd.Series(train_data['label'].value_counts())"
   ]
  },
  {
   "cell_type": "code",
   "execution_count": 32,
   "metadata": {},
   "outputs": [
    {
     "data": {
      "text/plain": [
       "others    2338\n",
       "angry      150\n",
       "happy      142\n",
       "sad        125\n",
       "Name: label, dtype: int64"
      ]
     },
     "execution_count": 32,
     "metadata": {},
     "output_type": "execute_result"
    }
   ],
   "source": [
    "pd.Series(dev_data['label'].value_counts())"
   ]
  },
  {
   "cell_type": "code",
   "execution_count": 33,
   "metadata": {},
   "outputs": [
    {
     "data": {
      "text/plain": [
       "others    4677\n",
       "angry      298\n",
       "happy      284\n",
       "sad        250\n",
       "Name: label, dtype: int64"
      ]
     },
     "execution_count": 33,
     "metadata": {},
     "output_type": "execute_result"
    }
   ],
   "source": [
    "pd.Series(test_data['label'].value_counts())"
   ]
  },
  {
   "cell_type": "code",
   "execution_count": 54,
   "metadata": {},
   "outputs": [
    {
     "name": "stdout",
     "output_type": "stream",
     "text": [
      "others    14948\n",
      "angry      5506\n",
      "sad        5463\n",
      "happy      4243\n",
      "Name: label, dtype: int64\n"
     ]
    },
    {
     "data": {
      "image/png": "[encoded data removed]",
      "text/plain": [
       "<matplotlib.figure.Figure at 0x28289329f28>"
      ]
     },
     "metadata": {
      "needs_background": "light"
     },
     "output_type": "display_data"
    }
   ],
   "source": [
    "df=train_data['label'].value_counts()\n",
    "print(df)\n",
    "ax=df.plot(kind='bar', title=\"Training set distribution\")\n",
    "x_offset = -0.03\n",
    "y_offset = 0.02\n",
    "vals = list(df)\n",
    "for i,p in enumerate(ax.patches):\n",
    "    b = p.get_bbox()\n",
    "    val = vals[i]\n",
    "    ax.annotate(val, ((b.x0 + b.x1)/2 + x_offset, b.y1 + y_offset))"
   ]
  },
  {
   "cell_type": "code",
   "execution_count": 56,
   "metadata": {},
   "outputs": [
    {
     "data": {
      "image/png": "[encoded data removed]",
      "text/plain": [
       "<matplotlib.figure.Figure at 0x282892ee390>"
      ]
     },
     "metadata": {
      "needs_background": "light"
     },
     "output_type": "display_data"
    }
   ],
   "source": [
    "df=dev_data['label'].value_counts()\n",
    "ax=df.plot(kind='bar', title=\"Development set distribution\")\n",
    "x_offset = -0.03\n",
    "y_offset = 0.02\n",
    "vals = list(df)\n",
    "for i,p in enumerate(ax.patches):\n",
    "    b = p.get_bbox()\n",
    "    val = vals[i]\n",
    "    ax.annotate(val, ((b.x0 + b.x1)/2 + x_offset, b.y1 + y_offset))"
   ]
  },
  {
   "cell_type": "code",
   "execution_count": 57,
   "metadata": {},
   "outputs": [
    {
     "data": {
      "image/png": "[encoded data removed]",
      "text/plain": [
       "<matplotlib.figure.Figure at 0x2828c4297f0>"
      ]
     },
     "metadata": {
      "needs_background": "light"
     },
     "output_type": "display_data"
    }
   ],
   "source": [
    "df=test_data['label'].value_counts()\n",
    "ax=df.plot(kind='bar', title=\"Testing set distribution\")\n",
    "x_offset = -0.03\n",
    "y_offset = 0.02\n",
    "vals = list(df)\n",
    "for i,p in enumerate(ax.patches):\n",
    "    b = p.get_bbox()\n",
    "    val = vals[i]\n",
    "    ax.annotate(val, ((b.x0 + b.x1)/2 + x_offset, b.y1 + y_offset))"
   ]
  },
  {
   "cell_type": "code",
   "execution_count": null,
   "metadata": {},
   "outputs": [],
   "source": []
  },
  {
   "cell_type": "code",
   "execution_count": null,
   "metadata": {},
   "outputs": [],
   "source": []
  },
  {
   "cell_type": "code",
   "execution_count": 9,
   "metadata": {},
   "outputs": [
    {
     "name": "stdout",
     "output_type": "stream",
     "text": [
      "F1 all\n",
      "0.6712652023960791\n",
      "***\n",
      "F1 angry: \n",
      "0.32310177705977383\n",
      "****\n",
      "F1 happy: \n",
      "0.3733905579399142\n",
      "****\n",
      "F1 others: \n",
      "0.7866849520009974\n",
      "****\n",
      "F1 sad: \n",
      "0.40870616686819833\n",
      "****\n",
      "F1 happy angry sad\n",
      "0.36236236236236236\n"
     ]
    }
   ],
   "source": [
    "labels = {0: 'angry',\n",
    "          1: 'happy',\n",
    "          2: 'others',\n",
    "          3: 'sad'}\n",
    "tp =[200,174,3155,169]\n",
    "fp =[694+35+11,454+20,62+40+87,374+22+12]\n",
    "fn =[62+22+14,87+11+12,694+374+454,40+35+6]\n",
    "prec = sum(tp)/sum(tp+fp)\n",
    "rec = sum(tp)/sum(tp+fn)\n",
    "print(\"F1 all\")\n",
    "print(2*prec*rec/(prec+rec)) \n",
    "print(\"***\")\n",
    "for i in range(4):\n",
    "    print(\"F1 %s: \" % labels[i])\n",
    "    prec = tp[i]/(tp[i]+fp[i])\n",
    "    rec = tp[i]/(tp[i]+fn[i])\n",
    "    print(2*prec*rec/(prec+rec))\n",
    "    print(\"****\")\n",
    "tp.pop(2)\n",
    "fp.pop(2)\n",
    "fn.pop(2)\n",
    "print(\"F1 happy angry sad\")\n",
    "prec = sum(tp)/sum(tp+fp)\n",
    "rec = sum(tp)/sum(tp+fn)\n",
    "f1= 2*prec*rec/(prec+rec)\n",
    "print(f1)"
   ]
  },
  {
   "cell_type": "code",
   "execution_count": 8,
   "metadata": {},
   "outputs": [
    {
     "name": "stdout",
     "output_type": "stream",
     "text": [
      "F1 all\n",
      "0.8482483209293883\n",
      "***\n",
      "F1 angry: \n",
      "0.6124661246612467\n",
      "****\n",
      "F1 happy: \n",
      "0.4899135446685879\n",
      "****\n",
      "F1 others: \n",
      "0.9119090098126673\n",
      "****\n",
      "F1 sad: \n",
      "0.6084142394822007\n",
      "****\n",
      "F1 happy angry sad\n",
      "0.5697560975609757\n"
     ]
    }
   ],
   "source": [
    "#SVM\n",
    "labels = {0: 'angry',\n",
    "          1: 'happy',\n",
    "          2: 'others',\n",
    "          3: 'sad'}\n",
    "tp =[226,170,4089,188]\n",
    "fp =[193+12+9,231+5+4,56+46+100,164+11+5]#vertical\n",
    "fn =[11+5+56,100+9+5,193+164+231,12+4+46]\n",
    "prec = sum(tp)/sum(tp+fp)\n",
    "rec = sum(tp)/sum(tp+fn)\n",
    "print(\"F1 all\")\n",
    "print(2*prec*rec/(prec+rec)) \n",
    "print(\"***\")\n",
    "for i in range(4):\n",
    "    print(\"F1 %s: \" % labels[i])\n",
    "    prec = tp[i]/(tp[i]+fp[i])\n",
    "    rec = tp[i]/(tp[i]+fn[i])\n",
    "    print(2*prec*rec/(prec+rec))\n",
    "    print(\"****\")\n",
    "tp.pop(2)\n",
    "fp.pop(2)\n",
    "fn.pop(2)\n",
    "print(\"F1 happy angry sad\")\n",
    "prec = sum(tp)/sum(tp+fp)\n",
    "rec = sum(tp)/sum(tp+fn)\n",
    "f1= 2*prec*rec/(prec+rec)\n",
    "print(f1)"
   ]
  },
  {
   "cell_type": "code",
   "execution_count": 10,
   "metadata": {},
   "outputs": [
    {
     "name": "stdout",
     "output_type": "stream",
     "text": [
      "F1 all\n",
      "0.6607369758576874\n",
      "***\n",
      "F1 angry: \n",
      "0.28421052631578947\n",
      "****\n",
      "F1 happy: \n",
      "0.267100977198697\n",
      "****\n",
      "F1 others: \n",
      "0.788977519941987\n",
      "****\n",
      "F1 sad: \n",
      "0.27033218785796104\n",
      "****\n",
      "F1 happy angry sad\n",
      "0.27405247813411077\n"
     ]
    }
   ],
   "source": [
    "#SVM\n",
    "labels = {0: 'angry',\n",
    "          1: 'happy',\n",
    "          2: 'others',\n",
    "          3: 'sad'}\n",
    "tp =[135,123,3264,118]\n",
    "fp =[470+23+24,484+17+13,118+96+119,459+28+18]#vertical\n",
    "fn =[118+28+17,119+24+18, 470+459+484,96+23+13]\n",
    "prec = sum(tp)/sum(tp+fp)\n",
    "rec = sum(tp)/sum(tp+fn)\n",
    "print(\"F1 all\")\n",
    "print(2*prec*rec/(prec+rec)) \n",
    "print(\"***\")\n",
    "for i in range(4):\n",
    "    print(\"F1 %s: \" % labels[i])\n",
    "    prec = tp[i]/(tp[i]+fp[i])\n",
    "    rec = tp[i]/(tp[i]+fn[i])\n",
    "    print(2*prec*rec/(prec+rec))\n",
    "    print(\"****\")\n",
    "tp.pop(2)\n",
    "fp.pop(2)\n",
    "fn.pop(2)\n",
    "print(\"F1 happy angry sad\")\n",
    "prec = sum(tp)/sum(tp+fp)\n",
    "rec = sum(tp)/sum(tp+fn)\n",
    "f1= 2*prec*rec/(prec+rec)\n",
    "print(f1)"
   ]
  },
  {
   "cell_type": "code",
   "execution_count": null,
   "metadata": {},
   "outputs": [],
   "source": []
  }
 ],
 "metadata": {
  "kernelspec": {
   "display_name": "Emocontext",
   "language": "python",
   "name": "emocontext"
  },
  "language_info": {
   "codemirror_mode": {
    "name": "ipython",
    "version": 3
   },
   "file_extension": ".py",
   "mimetype": "text/x-python",
   "name": "python",
   "nbconvert_exporter": "python",
   "pygments_lexer": "ipython3",
   "version": "3.6.3"
  }
 },
 "nbformat": 4,
 "nbformat_minor": 2
}
