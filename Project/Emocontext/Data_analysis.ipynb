{
 "cells": [
  {
   "cell_type": "code",
   "execution_count": 4,
   "metadata": {},
   "outputs": [],
   "source": [
    "import csv\n",
    "import emoji\n",
    "from nltk.tokenize import TweetTokenizer\n",
    "import numpy as np\n",
    "import pandas as pd\n",
    "import re\n",
    "from sklearn.metrics import confusion_matrix, f1_score, precision_score, recall_score\n",
    "import time"
   ]
  },
  {
   "cell_type": "code",
   "execution_count": 5,
   "metadata": {},
   "outputs": [],
   "source": [
    "TRAIN_FILE = 'data/train.txt'\n",
    "DEV_FILE = 'data/dev.txt'\n",
    "TEST_FILE = 'data/test.txt'\n",
    "\n",
    "TURNS_NAMES = [\"turn1\", \"turn2\", \"turn3\"]\n",
    "LABEL = [\"label\"]\n",
    "CONCATENATED_TURNS = \"turns\""
   ]
  },
  {
   "cell_type": "code",
   "execution_count": 6,
   "metadata": {},
   "outputs": [],
   "source": [
    "def parse_file(file_path):\n",
    "    output_dict = dict()\n",
    "    with open(file_path, newline='\\n', encoding='utf8') as csvfile:\n",
    "        return pd.read_csv(csvfile, sep=\"\\t\")"
   ]
  },
  {
   "cell_type": "code",
   "execution_count": 7,
   "metadata": {},
   "outputs": [],
   "source": [
    "train_data = parse_file(TRAIN_FILE)\n",
    "dev_data = parse_file(DEV_FILE)\n",
    "test_data = parse_file(TEST_FILE)"
   ]
  },
  {
   "cell_type": "code",
   "execution_count": 29,
   "metadata": {},
   "outputs": [
    {
     "data": {
      "text/html": [
       "<div>\n",
       "<style scoped>\n",
       "    .dataframe tbody tr th:only-of-type {\n",
       "        vertical-align: middle;\n",
       "    }\n",
       "\n",
       "    .dataframe tbody tr th {\n",
       "        vertical-align: top;\n",
       "    }\n",
       "\n",
       "    .dataframe thead th {\n",
       "        text-align: right;\n",
       "    }\n",
       "</style>\n",
       "<table border=\"1\" class=\"dataframe\">\n",
       "  <thead>\n",
       "    <tr style=\"text-align: right;\">\n",
       "      <th></th>\n",
       "      <th>id</th>\n",
       "      <th>turn1</th>\n",
       "      <th>turn2</th>\n",
       "      <th>turn3</th>\n",
       "      <th>label</th>\n",
       "    </tr>\n",
       "  </thead>\n",
       "  <tbody>\n",
       "    <tr>\n",
       "      <th>21</th>\n",
       "      <td>21</td>\n",
       "      <td>Do you dance?</td>\n",
       "      <td>Yes I love to dance 😻</td>\n",
       "      <td>😂😂😂 so you have legs too</td>\n",
       "      <td>happy</td>\n",
       "    </tr>\n",
       "    <tr>\n",
       "      <th>39</th>\n",
       "      <td>39</td>\n",
       "      <td>yes :)</td>\n",
       "      <td>Now happy? :))</td>\n",
       "      <td>haha yes ofcorse ;)</td>\n",
       "      <td>happy</td>\n",
       "    </tr>\n",
       "    <tr>\n",
       "      <th>13</th>\n",
       "      <td>13</td>\n",
       "      <td>Bad</td>\n",
       "      <td>Bad bad! That's the bad kind of bad.</td>\n",
       "      <td>I have no gf</td>\n",
       "      <td>sad</td>\n",
       "    </tr>\n",
       "    <tr>\n",
       "      <th>16</th>\n",
       "      <td>16</td>\n",
       "      <td>My gf left ne</td>\n",
       "      <td>Get over it. Go out with someone else.</td>\n",
       "      <td>Me*</td>\n",
       "      <td>sad</td>\n",
       "    </tr>\n",
       "    <tr>\n",
       "      <th>10</th>\n",
       "      <td>10</td>\n",
       "      <td>I hate my boyfriend</td>\n",
       "      <td>you got a boyfriend?</td>\n",
       "      <td>Yes</td>\n",
       "      <td>angry</td>\n",
       "    </tr>\n",
       "    <tr>\n",
       "      <th>17</th>\n",
       "      <td>17</td>\n",
       "      <td>get lost</td>\n",
       "      <td>I know you guys want to loose to me always.</td>\n",
       "      <td>I don't want to talk u any more</td>\n",
       "      <td>angry</td>\n",
       "    </tr>\n",
       "    <tr>\n",
       "      <th>7</th>\n",
       "      <td>7</td>\n",
       "      <td>Ok</td>\n",
       "      <td>ok im back!!</td>\n",
       "      <td>So, how are u</td>\n",
       "      <td>others</td>\n",
       "    </tr>\n",
       "    <tr>\n",
       "      <th>8</th>\n",
       "      <td>8</td>\n",
       "      <td>Really?</td>\n",
       "      <td>really really really really really</td>\n",
       "      <td>Y saying so many times...i can hear you</td>\n",
       "      <td>others</td>\n",
       "    </tr>\n",
       "  </tbody>\n",
       "</table>\n",
       "</div>"
      ],
      "text/plain": [
       "    id                turn1                                        turn2  \\\n",
       "21  21        Do you dance?                        Yes I love to dance 😻   \n",
       "39  39               yes :)                               Now happy? :))   \n",
       "13  13                  Bad         Bad bad! That's the bad kind of bad.   \n",
       "16  16        My gf left ne       Get over it. Go out with someone else.   \n",
       "10  10  I hate my boyfriend                         you got a boyfriend?   \n",
       "17  17             get lost  I know you guys want to loose to me always.   \n",
       "7    7                   Ok                                 ok im back!!   \n",
       "8    8              Really?           really really really really really   \n",
       "\n",
       "                                      turn3   label  \n",
       "21                 😂😂😂 so you have legs too   happy  \n",
       "39                      haha yes ofcorse ;)   happy  \n",
       "13                             I have no gf     sad  \n",
       "16                                      Me*     sad  \n",
       "10                                      Yes   angry  \n",
       "17          I don't want to talk u any more   angry  \n",
       "7                             So, how are u  others  \n",
       "8   Y saying so many times...i can hear you  others  "
      ]
     },
     "execution_count": 29,
     "metadata": {},
     "output_type": "execute_result"
    }
   ],
   "source": [
    "df = [\n",
    "train_data.loc[train_data['label'] == 'happy'].iloc[[1,4]],\n",
    "train_data.loc[train_data['label'] == 'sad'].head(2),\n",
    "train_data.loc[train_data['label'] == 'angry'].iloc[[2,3]],\n",
    "train_data.loc[train_data['label'] == 'others'].iloc[[5,6]],\n",
    "]\n",
    "pd.concat(df)"
   ]
  },
  {
   "cell_type": "code",
   "execution_count": null,
   "metadata": {},
   "outputs": [],
   "source": []
  },
  {
   "cell_type": "code",
   "execution_count": null,
   "metadata": {},
   "outputs": [],
   "source": []
  },
  {
   "cell_type": "code",
   "execution_count": null,
   "metadata": {},
   "outputs": [],
   "source": []
  }
 ],
 "metadata": {
  "kernelspec": {
   "display_name": "Emocontext",
   "language": "python",
   "name": "emocontext"
  },
  "language_info": {
   "codemirror_mode": {
    "name": "ipython",
    "version": 3
   },
   "file_extension": ".py",
   "mimetype": "text/x-python",
   "name": "python",
   "nbconvert_exporter": "python",
   "pygments_lexer": "ipython3",
   "version": "3.6.3"
  }
 },
 "nbformat": 4,
 "nbformat_minor": 2
}
